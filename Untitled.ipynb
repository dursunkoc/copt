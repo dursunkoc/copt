{
 "cells": [
  {
   "cell_type": "code",
   "execution_count": 1,
   "metadata": {},
   "outputs": [],
   "source": [
    "import sys\n",
    "from typing import Callable, List, Tuple\n",
    "import numpy as np\n",
    "import numba as nb\n",
    "from numba import njit,jit\n",
    "from numba.typed import Dict\n",
    "from numba.core import types"
   ]
  },
  {
   "cell_type": "code",
   "execution_count": 2,
   "metadata": {},
   "outputs": [],
   "source": [
    "a_uv = np.matrix([\n",
    "[0,0,0,0,0,0,1,0,0,1],[0,0,0,0,0,0,0,0,0,0],[0,0,0,0,0,0,0,0,0,0],[0,0,0,0,1,0,0,0,0,0],\n",
    "[0,0,0,1,0,0,1,1,0,0],[0,0,0,0,0,0,0,0,0,0],[1,0,0,0,1,0,0,0,0,0],[0,0,0,0,1,0,0,0,0,0],\n",
    "[0,0,0,0,0,0,0,0,0,0],[1,0,0,0,0,0,0,0,0,0]\n",
    "])"
   ]
  },
  {
   "cell_type": "code",
   "execution_count": 3,
   "metadata": {},
   "outputs": [],
   "source": [
    "e_u = np.array([1,1,0,1,1,0,1,1,0,1])"
   ]
  },
  {
   "cell_type": "code",
   "execution_count": 4,
   "metadata": {},
   "outputs": [],
   "source": [
    "@njit\n",
    "def check_constraint(indiv: np.ndarray, a_uv: np.ndarray, e_u: np.ndarray) -> bool:\n",
    "    return (indiv + (indiv*a_uv)>=e_u).all()"
   ]
  },
  {
   "cell_type": "code",
   "execution_count": 5,
   "metadata": {},
   "outputs": [],
   "source": [
    "@njit\n",
    "def fix_to_fit2(indiv, a_uv, e_u):\n",
    "    diff = np.asarray(a_uv.sum(0) - e_u)[0]\n",
    "    fails = diff<0\n",
    "    eligibles = e_u!=0\n",
    "    indiv[fails & eligibles] = 1"
   ]
  },
  {
   "cell_type": "code",
   "execution_count": 6,
   "metadata": {},
   "outputs": [
    {
     "data": {
      "text/plain": [
       "array([0, 0, 0, 0, 0, 0, 1, 0, 0, 0])"
      ]
     },
     "metadata": {},
     "output_type": "display_data"
    },
    {
     "data": {
      "text/plain": [
       "False"
      ]
     },
     "metadata": {},
     "output_type": "display_data"
    },
    {
     "data": {
      "text/plain": [
       "array([0, 0, 0, 0, 0, 0, 1, 0, 0, 0])"
      ]
     },
     "metadata": {},
     "output_type": "display_data"
    }
   ],
   "source": [
    "indiv=np.array([0,0,0,0,0,0,1,0,0,0])\n",
    "display(indiv)\n",
    "display(check_constraint(indiv, a_uv, e_u))\n",
    "display(indiv)"
   ]
  },
  {
   "cell_type": "code",
   "execution_count": 7,
   "metadata": {},
   "outputs": [],
   "source": [
    "@njit\n",
    "def __random_selection(size, pop_size) -> Tuple[np.ndarray]:\n",
    "    return np.random.randint(low=0, high=pop_size, size=size)"
   ]
  },
  {
   "cell_type": "code",
   "execution_count": 8,
   "metadata": {},
   "outputs": [],
   "source": [
    "@njit\n",
    "def __tournament_match(population_with_fitness: List[Tuple]) -> np.ndarray:\n",
    "    rivals = __random_selection(size=2, pop_size=len(population_with_fitness))\n",
    "    if population_with_fitness[rivals[0]][0]>population_with_fitness[rivals[1]][0]:\n",
    "        return rivals[0]\n",
    "    else:\n",
    "        return rivals[1]"
   ]
  },
  {
   "cell_type": "code",
   "execution_count": 9,
   "metadata": {},
   "outputs": [],
   "source": [
    "from numba.typed import List\n",
    "\n",
    "pwf = List()\n",
    "\n",
    "for a in [\n",
    "    (1,[1,0,0]),\n",
    "    (2,[1,0,1]),\n",
    "    (3,[1,1,1]),\n",
    "    (4,[0,0,1]),]:\n",
    "    pwf.append(a)\n",
    "\n",
    "rivals = __random_selection(size=2, pop_size=len(pwf))"
   ]
  },
  {
   "cell_type": "code",
   "execution_count": 41,
   "metadata": {},
   "outputs": [
    {
     "data": {
      "text/plain": [
       "3"
      ]
     },
     "execution_count": 41,
     "metadata": {},
     "output_type": "execute_result"
    }
   ],
   "source": [
    "parents = np.stack([np.array([population_with_fitness[i][1] for i in selection_method(population_with_fitness, 2)]) for _ in range((pop_size-2)//2)])"
   ]
  },
  {
   "cell_type": "code",
   "execution_count": null,
   "metadata": {},
   "outputs": [],
   "source": []
  }
 ],
 "metadata": {
  "kernelspec": {
   "display_name": "Python 3",
   "language": "python",
   "name": "python3"
  },
  "language_info": {
   "codemirror_mode": {
    "name": "ipython",
    "version": 3
   },
   "file_extension": ".py",
   "mimetype": "text/x-python",
   "name": "python",
   "nbconvert_exporter": "python",
   "pygments_lexer": "ipython3",
   "version": "3.7.9"
  }
 },
 "nbformat": 4,
 "nbformat_minor": 4
}
