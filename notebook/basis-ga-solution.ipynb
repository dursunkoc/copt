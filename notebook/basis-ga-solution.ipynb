{
 "cells": [
  {
   "cell_type": "code",
   "execution_count": 1,
   "metadata": {},
   "outputs": [],
   "source": [
    "import sys\n",
    "import os\n",
    "sys.path.insert(0, os.path.abspath('../src'))"
   ]
  },
  {
   "cell_type": "code",
   "execution_count": 2,
   "metadata": {},
   "outputs": [],
   "source": [
    "import numpy as np\n",
    "from tqdm.notebook import trange\n",
    "from tqdm.notebook import tqdm\n",
    "\n",
    "import model\n",
    "import model_parameters as MP\n",
    "from call_ledger import timer as T\n",
    "#import dask.array as da\n",
    "\n",
    "#np.get_printoptions()#[\"threshold\"]\n",
    "#np.set_printoptions(edgeitems=10, linewidth=150)\n",
    "\n",
    "#np.random.seed(13)"
   ]
  },
  {
   "cell_type": "markdown",
   "metadata": {},
   "source": [
    "## Mathematical Model"
   ]
  },
  {
   "cell_type": "markdown",
   "metadata": {},
   "source": [
    "#### Sets\n",
    "- C\tSet of campaigns.\n",
    "- U\tSet of customers.\n",
    "- H\tSet of channels\n",
    "- D\tSet of planning days.\n",
    "- I\tSet of quota categories.\n",
    "- P\tSet of priority categories.\n"
   ]
  },
  {
   "cell_type": "code",
   "execution_count": 3,
   "metadata": {},
   "outputs": [
    {
     "name": "stdout",
     "output_type": "stream",
     "text": [
      "number of campaigns 10\n",
      "number of customers 1000\n",
      "number of channels 3\n",
      "number of planning days 7\n",
      "number of quota categories 3\n",
      "number of priority categories 10\n"
     ]
    }
   ],
   "source": [
    "print(f\"number of campaigns {MP.C}\")\n",
    "print(f\"number of customers {MP.U}\")\n",
    "print(f\"number of channels {MP.H}\")\n",
    "print(f\"number of planning days {MP.D}\")\n",
    "print(f\"number of quota categories {MP.I}\")\n",
    "print(f\"number of priority categories {MP.P}\")"
   ]
  },
  {
   "cell_type": "markdown",
   "metadata": {},
   "source": [
    "#### Parameters"
   ]
  },
  {
   "cell_type": "markdown",
   "metadata": {},
   "source": [
    "##### - eligibility\n",
    "$$\n",
    "e_{cu}\\left\\{\\begin{array}\\\\\n",
    "        1 & \\mbox{if }  customer\\ u\\ is\\ eligible\\ for\\ campaign\\ c\\\\\n",
    "        0 & \\mbox{otherwise } \\\\\n",
    "    \\end{array}\n",
    "\\right.\n",
    "$$"
   ]
  },
  {
   "cell_type": "code",
   "execution_count": 4,
   "metadata": {},
   "outputs": [
    {
     "data": {
      "text/plain": [
       "array([[[[1, 1, 1, ..., 1, 1, 1],\n",
       "         [1, 1, 1, ..., 1, 1, 1],\n",
       "         [1, 1, 1, ..., 1, 1, 1]],\n",
       "\n",
       "        [[0, 0, 0, ..., 0, 0, 0],\n",
       "         [0, 0, 0, ..., 0, 0, 0],\n",
       "         [0, 0, 0, ..., 0, 0, 0]],\n",
       "\n",
       "        [[0, 0, 0, ..., 0, 0, 0],\n",
       "         [0, 0, 0, ..., 0, 0, 0],\n",
       "         [0, 0, 0, ..., 0, 0, 0]],\n",
       "\n",
       "        ...,\n",
       "\n",
       "        [[0, 0, 0, ..., 0, 0, 0],\n",
       "         [0, 0, 0, ..., 0, 0, 0],\n",
       "         [0, 0, 0, ..., 0, 0, 0]],\n",
       "\n",
       "        [[1, 1, 1, ..., 1, 1, 1],\n",
       "         [1, 1, 1, ..., 1, 1, 1],\n",
       "         [1, 1, 1, ..., 1, 1, 1]],\n",
       "\n",
       "        [[0, 0, 0, ..., 0, 0, 0],\n",
       "         [0, 0, 0, ..., 0, 0, 0],\n",
       "         [0, 0, 0, ..., 0, 0, 0]]],\n",
       "\n",
       "\n",
       "       [[[0, 0, 0, ..., 0, 0, 0],\n",
       "         [0, 0, 0, ..., 0, 0, 0],\n",
       "         [0, 0, 0, ..., 0, 0, 0]],\n",
       "\n",
       "        [[0, 0, 0, ..., 0, 0, 0],\n",
       "         [0, 0, 0, ..., 0, 0, 0],\n",
       "         [0, 0, 0, ..., 0, 0, 0]],\n",
       "\n",
       "        [[0, 0, 0, ..., 0, 0, 0],\n",
       "         [0, 0, 0, ..., 0, 0, 0],\n",
       "         [0, 0, 0, ..., 0, 0, 0]],\n",
       "\n",
       "        ...,\n",
       "\n",
       "        [[1, 1, 1, ..., 1, 1, 1],\n",
       "         [1, 1, 1, ..., 1, 1, 1],\n",
       "         [1, 1, 1, ..., 1, 1, 1]],\n",
       "\n",
       "        [[1, 1, 1, ..., 1, 1, 1],\n",
       "         [1, 1, 1, ..., 1, 1, 1],\n",
       "         [1, 1, 1, ..., 1, 1, 1]],\n",
       "\n",
       "        [[0, 0, 0, ..., 0, 0, 0],\n",
       "         [0, 0, 0, ..., 0, 0, 0],\n",
       "         [0, 0, 0, ..., 0, 0, 0]]],\n",
       "\n",
       "\n",
       "       [[[1, 1, 1, ..., 1, 1, 1],\n",
       "         [1, 1, 1, ..., 1, 1, 1],\n",
       "         [1, 1, 1, ..., 1, 1, 1]],\n",
       "\n",
       "        [[1, 1, 1, ..., 1, 1, 1],\n",
       "         [1, 1, 1, ..., 1, 1, 1],\n",
       "         [1, 1, 1, ..., 1, 1, 1]],\n",
       "\n",
       "        [[1, 1, 1, ..., 1, 1, 1],\n",
       "         [1, 1, 1, ..., 1, 1, 1],\n",
       "         [1, 1, 1, ..., 1, 1, 1]],\n",
       "\n",
       "        ...,\n",
       "\n",
       "        [[0, 0, 0, ..., 0, 0, 0],\n",
       "         [0, 0, 0, ..., 0, 0, 0],\n",
       "         [0, 0, 0, ..., 0, 0, 0]],\n",
       "\n",
       "        [[1, 1, 1, ..., 1, 1, 1],\n",
       "         [1, 1, 1, ..., 1, 1, 1],\n",
       "         [1, 1, 1, ..., 1, 1, 1]],\n",
       "\n",
       "        [[1, 1, 1, ..., 1, 1, 1],\n",
       "         [1, 1, 1, ..., 1, 1, 1],\n",
       "         [1, 1, 1, ..., 1, 1, 1]]],\n",
       "\n",
       "\n",
       "       ...,\n",
       "\n",
       "\n",
       "       [[[1, 1, 1, ..., 1, 1, 1],\n",
       "         [1, 1, 1, ..., 1, 1, 1],\n",
       "         [1, 1, 1, ..., 1, 1, 1]],\n",
       "\n",
       "        [[0, 0, 0, ..., 0, 0, 0],\n",
       "         [0, 0, 0, ..., 0, 0, 0],\n",
       "         [0, 0, 0, ..., 0, 0, 0]],\n",
       "\n",
       "        [[1, 1, 1, ..., 1, 1, 1],\n",
       "         [1, 1, 1, ..., 1, 1, 1],\n",
       "         [1, 1, 1, ..., 1, 1, 1]],\n",
       "\n",
       "        ...,\n",
       "\n",
       "        [[0, 0, 0, ..., 0, 0, 0],\n",
       "         [0, 0, 0, ..., 0, 0, 0],\n",
       "         [0, 0, 0, ..., 0, 0, 0]],\n",
       "\n",
       "        [[1, 1, 1, ..., 1, 1, 1],\n",
       "         [1, 1, 1, ..., 1, 1, 1],\n",
       "         [1, 1, 1, ..., 1, 1, 1]],\n",
       "\n",
       "        [[0, 0, 0, ..., 0, 0, 0],\n",
       "         [0, 0, 0, ..., 0, 0, 0],\n",
       "         [0, 0, 0, ..., 0, 0, 0]]],\n",
       "\n",
       "\n",
       "       [[[1, 1, 1, ..., 1, 1, 1],\n",
       "         [1, 1, 1, ..., 1, 1, 1],\n",
       "         [1, 1, 1, ..., 1, 1, 1]],\n",
       "\n",
       "        [[1, 1, 1, ..., 1, 1, 1],\n",
       "         [1, 1, 1, ..., 1, 1, 1],\n",
       "         [1, 1, 1, ..., 1, 1, 1]],\n",
       "\n",
       "        [[0, 0, 0, ..., 0, 0, 0],\n",
       "         [0, 0, 0, ..., 0, 0, 0],\n",
       "         [0, 0, 0, ..., 0, 0, 0]],\n",
       "\n",
       "        ...,\n",
       "\n",
       "        [[1, 1, 1, ..., 1, 1, 1],\n",
       "         [1, 1, 1, ..., 1, 1, 1],\n",
       "         [1, 1, 1, ..., 1, 1, 1]],\n",
       "\n",
       "        [[1, 1, 1, ..., 1, 1, 1],\n",
       "         [1, 1, 1, ..., 1, 1, 1],\n",
       "         [1, 1, 1, ..., 1, 1, 1]],\n",
       "\n",
       "        [[0, 0, 0, ..., 0, 0, 0],\n",
       "         [0, 0, 0, ..., 0, 0, 0],\n",
       "         [0, 0, 0, ..., 0, 0, 0]]],\n",
       "\n",
       "\n",
       "       [[[1, 1, 1, ..., 1, 1, 1],\n",
       "         [1, 1, 1, ..., 1, 1, 1],\n",
       "         [1, 1, 1, ..., 1, 1, 1]],\n",
       "\n",
       "        [[1, 1, 1, ..., 1, 1, 1],\n",
       "         [1, 1, 1, ..., 1, 1, 1],\n",
       "         [1, 1, 1, ..., 1, 1, 1]],\n",
       "\n",
       "        [[1, 1, 1, ..., 1, 1, 1],\n",
       "         [1, 1, 1, ..., 1, 1, 1],\n",
       "         [1, 1, 1, ..., 1, 1, 1]],\n",
       "\n",
       "        ...,\n",
       "\n",
       "        [[1, 1, 1, ..., 1, 1, 1],\n",
       "         [1, 1, 1, ..., 1, 1, 1],\n",
       "         [1, 1, 1, ..., 1, 1, 1]],\n",
       "\n",
       "        [[1, 1, 1, ..., 1, 1, 1],\n",
       "         [1, 1, 1, ..., 1, 1, 1],\n",
       "         [1, 1, 1, ..., 1, 1, 1]],\n",
       "\n",
       "        [[1, 1, 1, ..., 1, 1, 1],\n",
       "         [1, 1, 1, ..., 1, 1, 1],\n",
       "         [1, 1, 1, ..., 1, 1, 1]]]])"
      ]
     },
     "execution_count": 4,
     "metadata": {},
     "output_type": "execute_result"
    }
   ],
   "source": [
    "MP.e_cu_X"
   ]
  },
  {
   "cell_type": "markdown",
   "metadata": {},
   "source": [
    "##### - quota categories\n",
    "$$\n",
    "q_{ic}\\left\\{\\begin{array}\\\\\n",
    "        1 & \\mbox{if }  campaign\\ c\\ is\\ a\\ i^{th} type\\ quota\\ category\\ campaign\\ \\\\\n",
    "        0 & \\mbox{otherwise } \\\\\n",
    "    \\end{array}\n",
    "\\right.\n",
    "$$"
   ]
  },
  {
   "cell_type": "code",
   "execution_count": 5,
   "metadata": {},
   "outputs": [
    {
     "data": {
      "text/plain": [
       "array([[1, 0, 1, 0, 0, 0, 0, 1, 0, 0],\n",
       "       [0, 0, 1, 1, 1, 0, 0, 1, 1, 1],\n",
       "       [0, 0, 1, 0, 1, 0, 0, 0, 1, 1]])"
      ]
     },
     "execution_count": 5,
     "metadata": {},
     "output_type": "execute_result"
    }
   ],
   "source": [
    "MP.q_ic"
   ]
  },
  {
   "cell_type": "markdown",
   "metadata": {},
   "source": [
    "##### - priority categories\n",
    "$$r_{cp}: Priority\\ value\\ of\\ campaign\\ c\\ regarding\\ priority\\ type\\ p\\$$"
   ]
  },
  {
   "cell_type": "code",
   "execution_count": 6,
   "metadata": {},
   "outputs": [
    {
     "data": {
      "text/plain": [
       "array([44, 45, 89, 75, 17, 53, 53, 86, 53, 89])"
      ]
     },
     "execution_count": 6,
     "metadata": {},
     "output_type": "execute_result"
    }
   ],
   "source": [
    "MP.rp_c"
   ]
  },
  {
   "cell_type": "markdown",
   "metadata": {},
   "source": [
    "##### - blokage\n",
    "$$b: Communication\\ limit\\ per\\ person\\ for\\ the\\ whole\\ period\\$$"
   ]
  },
  {
   "cell_type": "code",
   "execution_count": 7,
   "metadata": {},
   "outputs": [
    {
     "data": {
      "text/plain": [
       "7"
      ]
     },
     "execution_count": 7,
     "metadata": {},
     "output_type": "execute_result"
    }
   ],
   "source": [
    "MP.b"
   ]
  },
  {
   "cell_type": "markdown",
   "metadata": {},
   "source": [
    "##### - daily blokage\n",
    "$$k: Communication\\ limit\\ per\\ person\\ at\\ each\\ day\\$$"
   ]
  },
  {
   "cell_type": "code",
   "execution_count": 8,
   "metadata": {
    "scrolled": true
   },
   "outputs": [
    {
     "data": {
      "text/plain": [
       "3"
      ]
     },
     "execution_count": 8,
     "metadata": {},
     "output_type": "execute_result"
    }
   ],
   "source": [
    "MP.k"
   ]
  },
  {
   "cell_type": "markdown",
   "metadata": {},
   "source": [
    "##### - campaign blockage\n",
    "$$l_c: Communication\\ limit\\ per\\ person\\ for\\ campaign\\ c\\$$"
   ]
  },
  {
   "cell_type": "code",
   "execution_count": 9,
   "metadata": {
    "scrolled": true
   },
   "outputs": [
    {
     "data": {
      "text/plain": [
       "array([3, 2, 2, 2, 3, 3, 3, 2, 2, 4])"
      ]
     },
     "execution_count": 9,
     "metadata": {},
     "output_type": "execute_result"
    }
   ],
   "source": [
    "MP.l_c"
   ]
  },
  {
   "cell_type": "markdown",
   "metadata": {},
   "source": [
    "##### - quota limitations daily/weekly\n",
    "$$\n",
    "m_i: Communication\\ limit\\ per\\ person\\ for\\ i^{th}\\ category\\\n",
    "$$\n",
    "$$\n",
    "n_i: Communication\\ limit\\ per\\ person\\ for\\ i^{th}\\ category\\ each\\ day\\\n",
    "$$"
   ]
  },
  {
   "cell_type": "code",
   "execution_count": 10,
   "metadata": {},
   "outputs": [
    {
     "data": {
      "text/plain": [
       "(array([[5, 5, 5, ..., 5, 5, 5],\n",
       "        [5, 5, 5, ..., 5, 5, 5],\n",
       "        [5, 5, 5, ..., 5, 5, 5]]),\n",
       " array([3, 1, 2]))"
      ]
     },
     "execution_count": 10,
     "metadata": {},
     "output_type": "execute_result"
    }
   ],
   "source": [
    "(MP.m_i_X, MP.n_i)"
   ]
  },
  {
   "cell_type": "markdown",
   "metadata": {},
   "source": [
    "#### - capacity for channel\n",
    "$$\n",
    "t_{h,d}: Capacity\\ for\\ channel\\ h\\ at\\ day\\ d.\\\n",
    "$$"
   ]
  },
  {
   "cell_type": "code",
   "execution_count": 11,
   "metadata": {
    "scrolled": true
   },
   "outputs": [
    {
     "data": {
      "text/plain": [
       "array([[600., 700., 600., 700., 500., 600., 700.],\n",
       "       [500., 500., 500., 600., 500., 600., 600.],\n",
       "       [500., 700., 600., 600., 500., 500., 700.]])"
      ]
     },
     "execution_count": 11,
     "metadata": {},
     "output_type": "execute_result"
    }
   ],
   "source": [
    "MP.t_hd"
   ]
  },
  {
   "cell_type": "markdown",
   "metadata": {},
   "source": [
    "# Model"
   ]
  },
  {
   "cell_type": "markdown",
   "metadata": {},
   "source": [
    "#### Variables\n",
    "$$\n",
    "X_{cuhd}\\left\\{\\begin{array}\\\\\n",
    "        1 & \\mbox{if } Campaign\\ c\\ will\\ be\\ sent\\ to\\ customer\\ u\\ through\\ Channel\\ h\\ at\\ Day\\ d \\\\\n",
    "        0 & \\mbox{otherwise } \\\\\n",
    "    \\end{array}\n",
    "\\right.\n",
    "$$"
   ]
  },
  {
   "cell_type": "markdown",
   "metadata": {},
   "source": [
    "## Maximize\n",
    "$$\\sum_{p \\in P}\\sum_{c \\in C}\\sum_{u \\in U}\\sum_{h \\in H}\\sum_{d \\in D}\\,X_{cuhd}\\ r_{cp}$$"
   ]
  },
  {
   "cell_type": "markdown",
   "metadata": {},
   "source": [
    "##### Binary variable (10)\n",
    "$$\n",
    "X_{cuhd} \\in \\{ 1,0 \\},\\hspace{35pt} \\forall c \\in C ,\\forall u \\in U,\\forall d \\in D, \\forall h \\in H\n",
    "$$"
   ]
  },
  {
   "cell_type": "code",
   "execution_count": 12,
   "metadata": {},
   "outputs": [],
   "source": [
    "X_cuhd = np.zeros((MP.C,MP.U,MP.H,MP.D), dtype='int')"
   ]
  },
  {
   "cell_type": "markdown",
   "metadata": {},
   "source": [
    "## subject to"
   ]
  },
  {
   "cell_type": "markdown",
   "metadata": {},
   "source": [
    "##### - eligibility (2)\n",
    "\n",
    "$$\n",
    "X_{cuhd}  \\leq e_{cu},\\hspace{35pt} \\forall h \\in H,\\forall d \\in D\n",
    "$$"
   ]
  },
  {
   "cell_type": "code",
   "execution_count": 13,
   "metadata": {},
   "outputs": [
    {
     "data": {
      "text/plain": [
       "<function model_parameters.<lambda>(X)>"
      ]
     },
     "execution_count": 13,
     "metadata": {},
     "output_type": "execute_result"
    }
   ],
   "source": [
    "MP.X_eligibility"
   ]
  },
  {
   "cell_type": "markdown",
   "metadata": {},
   "source": [
    "##### - use one channel (3)\n",
    "$$\n",
    "\\sum_{h}X_{cuhd} \\le 1,\\hspace{35pt} \\forall c \\in C \\, \\forall u \\in U,\\forall d \\in D\n",
    "$$"
   ]
  },
  {
   "cell_type": "code",
   "execution_count": 14,
   "metadata": {},
   "outputs": [
    {
     "data": {
      "text/plain": [
       "<function model_parameters.<lambda>(X)>"
      ]
     },
     "execution_count": 14,
     "metadata": {},
     "output_type": "execute_result"
    }
   ],
   "source": [
    "MP.X_one_channel"
   ]
  },
  {
   "cell_type": "markdown",
   "metadata": {},
   "source": [
    "##### - weekly communication limitation (4)\n",
    "$$\n",
    "\\sum_{h \\in H}\\sum_{c \\in C}\\sum_{d \\in D} X_{cuhd}\\le b,\\hspace{35pt} \\forall u \\in U\n",
    "$$"
   ]
  },
  {
   "cell_type": "code",
   "execution_count": 15,
   "metadata": {},
   "outputs": [
    {
     "data": {
      "text/plain": [
       "<function model_parameters.<lambda>(X)>"
      ]
     },
     "execution_count": 15,
     "metadata": {},
     "output_type": "execute_result"
    }
   ],
   "source": [
    "MP.X_weekly_limitation"
   ]
  },
  {
   "cell_type": "markdown",
   "metadata": {},
   "source": [
    "##### - daily communication limitation (5)\n",
    "$$\n",
    "\\sum_{h \\in H}\\sum_{c \\in C} X_{cuhd}\\le k,\\hspace{35pt} \\forall u \\in U, \\forall d \\in D\n",
    "$$"
   ]
  },
  {
   "cell_type": "code",
   "execution_count": 16,
   "metadata": {},
   "outputs": [
    {
     "data": {
      "text/plain": [
       "<function model_parameters.<lambda>(X)>"
      ]
     },
     "execution_count": 16,
     "metadata": {},
     "output_type": "execute_result"
    }
   ],
   "source": [
    "MP.X_daily_limitation"
   ]
  },
  {
   "cell_type": "markdown",
   "metadata": {},
   "source": [
    "##### - campaign communication limit(6)\n",
    "$$\n",
    "\\sum_{d \\in D}\\sum_{h \\in H} X_{cuhd}\\le l_c,\\hspace{35pt} \\forall c \\in C,\\forall u \\in U;\n",
    "$$"
   ]
  },
  {
   "cell_type": "code",
   "execution_count": 17,
   "metadata": {},
   "outputs": [
    {
     "data": {
      "text/plain": [
       "<function model_parameters.<lambda>(X)>"
      ]
     },
     "execution_count": 17,
     "metadata": {},
     "output_type": "execute_result"
    }
   ],
   "source": [
    "MP.X_campaign_limitation"
   ]
  },
  {
   "cell_type": "markdown",
   "metadata": {},
   "source": [
    "##### - weekly quota(7)\n",
    "$$\n",
    "\\sum_{d \\in D}\\sum_{h \\in H}\\sum_{c \\in C}{X_{cuhd} q_{ic}}\\le m_i,\\hspace{35pt} \\forall u \\in U, \\forall i \\in I\n",
    "$$"
   ]
  },
  {
   "cell_type": "code",
   "execution_count": 18,
   "metadata": {},
   "outputs": [
    {
     "data": {
      "text/plain": [
       "<function model_parameters.<lambda>(X)>"
      ]
     },
     "execution_count": 18,
     "metadata": {},
     "output_type": "execute_result"
    }
   ],
   "source": [
    "MP.X_weekly_quota"
   ]
  },
  {
   "cell_type": "markdown",
   "metadata": {},
   "source": [
    "##### - daily quota(8)\n",
    "$$\n",
    "\\sum_{h \\in H}\\sum_{c \\in C}{X_{cuhd} q_{ic}}\\le n_i,\\hspace{35pt} \\forall u \\in U,\\, \\forall d \\in D, \\forall i \\in I\n",
    "$$"
   ]
  },
  {
   "cell_type": "code",
   "execution_count": 19,
   "metadata": {},
   "outputs": [
    {
     "data": {
      "text/plain": [
       "<function model_parameters.<lambda>(X)>"
      ]
     },
     "execution_count": 19,
     "metadata": {},
     "output_type": "execute_result"
    }
   ],
   "source": [
    "MP.X_daily_quota"
   ]
  },
  {
   "cell_type": "markdown",
   "metadata": {},
   "source": [
    "##### Channel capacity (9)\n",
    "$$\n",
    "\\sum_{c \\in C}\\sum_{u \\in U}{X_{cuhd}}\\le t_{hd},\\hspace{35pt} \\forall d \\in D,\\, \\forall h \\in H\n",
    "$$"
   ]
  },
  {
   "cell_type": "code",
   "execution_count": 20,
   "metadata": {},
   "outputs": [
    {
     "data": {
      "text/plain": [
       "<function model_parameters.<lambda>(X)>"
      ]
     },
     "execution_count": 20,
     "metadata": {},
     "output_type": "execute_result"
    }
   ],
   "source": [
    "MP.X_channel_capacity"
   ]
  },
  {
   "cell_type": "code",
   "execution_count": 21,
   "metadata": {},
   "outputs": [],
   "source": [
    "#The zero solution\n",
    "X_cuhd = np.zeros((MP.C,MP.U,MP.H,MP.D), dtype='int')"
   ]
  },
  {
   "cell_type": "markdown",
   "metadata": {},
   "source": [
    "## Model Definition"
   ]
  },
  {
   "cell_type": "code",
   "execution_count": 22,
   "metadata": {},
   "outputs": [],
   "source": [
    "mdl = model.Model([\n",
    "    model.Constraint('eligibility',MP.X_eligibility, ()),\n",
    "    model.Constraint('channel_capacity',MP.X_channel_capacity, ()),\n",
    "    model.Constraint('daily_limitation',MP.X_daily_limitation, ()),\n",
    "    model.Constraint('weekly_limitation',MP.X_weekly_limitation, ()),\n",
    "    model.Constraint('campaign_limitation',MP.X_campaign_limitation, ()),\n",
    "    model.Constraint('daily_quota',MP.X_daily_quota, ()),\n",
    "    model.Constraint('one_channel',MP.X_one_channel, ()),\n",
    "    model.Constraint('weekly_quota',MP.X_weekly_quota, ())\n",
    "], MP.objective_fn)"
   ]
  },
  {
   "cell_type": "code",
   "execution_count": 23,
   "metadata": {},
   "outputs": [],
   "source": [
    "#c_i = 0\n",
    "#u_i = 1\n",
    "#h_i = 2\n",
    "#d_i = 3\n",
    "\n",
    "#mdl = model.Model([\n",
    "#    model.Constraint('eligibility',MP.eligibility, (c_i, u_i, h_i, d_i,)),\n",
    "#    model.Constraint('channel_capacity',MP.channel_capacity, (h_i, d_i,)),\n",
    "#    model.Constraint('daily_limitation',MP.daily_limitation, (u_i, d_i,)),\n",
    "#    model.Constraint('weekly_limitation',MP.weekly_limitation, (u_i,)),\n",
    "#    model.Constraint('campaign_limitation',MP.campaign_limitation, (c_i, u_i,)),\n",
    "#    model.Constraint('daily_quota',MP.daily_quota, (u_i, d_i,)),\n",
    "#    model.Constraint('one_channel',MP.one_channel, (c_i, u_i, d_i,)),\n",
    "#    model.Constraint('weekly_quota',MP.weekly_quota, (u_i,))\n",
    "#], MP.objective_fn)"
   ]
  },
  {
   "cell_type": "markdown",
   "metadata": {},
   "source": [
    "### Genetic Algorithm Meta Parameters "
   ]
  },
  {
   "cell_type": "code",
   "execution_count": 24,
   "metadata": {},
   "outputs": [],
   "source": [
    "import operator\n",
    "import functools\n",
    "\n",
    "INDIV_SIZE = (MP.C,MP.U,MP.H,MP.D)\n",
    "INDIV_FLAT_SIZE = functools.reduce(operator.mul, INDIV_SIZE, 1)\n",
    "POP_SIZE = 20#functools.reduce(operator.mul, INDIV_SIZE, 1)\n",
    "GENERATION_SIZE = 100\n",
    "CROSSOVER_PROB = 0.6\n",
    "MUTATION_PROB = 1\n",
    "MUTATION_RATE = 0.01\n",
    "MUTATION_AMOUNT = int(MUTATION_RATE*INDIV_FLAT_SIZE)\n",
    "NUMBER_OF_CROSSOVER_SECTION = 4"
   ]
  },
  {
   "cell_type": "code",
   "execution_count": 25,
   "metadata": {},
   "outputs": [
    {
     "data": {
      "text/plain": [
       "(20, (10, 1000, 3, 7))"
      ]
     },
     "execution_count": 25,
     "metadata": {},
     "output_type": "execute_result"
    }
   ],
   "source": [
    "(POP_SIZE, INDIV_SIZE )"
   ]
  },
  {
   "cell_type": "markdown",
   "metadata": {},
   "source": [
    "### Initialize Population"
   ]
  },
  {
   "cell_type": "code",
   "execution_count": 26,
   "metadata": {},
   "outputs": [],
   "source": [
    "def gen_greedy():\n",
    "    for d in trange(MP.D, desc=f\"Days Loop\"):\n",
    "        X_cuhd = np.zeros((MP.C,MP.U,MP.H,MP.D), dtype='int')\n",
    "        for c in tqdm(np.argsort(-MP.rp_c), desc=\"Campaigns Loop\"):\n",
    "            for h in range(MP.H):#trange(H, desc=f\"Channels Loop at Day-{d}, Campapaign-{c}\"):\n",
    "                for u in range(MP.U):#trange(U, desc=f\"Users Loop On Campaign-{c}\"):\n",
    "                    X_cuhd[c,u,h,d]=1\n",
    "                    if not mdl.execute(X_cuhd, (c, u, h, d)):\n",
    "                        X_cuhd[c,u,h,d]=0\n",
    "        yield X_cuhd"
   ]
  },
  {
   "cell_type": "code",
   "execution_count": 27,
   "metadata": {},
   "outputs": [],
   "source": [
    "#X_X_cuhd=[z for z in gen_greedy()]"
   ]
  },
  {
   "cell_type": "code",
   "execution_count": 28,
   "metadata": {},
   "outputs": [],
   "source": [
    "def fn_initialize_population(population_size, individual_size):\n",
    "    #TODO take some kernel like matrix for randomization such as e_cu (the eligibility matrix)\n",
    "    #np.stack([np.stack([MP.e_cu]*3, axis=2)]*7, axis=3)\n",
    "    overall_size = tuple((population_size,)) + individual_size\n",
    "    #return np.random.randint(2, size=overall_size)\n",
    "    return np.zeros(overall_size)\n",
    "#    return np.stack([X_X_cuhd[i%len(X_X_cuhd)] for i in range(population_size)])"
   ]
  },
  {
   "cell_type": "markdown",
   "metadata": {},
   "source": [
    "### Fitness"
   ]
  },
  {
   "cell_type": "code",
   "execution_count": 29,
   "metadata": {},
   "outputs": [],
   "source": [
    "import operator\n",
    "import functools\n",
    "\n",
    "def position_gene(j):\n",
    "    j_d_m = j%MP.D\n",
    "    j_d_r = j//MP.D\n",
    "    j_h_m = j_d_r%MP.H\n",
    "    j_h_r = j_d_r//MP.H\n",
    "    j_u_m = j_h_r%MP.U\n",
    "    j_u_r = j_h_r//MP.U\n",
    "    j_c_m = j_u_r%MP.C\n",
    "    j_c_r = j_u_r//MP.C\n",
    "    return (j_c_m,j_u_m,j_h_m,j_d_m)\n",
    "\n",
    "def fn_fitness_for_indiv(model, indiv):\n",
    "    dims = indiv.shape\n",
    "    rng = functools.reduce(operator.mul, dims, 1)\n",
    "#    for j in range(rng):\n",
    "#        if indiv[position_gene(j)]==1 and not model.execute(indiv, position_gene(j)):\n",
    "#            return 0\n",
    "    if not model.execute(indiv, ()):\n",
    "        return 0\n",
    "    return model.calc_value(indiv)\n",
    "\n",
    "@T.timeit\n",
    "def fn_fitness(model, population):\n",
    "    return [(fn_fitness_for_indiv(model, indiv), indiv) for indiv in population]"
   ]
  },
  {
   "cell_type": "markdown",
   "metadata": {},
   "source": [
    "### Selection functions"
   ]
  },
  {
   "cell_type": "code",
   "execution_count": 30,
   "metadata": {},
   "outputs": [],
   "source": [
    "def __random_selection(size):\n",
    "    return tuple(np.random.randint(low=0, high=POP_SIZE, size=size))\n",
    "\n",
    "def __spin_wheel(fitnesses, sum_of_fitnesses):\n",
    "    pin_point = np.random.randint(low=0, high=sum_of_fitnesses)\n",
    "    fitness_index = 0\n",
    "    for index, fitness in enumerate(fitnesses):\n",
    "        pin_point = pin_point + fitness\n",
    "        if pin_point > sum_of_fitnesses:\n",
    "            return index\n",
    "    return index\n",
    "\n",
    "def roulettewheel_selection(population_with_fitness, size):\n",
    "    fitnesses = np.array([f for (f,i) in population_with_fitness])\n",
    "    sum_of_fitnesses = fitnesses.sum()\n",
    "    if sum_of_fitnesses == 0:\n",
    "        return __random_selection(size)\n",
    "    else:\n",
    "        return tuple([__spin_wheel(fitnesses, sum_of_fitnesses) for i in range(size)])\n",
    "\n",
    "def __tournament_match(population_with_fitness):\n",
    "    rivals = __random_selection(size=2)\n",
    "    return rivals[np.argmax([population_with_fitness[i][0] for i in rivals])]\n",
    "        \n",
    "def tournament_selection(population_with_fitness, size):\n",
    "    return tuple([__tournament_match(population_with_fitness) for i in range(size)])\n",
    "\n",
    "@T.timeit\n",
    "def select(selection_method, size, population_with_fitness, count):\n",
    "#    print(f\"selection with {selection_method.__name__}\")\n",
    "    for i in range(count):\n",
    "        yield np.array([population_with_fitness[i][1] for i in selection_method(population_with_fitness, size)])"
   ]
  },
  {
   "cell_type": "markdown",
   "metadata": {},
   "source": [
    "### Crossover"
   ]
  },
  {
   "cell_type": "code",
   "execution_count": 31,
   "metadata": {},
   "outputs": [],
   "source": [
    "def __swap(sw):\n",
    "    if sw ==0:\n",
    "        return 1\n",
    "    else:\n",
    "        return 0\n",
    "\n",
    "def __crossover(offspring, parent_index ,parents, crossover_sections):\n",
    "    for s,e in crossover_sections:\n",
    "        offspring[0].reshape(INDIV_FLAT_SIZE)[s:e] = parents[parent_index,__swap(1)].reshape(INDIV_FLAT_SIZE)[s:e]\n",
    "        offspring[1].reshape(INDIV_FLAT_SIZE)[s:e] = parents[parent_index,__swap(0)].reshape(INDIV_FLAT_SIZE)[s:e]\n",
    "\n",
    "@T.timeit\n",
    "def crossover(parents):\n",
    "    crossover_points = [p for p in np.sort(np.random.randint(low=1, high=INDIV_FLAT_SIZE, size =NUMBER_OF_CROSSOVER_SECTION))]\n",
    "    crossover_sections = list(zip([0]+crossover_points,crossover_points+[INDIV_FLAT_SIZE]))\n",
    "    offsprings = np.zeros(parents.shape, dtype='int')\n",
    "    for index, offspring in enumerate(offsprings):\n",
    "        __crossover(offspring, index ,parents, crossover_sections)\n",
    "    return offsprings"
   ]
  },
  {
   "cell_type": "markdown",
   "metadata": {},
   "source": [
    "### Mutation"
   ]
  },
  {
   "cell_type": "code",
   "execution_count": 32,
   "metadata": {},
   "outputs": [],
   "source": [
    "def __mutate_allel(sw):\n",
    "    indices_one = sw == 1\n",
    "    indices_zero = sw == 0\n",
    "    sw[indices_one] = 0 # replacing 1s with 0s\n",
    "    sw[indices_zero] = 1 # replacing 0s with 1s\n",
    "    return sw\n",
    "\n",
    "@T.timeit\n",
    "def mutation(generation):\n",
    "    mutation_indicies = np.random.random(size=(POP_SIZE-2))<MUTATION_PROB\n",
    "    mutants = generation[mutation_indicies]\n",
    "    mutants = mutants.reshape((mutants.shape[0],INDIV_FLAT_SIZE))\n",
    "    mutation_positions = np.random.randint(low=0, high=mutants.shape[1], \n",
    "                                           size=(mutants.shape[0], int(MUTATION_AMOUNT)))\n",
    "    for mutant_index,mutation_position in enumerate(mutation_positions):\n",
    "        mutants[mutant_index,mutation_position]=__mutate_allel(mutants[mutant_index,mutation_position])\n",
    "    generation[mutation_indicies] = mutants.reshape(((mutants.shape[0],) + INDIV_SIZE))\n",
    "    return generation"
   ]
  },
  {
   "cell_type": "markdown",
   "metadata": {},
   "source": [
    "### A single Genetic Iteration"
   ]
  },
  {
   "cell_type": "code",
   "execution_count": 33,
   "metadata": {},
   "outputs": [],
   "source": [
    "from multiprocessing.pool import ThreadPool\n",
    "import time \n",
    "THREADS = 4\n",
    "pool = ThreadPool(THREADS)\n",
    "\n",
    "def genetic_iteration(population, selection_method, fitness_history):\n",
    "    asyn_fitness_results=[pool.apply_async(fn_fitness, args=(mdl, popl)) \n",
    "                         for popl in np.split(population, THREADS)]\n",
    "    fitness_results = sum([asyn_result.get() for asyn_result in asyn_fitness_results], [])\n",
    "    population_with_fitness = sorted(fitness_results, key = lambda tup: tup[0], reverse=True)\n",
    "    fitness_history.append(population_with_fitness[0][0])\n",
    "    elit1 = population_with_fitness[0][1]\n",
    "    elit2 = population_with_fitness[0][1]\n",
    "    parents = np.stack([a for a in select(selection_method, 2, population_with_fitness, (POP_SIZE-2)//2)])\n",
    "    next_generation = crossover(parents).reshape(((POP_SIZE-2,) + INDIV_SIZE))\n",
    "    next_generation = mutation(next_generation)\n",
    "    next_generation = np.append(next_generation, elit1)\n",
    "    next_generation = np.append(next_generation, elit2)\n",
    "    return next_generation.reshape(((POP_SIZE,) + INDIV_SIZE))"
   ]
  },
  {
   "cell_type": "markdown",
   "metadata": {},
   "source": [
    "### Generation of generations"
   ]
  },
  {
   "cell_type": "code",
   "execution_count": 34,
   "metadata": {},
   "outputs": [],
   "source": [
    "next_generation = fn_initialize_population(POP_SIZE, INDIV_SIZE)"
   ]
  },
  {
   "cell_type": "code",
   "execution_count": 35,
   "metadata": {},
   "outputs": [
    {
     "data": {
      "text/plain": [
       "numpy.ndarray"
      ]
     },
     "execution_count": 35,
     "metadata": {},
     "output_type": "execute_result"
    }
   ],
   "source": [
    "type(next_generation)"
   ]
  },
  {
   "cell_type": "code",
   "execution_count": 39,
   "metadata": {
    "scrolled": false
   },
   "outputs": [
    {
     "data": {
      "application/vnd.jupyter.widget-view+json": {
       "model_id": "c9d3163c1ae249b8855ecc5a00876689",
       "version_major": 2,
       "version_minor": 0
      },
      "text/plain": [
       "  0%|          | 0/20000 [00:00<?, ?it/s]"
      ]
     },
     "metadata": {},
     "output_type": "display_data"
    },
    {
     "name": "stdout",
     "output_type": "stream",
     "text": [
      "(136973.0, 0.2, 3)\n",
      "(150679.0, 0.05, 3)\n",
      "(161645.0, 0.05, 3)\n",
      "(171781.0, 0.05, 3)\n",
      "(181038.0, 0.05, 3)\n",
      "(190739.0, 0.05, 3)\n",
      "(200861.0, 0.05, 3)\n",
      "(208541.0, 0.05, 3)\n",
      "(216457.0, 0.05, 3)\n",
      "(223274.0, 0.05, 3)\n",
      "(231937.0, 0.05, 3)\n",
      "(238493.0, 0.05, 3)\n",
      "(244218.0, 0.05, 3)\n",
      "(250960.0, 0.05, 3)\n",
      "(256423.0, 0.05, 3)\n",
      "(261765.0, 0.05, 3)\n",
      "(266669.0, 0.05, 3)\n",
      "(270046.0, 0.05, 3)\n",
      "(274161.0, 0.05, 3)\n",
      "(278523.0, 0.05, 3)\n",
      "(281117.0, 0.05, 3)\n",
      "(284872.0, 0.05, 3)\n",
      "(288545.0, 0.05, 3)\n",
      "(291480.0, 0.05, 3)\n",
      "(294579.0, 0.05, 3)\n",
      "(297969.0, 0.05, 3)\n",
      "(300343.0, 0.05, 3)\n",
      "(302799.0, 0.05, 3)\n",
      "(306081.0, 0.05, 3)\n",
      "(308137.0, 0.05, 3)\n",
      "(310420.0, 0.05, 3)\n",
      "(313110.0, 0.05, 3)\n",
      "(315584.0, 0.05, 3)\n",
      "(317639.0, 0.05, 3)\n",
      "(319334.0, 0.05, 3)\n",
      "(320378.0, 0.05, 3)\n",
      "(321992.0, 0.05, 3)\n",
      "(324397.0, 0.05, 3)\n",
      "(325706.0, 0.05, 3)\n",
      "(326130.0, 0.05, 3)\n",
      "CPU times: user 7h 7min 54s, sys: 1h 4min 58s, total: 8h 12min 52s\n",
      "Wall time: 3h 46min 39s\n"
     ]
    },
    {
     "data": {
      "text/plain": [
       "326781.0"
      ]
     },
     "execution_count": 39,
     "metadata": {},
     "output_type": "execute_result"
    }
   ],
   "source": [
    "%%time\n",
    "\n",
    "import operator\n",
    "import functools\n",
    "fitness_history = [0]\n",
    "T.DURATION_STATS={}\n",
    "\n",
    "\n",
    "INDIV_SIZE = (MP.C,MP.U,MP.H,MP.D)\n",
    "INDIV_FLAT_SIZE = functools.reduce(operator.mul, INDIV_SIZE, 1)\n",
    "POP_SIZE = 64#functools.reduce(operator.mul, INDIV_SIZE, 1)\n",
    "GENERATION_SIZE = 20000\n",
    "CROSSOVER_PROB = 0.6\n",
    "MUTATION_PROB = 0.4\n",
    "MUTATION_RATE = 0.50\n",
    "NUMBER_OF_CROSSOVER_SECTION = 16\n",
    "MUTATION_AMOUNT = int(MUTATION_RATE*INDIV_FLAT_SIZE)\n",
    "MUTATION_AMOUNT = 3\n",
    "\n",
    "#next_generation = fn_initialize_population(POP_SIZE, INDIV_SIZE)\n",
    "\n",
    "for generation_index in trange(GENERATION_SIZE):\n",
    "    next_generation = genetic_iteration(population=next_generation, \n",
    "                                        selection_method=tournament_selection, \n",
    "                                        #selection_method=roulettewheel_selection,\n",
    "                                        fitness_history=fitness_history)\n",
    "    if generation_index%100 == 0 and MUTATION_PROB > 0.05:\n",
    "        MUTATION_PROB = MUTATION_PROB / 2\n",
    "    if generation_index%100 == 0 and MUTATION_AMOUNT > 20:\n",
    "        MUTATION_AMOUNT = MUTATION_AMOUNT - 10\n",
    "    if generation_index%500 == 0:\n",
    "        print((max(fitness_history), MUTATION_PROB, MUTATION_AMOUNT))\n",
    "max(fitness_history)\n",
    "#483312.0\n",
    "#6779.0"
   ]
  },
  {
   "cell_type": "code",
   "execution_count": 42,
   "metadata": {},
   "outputs": [
    {
     "data": {
      "text/plain": [
       "{'fn_fitness.duration': 27498.602580009934,\n",
       " 'fn_fitness.counter': 80000,\n",
       " 'select.duration': 0.08868429192716576,\n",
       " 'select.counter': 20000,\n",
       " 'crossover.duration': 1260.4527139248512,\n",
       " 'crossover.counter': 20000,\n",
       " 'mutation.duration': 76.52411539115565,\n",
       " 'mutation.counter': 20000}"
      ]
     },
     "execution_count": 42,
     "metadata": {},
     "output_type": "execute_result"
    }
   ],
   "source": [
    "T.DURATION_STATS"
   ]
  },
  {
   "cell_type": "code",
   "execution_count": 41,
   "metadata": {},
   "outputs": [
    {
     "data": {
      "text/plain": [
       "[230329.0,\n",
       " 230329.0,\n",
       " 230329.0,\n",
       " 230329.0,\n",
       " 230329.0,\n",
       " 230471.0,\n",
       " 230471.0,\n",
       " 230471.0,\n",
       " 230471.0,\n",
       " 230471.0,\n",
       " 230471.0,\n",
       " 230471.0,\n",
       " 230521.0,\n",
       " 230521.0,\n",
       " 230521.0,\n",
       " 230521.0,\n",
       " 230521.0,\n",
       " 230521.0,\n",
       " 230521.0,\n",
       " 230521.0,\n",
       " 230521.0,\n",
       " 230521.0,\n",
       " 230521.0,\n",
       " 230521.0,\n",
       " 230521.0,\n",
       " 230521.0,\n",
       " 230521.0,\n",
       " 230521.0,\n",
       " 230521.0,\n",
       " 230521.0,\n",
       " 230521.0,\n",
       " 230521.0,\n",
       " 230521.0,\n",
       " 230521.0,\n",
       " 230521.0,\n",
       " 230749.0,\n",
       " 230749.0,\n",
       " 230749.0,\n",
       " 230749.0,\n",
       " 230749.0,\n",
       " 230749.0,\n",
       " 230749.0,\n",
       " 230749.0,\n",
       " 230749.0,\n",
       " 230749.0,\n",
       " 230749.0,\n",
       " 230932.0,\n",
       " 230932.0,\n",
       " 230932.0,\n",
       " 230932.0,\n",
       " 230932.0,\n",
       " 230932.0,\n",
       " 230932.0,\n",
       " 230932.0,\n",
       " 230932.0,\n",
       " 230932.0,\n",
       " 231118.0,\n",
       " 231118.0,\n",
       " 231118.0,\n",
       " 231118.0,\n",
       " 231118.0,\n",
       " 231118.0,\n",
       " 231118.0,\n",
       " 231118.0,\n",
       " 231310.0,\n",
       " 231310.0,\n",
       " 231310.0,\n",
       " 231310.0,\n",
       " 231310.0,\n",
       " 231310.0,\n",
       " 231310.0,\n",
       " 231310.0,\n",
       " 231310.0,\n",
       " 231310.0,\n",
       " 231310.0,\n",
       " 231310.0,\n",
       " 231310.0,\n",
       " 231310.0,\n",
       " 231310.0,\n",
       " 231461.0,\n",
       " 231461.0,\n",
       " 231461.0,\n",
       " 231461.0,\n",
       " 231478.0,\n",
       " 231478.0,\n",
       " 231478.0,\n",
       " 231478.0,\n",
       " 231478.0,\n",
       " 231478.0,\n",
       " 231478.0,\n",
       " 231659.0,\n",
       " 231659.0,\n",
       " 231659.0,\n",
       " 231659.0,\n",
       " 231659.0,\n",
       " 231765.0,\n",
       " 231765.0,\n",
       " 231765.0,\n",
       " 231937.0,\n",
       " 231937.0,\n",
       " 231937.0,\n",
       " 231937.0,\n",
       " 231937.0,\n",
       " 231937.0,\n",
       " 231937.0,\n",
       " 231937.0,\n",
       " 231937.0,\n",
       " 231937.0,\n",
       " 231937.0,\n",
       " 231937.0,\n",
       " 231937.0,\n",
       " 231937.0,\n",
       " 231937.0,\n",
       " 231937.0,\n",
       " 231937.0,\n",
       " 231937.0,\n",
       " 231937.0,\n",
       " 231937.0,\n",
       " 232087.0,\n",
       " 232087.0,\n",
       " 232087.0,\n",
       " 232087.0,\n",
       " 232087.0,\n",
       " 232087.0,\n",
       " 232087.0,\n",
       " 232087.0,\n",
       " 232087.0,\n",
       " 232087.0,\n",
       " 232087.0,\n",
       " 232087.0,\n",
       " 232310.0,\n",
       " 232310.0,\n",
       " 232310.0,\n",
       " 232310.0,\n",
       " 232310.0,\n",
       " 232310.0,\n",
       " 232497.0,\n",
       " 232497.0,\n",
       " 232497.0,\n",
       " 232497.0,\n",
       " 232497.0,\n",
       " 232647.0,\n",
       " 232647.0,\n",
       " 232647.0,\n",
       " 232647.0,\n",
       " 232647.0,\n",
       " 232647.0,\n",
       " 232647.0,\n",
       " 232647.0,\n",
       " 232647.0,\n",
       " 232647.0,\n",
       " 232647.0,\n",
       " 232647.0,\n",
       " 232647.0,\n",
       " 232647.0,\n",
       " 232831.0,\n",
       " 232831.0,\n",
       " 232831.0,\n",
       " 232831.0,\n",
       " 232831.0,\n",
       " 232831.0,\n",
       " 232831.0,\n",
       " 233062.0,\n",
       " 233062.0,\n",
       " 233062.0,\n",
       " 233062.0,\n",
       " 233062.0,\n",
       " 233062.0,\n",
       " 233062.0,\n",
       " 233062.0,\n",
       " 233062.0,\n",
       " 233062.0,\n",
       " 233142.0,\n",
       " 233142.0,\n",
       " 233142.0,\n",
       " 233142.0,\n",
       " 233142.0,\n",
       " 233142.0,\n",
       " 233142.0,\n",
       " 233142.0,\n",
       " 233142.0,\n",
       " 233142.0,\n",
       " 233142.0,\n",
       " 233142.0,\n",
       " 233142.0,\n",
       " 233142.0,\n",
       " 233142.0,\n",
       " 233142.0,\n",
       " 233142.0,\n",
       " 233142.0,\n",
       " 233142.0,\n",
       " 233142.0,\n",
       " 233283.0,\n",
       " 233283.0,\n",
       " 233283.0,\n",
       " 233283.0,\n",
       " 233283.0,\n",
       " 233478.0,\n",
       " 233478.0,\n",
       " 233478.0,\n",
       " 233478.0,\n",
       " 233478.0,\n",
       " 233478.0,\n",
       " 233478.0,\n",
       " 233478.0,\n",
       " 233478.0,\n",
       " 233478.0,\n",
       " 233585.0,\n",
       " 233620.0,\n",
       " 233620.0,\n",
       " 233620.0,\n",
       " 233620.0,\n",
       " 233620.0,\n",
       " 233620.0,\n",
       " 233620.0,\n",
       " 233620.0,\n",
       " 233620.0,\n",
       " 233620.0,\n",
       " 233620.0,\n",
       " 233620.0,\n",
       " 233620.0,\n",
       " 233620.0,\n",
       " 233620.0,\n",
       " 233620.0,\n",
       " 233620.0,\n",
       " 233620.0,\n",
       " 233620.0,\n",
       " 233620.0,\n",
       " 233620.0,\n",
       " 233796.0,\n",
       " 233806.0,\n",
       " 233806.0,\n",
       " 233806.0,\n",
       " 233806.0,\n",
       " 233806.0,\n",
       " 233806.0,\n",
       " 233806.0,\n",
       " 233806.0,\n",
       " 233806.0,\n",
       " 233806.0,\n",
       " 233806.0,\n",
       " 233806.0,\n",
       " 233806.0,\n",
       " 233806.0,\n",
       " 233806.0,\n",
       " 233806.0,\n",
       " 233806.0,\n",
       " 233806.0,\n",
       " 233806.0,\n",
       " 233806.0,\n",
       " 233806.0,\n",
       " 233806.0,\n",
       " 233806.0,\n",
       " 233806.0,\n",
       " 233806.0,\n",
       " 233806.0,\n",
       " 233806.0,\n",
       " 233806.0,\n",
       " 233806.0,\n",
       " 233806.0,\n",
       " 233806.0,\n",
       " 233929.0,\n",
       " 233929.0,\n",
       " 233929.0,\n",
       " 233929.0,\n",
       " 233929.0,\n",
       " 233929.0,\n",
       " 233929.0,\n",
       " 233929.0,\n",
       " 233929.0,\n",
       " 233929.0,\n",
       " 233929.0,\n",
       " 233929.0,\n",
       " 233929.0,\n",
       " 233929.0,\n",
       " 233929.0,\n",
       " 233929.0,\n",
       " 233929.0,\n",
       " 233929.0,\n",
       " 234121.0,\n",
       " 234121.0,\n",
       " 234121.0,\n",
       " 234121.0,\n",
       " 234121.0,\n",
       " 234121.0,\n",
       " 234121.0,\n",
       " 234121.0,\n",
       " 234121.0,\n",
       " 234272.0,\n",
       " 234272.0,\n",
       " 234272.0,\n",
       " 234272.0,\n",
       " 234272.0,\n",
       " 234272.0,\n",
       " 234272.0,\n",
       " 234272.0,\n",
       " 234272.0,\n",
       " 234272.0,\n",
       " 234378.0,\n",
       " 234378.0,\n",
       " 234378.0,\n",
       " 234378.0,\n",
       " 234378.0,\n",
       " 234378.0,\n",
       " 234378.0,\n",
       " 234378.0,\n",
       " 234600.0,\n",
       " 234600.0,\n",
       " 234600.0,\n",
       " 234600.0,\n",
       " 234648.0,\n",
       " 234648.0,\n",
       " 234648.0,\n",
       " 234648.0,\n",
       " 234648.0,\n",
       " 234648.0,\n",
       " 234648.0,\n",
       " 234648.0,\n",
       " 234648.0,\n",
       " 234648.0,\n",
       " 234648.0,\n",
       " 234648.0,\n",
       " 234648.0,\n",
       " 234648.0,\n",
       " 234648.0,\n",
       " 234648.0,\n",
       " 234648.0,\n",
       " 234648.0,\n",
       " 234648.0,\n",
       " 234648.0,\n",
       " 234648.0,\n",
       " 234648.0,\n",
       " 234648.0,\n",
       " 234648.0,\n",
       " 234648.0,\n",
       " 234648.0,\n",
       " 234648.0,\n",
       " 234648.0,\n",
       " 234648.0,\n",
       " 234648.0,\n",
       " 234648.0,\n",
       " 234648.0,\n",
       " 234648.0,\n",
       " 234648.0,\n",
       " 234763.0,\n",
       " 234763.0,\n",
       " 234763.0,\n",
       " 234763.0,\n",
       " 234763.0,\n",
       " 234763.0,\n",
       " 234763.0,\n",
       " 234763.0,\n",
       " 234763.0,\n",
       " 234763.0,\n",
       " 234763.0,\n",
       " 234763.0,\n",
       " 234763.0,\n",
       " 234763.0,\n",
       " 234763.0,\n",
       " 234763.0,\n",
       " 234763.0,\n",
       " 234763.0,\n",
       " 234763.0,\n",
       " 234763.0,\n",
       " 234983.0,\n",
       " 234983.0,\n",
       " 234983.0,\n",
       " 234983.0,\n",
       " 234983.0,\n",
       " 234983.0,\n",
       " 234983.0,\n",
       " 235164.0,\n",
       " 235164.0,\n",
       " 235164.0,\n",
       " 235164.0,\n",
       " 235164.0,\n",
       " 235164.0,\n",
       " 235164.0,\n",
       " 235164.0,\n",
       " 235164.0,\n",
       " 235323.0,\n",
       " 235323.0,\n",
       " 235323.0,\n",
       " 235323.0,\n",
       " 235323.0,\n",
       " 235323.0,\n",
       " 235323.0,\n",
       " 235518.0,\n",
       " 235518.0,\n",
       " 235518.0,\n",
       " 235518.0,\n",
       " 235518.0,\n",
       " 235704.0,\n",
       " 235704.0,\n",
       " 235704.0,\n",
       " 235704.0,\n",
       " 235704.0,\n",
       " 235704.0,\n",
       " 235704.0,\n",
       " 235704.0,\n",
       " 235704.0,\n",
       " 235704.0,\n",
       " 235704.0,\n",
       " 235704.0,\n",
       " 235704.0,\n",
       " 235704.0,\n",
       " 235704.0,\n",
       " 235704.0,\n",
       " 235704.0,\n",
       " 235704.0,\n",
       " 235704.0,\n",
       " 235704.0,\n",
       " 235704.0,\n",
       " 235704.0,\n",
       " 235704.0,\n",
       " 235876.0,\n",
       " 235876.0,\n",
       " 235876.0,\n",
       " 235876.0,\n",
       " 235876.0,\n",
       " 235876.0,\n",
       " 236071.0,\n",
       " 236160.0,\n",
       " 236160.0,\n",
       " 236160.0,\n",
       " 236160.0,\n",
       " 236160.0,\n",
       " 236283.0,\n",
       " 236283.0,\n",
       " 236283.0,\n",
       " 236283.0,\n",
       " 236283.0,\n",
       " 236283.0,\n",
       " 236283.0,\n",
       " 236283.0,\n",
       " 236283.0,\n",
       " 236283.0,\n",
       " 236283.0,\n",
       " 236283.0,\n",
       " 236406.0,\n",
       " 236406.0,\n",
       " 236406.0,\n",
       " 236406.0,\n",
       " 236406.0,\n",
       " 236406.0,\n",
       " 236406.0,\n",
       " 236406.0,\n",
       " 236406.0,\n",
       " 236406.0,\n",
       " 236406.0,\n",
       " 236637.0,\n",
       " 236637.0,\n",
       " 236637.0,\n",
       " 236637.0,\n",
       " 236637.0,\n",
       " 236637.0,\n",
       " 236637.0,\n",
       " 236637.0,\n",
       " 236637.0,\n",
       " 236637.0,\n",
       " 236787.0,\n",
       " 236787.0,\n",
       " 236787.0,\n",
       " 236787.0,\n",
       " 236787.0,\n",
       " 236787.0,\n",
       " 236787.0,\n",
       " 236787.0,\n",
       " 236787.0,\n",
       " 236787.0,\n",
       " 236787.0,\n",
       " 236787.0,\n",
       " 236787.0,\n",
       " 236787.0,\n",
       " 236787.0,\n",
       " 236787.0,\n",
       " 236787.0,\n",
       " 236787.0,\n",
       " 236787.0,\n",
       " 236787.0,\n",
       " 236787.0,\n",
       " 236787.0,\n",
       " 236787.0,\n",
       " 236787.0,\n",
       " 236787.0,\n",
       " 236787.0,\n",
       " 236787.0,\n",
       " 236787.0,\n",
       " 236787.0,\n",
       " 236787.0,\n",
       " 236787.0,\n",
       " 236787.0,\n",
       " 236787.0,\n",
       " 236787.0,\n",
       " 236787.0,\n",
       " 236787.0,\n",
       " 236787.0,\n",
       " 236787.0,\n",
       " 236787.0,\n",
       " 236787.0,\n",
       " 236787.0,\n",
       " 236787.0,\n",
       " 236787.0,\n",
       " 236787.0,\n",
       " 236787.0,\n",
       " 236787.0,\n",
       " 236787.0,\n",
       " 236787.0,\n",
       " 236787.0,\n",
       " 236787.0,\n",
       " 236787.0,\n",
       " 236787.0,\n",
       " 236787.0,\n",
       " 236787.0,\n",
       " 236787.0,\n",
       " 236787.0,\n",
       " 236971.0,\n",
       " 236971.0,\n",
       " 236971.0,\n",
       " 236971.0,\n",
       " 236971.0,\n",
       " 236971.0,\n",
       " 236971.0,\n",
       " 237130.0,\n",
       " 237130.0,\n",
       " 237130.0,\n",
       " 237130.0,\n",
       " 237130.0,\n",
       " 237130.0,\n",
       " 237130.0,\n",
       " 237130.0,\n",
       " 237130.0,\n",
       " 237130.0,\n",
       " 237130.0,\n",
       " 237130.0,\n",
       " 237130.0,\n",
       " 237130.0,\n",
       " 237130.0,\n",
       " 237130.0,\n",
       " 237130.0,\n",
       " 237130.0,\n",
       " 237130.0,\n",
       " 237130.0,\n",
       " 237130.0,\n",
       " 237130.0,\n",
       " 237314.0,\n",
       " 237314.0,\n",
       " 237314.0,\n",
       " 237314.0,\n",
       " 237314.0,\n",
       " 237314.0,\n",
       " 237536.0,\n",
       " 237536.0,\n",
       " 237536.0,\n",
       " 237717.0,\n",
       " 237717.0,\n",
       " 237717.0,\n",
       " 237717.0,\n",
       " 237717.0,\n",
       " 237717.0,\n",
       " 237717.0,\n",
       " 237717.0,\n",
       " 237717.0,\n",
       " 237717.0,\n",
       " 237948.0,\n",
       " 237948.0,\n",
       " 237948.0,\n",
       " 237948.0,\n",
       " 238120.0,\n",
       " 238120.0,\n",
       " 238120.0,\n",
       " 238120.0,\n",
       " 238120.0,\n",
       " 238132.0,\n",
       " 238132.0,\n",
       " 238179.0,\n",
       " 238179.0,\n",
       " 238179.0,\n",
       " 238179.0,\n",
       " 238179.0,\n",
       " 238243.0,\n",
       " 238243.0,\n",
       " 238243.0,\n",
       " 238243.0,\n",
       " 238243.0,\n",
       " 238243.0,\n",
       " 238243.0,\n",
       " 238243.0,\n",
       " 238243.0,\n",
       " 238243.0,\n",
       " 238243.0,\n",
       " 238243.0,\n",
       " 238243.0,\n",
       " 238243.0,\n",
       " 238243.0,\n",
       " 238243.0,\n",
       " 238243.0,\n",
       " 238243.0,\n",
       " 238243.0,\n",
       " 238457.0,\n",
       " 238457.0,\n",
       " 238493.0,\n",
       " 238493.0,\n",
       " 238493.0,\n",
       " 238493.0,\n",
       " 238493.0,\n",
       " 238493.0,\n",
       " 238493.0,\n",
       " 238493.0,\n",
       " 238493.0,\n",
       " 238718.0,\n",
       " 238718.0,\n",
       " 238718.0,\n",
       " 238718.0,\n",
       " 238718.0,\n",
       " 238718.0,\n",
       " 238718.0,\n",
       " 238718.0,\n",
       " 238718.0,\n",
       " 238718.0,\n",
       " 238718.0,\n",
       " 238932.0,\n",
       " 238932.0,\n",
       " 238932.0,\n",
       " 238932.0,\n",
       " 238932.0,\n",
       " 238932.0,\n",
       " 238932.0,\n",
       " 238932.0,\n",
       " 238932.0,\n",
       " 238932.0,\n",
       " 239068.0,\n",
       " 239068.0,\n",
       " 239115.0,\n",
       " 239115.0,\n",
       " 239115.0,\n",
       " 239115.0,\n",
       " 239115.0,\n",
       " 239115.0,\n",
       " 239115.0,\n",
       " 239115.0,\n",
       " 239115.0,\n",
       " 239115.0,\n",
       " 239115.0,\n",
       " 239115.0,\n",
       " 239115.0,\n",
       " 239115.0,\n",
       " 239115.0,\n",
       " 239230.0,\n",
       " 239230.0,\n",
       " 239230.0,\n",
       " 239230.0,\n",
       " 239230.0,\n",
       " 239230.0,\n",
       " 239230.0,\n",
       " 239230.0,\n",
       " 239230.0,\n",
       " 239230.0,\n",
       " 239230.0,\n",
       " 239230.0,\n",
       " 239230.0,\n",
       " 239230.0,\n",
       " 239230.0,\n",
       " 239230.0,\n",
       " 239230.0,\n",
       " 239230.0,\n",
       " 239230.0,\n",
       " 239230.0,\n",
       " 239230.0,\n",
       " 239230.0,\n",
       " 239230.0,\n",
       " 239230.0,\n",
       " 239230.0,\n",
       " 239230.0,\n",
       " 239230.0,\n",
       " 239230.0,\n",
       " 239230.0,\n",
       " 239483.0,\n",
       " 239483.0,\n",
       " 239483.0,\n",
       " 239483.0,\n",
       " 239483.0,\n",
       " 239483.0,\n",
       " 239483.0,\n",
       " 239483.0,\n",
       " 239483.0,\n",
       " 239483.0,\n",
       " 239483.0,\n",
       " 239483.0,\n",
       " 239483.0,\n",
       " 239483.0,\n",
       " 239703.0,\n",
       " 239703.0,\n",
       " 239703.0,\n",
       " 239703.0,\n",
       " 239703.0,\n",
       " 239703.0,\n",
       " 239703.0,\n",
       " 239703.0,\n",
       " 239703.0,\n",
       " 239848.0,\n",
       " 239848.0,\n",
       " 239848.0,\n",
       " 239848.0,\n",
       " 239848.0,\n",
       " 239895.0,\n",
       " 239895.0,\n",
       " 239895.0,\n",
       " 239895.0,\n",
       " 239895.0,\n",
       " 239895.0,\n",
       " 239895.0,\n",
       " 240018.0,\n",
       " 240018.0,\n",
       " 240018.0,\n",
       " 240018.0,\n",
       " 240018.0,\n",
       " 240018.0,\n",
       " 240018.0,\n",
       " 240018.0,\n",
       " 240018.0,\n",
       " 240018.0,\n",
       " 240018.0,\n",
       " 240018.0,\n",
       " 240018.0,\n",
       " 240018.0,\n",
       " 240018.0,\n",
       " 240018.0,\n",
       " 240018.0,\n",
       " 240018.0,\n",
       " 240018.0,\n",
       " 240018.0,\n",
       " 240018.0,\n",
       " 240018.0,\n",
       " 240018.0,\n",
       " 240018.0,\n",
       " 240018.0,\n",
       " 240018.0,\n",
       " 240018.0,\n",
       " 240018.0,\n",
       " 240018.0,\n",
       " 240018.0,\n",
       " 240018.0,\n",
       " 240018.0,\n",
       " 240018.0,\n",
       " 240018.0,\n",
       " 240018.0,\n",
       " 240018.0,\n",
       " 240018.0,\n",
       " 240018.0,\n",
       " 240201.0,\n",
       " 240201.0,\n",
       " 240201.0,\n",
       " 240201.0,\n",
       " 240201.0,\n",
       " 240201.0,\n",
       " 240201.0,\n",
       " 240201.0,\n",
       " 240201.0,\n",
       " 240201.0,\n",
       " 240201.0,\n",
       " 240201.0,\n",
       " 240201.0,\n",
       " 240201.0,\n",
       " 240201.0,\n",
       " 240201.0,\n",
       " 240201.0,\n",
       " 240201.0,\n",
       " 240201.0,\n",
       " 240201.0,\n",
       " 240201.0,\n",
       " 240201.0,\n",
       " 240352.0,\n",
       " 240352.0,\n",
       " 240352.0,\n",
       " 240352.0,\n",
       " 240557.0,\n",
       " 240557.0,\n",
       " 240557.0,\n",
       " 240613.0,\n",
       " 240613.0,\n",
       " 240613.0,\n",
       " 240613.0,\n",
       " 240613.0,\n",
       " 240613.0,\n",
       " 240666.0,\n",
       " 240794.0,\n",
       " 240794.0,\n",
       " 240794.0,\n",
       " 240794.0,\n",
       " 240794.0,\n",
       " 240794.0,\n",
       " 240794.0,\n",
       " 240794.0,\n",
       " 240794.0,\n",
       " 240794.0,\n",
       " 240794.0,\n",
       " 240945.0,\n",
       " 240945.0,\n",
       " 240945.0,\n",
       " 240945.0,\n",
       " 240945.0,\n",
       " 240945.0,\n",
       " 240945.0,\n",
       " 240945.0,\n",
       " 241060.0,\n",
       " 241060.0,\n",
       " 241060.0,\n",
       " 241060.0,\n",
       " 241060.0,\n",
       " 241291.0,\n",
       " 241291.0,\n",
       " 241291.0,\n",
       " 241291.0,\n",
       " 241291.0,\n",
       " 241291.0,\n",
       " 241291.0,\n",
       " 241291.0,\n",
       " 241291.0,\n",
       " 241291.0,\n",
       " 241291.0,\n",
       " 241291.0,\n",
       " 241291.0,\n",
       " 241291.0,\n",
       " 241291.0,\n",
       " 241291.0,\n",
       " 241291.0,\n",
       " 241291.0,\n",
       " 241291.0,\n",
       " 241291.0,\n",
       " 241291.0,\n",
       " 241475.0,\n",
       " 241475.0,\n",
       " 241475.0,\n",
       " 241475.0,\n",
       " 241475.0,\n",
       " 241475.0,\n",
       " 241475.0,\n",
       " 241475.0,\n",
       " 241475.0,\n",
       " 241475.0,\n",
       " 241475.0,\n",
       " 241475.0,\n",
       " 241475.0,\n",
       " 241475.0,\n",
       " 241475.0,\n",
       " 241475.0,\n",
       " 241475.0,\n",
       " 241475.0,\n",
       " 241475.0,\n",
       " 241475.0,\n",
       " 241475.0,\n",
       " 241475.0,\n",
       " 241475.0,\n",
       " 241475.0,\n",
       " 241475.0,\n",
       " 241475.0,\n",
       " 241475.0,\n",
       " 241475.0,\n",
       " 241589.0,\n",
       " 241589.0,\n",
       " 241589.0,\n",
       " 241589.0,\n",
       " 241589.0,\n",
       " 241589.0,\n",
       " 241589.0,\n",
       " 241589.0,\n",
       " 241589.0,\n",
       " 241589.0,\n",
       " 241589.0,\n",
       " 241589.0,\n",
       " 241589.0,\n",
       " 241589.0,\n",
       " 241589.0,\n",
       " 241589.0,\n",
       " 241589.0,\n",
       " 241589.0,\n",
       " 241589.0,\n",
       " 241589.0,\n",
       " 241745.0,\n",
       " 241745.0,\n",
       " 241745.0,\n",
       " 241745.0,\n",
       " 241745.0,\n",
       " 241745.0,\n",
       " 241745.0,\n",
       " 241745.0,\n",
       " 241745.0,\n",
       " 241745.0,\n",
       " 241745.0,\n",
       " 241895.0,\n",
       " 241895.0,\n",
       " 241895.0,\n",
       " 241895.0,\n",
       " 241948.0,\n",
       " 241948.0,\n",
       " 241948.0,\n",
       " 241948.0,\n",
       " 241948.0,\n",
       " 241948.0,\n",
       " 241948.0,\n",
       " 241948.0,\n",
       " 241948.0,\n",
       " 241948.0,\n",
       " 241948.0,\n",
       " 241948.0,\n",
       " 241948.0,\n",
       " 241948.0,\n",
       " 241948.0,\n",
       " 241948.0,\n",
       " 241948.0,\n",
       " 241948.0,\n",
       " 242125.0,\n",
       " 242125.0,\n",
       " 242125.0,\n",
       " 242125.0,\n",
       " 242125.0,\n",
       " 242125.0,\n",
       " 242125.0,\n",
       " 242125.0,\n",
       " 242125.0,\n",
       " 242125.0,\n",
       " 242125.0,\n",
       " 242125.0,\n",
       " 242125.0,\n",
       " 242125.0,\n",
       " 242125.0,\n",
       " 242125.0,\n",
       " 242125.0,\n",
       " 242125.0,\n",
       " 242125.0,\n",
       " 242125.0,\n",
       " 242125.0,\n",
       " 242125.0,\n",
       " 242125.0,\n",
       " 242347.0,\n",
       " 242347.0,\n",
       " 242347.0,\n",
       " 242347.0,\n",
       " 242347.0,\n",
       " 242347.0,\n",
       " 242347.0,\n",
       " 242347.0,\n",
       " 242347.0,\n",
       " 242347.0,\n",
       " 242347.0,\n",
       " 242347.0,\n",
       " 242347.0,\n",
       " 242347.0,\n",
       " 242347.0,\n",
       " 242347.0,\n",
       " 242347.0,\n",
       " 242347.0,\n",
       " 242347.0,\n",
       " 242539.0,\n",
       " 242539.0,\n",
       " 242539.0,\n",
       " 242539.0,\n",
       " 242539.0,\n",
       " 242539.0,\n",
       " 242539.0,\n",
       " 242539.0,\n",
       " 242539.0,\n",
       " 242539.0,\n",
       " 242539.0,\n",
       " 242539.0,\n",
       " 242539.0,\n",
       " 242539.0,\n",
       " 242539.0,\n",
       " 242539.0,\n",
       " 242539.0,\n",
       " 242539.0,\n",
       " 242539.0,\n",
       " 242539.0,\n",
       " 242539.0,\n",
       " 242703.0,\n",
       " 242703.0,\n",
       " 242767.0,\n",
       " 242767.0,\n",
       " 242767.0,\n",
       " 242767.0,\n",
       " 242767.0,\n",
       " 242944.0,\n",
       " 242944.0,\n",
       " 242944.0,\n",
       " 242944.0,\n",
       " 242944.0,\n",
       " 242944.0,\n",
       " 242944.0,\n",
       " 242944.0,\n",
       " 242944.0,\n",
       " 242944.0,\n",
       " 242944.0,\n",
       " 242944.0,\n",
       " 242944.0,\n",
       " 242944.0,\n",
       " 242944.0,\n",
       " 242944.0,\n",
       " 242944.0,\n",
       " 242944.0,\n",
       " ...]"
      ]
     },
     "execution_count": 41,
     "metadata": {},
     "output_type": "execute_result"
    }
   ],
   "source": [
    "fitness_history[4900:]"
   ]
  },
  {
   "cell_type": "code",
   "execution_count": null,
   "metadata": {},
   "outputs": [],
   "source": []
  }
 ],
 "metadata": {
  "kernelspec": {
   "display_name": "Python 3",
   "language": "python",
   "name": "python3"
  },
  "language_info": {
   "codemirror_mode": {
    "name": "ipython",
    "version": 3
   },
   "file_extension": ".py",
   "mimetype": "text/x-python",
   "name": "python",
   "nbconvert_exporter": "python",
   "pygments_lexer": "ipython3",
   "version": "3.7.9"
  }
 },
 "nbformat": 4,
 "nbformat_minor": 4
}
