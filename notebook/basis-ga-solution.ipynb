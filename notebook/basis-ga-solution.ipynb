{
 "cells": [
  {
   "cell_type": "code",
   "execution_count": 1,
   "metadata": {},
   "outputs": [],
   "source": [
    "import sys\n",
    "import os\n",
    "sys.path.insert(0, os.path.abspath('../src'))"
   ]
  },
  {
   "cell_type": "code",
   "execution_count": 2,
   "metadata": {},
   "outputs": [],
   "source": [
    "import numpy as np\n",
    "from tqdm.notebook import trange\n",
    "from tqdm.notebook import tqdm\n",
    "\n",
    "import model\n",
    "import model_parameters as MP\n",
    "#import dask.array as da\n",
    "\n",
    "#np.get_printoptions()#[\"threshold\"]\n",
    "#np.set_printoptions(edgeitems=10, linewidth=150)\n",
    "\n",
    "#np.random.seed(13)"
   ]
  },
  {
   "cell_type": "markdown",
   "metadata": {},
   "source": [
    "## Mathematical Model"
   ]
  },
  {
   "cell_type": "markdown",
   "metadata": {},
   "source": [
    "#### Sets\n",
    "- C\tSet of campaigns.\n",
    "- U\tSet of customers.\n",
    "- H\tSet of channels\n",
    "- D\tSet of planning days.\n",
    "- I\tSet of quota categories.\n",
    "- P\tSet of priority categories.\n"
   ]
  },
  {
   "cell_type": "code",
   "execution_count": 3,
   "metadata": {},
   "outputs": [
    {
     "name": "stdout",
     "output_type": "stream",
     "text": [
      "number of campaigns 2\n",
      "number of customers 10\n",
      "number of channels 3\n",
      "number of planning days 7\n",
      "number of quota categories 3\n",
      "number of priority categories 10\n"
     ]
    }
   ],
   "source": [
    "print(f\"number of campaigns {MP.C}\")\n",
    "print(f\"number of customers {MP.U}\")\n",
    "print(f\"number of channels {MP.H}\")\n",
    "print(f\"number of planning days {MP.D}\")\n",
    "print(f\"number of quota categories {MP.I}\")\n",
    "print(f\"number of priority categories {MP.P}\")"
   ]
  },
  {
   "cell_type": "markdown",
   "metadata": {},
   "source": [
    "#### Parameters"
   ]
  },
  {
   "cell_type": "markdown",
   "metadata": {},
   "source": [
    "##### - eligibility\n",
    "$$\n",
    "e_{cu}\\left\\{\\begin{array}\\\\\n",
    "        1 & \\mbox{if }  customer\\ u\\ is\\ eligible\\ for\\ campaign\\ c\\\\\n",
    "        0 & \\mbox{otherwise } \\\\\n",
    "    \\end{array}\n",
    "\\right.\n",
    "$$"
   ]
  },
  {
   "cell_type": "code",
   "execution_count": 4,
   "metadata": {},
   "outputs": [
    {
     "data": {
      "text/plain": [
       "array([[0, 0, 0, 0, 0, 0, 0, 1, 0, 0],\n",
       "       [1, 0, 0, 0, 0, 0, 0, 1, 1, 0]])"
      ]
     },
     "execution_count": 4,
     "metadata": {},
     "output_type": "execute_result"
    }
   ],
   "source": [
    "MP.e_cu"
   ]
  },
  {
   "cell_type": "markdown",
   "metadata": {},
   "source": [
    "##### - quota categories\n",
    "$$\n",
    "q_{ic}\\left\\{\\begin{array}\\\\\n",
    "        1 & \\mbox{if }  campaign\\ c\\ is\\ a\\ i^{th} type\\ quota\\ category\\ campaign\\ \\\\\n",
    "        0 & \\mbox{otherwise } \\\\\n",
    "    \\end{array}\n",
    "\\right.\n",
    "$$"
   ]
  },
  {
   "cell_type": "code",
   "execution_count": 5,
   "metadata": {},
   "outputs": [
    {
     "data": {
      "text/plain": [
       "array([[1, 1],\n",
       "       [0, 0],\n",
       "       [0, 1]])"
      ]
     },
     "execution_count": 5,
     "metadata": {},
     "output_type": "execute_result"
    }
   ],
   "source": [
    "MP.q_ic"
   ]
  },
  {
   "cell_type": "markdown",
   "metadata": {},
   "source": [
    "##### - priority categories\n",
    "$$r_{cp}: Priority\\ value\\ of\\ campaign\\ c\\ regarding\\ priority\\ type\\ p\\$$"
   ]
  },
  {
   "cell_type": "code",
   "execution_count": 6,
   "metadata": {},
   "outputs": [
    {
     "data": {
      "text/plain": [
       "array([28, 18])"
      ]
     },
     "execution_count": 6,
     "metadata": {},
     "output_type": "execute_result"
    }
   ],
   "source": [
    "MP.rp_c"
   ]
  },
  {
   "cell_type": "markdown",
   "metadata": {},
   "source": [
    "##### - blokage\n",
    "$$b: Communication\\ limit\\ per\\ person\\ for\\ the\\ whole\\ period\\$$"
   ]
  },
  {
   "cell_type": "code",
   "execution_count": 7,
   "metadata": {},
   "outputs": [
    {
     "data": {
      "text/plain": [
       "7"
      ]
     },
     "execution_count": 7,
     "metadata": {},
     "output_type": "execute_result"
    }
   ],
   "source": [
    "MP.b"
   ]
  },
  {
   "cell_type": "markdown",
   "metadata": {},
   "source": [
    "##### - daily blokage\n",
    "$$k: Communication\\ limit\\ per\\ person\\ at\\ each\\ day\\$$"
   ]
  },
  {
   "cell_type": "code",
   "execution_count": 8,
   "metadata": {
    "scrolled": true
   },
   "outputs": [
    {
     "data": {
      "text/plain": [
       "3"
      ]
     },
     "execution_count": 8,
     "metadata": {},
     "output_type": "execute_result"
    }
   ],
   "source": [
    "MP.k"
   ]
  },
  {
   "cell_type": "markdown",
   "metadata": {},
   "source": [
    "##### - campaign blockage\n",
    "$$l_c: Communication\\ limit\\ per\\ person\\ for\\ campaign\\ c\\$$"
   ]
  },
  {
   "cell_type": "code",
   "execution_count": 9,
   "metadata": {
    "scrolled": true
   },
   "outputs": [
    {
     "data": {
      "text/plain": [
       "array([4, 2])"
      ]
     },
     "execution_count": 9,
     "metadata": {},
     "output_type": "execute_result"
    }
   ],
   "source": [
    "MP.l_c"
   ]
  },
  {
   "cell_type": "markdown",
   "metadata": {},
   "source": [
    "##### - quota limitations daily/weekly\n",
    "$$\n",
    "m_i: Communication\\ limit\\ per\\ person\\ for\\ i^{th}\\ category\\\n",
    "$$\n",
    "$$\n",
    "n_i: Communication\\ limit\\ per\\ person\\ for\\ i^{th}\\ category\\ each\\ day\\\n",
    "$$"
   ]
  },
  {
   "cell_type": "code",
   "execution_count": 10,
   "metadata": {},
   "outputs": [
    {
     "data": {
      "text/plain": [
       "(array([3, 3, 4]), array([2, 1, 3]))"
      ]
     },
     "execution_count": 10,
     "metadata": {},
     "output_type": "execute_result"
    }
   ],
   "source": [
    "(MP.m_i, MP.n_i)"
   ]
  },
  {
   "cell_type": "markdown",
   "metadata": {},
   "source": [
    "#### - capacity for channel\n",
    "$$\n",
    "t_{h,d}: Capacity\\ for\\ channel\\ h\\ at\\ day\\ d.\\\n",
    "$$"
   ]
  },
  {
   "cell_type": "code",
   "execution_count": 11,
   "metadata": {
    "scrolled": true
   },
   "outputs": [
    {
     "data": {
      "text/plain": [
       "array([[6., 7., 6., 6., 6., 5., 5.],\n",
       "       [5., 5., 5., 7., 5., 7., 5.],\n",
       "       [6., 5., 6., 5., 7., 5., 6.]])"
      ]
     },
     "execution_count": 11,
     "metadata": {},
     "output_type": "execute_result"
    }
   ],
   "source": [
    "MP.t_hd"
   ]
  },
  {
   "cell_type": "markdown",
   "metadata": {},
   "source": [
    "# Model"
   ]
  },
  {
   "cell_type": "markdown",
   "metadata": {},
   "source": [
    "#### Variables\n",
    "$$\n",
    "X_{cuhd}\\left\\{\\begin{array}\\\\\n",
    "        1 & \\mbox{if } Campaign\\ c\\ will\\ be\\ sent\\ to\\ customer\\ u\\ through\\ Channel\\ h\\ at\\ Day\\ d \\\\\n",
    "        0 & \\mbox{otherwise } \\\\\n",
    "    \\end{array}\n",
    "\\right.\n",
    "$$"
   ]
  },
  {
   "cell_type": "markdown",
   "metadata": {},
   "source": [
    "## Maximize\n",
    "$$\\sum_{p \\in P}\\sum_{c \\in C}\\sum_{u \\in U}\\sum_{h \\in H}\\sum_{d \\in D}\\,X_{cuhd}\\ r_{cp}$$"
   ]
  },
  {
   "cell_type": "markdown",
   "metadata": {},
   "source": [
    "##### Binary variable (10)\n",
    "$$\n",
    "X_{cuhd} \\in \\{ 1,0 \\},\\hspace{35pt} \\forall c \\in C ,\\forall u \\in U,\\forall d \\in D, \\forall h \\in H\n",
    "$$"
   ]
  },
  {
   "cell_type": "code",
   "execution_count": 12,
   "metadata": {},
   "outputs": [],
   "source": [
    "X_cuhd = np.zeros((MP.C,MP.U,MP.H,MP.D), dtype='int')"
   ]
  },
  {
   "cell_type": "markdown",
   "metadata": {},
   "source": [
    "## subject to"
   ]
  },
  {
   "cell_type": "markdown",
   "metadata": {},
   "source": [
    "##### - eligibility (2)\n",
    "\n",
    "$$\n",
    "X_{cuhd}  \\leq e_{cu},\\hspace{35pt} \\forall h \\in H,\\forall d \\in D\n",
    "$$"
   ]
  },
  {
   "cell_type": "code",
   "execution_count": 13,
   "metadata": {},
   "outputs": [
    {
     "data": {
      "text/plain": [
       "<function model_parameters.<lambda>(X, c, u, h, d)>"
      ]
     },
     "execution_count": 13,
     "metadata": {},
     "output_type": "execute_result"
    }
   ],
   "source": [
    "MP.eligibility"
   ]
  },
  {
   "cell_type": "markdown",
   "metadata": {},
   "source": [
    "##### - use one channel (3)\n",
    "$$\n",
    "\\sum_{h}X_{cuhd} \\le 1,\\hspace{35pt} \\forall c \\in C \\, \\forall u \\in U,\\forall d \\in D\n",
    "$$"
   ]
  },
  {
   "cell_type": "code",
   "execution_count": 14,
   "metadata": {},
   "outputs": [
    {
     "data": {
      "text/plain": [
       "<function model_parameters.<lambda>(X, c, u, d)>"
      ]
     },
     "execution_count": 14,
     "metadata": {},
     "output_type": "execute_result"
    }
   ],
   "source": [
    "MP.one_channel"
   ]
  },
  {
   "cell_type": "markdown",
   "metadata": {},
   "source": [
    "##### - weekly communication limitation (4)\n",
    "$$\n",
    "\\sum_{h \\in H}\\sum_{c \\in C}\\sum_{d \\in D} X_{cuhd}\\le b,\\hspace{35pt} \\forall u \\in U\n",
    "$$"
   ]
  },
  {
   "cell_type": "code",
   "execution_count": 15,
   "metadata": {},
   "outputs": [
    {
     "data": {
      "text/plain": [
       "<function model_parameters.<lambda>(X, u)>"
      ]
     },
     "execution_count": 15,
     "metadata": {},
     "output_type": "execute_result"
    }
   ],
   "source": [
    "MP.weekly_limitation"
   ]
  },
  {
   "cell_type": "markdown",
   "metadata": {},
   "source": [
    "##### - daily communication limitation (5)\n",
    "$$\n",
    "\\sum_{h \\in H}\\sum_{c \\in C} X_{cuhd}\\le k,\\hspace{35pt} \\forall u \\in U, \\forall d \\in D\n",
    "$$"
   ]
  },
  {
   "cell_type": "code",
   "execution_count": 16,
   "metadata": {},
   "outputs": [
    {
     "data": {
      "text/plain": [
       "<function model_parameters.<lambda>(X, u, d)>"
      ]
     },
     "execution_count": 16,
     "metadata": {},
     "output_type": "execute_result"
    }
   ],
   "source": [
    "MP.daily_limitation"
   ]
  },
  {
   "cell_type": "markdown",
   "metadata": {},
   "source": [
    "##### - campaign communication limit(6)\n",
    "$$\n",
    "\\sum_{d \\in D}\\sum_{h \\in H} X_{cuhd}\\le l_c,\\hspace{35pt} \\forall c \\in C,\\forall u \\in U;\n",
    "$$"
   ]
  },
  {
   "cell_type": "code",
   "execution_count": 17,
   "metadata": {},
   "outputs": [
    {
     "data": {
      "text/plain": [
       "<function model_parameters.<lambda>(X, c, u)>"
      ]
     },
     "execution_count": 17,
     "metadata": {},
     "output_type": "execute_result"
    }
   ],
   "source": [
    "MP.campaign_limitation"
   ]
  },
  {
   "cell_type": "markdown",
   "metadata": {},
   "source": [
    "##### - weekly quota(7)\n",
    "$$\n",
    "\\sum_{d \\in D}\\sum_{h \\in H}\\sum_{c \\in C}{X_{cuhd} q_{ic}}\\le m_i,\\hspace{35pt} \\forall u \\in U, \\forall i \\in I\n",
    "$$"
   ]
  },
  {
   "cell_type": "code",
   "execution_count": 18,
   "metadata": {},
   "outputs": [
    {
     "data": {
      "text/plain": [
       "<function model_parameters.<lambda>(X, u)>"
      ]
     },
     "execution_count": 18,
     "metadata": {},
     "output_type": "execute_result"
    }
   ],
   "source": [
    "MP.weekly_quota"
   ]
  },
  {
   "cell_type": "markdown",
   "metadata": {},
   "source": [
    "##### - daily quota(8)\n",
    "$$\n",
    "\\sum_{h \\in H}\\sum_{c \\in C}{X_{cuhd} q_{ic}}\\le n_i,\\hspace{35pt} \\forall u \\in U,\\, \\forall d \\in D, \\forall i \\in I\n",
    "$$"
   ]
  },
  {
   "cell_type": "code",
   "execution_count": 19,
   "metadata": {},
   "outputs": [
    {
     "data": {
      "text/plain": [
       "<function model_parameters.<lambda>(X, u, d)>"
      ]
     },
     "execution_count": 19,
     "metadata": {},
     "output_type": "execute_result"
    }
   ],
   "source": [
    "MP.daily_quota"
   ]
  },
  {
   "cell_type": "markdown",
   "metadata": {},
   "source": [
    "##### Channel capacity (9)\n",
    "$$\n",
    "\\sum_{c \\in C}\\sum_{u \\in U}{X_{cuhd}}\\le t_{hd},\\hspace{35pt} \\forall d \\in D,\\, \\forall h \\in H\n",
    "$$"
   ]
  },
  {
   "cell_type": "code",
   "execution_count": 20,
   "metadata": {},
   "outputs": [
    {
     "data": {
      "text/plain": [
       "<function model_parameters.<lambda>(X, h, d)>"
      ]
     },
     "execution_count": 20,
     "metadata": {},
     "output_type": "execute_result"
    }
   ],
   "source": [
    "MP.channel_capacity"
   ]
  },
  {
   "cell_type": "code",
   "execution_count": 21,
   "metadata": {},
   "outputs": [],
   "source": [
    "#The zero solution\n",
    "X_cuhd = np.zeros((MP.C,MP.U,MP.H,MP.D), dtype='int')"
   ]
  },
  {
   "cell_type": "markdown",
   "metadata": {},
   "source": [
    "## Model Definition"
   ]
  },
  {
   "cell_type": "code",
   "execution_count": 22,
   "metadata": {},
   "outputs": [],
   "source": [
    "c_i = 0\n",
    "u_i = 1\n",
    "h_i = 2\n",
    "d_i = 3\n",
    "\n",
    "mdl = model.Model([\n",
    "    model.Constraint('eligibility',MP.eligibility, (c_i, u_i, h_i, d_i,)),\n",
    "    model.Constraint('channel_capacity',MP.channel_capacity, (h_i, d_i,)),\n",
    "    model.Constraint('daily_limitation',MP.daily_limitation, (u_i, d_i,)),\n",
    "    model.Constraint('weekly_limitation',MP.weekly_limitation, (u_i,)),\n",
    "    model.Constraint('campaign_limitation',MP.campaign_limitation, (c_i, u_i,)),\n",
    "    model.Constraint('daily_quota',MP.daily_quota, (u_i, d_i,)),\n",
    "    model.Constraint('one_channel',MP.one_channel, (c_i, u_i, d_i,)),\n",
    "    model.Constraint('weekly_quota',MP.weekly_quota, (u_i,))\n",
    "], MP.objective_fn)"
   ]
  },
  {
   "cell_type": "markdown",
   "metadata": {},
   "source": [
    "### Genetic Algorithm Meta Parameters "
   ]
  },
  {
   "cell_type": "code",
   "execution_count": 25,
   "metadata": {},
   "outputs": [],
   "source": [
    "import operator\n",
    "import functools\n",
    "\n",
    "INDIV_SIZE = (MP.C,MP.U,MP.H,MP.D)\n",
    "INDIV_FLAT_SIZE = functools.reduce(operator.mul, INDIV_SIZE, 1)\n",
    "POP_SIZE = 100#functools.reduce(operator.mul, INDIV_SIZE, 1)\n",
    "GENERATION_SIZE = 100\n",
    "CROSSOVER_PROB = 0.6\n",
    "MUTATION_PROB = 0.01"
   ]
  },
  {
   "cell_type": "code",
   "execution_count": 26,
   "metadata": {},
   "outputs": [
    {
     "data": {
      "text/plain": [
       "((2, 10, 3, 7), 100)"
      ]
     },
     "execution_count": 26,
     "metadata": {},
     "output_type": "execute_result"
    }
   ],
   "source": [
    "(INDIV_SIZE, POP_SIZE)"
   ]
  },
  {
   "cell_type": "markdown",
   "metadata": {},
   "source": [
    "### Initialize Population"
   ]
  },
  {
   "cell_type": "code",
   "execution_count": 27,
   "metadata": {},
   "outputs": [],
   "source": [
    "def fn_initialize_population(population_size, individual_size):\n",
    "    #TODO take some kernel like matrix for randomization such as e_cu (the eligibility matrix)\n",
    "    #np.stack([np.stack([MP.e_cu]*3, axis=2)]*7, axis=3)\n",
    "    overall_size = tuple((population_size,)) + individual_size\n",
    "    return np.random.randint(2, size=overall_size)\n",
    "\n",
    "initial_population = fn_initialize_population(POP_SIZE, INDIV_SIZE)"
   ]
  },
  {
   "cell_type": "markdown",
   "metadata": {},
   "source": [
    "### Fitness"
   ]
  },
  {
   "cell_type": "code",
   "execution_count": 28,
   "metadata": {},
   "outputs": [],
   "source": [
    "import operator\n",
    "import functools\n",
    "\n",
    "def position_gene(j):\n",
    "    j_d_m = j%MP.D\n",
    "    j_d_r = j//MP.D\n",
    "    j_h_m = j_d_r%MP.H\n",
    "    j_h_r = j_d_r//MP.H\n",
    "    j_u_m = j_h_r%MP.U\n",
    "    j_u_r = j_h_r//MP.U\n",
    "    j_c_m = j_u_r%MP.C\n",
    "    j_c_r = j_u_r//MP.C\n",
    "    return (j_c_m,j_u_m,j_h_m,j_d_m)\n",
    "\n",
    "def fn_fitness_for_indiv(model, indiv):\n",
    "    dims = indiv.shape\n",
    "    rng = functools.reduce(operator.mul, dims, 1)\n",
    "    for j in range(rng):\n",
    "        if not model.execute(indiv, position_gene(j)):\n",
    "            return 0\n",
    "        else:\n",
    "            return model.calc_value(indiv)\n",
    "    \n",
    "def fn_fitness(model, population):\n",
    "    return [(fn_fitness_for_indiv(model, indiv), indiv) for indiv in population]\n",
    "\n",
    "population_with_fitness = sorted(fn_fitness(mdl, initial_population), key = lambda tup: tup[0])"
   ]
  },
  {
   "cell_type": "markdown",
   "metadata": {},
   "source": [
    "### Selection functions"
   ]
  },
  {
   "cell_type": "code",
   "execution_count": 29,
   "metadata": {},
   "outputs": [],
   "source": [
    "def __random_selection(size):\n",
    "    return tuple(np.random.randint(low=0, high=POP_SIZE, size=size))\n",
    "\n",
    "def __spin_wheel(fitnesses, sum_of_fitnesses):\n",
    "    pin_point = np.random.randint(low=0, high=sum_of_fitnesses)\n",
    "    fitness_index = 0\n",
    "    for index, fitness in enumerate(fitnesses):\n",
    "        pin_point = pin_point + fitness\n",
    "        if pin_point > sum_of_fitnesses:\n",
    "            return index\n",
    "    return index\n",
    "\n",
    "def roulettewheel_selection(population_with_fitness, size):\n",
    "    fitnesses = np.array([f for (f,i) in population_with_fitness])\n",
    "    sum_of_fitnesses = fitnesses.sum()\n",
    "    if sum_of_fitnesses == 0:\n",
    "        return __random_selection(size)\n",
    "    else:\n",
    "        return tuple([__spin_wheel(fitnesses, sum_of_fitnesses) for i in range(size)])\n",
    "\n",
    "def __tournament_match(population_with_fitness):\n",
    "    rivals = __random_selection(size=2)\n",
    "    return rivals[np.argmax([population_with_fitness[i][0] for i in rivals])]\n",
    "        \n",
    "def tournament_selection(population_with_fitness, size):\n",
    "    return tuple([__tournament_match(population_with_fitness) for i in range(size)])\n",
    "    \n",
    "def select(selection_method, size, population_with_fitness, count):\n",
    "    print(f\"selection with {selection_method}\")\n",
    "    for i in range(count):\n",
    "        yield np.array([population_with_fitness[i][1] for i in selection_method(population_with_fitness, size)])"
   ]
  },
  {
   "cell_type": "code",
   "execution_count": 30,
   "metadata": {},
   "outputs": [
    {
     "name": "stdout",
     "output_type": "stream",
     "text": [
      "selection with <function tournament_selection at 0x7fa5a4c557a0>\n"
     ]
    }
   ],
   "source": [
    "parents = np.stack([a for a in select(tournament_selection, 2,population_with_fitness, 100)])"
   ]
  },
  {
   "cell_type": "markdown",
   "metadata": {},
   "source": [
    "### Crossover"
   ]
  },
  {
   "cell_type": "code",
   "execution_count": 32,
   "metadata": {},
   "outputs": [],
   "source": [
    "def __swap(sw):\n",
    "    if sw ==0:\n",
    "        return 1\n",
    "    else:\n",
    "        return 0\n",
    "\n",
    "def __crossover(offspring, parent_index ,parents, crossover_points):\n",
    "    sw = 0\n",
    "    for s,e in crossover_points:\n",
    "        offspring[0].reshape(420)[s:e] = parents[parent_index,sw].reshape(INDIV_FLAT_SIZE)[s:e]\n",
    "        sw=__swap(sw)\n",
    "        offspring[1].reshape(420)[s:e] = parents[parent_index,sw].reshape(INDIV_FLAT_SIZE)[s:e]\n",
    "\n",
    "    \n",
    "def crossover(parents):\n",
    "    ll = [p for p in np.sort(np.random.randint(low=1, high=INDIV_FLAT_SIZE-1, size =4))]\n",
    "    crossover_points = list(zip([0]+ll,ll+[INDIV_FLAT_SIZE]))\n",
    "    offsprings = np.zeros(parents.shape, dtype='int')\n",
    "    for index, offspring in enumerate(offsprings):\n",
    "        __crossover(offspring, index ,parents, crossover_points)\n",
    "    return offsprings\n",
    "\n",
    "next_generation = crossover(parents)"
   ]
  },
  {
   "cell_type": "code",
   "execution_count": 37,
   "metadata": {},
   "outputs": [
    {
     "data": {
      "text/plain": [
       "(100, 2, 2, 10, 3, 7)"
      ]
     },
     "execution_count": 37,
     "metadata": {},
     "output_type": "execute_result"
    }
   ],
   "source": [
    "next_generation.shape"
   ]
  },
  {
   "cell_type": "code",
   "execution_count": 44,
   "metadata": {},
   "outputs": [
    {
     "data": {
      "text/plain": [
       "array([428, 408, 420, 420, 431, 426, 418, 430, 396, 407, 431, 413, 412,\n",
       "       436, 426, 444, 413, 429, 416, 412, 440, 423, 435, 407, 411, 407,\n",
       "       422, 413, 426, 426, 436, 427, 416, 435, 417, 416, 389, 398, 411,\n",
       "       429, 427, 420, 422, 427, 404, 416, 439, 430, 419, 438, 411, 411,\n",
       "       426, 427, 438, 416, 418, 415, 413, 441, 400, 425, 452, 426, 410,\n",
       "       405, 422, 416, 422, 407, 432, 405, 424, 429, 417, 431, 401, 415,\n",
       "       423, 420, 424, 410, 424, 418, 431, 403, 419, 423, 415, 428, 417,\n",
       "       398, 424, 415, 423, 410, 417, 416, 409, 405])"
      ]
     },
     "execution_count": 44,
     "metadata": {},
     "output_type": "execute_result"
    }
   ],
   "source": [
    "parents.sum(axis=(2,3,4,5)).sum(1)"
   ]
  },
  {
   "cell_type": "code",
   "execution_count": 43,
   "metadata": {},
   "outputs": [
    {
     "data": {
      "text/plain": [
       "array([428, 408, 420, 420, 431, 426, 418, 430, 396, 407, 431, 413, 412,\n",
       "       436, 426, 444, 413, 429, 416, 412, 440, 423, 435, 407, 411, 407,\n",
       "       422, 413, 426, 426, 436, 427, 416, 435, 417, 416, 389, 398, 411,\n",
       "       429, 427, 420, 422, 427, 404, 416, 439, 430, 419, 438, 411, 411,\n",
       "       426, 427, 438, 416, 418, 415, 413, 441, 400, 425, 452, 426, 410,\n",
       "       405, 422, 416, 422, 407, 432, 405, 424, 429, 417, 431, 401, 415,\n",
       "       423, 420, 424, 410, 424, 418, 431, 403, 419, 423, 415, 428, 417,\n",
       "       398, 424, 415, 423, 410, 417, 416, 409, 405])"
      ]
     },
     "execution_count": 43,
     "metadata": {},
     "output_type": "execute_result"
    }
   ],
   "source": [
    "next_generation.sum(axis=(2,3,4,5)).sum(1)"
   ]
  },
  {
   "cell_type": "markdown",
   "metadata": {},
   "source": [
    "### Mutation"
   ]
  }
 ],
 "metadata": {
  "kernelspec": {
   "display_name": "Python 3",
   "language": "python",
   "name": "python3"
  },
  "language_info": {
   "codemirror_mode": {
    "name": "ipython",
    "version": 3
   },
   "file_extension": ".py",
   "mimetype": "text/x-python",
   "name": "python",
   "nbconvert_exporter": "python",
   "pygments_lexer": "ipython3",
   "version": "3.7.9"
  }
 },
 "nbformat": 4,
 "nbformat_minor": 4
}
