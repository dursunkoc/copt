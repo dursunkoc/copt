{
 "cells": [
  {
   "cell_type": "code",
   "execution_count": 1,
   "metadata": {},
   "outputs": [],
   "source": [
    "import sys\n",
    "import os\n",
    "sys.path.insert(0, os.path.abspath('../src'))"
   ]
  },
  {
   "cell_type": "code",
   "execution_count": 2,
   "metadata": {},
   "outputs": [],
   "source": [
    "import numpy as np\n",
    "from tqdm import trange\n",
    "from tqdm import tqdm\n",
    "from docplex.mp.model import Model\n",
    "\n",
    "import model\n",
    "import model_parameters as MP"
   ]
  },
  {
   "cell_type": "markdown",
   "metadata": {},
   "source": [
    "## Mathematical Model"
   ]
  },
  {
   "cell_type": "markdown",
   "metadata": {},
   "source": [
    "#### Sets\n",
    "- C\tSet of campaigns.\n",
    "- U\tSet of customers.\n",
    "- H\tSet of channels\n",
    "- D\tSet of planning days.\n",
    "- I\tSet of quota categories.\n",
    "- P\tSet of priority categories.\n"
   ]
  },
  {
   "cell_type": "code",
   "execution_count": 3,
   "metadata": {},
   "outputs": [
    {
     "name": "stdout",
     "output_type": "stream",
     "text": [
      "number of campaigns 10\n",
      "number of customers 1000\n",
      "number of channels 3\n",
      "number of planning days 7\n",
      "number of quota categories 3\n",
      "number of priority categories 10\n"
     ]
    }
   ],
   "source": [
    "print(f\"number of campaigns {MP.C}\")\n",
    "print(f\"number of customers {MP.U}\")\n",
    "print(f\"number of channels {MP.H}\")\n",
    "print(f\"number of planning days {MP.D}\")\n",
    "print(f\"number of quota categories {MP.I}\")\n",
    "print(f\"number of priority categories {MP.P}\")"
   ]
  },
  {
   "cell_type": "markdown",
   "metadata": {},
   "source": [
    "#### Parameters"
   ]
  },
  {
   "cell_type": "markdown",
   "metadata": {},
   "source": [
    "##### - eligibility\n",
    "$$\n",
    "e_{cu}\\left\\{\\begin{array}\\\\\n",
    "        1 & \\mbox{if }  customer\\ u\\ is\\ eligible\\ for\\ campaign\\ c\\\\\n",
    "        0 & \\mbox{otherwise } \\\\\n",
    "    \\end{array}\n",
    "\\right.\n",
    "$$"
   ]
  },
  {
   "cell_type": "code",
   "execution_count": 4,
   "metadata": {},
   "outputs": [
    {
     "data": {
      "text/plain": [
       "array([[0, 0, 0, ..., 0, 1, 1],\n",
       "       [1, 1, 0, ..., 1, 1, 0],\n",
       "       [0, 1, 0, ..., 0, 1, 1],\n",
       "       ...,\n",
       "       [0, 0, 0, ..., 0, 0, 0],\n",
       "       [0, 0, 0, ..., 1, 1, 0],\n",
       "       [0, 0, 1, ..., 0, 1, 1]])"
      ]
     },
     "execution_count": 4,
     "metadata": {},
     "output_type": "execute_result"
    }
   ],
   "source": [
    "MP.e_cu"
   ]
  },
  {
   "cell_type": "markdown",
   "metadata": {},
   "source": [
    "##### - quota categories\n",
    "$$\n",
    "q_{ic}\\left\\{\\begin{array}\\\\\n",
    "        1 & \\mbox{if }  campaign\\ c\\ is\\ a\\ i^{th} type\\ quota\\ category\\ campaign\\ \\\\\n",
    "        0 & \\mbox{otherwise } \\\\\n",
    "    \\end{array}\n",
    "\\right.\n",
    "$$"
   ]
  },
  {
   "cell_type": "code",
   "execution_count": 5,
   "metadata": {},
   "outputs": [
    {
     "data": {
      "text/plain": [
       "array([[1, 0, 0, 1, 1, 1, 0, 0, 1, 1],\n",
       "       [1, 0, 0, 1, 0, 0, 0, 1, 1, 0],\n",
       "       [0, 0, 0, 0, 1, 1, 0, 1, 1, 0]])"
      ]
     },
     "execution_count": 5,
     "metadata": {},
     "output_type": "execute_result"
    }
   ],
   "source": [
    "MP.q_ic"
   ]
  },
  {
   "cell_type": "markdown",
   "metadata": {},
   "source": [
    "##### - priority categories\n",
    "$$r_{cp}: Priority\\ value\\ of\\ campaign\\ c\\ regarding\\ priority\\ type\\ p\\$$"
   ]
  },
  {
   "cell_type": "code",
   "execution_count": 6,
   "metadata": {},
   "outputs": [
    {
     "data": {
      "text/plain": [
       "array([41, 17, 22, 17, 33, 67, 33, 41, 17, 41])"
      ]
     },
     "execution_count": 6,
     "metadata": {},
     "output_type": "execute_result"
    }
   ],
   "source": [
    "MP.rp_c"
   ]
  },
  {
   "cell_type": "markdown",
   "metadata": {},
   "source": [
    "##### - blokage\n",
    "$$b: Communication\\ limit\\ per\\ person\\ for\\ the\\ whole\\ period\\$$"
   ]
  },
  {
   "cell_type": "code",
   "execution_count": 7,
   "metadata": {},
   "outputs": [
    {
     "data": {
      "text/plain": [
       "7"
      ]
     },
     "execution_count": 7,
     "metadata": {},
     "output_type": "execute_result"
    }
   ],
   "source": [
    "MP.b"
   ]
  },
  {
   "cell_type": "markdown",
   "metadata": {},
   "source": [
    "##### - daily blokage\n",
    "$$k: Communication\\ limit\\ per\\ person\\ at\\ each\\ day\\$$"
   ]
  },
  {
   "cell_type": "code",
   "execution_count": 8,
   "metadata": {},
   "outputs": [
    {
     "data": {
      "text/plain": [
       "3"
      ]
     },
     "execution_count": 8,
     "metadata": {},
     "output_type": "execute_result"
    }
   ],
   "source": [
    "MP.k"
   ]
  },
  {
   "cell_type": "markdown",
   "metadata": {},
   "source": [
    "##### - campaign blockage\n",
    "$$l_c: Communication\\ limit\\ per\\ person\\ for\\ campaign\\ c\\$$"
   ]
  },
  {
   "cell_type": "code",
   "execution_count": 9,
   "metadata": {},
   "outputs": [
    {
     "data": {
      "text/plain": [
       "array([2, 3, 4, 3, 2, 2, 4, 3, 3, 3])"
      ]
     },
     "execution_count": 9,
     "metadata": {},
     "output_type": "execute_result"
    }
   ],
   "source": [
    "MP.l_c"
   ]
  },
  {
   "cell_type": "markdown",
   "metadata": {},
   "source": [
    "##### - quota limitations daily/weekly\n",
    "$$\n",
    "m_i: Communication\\ limit\\ per\\ person\\ for\\ i^{th}\\ category\\\n",
    "$$\n",
    "$$\n",
    "n_i: Communication\\ limit\\ per\\ person\\ for\\ i^{th}\\ category\\ each\\ day\\\n",
    "$$"
   ]
  },
  {
   "cell_type": "code",
   "execution_count": 10,
   "metadata": {},
   "outputs": [
    {
     "data": {
      "text/plain": [
       "(array([4, 3, 4]), array([1, 1, 2]))"
      ]
     },
     "execution_count": 10,
     "metadata": {},
     "output_type": "execute_result"
    }
   ],
   "source": [
    "(MP.m_i, MP.n_i)"
   ]
  },
  {
   "cell_type": "markdown",
   "metadata": {},
   "source": [
    "#### - capacity for channel\n",
    "$$\n",
    "t_{h,d}: Capacity\\ for\\ channel\\ h\\ at\\ day\\ d.\\\n",
    "$$"
   ]
  },
  {
   "cell_type": "code",
   "execution_count": 11,
   "metadata": {},
   "outputs": [
    {
     "data": {
      "text/plain": [
       "array([[700., 700., 600., 500., 500., 700., 700.],\n",
       "       [600., 500., 500., 600., 700., 700., 500.],\n",
       "       [700., 500., 500., 500., 700., 500., 600.]])"
      ]
     },
     "execution_count": 11,
     "metadata": {},
     "output_type": "execute_result"
    }
   ],
   "source": [
    "MP.t_hd"
   ]
  },
  {
   "cell_type": "markdown",
   "metadata": {},
   "source": [
    "### Model"
   ]
  },
  {
   "cell_type": "code",
   "execution_count": 12,
   "metadata": {},
   "outputs": [],
   "source": [
    "mdl = Model(name='Campaign Optimization')"
   ]
  },
  {
   "cell_type": "markdown",
   "metadata": {},
   "source": [
    "#### Variables\n",
    "$$\n",
    "X_{cuhd}\\left\\{\\begin{array}\\\\\n",
    "        1 & \\mbox{if } Campaign\\ c\\ will\\ be\\ sent\\ to\\ customer\\ u\\ through\\ Channel\\ h\\ at\\ Day\\ d \\\\\n",
    "        0 & \\mbox{otherwise } \\\\\n",
    "    \\end{array}\n",
    "\\right.\n",
    "$$"
   ]
  },
  {
   "cell_type": "code",
   "execution_count": 13,
   "metadata": {},
   "outputs": [],
   "source": [
    "X_cuhd = {(c,u,h,d): mdl.binary_var(f\"X_c:{c}_u:{u}_h:{h}_d:{d}\")\n",
    "            for c in range(0,MP.C)\n",
    "            for u in range(0,MP.U) \n",
    "            for h in range(0,MP.H)\n",
    "            for d in range(0,MP.D)}"
   ]
  },
  {
   "cell_type": "markdown",
   "metadata": {},
   "source": [
    "## Maximize\n",
    "$$\\sum_{p \\in P}\\sum_{c \\in C}\\sum_{u \\in U}\\sum_{h \\in H}\\sum_{d \\in D}\\,X_{cuhd}\\ r_{cp}$$"
   ]
  },
  {
   "cell_type": "markdown",
   "metadata": {},
   "source": [
    "##### Binary variable (10)\n",
    "$$\n",
    "X_{cuhd} \\in \\{ 1,0 \\},\\hspace{35pt} \\forall c \\in C ,\\forall u \\in U,\\forall d \\in D, \\forall h \\in H\n",
    "$$"
   ]
  },
  {
   "cell_type": "code",
   "execution_count": 14,
   "metadata": {},
   "outputs": [],
   "source": [
    "maximize = mdl.maximize(mdl.sum([X_cuhd[(c,u,h,d)] * MP.rp_c[c]\n",
    "                  for c in range(0,MP.C)\n",
    "                  for u in range(0,MP.U) \n",
    "                  for h in range(0,MP.H) \n",
    "                  for d in range(0,MP.D)]))"
   ]
  },
  {
   "cell_type": "markdown",
   "metadata": {},
   "source": [
    "## subject to"
   ]
  },
  {
   "cell_type": "markdown",
   "metadata": {},
   "source": [
    "##### - eligibility (2)\n",
    "\n",
    "$$\n",
    "X_{cuhd}  \\leq e_{cu},\\hspace{35pt} \\forall c \\in C,\\forall u \\in U,\\forall h \\in H,\\forall d \\in D\n",
    "$$"
   ]
  },
  {
   "cell_type": "code",
   "execution_count": 15,
   "metadata": {},
   "outputs": [],
   "source": [
    "eligibilitiy = mdl.add_constraints(\n",
    "    (X_cuhd[(c,u,h,d)] <= MP.e_cu[c,u]\n",
    "    for c in range(0,MP.C)\n",
    "    for u in range(0,MP.U) \n",
    "    for h in range(0,MP.H) \n",
    "    for d in range(0,MP.D))\n",
    ")"
   ]
  },
  {
   "cell_type": "markdown",
   "metadata": {},
   "source": [
    "##### - use one channel (3)\n",
    "$$\n",
    "\\sum_{h}X_{cuhd} \\le 1,\\hspace{35pt} \\forall c \\in C \\, \\forall u \\in U,\\forall d \\in D\n",
    "$$"
   ]
  },
  {
   "cell_type": "code",
   "execution_count": 16,
   "metadata": {},
   "outputs": [],
   "source": [
    "one_channel = mdl.add_constraints(\n",
    "    ((mdl.sum(X_cuhd[(c,u,h,d)] for h in range(0,MP.H)) <= 1)\n",
    "    for c in range(0,MP.C)\n",
    "    for u in range(0,MP.U) \n",
    "    for d in range(0,MP.D))\n",
    ")"
   ]
  },
  {
   "cell_type": "markdown",
   "metadata": {},
   "source": [
    "##### - weekly communication limitation (4)\n",
    "$$\n",
    "\\sum_{h \\in H}\\sum_{c \\in C}\\sum_{d \\in D} X_{cuhd}\\le b,\\hspace{35pt} \\forall u \\in U\n",
    "$$"
   ]
  },
  {
   "cell_type": "code",
   "execution_count": 17,
   "metadata": {},
   "outputs": [],
   "source": [
    "weekly_communication = mdl.add_constraints(\n",
    "    (\n",
    "        (mdl.sum(X_cuhd[(c,u,h,d)] \n",
    "               for d in range(0,MP.D) \n",
    "               for c in range(0,MP.C) \n",
    "               for h in range(0,MP.H)) <= MP.b)\n",
    "        for u in range(0,MP.U)))"
   ]
  },
  {
   "cell_type": "markdown",
   "metadata": {},
   "source": [
    "##### - daily communication limitation (5)\n",
    "$$\n",
    "\\sum_{h \\in H}\\sum_{c \\in C} X_{cuhd}\\le k,\\hspace{35pt} \\forall u \\in U, \\forall d \\in D\n",
    "$$"
   ]
  },
  {
   "cell_type": "code",
   "execution_count": 18,
   "metadata": {},
   "outputs": [],
   "source": [
    "daily_communication = mdl.add_constraints(\n",
    "    (\n",
    "        (mdl.sum(X_cuhd[(c,u,h,d)]  \n",
    "               for c in range(0,MP.C) \n",
    "               for h in range(0,MP.H)) <= MP.k)\n",
    "        for d in range(0,MP.D)\n",
    "        for u in range(0,MP.U)))"
   ]
  },
  {
   "cell_type": "markdown",
   "metadata": {},
   "source": [
    "##### - campaign communication limit(6)\n",
    "$$\n",
    "\\sum_{d \\in D}\\sum_{h \\in H} X_{cuhd}\\le l_c,\\hspace{35pt} \\forall c \\in C,\\forall u \\in U;\n",
    "$$"
   ]
  },
  {
   "cell_type": "code",
   "execution_count": 19,
   "metadata": {},
   "outputs": [],
   "source": [
    "campaign_communication = mdl.add_constraints(\n",
    "    (\n",
    "        (mdl.sum(X_cuhd[(c,u,h,d)]  \n",
    "               for h in range(0,MP.H) \n",
    "               for d in range(0,MP.D)) <= MP.l_c[c] )\n",
    "        for c in range(0,MP.C)\n",
    "        for u in range(0,MP.U)))"
   ]
  },
  {
   "cell_type": "markdown",
   "metadata": {},
   "source": [
    "##### - weekly quota(7)\n",
    "$$\n",
    "\\sum_{d \\in D}\\sum_{h \\in H}\\sum_{c \\in C}{X_{cuhd} q_{ic}}\\le m_i,\\hspace{35pt} \\forall u \\in U, \\forall i \\in I\n",
    "$$"
   ]
  },
  {
   "cell_type": "code",
   "execution_count": 20,
   "metadata": {},
   "outputs": [],
   "source": [
    "weekly_quota = mdl.add_constraints(\n",
    "    (\n",
    "        (mdl.sum(X_cuhd[(c,u,h,d)]*MP.q_ic[i,c]\n",
    "               for c in range(0,MP.C)\n",
    "               for h in range(0,MP.H) \n",
    "               for d in range(0,MP.D)) <= MP.m_i[i])\n",
    "        for u in range(0,MP.U)\n",
    "        for i in range(0,MP.I)))"
   ]
  },
  {
   "cell_type": "markdown",
   "metadata": {},
   "source": [
    "##### - daily quota(8)\n",
    "$$\n",
    "\\sum_{h \\in H}\\sum_{c \\in C}{X_{cuhd} q_{ic}}\\le n_i,\\hspace{35pt} \\forall u \\in U,\\, \\forall d \\in D, \\forall i \\in I\n",
    "$$"
   ]
  },
  {
   "cell_type": "code",
   "execution_count": 21,
   "metadata": {},
   "outputs": [],
   "source": [
    "daily_quota = mdl.add_constraints(\n",
    "    (\n",
    "        (mdl.sum(X_cuhd[(c,u,h,d)]*MP.q_ic[i,c]\n",
    "               for c in range(0,MP.C) \n",
    "               for h in range(0,MP.H)) <= MP.n_i[i])\n",
    "        for u in range(0,MP.U)\n",
    "        for d in range(0,MP.D)\n",
    "        for i in range(0,MP.I)))"
   ]
  },
  {
   "cell_type": "markdown",
   "metadata": {},
   "source": [
    "##### Channel capacity (9)\n",
    "$$\n",
    "\\sum_{c \\in C}\\sum_{u \\in U}{X_{cuhd}}\\le t_{hd},\\hspace{35pt} \\forall d \\in D,\\, \\forall h \\in H\n",
    "$$"
   ]
  },
  {
   "cell_type": "code",
   "execution_count": 22,
   "metadata": {},
   "outputs": [],
   "source": [
    "channel_capacity = mdl.add_constraints(\n",
    "    (\n",
    "        (mdl.sum(X_cuhd[(c,u,h,d)]\n",
    "               for u in range(0,MP.U) \n",
    "               for c in range(0,MP.C)) <= MP.t_hd[h,d])\n",
    "        for h in range(0,MP.H)\n",
    "        for d in range(0,MP.D)))"
   ]
  },
  {
   "cell_type": "markdown",
   "metadata": {},
   "source": [
    "### Solution"
   ]
  },
  {
   "cell_type": "code",
   "execution_count": 23,
   "metadata": {},
   "outputs": [
    {
     "name": "stdout",
     "output_type": "stream",
     "text": [
      "Version identifier: 20.1.0.0 | 2020-11-10 | 9bedb6d68\n",
      "CPXPARAM_Read_DataCheck                          1\n",
      "CPXPARAM_RandomSeed                              202001241\n",
      "CPXPARAM_TimeLimit                               600\n",
      "Found incumbent of value 0.000000 after 0.02 sec. (7.10 ticks)\n",
      "Tried aggregator 1 time.\n",
      "MIP Presolve eliminated 293504 rows and 116760 columns.\n",
      "MIP Presolve modified 882 coefficients.\n",
      "Reduced MIP has 28517 rows, 93240 columns, and 483210 nonzeros.\n",
      "Reduced MIP has 93240 binaries, 0 generals, 0 SOSs, and 0 indicators.\n",
      "Presolve time = 1.22 sec. (633.13 ticks)\n",
      "Probing time = 0.22 sec. (23.40 ticks)\n",
      "Tried aggregator 1 time.\n",
      "Detecting symmetries...\n",
      "MIP Presolve eliminated 58 rows and 42 columns.\n",
      "Reduced MIP has 28459 rows, 93198 columns, and 481698 nonzeros.\n",
      "Reduced MIP has 93198 binaries, 0 generals, 0 SOSs, and 0 indicators.\n",
      "Presolve time = 1.40 sec. (480.29 ticks)\n",
      "Probing time = 0.24 sec. (23.26 ticks)\n",
      "Clique table members: 20272.\n",
      "MIP emphasis: balance optimality and feasibility.\n",
      "MIP search method: dynamic search.\n",
      "Parallel mode: deterministic, using up to 4 threads.\n",
      "Root relaxation solution time = 2.20 sec. (863.42 ticks)\n",
      "\n",
      "        Nodes                                         Cuts/\n",
      "   Node  Left     Objective  IInf  Best Integer    Best Bound    ItCnt     Gap\n",
      "\n",
      "*     0+    0                            0.0000  3219741.0000              --- \n",
      "      0     0   262258.5000   105        0.0000   262258.5000       14     --- \n",
      "*     0+    0                       262149.0000   262258.5000             0.04%\n",
      "      0     0        cutoff         262149.0000                     43     --- \n",
      "Elapsed time = 9.70 sec. (3386.12 ticks, tree = 0.01 MB, solutions = 2)\n",
      "\n",
      "Zero-half cuts applied:  23\n",
      "Lift and project cuts applied:  3\n",
      "Gomory fractional cuts applied:  7\n",
      "\n",
      "Root node processing (before b&c):\n",
      "  Real time             =    9.78 sec. (3393.86 ticks)\n",
      "Parallel b&c, 4 threads:\n",
      "  Real time             =    0.00 sec. (0.00 ticks)\n",
      "  Sync time (average)   =    0.00 sec.\n",
      "  Wait time (average)   =    0.00 sec.\n",
      "                          ------------\n",
      "Total (root+branch&cut) =    9.78 sec. (3393.86 ticks)\n",
      "CPU times: user 12.2 s, sys: 994 ms, total: 13.2 s\n",
      "Wall time: 10.6 s\n"
     ]
    }
   ],
   "source": [
    "%%time\n",
    "\n",
    "solution = mdl.solve(log_output=True, time_limit=600)\n",
    "#solution = mdl.solve(log_output=True)"
   ]
  },
  {
   "cell_type": "code",
   "execution_count": 24,
   "metadata": {},
   "outputs": [
    {
     "data": {
      "text/plain": [
       "262149.0"
      ]
     },
     "execution_count": 24,
     "metadata": {},
     "output_type": "execute_result"
    }
   ],
   "source": [
    "solution.objective_value"
   ]
  },
  {
   "cell_type": "code",
   "execution_count": 25,
   "metadata": {},
   "outputs": [
    {
     "data": {
      "text/plain": [
       "6658.0"
      ]
     },
     "execution_count": 25,
     "metadata": {},
     "output_type": "execute_result"
    }
   ],
   "source": [
    "solution.as_df().sum()[\"value\"]"
   ]
  },
  {
   "cell_type": "code",
   "execution_count": 26,
   "metadata": {},
   "outputs": [
    {
     "name": "stderr",
     "output_type": "stream",
     "text": [
      "Campaigns Loop:   0%|          | 0/10 [00:00<?, ?it/s]\n",
      "Days Loop for campaign-0:   0%|          | 0/7 [00:00<?, ?it/s]\u001b[A\n",
      "Days Loop for campaign-0: 100%|██████████| 7/7 [00:00<00:00, 47.90it/s]\u001b[A\n",
      "Campaigns Loop:  10%|█         | 1/10 [00:00<00:01,  6.65it/s]\n",
      "Days Loop for campaign-1: 100%|██████████| 7/7 [00:00<00:00, 79.27it/s]\n",
      "\n",
      "Days Loop for campaign-2:   0%|          | 0/7 [00:00<?, ?it/s]\u001b[A\n",
      "Days Loop for campaign-2: 100%|██████████| 7/7 [00:00<00:00, 47.21it/s]\u001b[A\n",
      "Campaigns Loop:  30%|███       | 3/10 [00:00<00:00,  7.63it/s]\n",
      "Days Loop for campaign-3: 100%|██████████| 7/7 [00:00<00:00, 160.16it/s]\n",
      "\n",
      "Days Loop for campaign-4: 100%|██████████| 7/7 [00:00<00:00, 79.18it/s]\n",
      "Campaigns Loop:  50%|█████     | 5/10 [00:00<00:00,  9.94it/s]\n",
      "Days Loop for campaign-5:   0%|          | 0/7 [00:00<?, ?it/s]\u001b[A\n",
      "Days Loop for campaign-5:  43%|████▎     | 3/7 [00:00<00:00, 27.29it/s]\u001b[A\n",
      "Days Loop for campaign-5: 100%|██████████| 7/7 [00:00<00:00, 30.38it/s]\u001b[A\n",
      "\n",
      "Days Loop for campaign-6:   0%|          | 0/7 [00:00<?, ?it/s]\u001b[A\n",
      "Days Loop for campaign-6:  29%|██▊       | 2/7 [00:00<00:00, 18.13it/s]\u001b[A\n",
      "Days Loop for campaign-6:  57%|█████▋    | 4/7 [00:00<00:00, 14.78it/s]\u001b[A\n",
      "Days Loop for campaign-6: 100%|██████████| 7/7 [00:00<00:00, 16.23it/s]\u001b[A\n",
      "Campaigns Loop:  70%|███████   | 7/10 [00:01<00:00,  5.00it/s]\n",
      "Days Loop for campaign-7:   0%|          | 0/7 [00:00<?, ?it/s]\u001b[A\n",
      "Days Loop for campaign-7:  29%|██▊       | 2/7 [00:00<00:00, 19.06it/s]\u001b[A\n",
      "Days Loop for campaign-7: 100%|██████████| 7/7 [00:00<00:00, 25.62it/s]\u001b[A\n",
      "Campaigns Loop:  80%|████████  | 8/10 [00:01<00:00,  4.57it/s]\n",
      "Days Loop for campaign-8: 100%|██████████| 7/7 [00:00<00:00, 184.22it/s]\n",
      "\n",
      "Days Loop for campaign-9:   0%|          | 0/7 [00:00<?, ?it/s]\u001b[A\n",
      "Days Loop for campaign-9:  29%|██▊       | 2/7 [00:00<00:00, 10.93it/s]\u001b[A\n",
      "Days Loop for campaign-9:  57%|█████▋    | 4/7 [00:00<00:00, 13.22it/s]\u001b[A\n",
      "Days Loop for campaign-9: 100%|██████████| 7/7 [00:00<00:00, 16.82it/s]\u001b[A\n",
      "Campaigns Loop: 100%|██████████| 10/10 [00:01<00:00,  5.05it/s]\n",
      "Campaigns Loop:   0%|          | 0/10 [00:00<?, ?it/s]\n",
      "Days Loop for campaign-0:   0%|          | 0/7 [00:00<?, ?it/s]\u001b[A"
     ]
    },
    {
     "name": "stdout",
     "output_type": "stream",
     "text": [
      "Solution is consistent with greedy from mip respect\n"
     ]
    },
    {
     "name": "stderr",
     "output_type": "stream",
     "text": [
      "\n",
      "Days Loop for campaign-0:  14%|█▍        | 1/7 [00:00<00:01,  3.78it/s]\u001b[A\n",
      "Days Loop for campaign-0:  29%|██▊       | 2/7 [00:00<00:01,  4.90it/s]\u001b[A\n",
      "Days Loop for campaign-0:  43%|████▎     | 3/7 [00:00<00:00,  5.85it/s]\u001b[A\n",
      "Days Loop for campaign-0:  57%|█████▋    | 4/7 [00:00<00:00,  6.29it/s]\u001b[A\n",
      "Days Loop for campaign-0:  71%|███████▏  | 5/7 [00:00<00:00,  6.63it/s]\u001b[A\n",
      "Days Loop for campaign-0:  86%|████████▌ | 6/7 [00:00<00:00,  6.83it/s]\u001b[A\n",
      "Days Loop for campaign-0: 100%|██████████| 7/7 [00:01<00:00,  6.34it/s]\u001b[A\n",
      "Campaigns Loop:  10%|█         | 1/10 [00:01<00:10,  1.12s/it]\n",
      "Days Loop for campaign-1:   0%|          | 0/7 [00:00<?, ?it/s]\u001b[A\n",
      "Days Loop for campaign-1:  14%|█▍        | 1/7 [00:00<00:00,  6.93it/s]\u001b[A\n",
      "Days Loop for campaign-1:  29%|██▊       | 2/7 [00:00<00:00,  7.53it/s]\u001b[A\n",
      "Days Loop for campaign-1:  43%|████▎     | 3/7 [00:00<00:00,  7.83it/s]\u001b[A\n",
      "Days Loop for campaign-1:  57%|█████▋    | 4/7 [00:00<00:00,  7.62it/s]\u001b[A\n",
      "Days Loop for campaign-1:  71%|███████▏  | 5/7 [00:00<00:00,  7.40it/s]\u001b[A\n",
      "Days Loop for campaign-1:  86%|████████▌ | 6/7 [00:00<00:00,  6.81it/s]\u001b[A\n",
      "Days Loop for campaign-1: 100%|██████████| 7/7 [00:01<00:00,  6.98it/s]\u001b[A\n",
      "Campaigns Loop:  20%|██        | 2/10 [00:02<00:08,  1.05s/it]\n",
      "Days Loop for campaign-2:   0%|          | 0/7 [00:00<?, ?it/s]\u001b[A\n",
      "Days Loop for campaign-2:  14%|█▍        | 1/7 [00:00<00:01,  5.57it/s]\u001b[A\n",
      "Days Loop for campaign-2:  29%|██▊       | 2/7 [00:00<00:00,  6.22it/s]\u001b[A\n",
      "Days Loop for campaign-2:  43%|████▎     | 3/7 [00:00<00:00,  7.06it/s]\u001b[A\n",
      "Days Loop for campaign-2:  57%|█████▋    | 4/7 [00:00<00:00,  7.06it/s]\u001b[A\n",
      "Days Loop for campaign-2:  71%|███████▏  | 5/7 [00:00<00:00,  7.29it/s]\u001b[A\n",
      "Days Loop for campaign-2:  86%|████████▌ | 6/7 [00:00<00:00,  7.43it/s]\u001b[A\n",
      "Days Loop for campaign-2: 100%|██████████| 7/7 [00:00<00:00,  7.23it/s]\u001b[A\n",
      "Campaigns Loop:  30%|███       | 3/10 [00:03<00:07,  1.02s/it]\n",
      "Days Loop for campaign-3:   0%|          | 0/7 [00:00<?, ?it/s]\u001b[A\n",
      "Days Loop for campaign-3:  14%|█▍        | 1/7 [00:00<00:00,  6.51it/s]\u001b[A\n",
      "Days Loop for campaign-3:  29%|██▊       | 2/7 [00:00<00:00,  6.75it/s]\u001b[A\n",
      "Days Loop for campaign-3:  43%|████▎     | 3/7 [00:00<00:00,  7.38it/s]\u001b[A\n",
      "Days Loop for campaign-3:  57%|█████▋    | 4/7 [00:00<00:00,  7.17it/s]\u001b[A\n",
      "Days Loop for campaign-3:  71%|███████▏  | 5/7 [00:00<00:00,  6.27it/s]\u001b[A\n",
      "Days Loop for campaign-3:  86%|████████▌ | 6/7 [00:00<00:00,  6.32it/s]\u001b[A\n",
      "Days Loop for campaign-3: 100%|██████████| 7/7 [00:01<00:00,  6.58it/s]\u001b[A\n",
      "Campaigns Loop:  40%|████      | 4/10 [00:04<00:06,  1.05s/it]\n",
      "Days Loop for campaign-4:   0%|          | 0/7 [00:00<?, ?it/s]\u001b[A\n",
      "Days Loop for campaign-4:  14%|█▍        | 1/7 [00:00<00:00,  6.98it/s]\u001b[A\n",
      "Days Loop for campaign-4:  29%|██▊       | 2/7 [00:00<00:00,  7.43it/s]\u001b[A\n",
      "Days Loop for campaign-4:  43%|████▎     | 3/7 [00:00<00:00,  7.55it/s]\u001b[A\n",
      "Days Loop for campaign-4:  57%|█████▋    | 4/7 [00:00<00:00,  7.22it/s]\u001b[A\n",
      "Days Loop for campaign-4:  71%|███████▏  | 5/7 [00:00<00:00,  7.30it/s]\u001b[A\n",
      "Days Loop for campaign-4:  86%|████████▌ | 6/7 [00:00<00:00,  7.30it/s]\u001b[A\n",
      "Days Loop for campaign-4: 100%|██████████| 7/7 [00:00<00:00,  7.32it/s]\u001b[A\n",
      "Campaigns Loop:  50%|█████     | 5/10 [00:05<00:05,  1.02s/it]\n",
      "Days Loop for campaign-5:   0%|          | 0/7 [00:00<?, ?it/s]\u001b[A\n",
      "Days Loop for campaign-5:  14%|█▍        | 1/7 [00:00<00:00,  7.44it/s]\u001b[A\n",
      "Days Loop for campaign-5:  29%|██▊       | 2/7 [00:00<00:00,  7.78it/s]\u001b[A\n",
      "Days Loop for campaign-5:  43%|████▎     | 3/7 [00:00<00:00,  8.40it/s]\u001b[A\n",
      "Days Loop for campaign-5:  57%|█████▋    | 4/7 [00:00<00:00,  8.03it/s]\u001b[A\n",
      "Days Loop for campaign-5:  71%|███████▏  | 5/7 [00:00<00:00,  7.45it/s]\u001b[A\n",
      "Days Loop for campaign-5:  86%|████████▌ | 6/7 [00:00<00:00,  7.73it/s]\u001b[A\n",
      "Days Loop for campaign-5: 100%|██████████| 7/7 [00:00<00:00,  7.79it/s]\u001b[A\n",
      "Campaigns Loop:  60%|██████    | 6/10 [00:06<00:03,  1.02it/s]\n",
      "Days Loop for campaign-6:   0%|          | 0/7 [00:00<?, ?it/s]\u001b[A\n",
      "Days Loop for campaign-6:  14%|█▍        | 1/7 [00:00<00:00,  7.93it/s]\u001b[A\n",
      "Days Loop for campaign-6:  29%|██▊       | 2/7 [00:00<00:00,  8.17it/s]\u001b[A\n",
      "Days Loop for campaign-6:  43%|████▎     | 3/7 [00:00<00:00,  8.80it/s]\u001b[A\n",
      "Days Loop for campaign-6:  57%|█████▋    | 4/7 [00:00<00:00,  8.88it/s]\u001b[A\n",
      "Days Loop for campaign-6:  71%|███████▏  | 5/7 [00:00<00:00,  7.84it/s]\u001b[A\n",
      "Days Loop for campaign-6:  86%|████████▌ | 6/7 [00:00<00:00,  7.34it/s]\u001b[A\n",
      "Days Loop for campaign-6: 100%|██████████| 7/7 [00:00<00:00,  7.42it/s]\u001b[A\n",
      "Campaigns Loop:  70%|███████   | 7/10 [00:07<00:02,  1.03it/s]\n",
      "Days Loop for campaign-7:   0%|          | 0/7 [00:00<?, ?it/s]\u001b[A\n",
      "Days Loop for campaign-7:  14%|█▍        | 1/7 [00:00<00:01,  5.80it/s]\u001b[A\n",
      "Days Loop for campaign-7:  29%|██▊       | 2/7 [00:00<00:00,  7.55it/s]\u001b[A\n",
      "Days Loop for campaign-7:  43%|████▎     | 3/7 [00:00<00:00,  6.66it/s]\u001b[A\n",
      "Days Loop for campaign-7:  57%|█████▋    | 4/7 [00:00<00:00,  6.16it/s]\u001b[A\n",
      "Days Loop for campaign-7:  71%|███████▏  | 5/7 [00:00<00:00,  6.38it/s]\u001b[A\n",
      "Days Loop for campaign-7:  86%|████████▌ | 6/7 [00:00<00:00,  6.82it/s]\u001b[A\n",
      "Days Loop for campaign-7: 100%|██████████| 7/7 [00:01<00:00,  6.80it/s]\u001b[A\n",
      "Campaigns Loop:  80%|████████  | 8/10 [00:08<00:01,  1.01it/s]\n",
      "Days Loop for campaign-8:   0%|          | 0/7 [00:00<?, ?it/s]\u001b[A\n",
      "Days Loop for campaign-8:  14%|█▍        | 1/7 [00:00<00:00,  6.61it/s]\u001b[A\n",
      "Days Loop for campaign-8:  29%|██▊       | 2/7 [00:00<00:00,  6.90it/s]\u001b[A\n",
      "Days Loop for campaign-8:  43%|████▎     | 3/7 [00:00<00:00,  7.29it/s]\u001b[A\n",
      "Days Loop for campaign-8:  57%|█████▋    | 4/7 [00:00<00:00,  7.12it/s]\u001b[A\n",
      "Days Loop for campaign-8:  71%|███████▏  | 5/7 [00:00<00:00,  6.91it/s]\u001b[A\n",
      "Days Loop for campaign-8:  86%|████████▌ | 6/7 [00:00<00:00,  7.02it/s]\u001b[A\n",
      "Days Loop for campaign-8: 100%|██████████| 7/7 [00:01<00:00,  7.00it/s]\u001b[A\n",
      "Campaigns Loop:  90%|█████████ | 9/10 [00:09<00:00,  1.00it/s]\n",
      "Days Loop for campaign-9:   0%|          | 0/7 [00:00<?, ?it/s]\u001b[A\n",
      "Days Loop for campaign-9:  14%|█▍        | 1/7 [00:00<00:00,  7.46it/s]\u001b[A\n",
      "Days Loop for campaign-9:  29%|██▊       | 2/7 [00:00<00:00,  8.30it/s]\u001b[A\n",
      "Days Loop for campaign-9:  43%|████▎     | 3/7 [00:00<00:00,  8.57it/s]\u001b[A\n",
      "Days Loop for campaign-9:  57%|█████▋    | 4/7 [00:00<00:00,  8.67it/s]\u001b[A\n",
      "Days Loop for campaign-9:  71%|███████▏  | 5/7 [00:00<00:00,  8.18it/s]\u001b[A\n",
      "Days Loop for campaign-9:  86%|████████▌ | 6/7 [00:00<00:00,  8.04it/s]\u001b[A\n",
      "Days Loop for campaign-9: 100%|██████████| 7/7 [00:00<00:00,  8.03it/s]\u001b[A\n",
      "Campaigns Loop: 100%|██████████| 10/10 [00:09<00:00,  1.01it/s]"
     ]
    },
    {
     "name": "stdout",
     "output_type": "stream",
     "text": [
      "Solution is consistent with greedy from greedy respect\n",
      "Solution value (262149) is consistent with greedy\n",
      "Solution communication count (6658) is consistent with greedy\n"
     ]
    },
    {
     "name": "stderr",
     "output_type": "stream",
     "text": [
      "\n"
     ]
    }
   ],
   "source": [
    "X_cuhd2 = np.zeros((MP.C,MP.U,MP.H,MP.D), dtype='int')\n",
    "for ky,_ in solution.as_name_dict().items():\n",
    "    exec(f'X_cuhd2{[int(i.split(\":\")[1]) for i in ky.split(\"_\")[1:]]} = 1', {}, {'X_cuhd2':X_cuhd2})\n",
    "\n",
    "c_i = 0\n",
    "u_i = 1\n",
    "h_i = 2\n",
    "d_i = 3\n",
    "\n",
    "mdl = model.Model([\n",
    "    model.Constraint('eligibility',MP.eligibility, (c_i, u_i, h_i, d_i,)),\n",
    "    model.Constraint('channel_capacity',MP.channel_capacity, (h_i, d_i,)),\n",
    "    model.Constraint('daily_limitation',MP.daily_limitation, (u_i, d_i,)),\n",
    "    model.Constraint('weekly_limitation',MP.weekly_limitation, (u_i,)),\n",
    "    model.Constraint('campaign_limitation',MP.campaign_limitation, (c_i, u_i,)),\n",
    "    model.Constraint('daily_quota',MP.daily_quota, (u_i, d_i,)),\n",
    "    model.Constraint('one_channel',MP.one_channel, (c_i, u_i, d_i,)),\n",
    "    model.Constraint('weekly_quota',MP.weekly_quota, (u_i,))\n",
    "], MP.objective_fn)\n",
    "\n",
    "def validate():\n",
    "    for c in trange(MP.C, desc=\"Campaigns Loop\"):\n",
    "        for d in trange(MP.D, desc=f\"Days Loop for campaign-{c}\"):\n",
    "            for h in range(MP.H):\n",
    "                for u in range(MP.U):\n",
    "                    if X_cuhd2[c,u,h,d]==1 and not mdl.execute(X_cuhd2, (c, u, h, d)):\n",
    "                        raise RuntimeError(f'{(c, u, h, d)} does not consistent with previous values!')\n",
    "    print(\"Solution is consistent with greedy from mip respect\")\n",
    "    \n",
    "def anti_validate():\n",
    "    for c in trange(MP.C, desc=\"Campaigns Loop\"):\n",
    "        for d in trange(MP.D, desc=f\"Days Loop for campaign-{c}\"):\n",
    "            for h in range(MP.H):\n",
    "                for u in range(MP.U):\n",
    "                    if X_cuhd2[c,u,h,d]==0:\n",
    "                        X_cuhd2[c,u,h,d]=1\n",
    "                        if mdl.execute(X_cuhd2, (c, u, h, d)):\n",
    "                            raise RuntimeError(f'{(c, u, h, d)} should failed')\n",
    "                        else:\n",
    "                            X_cuhd2[c,u,h,d]=0\n",
    "    print(\"Solution is consistent with greedy from greedy respect\")\n",
    "\n",
    "validate()\n",
    "anti_validate()\n",
    "\n",
    "model_value = mdl.calc_value(X_cuhd2)\n",
    "model_comm_count = X_cuhd2.sum()\n",
    "\n",
    "if (solution.objective_value == model_value):\n",
    "    print(f\"Solution value ({model_value}) is consistent with greedy\")\n",
    "else:\n",
    "    print(f\"Solution value ({model_value}) is not consistent with greedy\")\n",
    "    \n",
    "if (solution.as_df().sum()[\"value\"] == model_comm_count):\n",
    "    print(f\"Solution communication count ({model_comm_count}) is consistent with greedy\")\n",
    "else:\n",
    "    print(f\"Solution communication count ({model_comm_count}) is consistent with greedy\")"
   ]
  }
 ],
 "metadata": {
  "kernelspec": {
   "display_name": "Python 3",
   "language": "python",
   "name": "python3"
  },
  "language_info": {
   "codemirror_mode": {
    "name": "ipython",
    "version": 3
   },
   "file_extension": ".py",
   "mimetype": "text/x-python",
   "name": "python",
   "nbconvert_exporter": "python",
   "pygments_lexer": "ipython3",
   "version": "3.7.9"
  }
 },
 "nbformat": 4,
 "nbformat_minor": 4
}
