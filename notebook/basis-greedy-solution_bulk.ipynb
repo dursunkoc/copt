{
 "cells": [
  {
   "cell_type": "code",
   "execution_count": 1,
   "metadata": {},
   "outputs": [],
   "source": [
    "import sys\n",
    "import os\n",
    "sys.path.insert(0, os.path.abspath('../src'))"
   ]
  },
  {
   "cell_type": "code",
   "execution_count": 2,
   "metadata": {},
   "outputs": [],
   "source": [
    "import numpy as np\n",
    "from tqdm.notebook import trange\n",
    "from tqdm.notebook import tqdm\n",
    "from call_ledger import timer as T\n",
    "\n",
    "np.random.seed(13)"
   ]
  },
  {
   "cell_type": "markdown",
   "metadata": {},
   "source": [
    "## Mathematical Model"
   ]
  },
  {
   "cell_type": "markdown",
   "metadata": {},
   "source": [
    "#### Sets\n",
    "- C\tSet of campaigns.\n",
    "- U\tSet of customers.\n",
    "- H\tSet of channels\n",
    "- D\tSet of planning days.\n",
    "- I\tSet of quota categories.\n",
    "- P\tSet of priority categories.\n"
   ]
  },
  {
   "cell_type": "code",
   "execution_count": 3,
   "metadata": {},
   "outputs": [],
   "source": [
    "C = 10 # number of campaigns\n",
    "U = 5000 # number of customers.\n",
    "H = 4 # number of channels.\n",
    "D = 7 # number of planning days.\n",
    "I = 3 # number of quota categories.\n",
    "P = 10 # number of priority categories."
   ]
  },
  {
   "cell_type": "markdown",
   "metadata": {},
   "source": [
    "#### Parameters"
   ]
  },
  {
   "cell_type": "markdown",
   "metadata": {},
   "source": [
    "##### - eligibility\n",
    "$$\n",
    "e_{cu}\\left\\{\\begin{array}\\\\\n",
    "        1 & \\mbox{if }  customer\\ u\\ is\\ eligible\\ for\\ campaign\\ c\\\\\n",
    "        0 & \\mbox{otherwise } \\\\\n",
    "    \\end{array}\n",
    "\\right.\n",
    "$$"
   ]
  },
  {
   "cell_type": "code",
   "execution_count": 4,
   "metadata": {},
   "outputs": [
    {
     "data": {
      "text/plain": [
       "array([[0, 0, 0, ..., 1, 0, 1],\n",
       "       [0, 1, 0, ..., 0, 1, 1],\n",
       "       [1, 0, 0, ..., 0, 1, 1],\n",
       "       ...,\n",
       "       [1, 0, 1, ..., 0, 0, 1],\n",
       "       [0, 0, 0, ..., 0, 0, 1],\n",
       "       [1, 0, 0, ..., 1, 1, 0]])"
      ]
     },
     "execution_count": 4,
     "metadata": {},
     "output_type": "execute_result"
    }
   ],
   "source": [
    "e_cu = np.random.choice(2,(C, U))\n",
    "#e_cu = np.ones((C, U), dtype='int8')\n",
    "e_cu_X = np.stack([np.stack([e_cu for _ in range(H)], axis=2) for _ in range(D)], axis=3)\n",
    "e_cu"
   ]
  },
  {
   "cell_type": "markdown",
   "metadata": {},
   "source": [
    "##### - quota categories\n",
    "$$\n",
    "q_{ic}\\left\\{\\begin{array}\\\\\n",
    "        1 & \\mbox{if }  campaign\\ c\\ is\\ a\\ i^{th} type\\ quota\\ category\\ campaign\\ \\\\\n",
    "        0 & \\mbox{otherwise } \\\\\n",
    "    \\end{array}\n",
    "\\right.\n",
    "$$"
   ]
  },
  {
   "cell_type": "code",
   "execution_count": 5,
   "metadata": {},
   "outputs": [
    {
     "data": {
      "text/plain": [
       "array([[1, 0, 1, 0, 0, 0, 0, 0, 0, 1],\n",
       "       [1, 1, 1, 0, 0, 0, 0, 1, 1, 0],\n",
       "       [0, 0, 0, 1, 1, 1, 0, 1, 1, 1]])"
      ]
     },
     "execution_count": 5,
     "metadata": {},
     "output_type": "execute_result"
    }
   ],
   "source": [
    "q_ic = np.random.choice(2, (I,C))\n",
    "#q_ic = np.zeros((I,C), dtype='int8')\n",
    "q_ic"
   ]
  },
  {
   "cell_type": "markdown",
   "metadata": {},
   "source": [
    "##### - priority categories\n",
    "$$r_{cp}: Priority\\ value\\ of\\ campaign\\ c\\ regarding\\ priority\\ type\\ p\\$$"
   ]
  },
  {
   "cell_type": "code",
   "execution_count": 6,
   "metadata": {},
   "outputs": [
    {
     "data": {
      "text/plain": [
       "array([43, 47, 52, 47, 96, 43, 43, 43, 96, 47])"
      ]
     },
     "execution_count": 6,
     "metadata": {},
     "output_type": "execute_result"
    }
   ],
   "source": [
    "r_p = np.random.choice(100, P)\n",
    "#r_p = np.ones(P, dtype='int8')\n",
    "rp_c = np.array([r_p[r] for r in np.random.choice(P, C)])\n",
    "rp_c"
   ]
  },
  {
   "cell_type": "markdown",
   "metadata": {},
   "source": [
    "##### - blokage\n",
    "$$b: Communication\\ limit\\ per\\ person\\ for\\ the\\ whole\\ period\\$$"
   ]
  },
  {
   "cell_type": "code",
   "execution_count": 7,
   "metadata": {},
   "outputs": [],
   "source": [
    "b = 7"
   ]
  },
  {
   "cell_type": "markdown",
   "metadata": {},
   "source": [
    "##### - daily blokage\n",
    "$$k: Communication\\ limit\\ per\\ person\\ at\\ each\\ day\\$$"
   ]
  },
  {
   "cell_type": "code",
   "execution_count": 8,
   "metadata": {},
   "outputs": [],
   "source": [
    "k = 3"
   ]
  },
  {
   "cell_type": "markdown",
   "metadata": {},
   "source": [
    "##### - campaign blockage\n",
    "$$l_c: Communication\\ limit\\ per\\ person\\ for\\ campaign\\ c\\$$"
   ]
  },
  {
   "cell_type": "code",
   "execution_count": 9,
   "metadata": {},
   "outputs": [
    {
     "data": {
      "text/plain": [
       "array([2, 3, 2, 2, 3, 4, 2, 4, 2, 4])"
      ]
     },
     "execution_count": 9,
     "metadata": {},
     "output_type": "execute_result"
    }
   ],
   "source": [
    "l_c = np.random.choice([2,3,4],C)\n",
    "l_c"
   ]
  },
  {
   "cell_type": "markdown",
   "metadata": {},
   "source": [
    "##### - quota limitations daily/weekly\n",
    "$$\n",
    "m_i: Communication\\ limit\\ per\\ person\\ for\\ i^{th}\\ category\\\n",
    "$$\n",
    "$$\n",
    "n_i: Communication\\ limit\\ per\\ person\\ for\\ i^{th}\\ category\\ each\\ day\\\n",
    "$$"
   ]
  },
  {
   "cell_type": "code",
   "execution_count": 10,
   "metadata": {},
   "outputs": [],
   "source": [
    "m_i = np.random.choice([4,3,5],I)\n",
    "m_i_X = np.stack([m_i for _ in range(U)], axis=1)\n",
    "n_i = np.random.choice([1,3,2],I)\n",
    "n_i_X = np.stack([n_i for _ in range(U)], axis=1)\n",
    "#m_i = np.ones((I), dtype='int8')*10\n",
    "#n_i = np.ones((I), dtype='int8')*10"
   ]
  },
  {
   "cell_type": "markdown",
   "metadata": {},
   "source": [
    "#### - capacity for channel\n",
    "$$\n",
    "t_{h,d}: Capacity\\ for\\ channel\\ h\\ at\\ day\\ d.\\\n",
    "$$"
   ]
  },
  {
   "cell_type": "code",
   "execution_count": 11,
   "metadata": {},
   "outputs": [],
   "source": [
    "t_hd = np.random.choice([U*.7, U*.6, U*.5], (H, D))"
   ]
  },
  {
   "cell_type": "markdown",
   "metadata": {},
   "source": [
    "# Model"
   ]
  },
  {
   "cell_type": "markdown",
   "metadata": {},
   "source": [
    "#### Variables\n",
    "$$\n",
    "X_{cuhd}\\left\\{\\begin{array}\\\\\n",
    "        1 & \\mbox{if } Campaign\\ c\\ will\\ be\\ sent\\ to\\ customer\\ u\\ through\\ Channel\\ h\\ at\\ Day\\ d \\\\\n",
    "        0 & \\mbox{otherwise } \\\\\n",
    "    \\end{array}\n",
    "\\right.\n",
    "$$"
   ]
  },
  {
   "cell_type": "markdown",
   "metadata": {},
   "source": [
    "## Maximize\n",
    "$$\\sum_{p \\in P}\\sum_{c \\in C}\\sum_{u \\in U}\\sum_{h \\in H}\\sum_{d \\in D}\\,X_{cuhd}\\ r_{cp}$$"
   ]
  },
  {
   "cell_type": "markdown",
   "metadata": {},
   "source": [
    "##### Binary variable (10)\n",
    "$$\n",
    "X_{cuhd} \\in \\{ 1,0 \\},\\hspace{35pt} \\forall c \\in C ,\\forall u \\in U,\\forall d \\in D, \\forall h \\in H\n",
    "$$"
   ]
  },
  {
   "cell_type": "code",
   "execution_count": 12,
   "metadata": {},
   "outputs": [],
   "source": [
    "X_cuhd = np.zeros((C,U,H,D), dtype='int')"
   ]
  },
  {
   "cell_type": "markdown",
   "metadata": {},
   "source": [
    "## subject to"
   ]
  },
  {
   "cell_type": "markdown",
   "metadata": {},
   "source": [
    "##### - eligibility (2)\n",
    "\n",
    "$$\n",
    "X_{cuhd}  \\leq e_{cu},\\hspace{35pt} \\forall h \\in H,\\forall d \\in D\n",
    "$$"
   ]
  },
  {
   "cell_type": "markdown",
   "metadata": {},
   "source": [
    "##### - use one channel (3)\n",
    "$$\n",
    "\\sum_{h}X_{cuhd} \\le 1,\\hspace{35pt} \\forall c \\in C \\, \\forall u \\in U,\\forall d \\in D\n",
    "$$"
   ]
  },
  {
   "cell_type": "markdown",
   "metadata": {},
   "source": [
    "##### - weekly communication limitation (4)\n",
    "$$\n",
    "\\sum_{h \\in H}\\sum_{c \\in C}\\sum_{d \\in D} X_{cuhd}\\le b,\\hspace{35pt} \\forall u \\in U\n",
    "$$"
   ]
  },
  {
   "cell_type": "markdown",
   "metadata": {},
   "source": [
    "##### - daily communication limitation (5)\n",
    "$$\n",
    "\\sum_{h \\in H}\\sum_{c \\in C} X_{cuhd}\\le k,\\hspace{35pt} \\forall u \\in U, \\forall d \\in D\n",
    "$$"
   ]
  },
  {
   "cell_type": "markdown",
   "metadata": {},
   "source": [
    "##### - campaign communication limit(6)\n",
    "$$\n",
    "\\sum_{d \\in D}\\sum_{h \\in H} X_{cuhd}\\le l_c,\\hspace{35pt} \\forall c \\in C,\\forall u \\in U;\n",
    "$$"
   ]
  },
  {
   "cell_type": "markdown",
   "metadata": {},
   "source": [
    "##### - weekly quota(7)\n",
    "$$\n",
    "\\sum_{d \\in D}\\sum_{h \\in H}\\sum_{c \\in C}{X_{cuhd} q_{ic}}\\le m_i,\\hspace{35pt} \\forall u \\in U, \\forall i \\in I\n",
    "$$"
   ]
  },
  {
   "cell_type": "markdown",
   "metadata": {},
   "source": [
    "##### - daily quota(8)\n",
    "$$\n",
    "\\sum_{h \\in H}\\sum_{c \\in C}{X_{cuhd} q_{ic}}\\le n_i,\\hspace{35pt} \\forall u \\in U,\\, \\forall d \\in D, \\forall i \\in I\n",
    "$$"
   ]
  },
  {
   "cell_type": "markdown",
   "metadata": {},
   "source": [
    "##### Channel capacity (9)\n",
    "$$\n",
    "\\sum_{c \\in C}\\sum_{u \\in U}{X_{cuhd}}\\le t_{hd},\\hspace{35pt} \\forall d \\in D,\\, \\forall h \\in H\n",
    "$$"
   ]
  },
  {
   "cell_type": "code",
   "execution_count": 13,
   "metadata": {},
   "outputs": [
    {
     "name": "stdout",
     "output_type": "stream",
     "text": [
      "9.62 ms ± 1.33 ms per loop (mean ± std. dev. of 7 runs, 100 loops each)\n"
     ]
    }
   ],
   "source": [
    "%%timeit\n",
    "all([(X_cuhd[:,:,h,d] <= e_cu).all() for h in range(H) for d in range(D)])"
   ]
  },
  {
   "cell_type": "code",
   "execution_count": 14,
   "metadata": {},
   "outputs": [
    {
     "name": "stdout",
     "output_type": "stream",
     "text": [
      "1.95 ms ± 296 µs per loop (mean ± std. dev. of 7 runs, 100 loops each)\n"
     ]
    }
   ],
   "source": [
    "%%timeit\n",
    "np.all(X_cuhd <= e_cu_X)"
   ]
  },
  {
   "cell_type": "code",
   "execution_count": 15,
   "metadata": {},
   "outputs": [
    {
     "name": "stdout",
     "output_type": "stream",
     "text": [
      "1.79 ms ± 96.3 µs per loop (mean ± std. dev. of 7 runs, 1000 loops each)\n"
     ]
    }
   ],
   "source": [
    "%%timeit\n",
    "(X_cuhd <= e_cu_X).all()"
   ]
  },
  {
   "cell_type": "code",
   "execution_count": 16,
   "metadata": {},
   "outputs": [
    {
     "name": "stdout",
     "output_type": "stream",
     "text": [
      "8.51 ms ± 223 µs per loop (mean ± std. dev. of 7 runs, 100 loops each)\n"
     ]
    }
   ],
   "source": [
    "%%timeit\n",
    "np.all(X_cuhd.sum(axis=(2)).sum(axis=(2)).T<=l_c)"
   ]
  },
  {
   "cell_type": "code",
   "execution_count": 17,
   "metadata": {},
   "outputs": [
    {
     "name": "stdout",
     "output_type": "stream",
     "text": [
      "976 µs ± 25.4 µs per loop (mean ± std. dev. of 7 runs, 1000 loops each)\n"
     ]
    }
   ],
   "source": [
    "%%timeit\n",
    "np.all(X_cuhd.sum(axis=(2,3)).T<=l_c)"
   ]
  },
  {
   "cell_type": "code",
   "execution_count": 18,
   "metadata": {},
   "outputs": [],
   "source": [
    "@T.timeit\n",
    "def eligibility (X):\n",
    "    return (X <= e_cu_X).all()\n",
    "\n",
    "#@T.timeit\n",
    "#def one_channel (X):\n",
    "#    return np.all(X.sum(axis=2)<=1)\n",
    "\n",
    "@T.timeit\n",
    "def weekly_limitation (X):\n",
    "    return (X.sum(axis=(0,2,3))<=b).all()\n",
    "\n",
    "@T.timeit\n",
    "def daily_limitation (X):\n",
    "#    return (X.sum(axis=(0,2))<=k).all()\n",
    "    return (X.sum(axis=(0)).sum(axis=(1))<=k).all()\n",
    "\n",
    "@T.timeit\n",
    "def campaign_limitation (X):\n",
    "    return np.all(X.sum(axis=(2,3)).T<=l_c)\n",
    "\n",
    "@T.timeit\n",
    "def weekly_quota (X):\n",
    "    for i in range(I):\n",
    "        quota_i = np.all(X_cuhd.sum(axis=(2,3)).T * q_ic[i, ].T  <= m_i[i])\n",
    "        if not quota_i:\n",
    "            return False\n",
    "    return True\n",
    "\n",
    "@T.timeit\n",
    "def channel_capacity (X):\n",
    "    return np.all(X.sum(axis=(0,1))<=t_hd)\n",
    "\n",
    "@T.timeit\n",
    "def daily_quota (X):\n",
    "    for i in range(I):\n",
    "        quota_i = np.all((q_ic[0,].T * X.sum(axis=2).T).sum(2) <= n_i[0])\n",
    "        if not quota_i:\n",
    "            return False\n",
    "    return True"
   ]
  },
  {
   "cell_type": "markdown",
   "metadata": {},
   "source": [
    "%%timeit\n",
    "np.all((q_icuhd*X_cuhd).sum(axis=(1,3)) <= n_icuhd)"
   ]
  },
  {
   "cell_type": "markdown",
   "metadata": {},
   "source": [
    "%%timeit\n",
    "all([np.all((q_ic[i,].T * X_cuhd.sum(axis=2).T).sum(2) <= n_i[i]) for i in range(I)])"
   ]
  },
  {
   "cell_type": "markdown",
   "metadata": {},
   "source": [
    "%%timeit\n",
    "np.all((q_ic[0,].T * X_cuhd.sum(axis=2).T).sum(2) <= n_i[0])\n",
    "np.all((q_ic[1,].T * X_cuhd.sum(axis=2).T).sum(2) <= n_i[1])\n",
    "np.all((q_ic[2,].T * X_cuhd.sum(axis=2).T).sum(2) <= n_i[2])"
   ]
  },
  {
   "cell_type": "markdown",
   "metadata": {},
   "source": [
    "def a():\n",
    "    print('a')\n",
    "    return False\n",
    "def b():\n",
    "    print('b')\n",
    "    return False\n",
    "\n",
    "np.all([a(),b()])\n",
    "all([a(),b()])\n"
   ]
  },
  {
   "cell_type": "markdown",
   "metadata": {},
   "source": [
    "##### - check criterion"
   ]
  },
  {
   "cell_type": "code",
   "execution_count": 19,
   "metadata": {},
   "outputs": [],
   "source": [
    "from multiprocessing.pool import ThreadPool\n",
    "pool = ThreadPool(8)\n",
    "\n",
    "@T.timeit\n",
    "def check(X):\n",
    "#    ff = [pool.apply_async(eligibility, args=(X,)),\n",
    "#    pool.apply_async(one_channel, args=(X,)),\n",
    "#    pool.apply_async(weekly_limitation, args=(X,)),\n",
    "#    pool.apply_async(daily_limitation, args=(X,)),\n",
    "#    pool.apply_async(campaign_limitation, args=(X,)),\n",
    "#    pool.apply_async(weekly_quota, args=(X,)),\n",
    "#    pool.apply_async(daily_quota, args=(X,)),\n",
    "#    pool.apply_async(channel_capacity, args=(X,))]\n",
    "#    for r in ff:\n",
    "#        if not r.get():\n",
    "#            return False\n",
    "#    return True   \n",
    "    if not eligibility(X):\n",
    "        return False\n",
    "    if not weekly_limitation(X):\n",
    "        return False\n",
    "    if not daily_limitation(X):\n",
    "        return False\n",
    "    if not campaign_limitation(X):\n",
    "        return False\n",
    "    if not weekly_quota(X):\n",
    "        return False\n",
    "    if not daily_quota(X):\n",
    "        return False\n",
    "    if not channel_capacity(X):\n",
    "        return False\n",
    "#    if not one_channel(X):\n",
    "#        return False\n",
    "    return True"
   ]
  },
  {
   "cell_type": "code",
   "execution_count": 20,
   "metadata": {},
   "outputs": [
    {
     "data": {
      "application/vnd.jupyter.widget-view+json": {
       "model_id": "00676f0b1b024a16b380e1fd0bc17c49",
       "version_major": 2,
       "version_minor": 0
      },
      "text/plain": [
       "Campaigns Loop:   0%|          | 0/10 [00:00<?, ?it/s]"
      ]
     },
     "metadata": {},
     "output_type": "display_data"
    },
    {
     "data": {
      "application/vnd.jupyter.widget-view+json": {
       "model_id": "657afaedd18940a2b50101ca9b7a8d4e",
       "version_major": 2,
       "version_minor": 0
      },
      "text/plain": [
       "Days Loop for campaign-4:   0%|          | 0/7 [00:00<?, ?it/s]"
      ]
     },
     "metadata": {},
     "output_type": "display_data"
    },
    {
     "data": {
      "application/vnd.jupyter.widget-view+json": {
       "model_id": "8074ba121eb54c56a99754bb7bab4097",
       "version_major": 2,
       "version_minor": 0
      },
      "text/plain": [
       "Days Loop for campaign-8:   0%|          | 0/7 [00:00<?, ?it/s]"
      ]
     },
     "metadata": {},
     "output_type": "display_data"
    },
    {
     "data": {
      "application/vnd.jupyter.widget-view+json": {
       "model_id": "7f5b9ab4a2ca494e9de9111a91dd2914",
       "version_major": 2,
       "version_minor": 0
      },
      "text/plain": [
       "Days Loop for campaign-2:   0%|          | 0/7 [00:00<?, ?it/s]"
      ]
     },
     "metadata": {},
     "output_type": "display_data"
    },
    {
     "data": {
      "application/vnd.jupyter.widget-view+json": {
       "model_id": "bb0dcc47fc8b411b9dde0504d217696f",
       "version_major": 2,
       "version_minor": 0
      },
      "text/plain": [
       "Days Loop for campaign-1:   0%|          | 0/7 [00:00<?, ?it/s]"
      ]
     },
     "metadata": {},
     "output_type": "display_data"
    },
    {
     "data": {
      "application/vnd.jupyter.widget-view+json": {
       "model_id": "0bb5e3487fe04a66b8943f67938f30e1",
       "version_major": 2,
       "version_minor": 0
      },
      "text/plain": [
       "Days Loop for campaign-3:   0%|          | 0/7 [00:00<?, ?it/s]"
      ]
     },
     "metadata": {},
     "output_type": "display_data"
    },
    {
     "data": {
      "application/vnd.jupyter.widget-view+json": {
       "model_id": "44e816ccf49f4b4794f6912a1f615b4f",
       "version_major": 2,
       "version_minor": 0
      },
      "text/plain": [
       "Days Loop for campaign-9:   0%|          | 0/7 [00:00<?, ?it/s]"
      ]
     },
     "metadata": {},
     "output_type": "display_data"
    },
    {
     "data": {
      "application/vnd.jupyter.widget-view+json": {
       "model_id": "68ae2d0920844885b56f9e0683703d72",
       "version_major": 2,
       "version_minor": 0
      },
      "text/plain": [
       "Days Loop for campaign-0:   0%|          | 0/7 [00:00<?, ?it/s]"
      ]
     },
     "metadata": {},
     "output_type": "display_data"
    },
    {
     "data": {
      "application/vnd.jupyter.widget-view+json": {
       "model_id": "1d2e5a07a81247d39b347839450f9895",
       "version_major": 2,
       "version_minor": 0
      },
      "text/plain": [
       "Days Loop for campaign-5:   0%|          | 0/7 [00:00<?, ?it/s]"
      ]
     },
     "metadata": {},
     "output_type": "display_data"
    },
    {
     "data": {
      "application/vnd.jupyter.widget-view+json": {
       "model_id": "bbedf284f07241db9e93da5b1ab0838c",
       "version_major": 2,
       "version_minor": 0
      },
      "text/plain": [
       "Days Loop for campaign-6:   0%|          | 0/7 [00:00<?, ?it/s]"
      ]
     },
     "metadata": {},
     "output_type": "display_data"
    },
    {
     "data": {
      "application/vnd.jupyter.widget-view+json": {
       "model_id": "e93fb4f2404f4a8a9b65b1778d598ec6",
       "version_major": 2,
       "version_minor": 0
      },
      "text/plain": [
       "Days Loop for campaign-7:   0%|          | 0/7 [00:00<?, ?it/s]"
      ]
     },
     "metadata": {},
     "output_type": "display_data"
    },
    {
     "name": "stdout",
     "output_type": "stream",
     "text": [
      "Wall time: 2h 21min 33s\n"
     ]
    }
   ],
   "source": [
    "%%time\n",
    "X_cuhd = np.zeros((C,U,H,D), dtype='int')\n",
    "for c in tqdm(np.argsort(-rp_c), desc=\"Campaigns Loop\"):\n",
    "    for d in trange(D, desc=f\"Days Loop for campaign-{c}\"):\n",
    "        for h in range(H):#trange(H, desc=f\"Channels Loop at Day-{d}, Campapaign-{c}\"):\n",
    "            for u in range(U):#trange(U, desc=f\"Users Loop On Campaign-{c}\"):\n",
    "                X_cuhd[c,u,h,d]=1\n",
    "                if not check(X_cuhd):\n",
    "                    X_cuhd[c,u,h,d]=0"
   ]
  },
  {
   "cell_type": "code",
   "execution_count": 21,
   "metadata": {},
   "outputs": [
    {
     "data": {
      "text/plain": [
       "2229756"
      ]
     },
     "execution_count": 21,
     "metadata": {},
     "output_type": "execute_result"
    }
   ],
   "source": [
    "np.matmul(rp_c, X_cuhd.sum(axis=(1,2,3)))"
   ]
  },
  {
   "cell_type": "code",
   "execution_count": 22,
   "metadata": {},
   "outputs": [
    {
     "name": "stdout",
     "output_type": "stream",
     "text": [
      "eligibility 0.002322330914714741 1400000\n",
      "check 0.006060030144642743 1400000\n",
      "weekly_limitation 0.001316560486768754 700168\n",
      "daily_limitation 0.0019245086816460422 335259\n",
      "campaign_limitation 0.0012266008674101166 306199\n",
      "weekly_quota 0.00408274733289169 96284\n",
      "daily_quota 0.028404331060195534 96284\n",
      "channel_capacity 0.0017663645317397977 82251\n"
     ]
    }
   ],
   "source": [
    "for k,v in T.DURATION_STATS.items():\n",
    "    print(k,v['duration']/v['counter'],v['counter'])"
   ]
  },
  {
   "cell_type": "markdown",
   "metadata": {},
   "source": [
    "- Sort Campaigns by rp_c\n",
    "- Map every criteria to function"
   ]
  },
  {
   "cell_type": "markdown",
   "metadata": {},
   "source": [
    "##kucuk sayilar ile algoritmayi test edelim, ve bb solution burada validate edelim."
   ]
  }
 ],
 "metadata": {
  "kernelspec": {
   "display_name": "Python 3",
   "language": "python",
   "name": "python3"
  },
  "language_info": {
   "codemirror_mode": {
    "name": "ipython",
    "version": 3
   },
   "file_extension": ".py",
   "mimetype": "text/x-python",
   "name": "python",
   "nbconvert_exporter": "python",
   "pygments_lexer": "ipython3",
   "version": "3.7.9"
  }
 },
 "nbformat": 4,
 "nbformat_minor": 4
}
