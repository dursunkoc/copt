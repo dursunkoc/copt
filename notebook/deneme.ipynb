{
 "cells": [
  {
   "cell_type": "code",
   "execution_count": 1,
   "metadata": {},
   "outputs": [],
   "source": [
    "import sys\n",
    "import os\n",
    "sys.path.insert(0, os.path.abspath('../src'))"
   ]
  },
  {
   "cell_type": "code",
   "execution_count": 2,
   "metadata": {},
   "outputs": [],
   "source": [
    "import numpy as np\n",
    "from tqdm.notebook import trange\n",
    "from tqdm.notebook import tqdm\n",
    "\n",
    "import model\n",
    "import model_parameters as MP\n",
    "from docplex.mp.model import Model"
   ]
  },
  {
   "cell_type": "markdown",
   "metadata": {},
   "source": [
    "## Mathematical Model"
   ]
  },
  {
   "cell_type": "markdown",
   "metadata": {},
   "source": [
    "#### Sets\n",
    "- C\tSet of campaigns.\n",
    "- U\tSet of customers.\n",
    "- H\tSet of channels\n",
    "- D\tSet of planning days.\n",
    "- I\tSet of quota categories.\n",
    "- P\tSet of priority categories.\n"
   ]
  },
  {
   "cell_type": "code",
   "execution_count": 3,
   "metadata": {},
   "outputs": [],
   "source": [
    "C = 5 # number of campaigns\n",
    "U = 100 # number of customers.\n",
    "H = 3 # number of channels.\n",
    "D = 7 # number of planning days.\n",
    "I = 3 # number of quota categories.\n",
    "P = 10 # number of priority categories."
   ]
  },
  {
   "cell_type": "code",
   "execution_count": 4,
   "metadata": {},
   "outputs": [
    {
     "output_type": "stream",
     "name": "stdout",
     "text": [
      "number of campaigns 5\nnumber of customers 100\nnumber of channels 3\nnumber of planning days 7\nnumber of quota categories 3\nnumber of priority categories 10\n"
     ]
    }
   ],
   "source": [
    "print(f\"number of campaigns {C}\") #70 -camp.\n",
    "print(f\"number of customers {U}\") #20.000.000 non-distinct\n",
    "print(f\"number of channels {H}\") #6-7 h. --Drop\n",
    "print(f\"number of planning days {D}\")\n",
    "print(f\"number of quota categories {I}\")\n",
    "print(f\"number of priority categories {P}\")\n",
    "mdl = Model(name='Campaign Optimization')"
   ]
  },
  {
   "cell_type": "markdown",
   "metadata": {},
   "source": [
    "#### Parameters"
   ]
  },
  {
   "cell_type": "markdown",
   "metadata": {},
   "source": [
    "##### - eligibility\n",
    "$$\n",
    "e_{cu}\\left\\{\\begin{array}\\\\\n",
    "        1 & \\mbox{if }  customer\\ u\\ is\\ eligible\\ for\\ campaign\\ c\\\\\n",
    "        0 & \\mbox{otherwise } \\\\\n",
    "    \\end{array}\n",
    "\\right.\n",
    "$$"
   ]
  },
  {
   "cell_type": "code",
   "execution_count": 5,
   "metadata": {},
   "outputs": [
    {
     "output_type": "execute_result",
     "data": {
      "text/plain": [
       "array([[0, 1, 1, 0, 0, 0, 1, 0, 1, 0, 0, 0, 0, 1, 0, 1, 1, 1, 0, 1, 0, 0,\n",
       "        1, 0, 0, 1, 0, 0, 0, 1, 1, 1, 0, 1, 0, 1, 0, 0, 1, 1, 1, 0, 0, 1,\n",
       "        0, 1, 1, 1, 1, 0, 1, 0, 1, 0, 0, 1, 0, 1, 0, 0, 1, 0, 0, 1, 1, 0,\n",
       "        0, 0, 0, 1, 1, 1, 0, 0, 1, 0, 1, 0, 0, 0, 0, 1, 0, 0, 0, 1, 0, 1,\n",
       "        0, 1, 0, 1, 0, 1, 1, 1, 1, 1, 1, 0],\n",
       "       [0, 0, 0, 0, 0, 1, 1, 0, 0, 1, 1, 0, 1, 1, 1, 0, 0, 0, 0, 1, 0, 1,\n",
       "        1, 0, 0, 1, 0, 1, 1, 0, 1, 1, 0, 0, 0, 0, 1, 1, 1, 1, 0, 0, 1, 0,\n",
       "        0, 1, 1, 0, 1, 1, 0, 1, 1, 1, 0, 0, 1, 0, 0, 0, 0, 1, 1, 1, 1, 0,\n",
       "        0, 0, 0, 1, 0, 1, 1, 1, 1, 1, 0, 1, 1, 1, 1, 1, 1, 0, 0, 0, 1, 0,\n",
       "        0, 1, 1, 0, 0, 0, 1, 0, 1, 1, 1, 0],\n",
       "       [0, 0, 1, 1, 0, 1, 1, 0, 0, 1, 0, 1, 1, 1, 0, 1, 0, 1, 1, 0, 1, 1,\n",
       "        1, 0, 1, 0, 1, 1, 1, 0, 1, 1, 0, 1, 1, 0, 1, 0, 1, 0, 1, 1, 1, 1,\n",
       "        1, 1, 1, 1, 0, 0, 0, 0, 0, 1, 1, 0, 0, 0, 1, 0, 0, 0, 1, 0, 1, 1,\n",
       "        1, 0, 0, 0, 1, 1, 1, 1, 0, 1, 0, 0, 0, 1, 1, 1, 0, 1, 1, 0, 0, 0,\n",
       "        0, 0, 1, 0, 0, 0, 1, 1, 1, 0, 0, 1],\n",
       "       [1, 0, 0, 0, 0, 1, 1, 0, 1, 1, 1, 1, 0, 1, 0, 1, 1, 0, 1, 0, 0, 0,\n",
       "        1, 0, 0, 1, 0, 1, 0, 0, 1, 0, 1, 0, 1, 1, 0, 0, 0, 1, 1, 0, 1, 0,\n",
       "        1, 0, 1, 0, 0, 0, 0, 0, 1, 0, 1, 0, 1, 1, 0, 0, 1, 1, 1, 0, 1, 1,\n",
       "        0, 1, 1, 0, 0, 0, 1, 0, 1, 1, 1, 1, 1, 0, 1, 1, 0, 1, 0, 0, 0, 0,\n",
       "        1, 0, 0, 0, 1, 0, 1, 0, 0, 1, 0, 1],\n",
       "       [0, 0, 0, 1, 1, 0, 0, 1, 0, 0, 1, 0, 1, 0, 0, 0, 1, 0, 0, 0, 0, 1,\n",
       "        0, 0, 1, 0, 0, 0, 0, 1, 1, 1, 0, 1, 1, 1, 1, 1, 1, 0, 1, 1, 0, 1,\n",
       "        1, 1, 0, 0, 0, 0, 1, 0, 1, 0, 1, 0, 0, 1, 0, 1, 1, 0, 0, 1, 0, 0,\n",
       "        1, 1, 1, 0, 0, 0, 1, 0, 1, 1, 1, 0, 0, 0, 0, 0, 1, 1, 0, 1, 1, 0,\n",
       "        1, 0, 1, 0, 0, 0, 0, 1, 0, 0, 0, 1]])"
      ]
     },
     "metadata": {},
     "execution_count": 5
    }
   ],
   "source": [
    "e_cu = np.random.choice(2,(C, U)) #e_cu = np.ones((C, U), dtype='int8')\n",
    "e_cu"
   ]
  },
  {
   "cell_type": "markdown",
   "metadata": {},
   "source": [
    "##### - quota categories\n",
    "$$\n",
    "q_{ic}\\left\\{\\begin{array}\\\\\n",
    "        1 & \\mbox{if }  campaign\\ c\\ is\\ a\\ i^{th} type\\ quota\\ category\\ campaign\\ \\\\\n",
    "        0 & \\mbox{otherwise } \\\\\n",
    "    \\end{array}\n",
    "\\right.\n",
    "$$"
   ]
  },
  {
   "cell_type": "code",
   "execution_count": 6,
   "metadata": {},
   "outputs": [
    {
     "output_type": "execute_result",
     "data": {
      "text/plain": [
       "array([[1, 0, 0, 1, 1],\n",
       "       [1, 1, 1, 1, 1],\n",
       "       [1, 1, 0, 1, 0]])"
      ]
     },
     "metadata": {},
     "execution_count": 6
    }
   ],
   "source": [
    "q_ic = np.random.choice(2, (I,C)) #q_ic = np.zeros((I,C), dtype='int8')\n",
    "q_ic"
   ]
  },
  {
   "cell_type": "markdown",
   "metadata": {},
   "source": [
    "##### - priority categories\n",
    "$$r_{cp}: Priority\\ value\\ of\\ campaign\\ c\\ regarding\\ priority\\ type\\ p\\$$"
   ]
  },
  {
   "cell_type": "code",
   "execution_count": 7,
   "metadata": {},
   "outputs": [
    {
     "output_type": "execute_result",
     "data": {
      "text/plain": [
       "array([33, 78, 81, 31, 31])"
      ]
     },
     "metadata": {},
     "execution_count": 7
    }
   ],
   "source": [
    "r_p = np.random.choice(100, P) #r_p = np.ones(P, dtype='int8')\n",
    "rp_c = np.array([r_p[r] for r in np.random.choice(P, C)])\n",
    "\n",
    "rp_c"
   ]
  },
  {
   "cell_type": "markdown",
   "metadata": {},
   "source": [
    "##### - blokage\n",
    "$$b: Communication\\ limit\\ per\\ person\\ for\\ the\\ whole\\ period\\$$"
   ]
  },
  {
   "cell_type": "code",
   "execution_count": 8,
   "metadata": {},
   "outputs": [
    {
     "output_type": "execute_result",
     "data": {
      "text/plain": [
       "7"
      ]
     },
     "metadata": {},
     "execution_count": 8
    }
   ],
   "source": [
    "b = 7\n",
    "b"
   ]
  },
  {
   "cell_type": "markdown",
   "metadata": {},
   "source": [
    "##### - daily blokage\n",
    "$$k: Communication\\ limit\\ per\\ person\\ at\\ each\\ day\\$$"
   ]
  },
  {
   "cell_type": "code",
   "execution_count": 9,
   "metadata": {
    "scrolled": true
   },
   "outputs": [
    {
     "output_type": "execute_result",
     "data": {
      "text/plain": [
       "3"
      ]
     },
     "metadata": {},
     "execution_count": 9
    }
   ],
   "source": [
    "k = 3\n",
    "k"
   ]
  },
  {
   "cell_type": "markdown",
   "metadata": {},
   "source": [
    "##### - campaign blockage\n",
    "$$l_c: Communication\\ limit\\ per\\ person\\ for\\ campaign\\ c\\$$"
   ]
  },
  {
   "cell_type": "code",
   "execution_count": 10,
   "metadata": {
    "scrolled": true
   },
   "outputs": [
    {
     "output_type": "execute_result",
     "data": {
      "text/plain": [
       "array([2, 3, 2, 2, 2])"
      ]
     },
     "metadata": {},
     "execution_count": 10
    }
   ],
   "source": [
    "l_c = np.random.choice([2,3,4],C)\n",
    "l_c"
   ]
  },
  {
   "cell_type": "markdown",
   "metadata": {},
   "source": [
    "##### - quota limitations daily/weekly\n",
    "$$\n",
    "m_i: Communication\\ limit\\ per\\ person\\ for\\ i^{th}\\ category\\\n",
    "$$\n",
    "$$\n",
    "n_i: Communication\\ limit\\ per\\ person\\ for\\ i^{th}\\ category\\ each\\ day\\\n",
    "$$"
   ]
  },
  {
   "cell_type": "code",
   "execution_count": 11,
   "metadata": {},
   "outputs": [
    {
     "output_type": "execute_result",
     "data": {
      "text/plain": [
       "(array([3, 4, 3]), array([3, 1, 1]))"
      ]
     },
     "metadata": {},
     "execution_count": 11
    }
   ],
   "source": [
    "m_i = np.random.choice([4,3,5],I)#m_i = np.ones((I), dtype='int8')*10\n",
    "n_i = np.random.choice([1,3,2],I)#n_i = np.ones((I), dtype='int8')*10\n",
    "(m_i, n_i)"
   ]
  },
  {
   "cell_type": "markdown",
   "metadata": {},
   "source": [
    "#### - capacity for channel\n",
    "$$\n",
    "t_{h,d}: Capacity\\ for\\ channel\\ h\\ at\\ day\\ d.\\\n",
    "$$"
   ]
  },
  {
   "cell_type": "code",
   "execution_count": 12,
   "metadata": {
    "scrolled": true
   },
   "outputs": [
    {
     "output_type": "execute_result",
     "data": {
      "text/plain": [
       "array([[50., 50., 60., 60., 70., 60., 70.],\n",
       "       [60., 50., 50., 50., 50., 50., 70.],\n",
       "       [70., 50., 60., 60., 70., 70., 50.]])"
      ]
     },
     "metadata": {},
     "execution_count": 12
    }
   ],
   "source": [
    "t_hd = np.random.choice([U*.7, U*.6, U*.5], (H, D))\n",
    "t_hd"
   ]
  },
  {
   "cell_type": "markdown",
   "metadata": {},
   "source": [
    "# Model"
   ]
  },
  {
   "cell_type": "markdown",
   "metadata": {},
   "source": [
    "#### Variables\n",
    "$$\n",
    "X_{cuhd}\\left\\{\\begin{array}\\\\\n",
    "        1 & \\mbox{if } Campaign\\ c\\ will\\ be\\ sent\\ to\\ customer\\ u\\ through\\ Channel\\ h\\ at\\ Day\\ d \\\\\n",
    "        0 & \\mbox{otherwise } \\\\\n",
    "    \\end{array}\n",
    "\\right.\n",
    "$$"
   ]
  },
  {
   "cell_type": "markdown",
   "metadata": {},
   "source": [
    "## Maximize\n",
    "$$\\sum_{p \\in P}\\sum_{c \\in C}\\sum_{u \\in U}\\sum_{h \\in H}\\sum_{d \\in D}\\,X_{cuhd}\\ r_{cp}$$"
   ]
  },
  {
   "cell_type": "markdown",
   "metadata": {},
   "source": [
    "##### Binary variable (10)\n",
    "$$\n",
    "X_{cuhd} \\in \\{ 1,0 \\},\\hspace{35pt} \\forall c \\in C ,\\forall u \\in U,\\forall d \\in D, \\forall h \\in H\n",
    "$$"
   ]
  },
  {
   "cell_type": "code",
   "execution_count": 82,
   "metadata": {},
   "outputs": [],
   "source": [
    "X_cuhd2 = np.zeros((C,U,H,D), dtype='int')"
   ]
  },
  {
   "cell_type": "code",
   "execution_count": 83,
   "metadata": {},
   "outputs": [],
   "source": [
    "X_cuhd2[0,0,0:,:]=1\n",
    "X_cuhd2[1,1,1,3]=1"
   ]
  },
  {
   "cell_type": "code",
   "execution_count": 84,
   "metadata": {},
   "outputs": [
    {
     "output_type": "execute_result",
     "data": {
      "text/plain": [
       "(5, 100, 3, 7)"
      ]
     },
     "metadata": {},
     "execution_count": 84
    }
   ],
   "source": [
    "X_cuhd2.shape"
   ]
  },
  {
   "cell_type": "code",
   "execution_count": 85,
   "metadata": {},
   "outputs": [],
   "source": [
    "indicies = np.where(X_cuhd2 == 1)"
   ]
  },
  {
   "cell_type": "code",
   "execution_count": 86,
   "metadata": {},
   "outputs": [],
   "source": [
    "mdl = Model(name='Campaign Optimization')"
   ]
  },
  {
   "cell_type": "code",
   "execution_count": 87,
   "metadata": {},
   "outputs": [],
   "source": [
    "X_cuhd = {(c,u,h,d): mdl.binary_var(f\"X_c:{c}_u:{u}_h:{h}_d:{d}\")\n",
    "#        X_cuhd = {(c,u,h,d): mdl.binary_var(f\"X[{c},{u},{h},{d}]\")\n",
    "            for c in range(0,C)\n",
    "            for u in range(0,U) \n",
    "            for h in range(0,H)\n",
    "            for d in range(0,D)}"
   ]
  },
  {
   "cell_type": "code",
   "execution_count": 88,
   "metadata": {},
   "outputs": [],
   "source": [
    "maximize = mdl.maximize(mdl.sum([X_cuhd[(c,u,h,d)] * rp_c[c]\n",
    "                  for c in range(0,C)\n",
    "                  for u in range(0,U) \n",
    "                  for h in range(0,H) \n",
    "                  for d in range(0,D)]))"
   ]
  },
  {
   "cell_type": "code",
   "execution_count": null,
   "metadata": {},
   "outputs": [],
   "source": []
  },
  {
   "cell_type": "code",
   "execution_count": 92,
   "metadata": {
    "tags": []
   },
   "outputs": [
    {
     "output_type": "stream",
     "name": "stdout",
     "text": [
      "X_c:0_u:0_h:0_d:0 == 1\nX_c:0_u:0_h:0_d:1 == 1\nX_c:0_u:0_h:0_d:2 == 1\nX_c:0_u:0_h:0_d:3 == 1\nX_c:0_u:0_h:0_d:4 == 1\nX_c:0_u:0_h:0_d:5 == 1\nX_c:0_u:0_h:0_d:6 == 1\nX_c:0_u:0_h:1_d:0 == 1\nX_c:0_u:0_h:1_d:1 == 1\nX_c:0_u:0_h:1_d:2 == 1\nX_c:0_u:0_h:1_d:3 == 1\nX_c:0_u:0_h:1_d:4 == 1\nX_c:0_u:0_h:1_d:5 == 1\nX_c:0_u:0_h:1_d:6 == 1\nX_c:0_u:0_h:2_d:0 == 1\nX_c:0_u:0_h:2_d:1 == 1\nX_c:0_u:0_h:2_d:2 == 1\nX_c:0_u:0_h:2_d:3 == 1\nX_c:0_u:0_h:2_d:4 == 1\nX_c:0_u:0_h:2_d:5 == 1\nX_c:0_u:0_h:2_d:6 == 1\nX_c:0_u:1_h:0_d:0 == 1\nX_c:0_u:1_h:0_d:1 == 1\nX_c:0_u:1_h:0_d:2 == 1\nX_c:0_u:1_h:0_d:3 == 1\nX_c:0_u:1_h:0_d:4 == 1\nX_c:0_u:1_h:0_d:5 == 1\nX_c:0_u:1_h:0_d:6 == 1\nX_c:0_u:1_h:1_d:0 == 1\nX_c:0_u:1_h:1_d:1 == 1\nX_c:0_u:1_h:1_d:2 == 1\nX_c:0_u:1_h:1_d:3 == 1\nX_c:0_u:1_h:1_d:4 == 1\nX_c:0_u:1_h:1_d:5 == 1\nX_c:0_u:1_h:1_d:6 == 1\nX_c:0_u:1_h:2_d:0 == 1\nX_c:0_u:1_h:2_d:1 == 1\nX_c:0_u:1_h:2_d:2 == 1\nX_c:0_u:1_h:2_d:3 == 1\nX_c:0_u:1_h:2_d:4 == 1\nX_c:0_u:1_h:2_d:5 == 1\nX_c:0_u:1_h:2_d:6 == 1\nX_c:1_u:0_h:0_d:0 == 1\nX_c:1_u:0_h:0_d:1 == 1\nX_c:1_u:0_h:0_d:2 == 1\nX_c:1_u:0_h:0_d:3 == 1\nX_c:1_u:0_h:0_d:4 == 1\nX_c:1_u:0_h:0_d:5 == 1\nX_c:1_u:0_h:0_d:6 == 1\nX_c:1_u:0_h:1_d:0 == 1\nX_c:1_u:0_h:1_d:1 == 1\nX_c:1_u:0_h:1_d:2 == 1\nX_c:1_u:0_h:1_d:3 == 1\nX_c:1_u:0_h:1_d:4 == 1\nX_c:1_u:0_h:1_d:5 == 1\nX_c:1_u:0_h:1_d:6 == 1\nX_c:1_u:0_h:2_d:0 == 1\nX_c:1_u:0_h:2_d:1 == 1\nX_c:1_u:0_h:2_d:2 == 1\nX_c:1_u:0_h:2_d:3 == 1\nX_c:1_u:0_h:2_d:4 == 1\nX_c:1_u:0_h:2_d:5 == 1\nX_c:1_u:0_h:2_d:6 == 1\nX_c:1_u:1_h:0_d:0 == 1\nX_c:1_u:1_h:0_d:1 == 1\nX_c:1_u:1_h:0_d:2 == 1\nX_c:1_u:1_h:0_d:3 == 1\nX_c:1_u:1_h:0_d:4 == 1\nX_c:1_u:1_h:0_d:5 == 1\nX_c:1_u:1_h:0_d:6 == 1\nX_c:1_u:1_h:1_d:0 == 1\nX_c:1_u:1_h:1_d:1 == 1\nX_c:1_u:1_h:1_d:2 == 1\nX_c:1_u:1_h:1_d:3 == 1\nX_c:1_u:1_h:1_d:4 == 1\nX_c:1_u:1_h:1_d:5 == 1\nX_c:1_u:1_h:1_d:6 == 1\nX_c:1_u:1_h:2_d:0 == 1\nX_c:1_u:1_h:2_d:1 == 1\nX_c:1_u:1_h:2_d:2 == 1\nX_c:1_u:1_h:2_d:3 == 1\nX_c:1_u:1_h:2_d:4 == 1\nX_c:1_u:1_h:2_d:5 == 1\nX_c:1_u:1_h:2_d:6 == 1\n"
     ]
    }
   ],
   "source": []
  },
  {
   "cell_type": "markdown",
   "metadata": {},
   "source": [
    "## subject to"
   ]
  },
  {
   "cell_type": "markdown",
   "metadata": {},
   "source": [
    "##### - eligibility (2)\n",
    "\n",
    "$$\n",
    "X_{cuhd}  \\leq e_{cu},\\hspace{35pt} \\forall h \\in H,\\forall d \\in D\n",
    "$$"
   ]
  },
  {
   "cell_type": "markdown",
   "metadata": {},
   "source": [
    "##### - use one channel (3)\n",
    "$$\n",
    "\\sum_{h}X_{cuhd} \\le 1,\\hspace{35pt} \\forall c \\in C \\, \\forall u \\in U,\\forall d \\in D\n",
    "$$"
   ]
  },
  {
   "cell_type": "markdown",
   "metadata": {},
   "source": [
    "##### - weekly communication limitation (4)\n",
    "$$\n",
    "\\sum_{h \\in H}\\sum_{c \\in C}\\sum_{d \\in D} X_{cuhd}\\le b,\\hspace{35pt} \\forall u \\in U\n",
    "$$"
   ]
  },
  {
   "cell_type": "markdown",
   "metadata": {},
   "source": [
    "##### - daily communication limitation (5)\n",
    "$$\n",
    "\\sum_{h \\in H}\\sum_{c \\in C} X_{cuhd}\\le k,\\hspace{35pt} \\forall u \\in U, \\forall d \\in D\n",
    "$$"
   ]
  },
  {
   "cell_type": "markdown",
   "metadata": {},
   "source": [
    "##### - campaign communication limit(6)\n",
    "$$\n",
    "\\sum_{d \\in D}\\sum_{h \\in H} X_{cuhd}\\le l_c,\\hspace{35pt} \\forall c \\in C,\\forall u \\in U;\n",
    "$$"
   ]
  },
  {
   "cell_type": "markdown",
   "metadata": {},
   "source": [
    "##### - weekly quota(7)\n",
    "$$\n",
    "\\sum_{d \\in D}\\sum_{h \\in H}\\sum_{c \\in C}{X_{cuhd} q_{ic}}\\le m_i,\\hspace{35pt} \\forall u \\in U, \\forall i \\in I\n",
    "$$"
   ]
  },
  {
   "cell_type": "markdown",
   "metadata": {},
   "source": [
    "##### - daily quota(8)\n",
    "$$\n",
    "\\sum_{h \\in H}\\sum_{c \\in C}{X_{cuhd} q_{ic}}\\le n_i,\\hspace{35pt} \\forall u \\in U,\\, \\forall d \\in D, \\forall i \\in I\n",
    "$$"
   ]
  },
  {
   "cell_type": "markdown",
   "metadata": {},
   "source": [
    "##### Channel capacity (9)\n",
    "$$\n",
    "\\sum_{c \\in C}\\sum_{u \\in U}{X_{cuhd}}\\le t_{hd},\\hspace{35pt} \\forall d \\in D,\\, \\forall h \\in H\n",
    "$$"
   ]
  },
  {
   "cell_type": "code",
   "execution_count": 73,
   "metadata": {},
   "outputs": [],
   "source": [
    "class Solution:\n",
    "    c_i = 0\n",
    "    u_i = 1\n",
    "    h_i = 2\n",
    "    d_i = 3\n",
    "\n",
    "    def __init__(self, name: str):\n",
    "        self.name = name\n",
    "\n",
    "    def eligibility(self, e_cu, X, c, u, h, d):\n",
    "        return X[c,u,h,d]<=e_cu[c,u]\n",
    "    def weekly_limitation(self, b, X, u):\n",
    "        return X[:,u,:,:].sum() <= b\n",
    "    def weekly_limitation_rh(self, b, X, s, u, f_d):\n",
    "#        print(f\"X[:,{u},:,:{f_d}].sum() + s[:,{u},:,{f_d}:].sum() <={b}\")\n",
    "        return X[:,u,:,:f_d].sum() + s[:,u,:,f_d:].sum() <= b\n",
    "    def daily_limitation (self, k, X, u, d):\n",
    "        return X[:,u,:,d].sum() <= k\n",
    "    def campaign_limitation_rh(self, l_c, X, s, c, u, f_d):\n",
    "#        print(f\"X[{c},{u},:,:{f_d}].sum() + s[{c},{u},:,{f_d}:].sum() <={l_c[c]}\")\n",
    "        return X[c,u,:,:f_d].sum() + s[c,u,:,f_d:].sum() <=l_c[c]\n",
    "    def weekly_quota(self, m_i, q_ic, X, u):\n",
    "        return all((q_ic * X[:,u,:,:].sum(axis=(1,2))).sum(axis=1)<=m_i)\n",
    "    def weekly_quota_rh(self, m_i, q_ic, X, s, u, f_d):\n",
    "        print(f\"X[:,{u},:,:{f_d}].sum() + s[:,{u},:,{f_d}:].sum() <={m_i}\")\n",
    "        return all((q_ic * X[:,u,:,:f_d].sum(axis=(1,2))).sum(axis=1) + (q_ic * s[:,u,:,:f_d].sum(axis=(1,2))).sum(axis=1)<=m_i)\n",
    "    def daily_quota(self, n_i, q_ic, X, u, d):\n",
    "        return all((q_ic * X[:,u,:,d].sum(axis=(1))).sum(axis=1)<=n_i)\n",
    "    def channel_capacity(self, t_hd, X, h, d):\n",
    "        return X[:,:,h,d].sum() <= t_hd[h,d]\n",
    "\n",
    "    def check(self, X, PMS, indicies):\n",
    "        if not self.eligibility(PMS.e_cu, X, indicies[self.c_i],indicies[self.u_i],indicies[self.h_i],indicies[self.d_i]):\n",
    "#            print(f\"eligibility => {indicies}\")\n",
    "            return False\n",
    "#        for f_d in range(1, PMS.cuhd[self.d_i]+1):\n",
    "#            if not self.weekly_limitation_rh(PMS.b, X, PMS.s_cuhd, indicies[self.u_i], f_d):\n",
    "##                print(f\"weekly_limitation_rh => {indicies}, {f_d}\")\n",
    "#                return False\n",
    "        if not self.daily_limitation(PMS.k, X, indicies[self.u_i],indicies[self.d_i]):\n",
    "#            print(f\"daily_limitation => {indicies}\")\n",
    "            return False\n",
    "#        for f_d in range(1, PMS.cuhd[self.d_i]+1):\n",
    "#            if not self.campaign_limitation_rh(PMS.l_c, X, PMS.s_cuhd, indicies[self.c_i],indicies[self.u_i], f_d):\n",
    "##                print(f\"campaign_limitation_rh => {indicies}, {f_d}\")\n",
    "#                return False\n",
    "        for f_d in range(1, PMS.cuhd[self.d_i]+1):\n",
    "            if not self.weekly_quota_rh(PMS.m_i, PMS.q_ic, X, PMS.s_cuhd, indicies[self.u_i], f_d):\n",
    "                print(f\"weekly_quota_rh => {indicies}, {f_d}\")\n",
    "                return False\n",
    "        if not self.daily_quota(PMS.n_i, PMS.q_ic, X, indicies[self.u_i],indicies[self.d_i]):\n",
    "#            print(f\"daily_quota => {indicies}\")\n",
    "            return False\n",
    "        if not self.channel_capacity(PMS.t_hd, X, indicies[self.h_i],indicies[self.d_i]):\n",
    "#            print(f\"channel_capacity => {indicies}\")\n",
    "            return False\n",
    "        return True\n"
   ]
  },
  {
   "cell_type": "code",
   "execution_count": 89,
   "metadata": {},
   "outputs": [],
   "source": [
    "s_cuhd = np.zeros((C,U,H,D))\n",
    "s_cuhd[:,:,:,D-1:D] = 1"
   ]
  },
  {
   "cell_type": "code",
   "execution_count": 76,
   "metadata": {},
   "outputs": [],
   "source": [
    "u=0\n",
    "f_d = 1"
   ]
  },
  {
   "cell_type": "code",
   "execution_count": 75,
   "metadata": {},
   "outputs": [
    {
     "data": {
      "text/plain": [
       "array([[[1],\n",
       "        [2],\n",
       "        [3]],\n",
       "\n",
       "       [[4],\n",
       "        [5],\n",
       "        [6]]])"
      ]
     },
     "execution_count": 75,
     "metadata": {},
     "output_type": "execute_result"
    }
   ],
   "source": [
    "np.arange(1,7).reshape((2,3,1))"
   ]
  },
  {
   "cell_type": "code",
   "execution_count": 79,
   "metadata": {},
   "outputs": [],
   "source": [
    "X_cuhd[:,0,:,:f_d] = np.arange(1,16).reshape((5,3,1))"
   ]
  },
  {
   "cell_type": "code",
   "execution_count": 81,
   "metadata": {},
   "outputs": [
    {
     "data": {
      "text/plain": [
       "((3, 5), (5, 3, 1))"
      ]
     },
     "execution_count": 81,
     "metadata": {},
     "output_type": "execute_result"
    }
   ],
   "source": [
    "(q_ic.shape, X_cuhd[:,u,:,:f_d].shape)"
   ]
  },
  {
   "cell_type": "code",
   "execution_count": 84,
   "metadata": {},
   "outputs": [
    {
     "data": {
      "text/plain": [
       "(array([[1, 0, 0, 1, 0],\n",
       "        [0, 1, 1, 1, 1],\n",
       "        [1, 0, 0, 0, 1]]),\n",
       " array([[[ 1],\n",
       "         [ 2],\n",
       "         [ 3]],\n",
       " \n",
       "        [[ 4],\n",
       "         [ 5],\n",
       "         [ 6]],\n",
       " \n",
       "        [[ 7],\n",
       "         [ 8],\n",
       "         [ 9]],\n",
       " \n",
       "        [[10],\n",
       "         [11],\n",
       "         [12]],\n",
       " \n",
       "        [[13],\n",
       "         [14],\n",
       "         [15]]]))"
      ]
     },
     "execution_count": 84,
     "metadata": {},
     "output_type": "execute_result"
    }
   ],
   "source": [
    "(q_ic, X_cuhd[:,u,:,:f_d])"
   ]
  },
  {
   "cell_type": "code",
   "execution_count": 101,
   "metadata": {},
   "outputs": [
    {
     "data": {
      "text/plain": [
       "array([ 6, 15, 24, 33, 42])"
      ]
     },
     "execution_count": 101,
     "metadata": {},
     "output_type": "execute_result"
    }
   ],
   "source": [
    "X_cuhd[:,u,:,:f_d].sum(axis=(1,2))"
   ]
  },
  {
   "cell_type": "code",
   "execution_count": 105,
   "metadata": {},
   "outputs": [
    {
     "data": {
      "text/plain": [
       "array([[0., 0., 0., 0., 0.],\n",
       "       [0., 0., 0., 0., 0.],\n",
       "       [0., 0., 0., 0., 0.]])"
      ]
     },
     "execution_count": 105,
     "metadata": {},
     "output_type": "execute_result"
    }
   ],
   "source": [
    "q_ic * s_cuhd[:,u,:,:f_d].sum(axis=(1,2))"
   ]
  },
  {
   "cell_type": "code",
   "execution_count": 104,
   "metadata": {},
   "outputs": [
    {
     "data": {
      "text/plain": [
       "array([[ 6.,  0.,  0., 33.,  0.],\n",
       "       [ 0., 15., 24., 33., 42.],\n",
       "       [ 6.,  0.,  0.,  0., 42.]])"
      ]
     },
     "execution_count": 104,
     "metadata": {},
     "output_type": "execute_result"
    }
   ],
   "source": [
    "(q_ic * X_cuhd[:,u,:,:f_d].sum(axis=(1,2)) + q_ic * s_cuhd[:,u,:,:f_d].sum(axis=(1,2)))"
   ]
  },
  {
   "cell_type": "code",
   "execution_count": 100,
   "metadata": {},
   "outputs": [
    {
     "data": {
      "text/plain": [
       "array([ 39, 114,  48])"
      ]
     },
     "execution_count": 100,
     "metadata": {},
     "output_type": "execute_result"
    }
   ],
   "source": [
    "(q_ic * X_cuhd[:,u,:,:f_d].sum(axis=(1,2))).sum(axis=1)"
   ]
  },
  {
   "cell_type": "code",
   "execution_count": 129,
   "metadata": {},
   "outputs": [
    {
     "data": {
      "text/plain": [
       "array([0., 0., 0.])"
      ]
     },
     "execution_count": 129,
     "metadata": {},
     "output_type": "execute_result"
    }
   ],
   "source": [
    "(q_ic * s_cuhd[:,u,:,:f_d].sum(axis=(1,2))).sum(axis=1)"
   ]
  },
  {
   "cell_type": "code",
   "execution_count": 147,
   "metadata": {},
   "outputs": [
    {
     "data": {
      "text/plain": [
       "array([ 45., 126.,  54.])"
      ]
     },
     "execution_count": 147,
     "metadata": {},
     "output_type": "execute_result"
    }
   ],
   "source": [
    "(q_ic * X_cuhd[:,u,:,:f_d].sum(axis=(1,2))).sum(axis=1) + (q_ic * s_cuhd[:,u,:,f_d:].sum(axis=(1,2))).sum(axis=1)"
   ]
  },
  {
   "cell_type": "code",
   "execution_count": 136,
   "metadata": {},
   "outputs": [
    {
     "data": {
      "text/plain": [
       "array([ 6, 15, 24, 33, 42])"
      ]
     },
     "execution_count": 136,
     "metadata": {},
     "output_type": "execute_result"
    }
   ],
   "source": [
    "(X_cuhd[:,u,:,:f_d].sum(axis=(1,2)))"
   ]
  },
  {
   "cell_type": "code",
   "execution_count": 119,
   "metadata": {},
   "outputs": [
    {
     "data": {
      "text/plain": [
       "array([4, 5, 3])"
      ]
     },
     "execution_count": 119,
     "metadata": {},
     "output_type": "execute_result"
    }
   ],
   "source": [
    "m_i"
   ]
  },
  {
   "cell_type": "code",
   "execution_count": 164,
   "metadata": {},
   "outputs": [
    {
     "data": {
      "text/plain": [
       "[array([ 45., 126.,  54.]),\n",
       " array([ 6., 12.,  6.]),\n",
       " array([ 6., 12.,  6.]),\n",
       " array([ 6., 12.,  6.]),\n",
       " array([ 6., 12.,  6.]),\n",
       " array([ 6., 12.,  6.]),\n",
       " array([ 6., 12.,  6.]),\n",
       " array([ 6., 12.,  6.]),\n",
       " array([ 6., 12.,  6.]),\n",
       " array([ 6., 12.,  6.]),\n",
       " array([ 6., 12.,  6.]),\n",
       " array([ 6., 12.,  6.]),\n",
       " array([ 6., 12.,  6.]),\n",
       " array([ 6., 12.,  6.]),\n",
       " array([ 6., 12.,  6.]),\n",
       " array([ 6., 12.,  6.]),\n",
       " array([ 6., 12.,  6.]),\n",
       " array([ 6., 12.,  6.]),\n",
       " array([ 6., 12.,  6.]),\n",
       " array([ 6., 12.,  6.]),\n",
       " array([ 6., 12.,  6.]),\n",
       " array([ 6., 12.,  6.]),\n",
       " array([ 6., 12.,  6.]),\n",
       " array([ 6., 12.,  6.]),\n",
       " array([ 6., 12.,  6.]),\n",
       " array([ 6., 12.,  6.]),\n",
       " array([ 6., 12.,  6.]),\n",
       " array([ 6., 12.,  6.]),\n",
       " array([ 6., 12.,  6.]),\n",
       " array([ 6., 12.,  6.]),\n",
       " array([ 6., 12.,  6.]),\n",
       " array([ 6., 12.,  6.]),\n",
       " array([ 6., 12.,  6.]),\n",
       " array([ 6., 12.,  6.]),\n",
       " array([ 6., 12.,  6.]),\n",
       " array([ 6., 12.,  6.]),\n",
       " array([ 6., 12.,  6.]),\n",
       " array([ 6., 12.,  6.]),\n",
       " array([ 6., 12.,  6.]),\n",
       " array([ 6., 12.,  6.]),\n",
       " array([ 6., 12.,  6.]),\n",
       " array([ 6., 12.,  6.]),\n",
       " array([ 6., 12.,  6.]),\n",
       " array([ 6., 12.,  6.]),\n",
       " array([ 6., 12.,  6.]),\n",
       " array([ 6., 12.,  6.]),\n",
       " array([ 6., 12.,  6.]),\n",
       " array([ 6., 12.,  6.]),\n",
       " array([ 6., 12.,  6.]),\n",
       " array([ 6., 12.,  6.]),\n",
       " array([ 6., 12.,  6.]),\n",
       " array([ 6., 12.,  6.]),\n",
       " array([ 6., 12.,  6.]),\n",
       " array([ 6., 12.,  6.]),\n",
       " array([ 6., 12.,  6.]),\n",
       " array([ 6., 12.,  6.]),\n",
       " array([ 6., 12.,  6.]),\n",
       " array([ 6., 12.,  6.]),\n",
       " array([ 6., 12.,  6.]),\n",
       " array([ 6., 12.,  6.]),\n",
       " array([ 6., 12.,  6.]),\n",
       " array([ 6., 12.,  6.]),\n",
       " array([ 6., 12.,  6.]),\n",
       " array([ 6., 12.,  6.]),\n",
       " array([ 6., 12.,  6.]),\n",
       " array([ 6., 12.,  6.]),\n",
       " array([ 6., 12.,  6.]),\n",
       " array([ 6., 12.,  6.]),\n",
       " array([ 6., 12.,  6.]),\n",
       " array([ 6., 12.,  6.]),\n",
       " array([ 6., 12.,  6.]),\n",
       " array([ 6., 12.,  6.]),\n",
       " array([ 6., 12.,  6.]),\n",
       " array([ 6., 12.,  6.]),\n",
       " array([ 6., 12.,  6.]),\n",
       " array([ 6., 12.,  6.]),\n",
       " array([ 6., 12.,  6.]),\n",
       " array([ 6., 12.,  6.]),\n",
       " array([ 6., 12.,  6.]),\n",
       " array([ 6., 12.,  6.]),\n",
       " array([ 6., 12.,  6.]),\n",
       " array([ 6., 12.,  6.]),\n",
       " array([ 6., 12.,  6.]),\n",
       " array([ 6., 12.,  6.]),\n",
       " array([ 6., 12.,  6.]),\n",
       " array([ 6., 12.,  6.]),\n",
       " array([ 6., 12.,  6.]),\n",
       " array([ 6., 12.,  6.]),\n",
       " array([ 6., 12.,  6.]),\n",
       " array([ 6., 12.,  6.]),\n",
       " array([ 6., 12.,  6.]),\n",
       " array([ 6., 12.,  6.]),\n",
       " array([ 6., 12.,  6.]),\n",
       " array([ 6., 12.,  6.]),\n",
       " array([ 6., 12.,  6.]),\n",
       " array([ 6., 12.,  6.]),\n",
       " array([ 6., 12.,  6.]),\n",
       " array([ 6., 12.,  6.]),\n",
       " array([ 6., 12.,  6.]),\n",
       " array([ 6., 12.,  6.])]"
      ]
     },
     "execution_count": 164,
     "metadata": {},
     "output_type": "execute_result"
    }
   ],
   "source": [
    "[(q_ic * X_cuhd[:,u,:,:f_d].sum(axis=(1,2))).sum(axis=1) + (q_ic * s_cuhd[:,u,:,f_d:].sum(axis=(1,2))).sum(axis=1)\n",
    "for u in range(0,U)]"
   ]
  },
  {
   "cell_type": "code",
   "execution_count": 151,
   "metadata": {},
   "outputs": [
    {
     "name": "stdout",
     "output_type": "stream",
     "text": [
      "45 <= 4\n",
      "6 <= 4\n",
      "6 <= 4\n",
      "6 <= 4\n",
      "6 <= 4\n",
      "6 <= 4\n",
      "6 <= 4\n",
      "6 <= 4\n",
      "6 <= 4\n",
      "6 <= 4\n",
      "6 <= 4\n",
      "6 <= 4\n",
      "6 <= 4\n",
      "6 <= 4\n",
      "6 <= 4\n",
      "6 <= 4\n",
      "6 <= 4\n",
      "6 <= 4\n",
      "6 <= 4\n",
      "6 <= 4\n",
      "6 <= 4\n",
      "6 <= 4\n",
      "6 <= 4\n",
      "6 <= 4\n",
      "6 <= 4\n",
      "6 <= 4\n",
      "6 <= 4\n",
      "6 <= 4\n",
      "6 <= 4\n",
      "6 <= 4\n",
      "6 <= 4\n",
      "6 <= 4\n",
      "6 <= 4\n",
      "6 <= 4\n",
      "6 <= 4\n",
      "6 <= 4\n",
      "6 <= 4\n",
      "6 <= 4\n",
      "6 <= 4\n",
      "6 <= 4\n",
      "6 <= 4\n",
      "6 <= 4\n",
      "6 <= 4\n",
      "6 <= 4\n",
      "6 <= 4\n",
      "6 <= 4\n",
      "6 <= 4\n",
      "6 <= 4\n",
      "6 <= 4\n",
      "6 <= 4\n",
      "6 <= 4\n",
      "6 <= 4\n",
      "6 <= 4\n",
      "6 <= 4\n",
      "6 <= 4\n",
      "6 <= 4\n",
      "6 <= 4\n",
      "6 <= 4\n",
      "6 <= 4\n",
      "6 <= 4\n",
      "6 <= 4\n",
      "6 <= 4\n",
      "6 <= 4\n",
      "6 <= 4\n",
      "6 <= 4\n",
      "6 <= 4\n",
      "6 <= 4\n",
      "6 <= 4\n",
      "6 <= 4\n",
      "6 <= 4\n",
      "6 <= 4\n",
      "6 <= 4\n",
      "6 <= 4\n",
      "6 <= 4\n",
      "6 <= 4\n",
      "6 <= 4\n",
      "6 <= 4\n",
      "6 <= 4\n",
      "6 <= 4\n",
      "6 <= 4\n",
      "6 <= 4\n",
      "6 <= 4\n",
      "6 <= 4\n",
      "6 <= 4\n",
      "6 <= 4\n",
      "6 <= 4\n",
      "6 <= 4\n",
      "6 <= 4\n",
      "6 <= 4\n",
      "6 <= 4\n",
      "6 <= 4\n",
      "6 <= 4\n",
      "6 <= 4\n",
      "6 <= 4\n",
      "6 <= 4\n",
      "6 <= 4\n",
      "6 <= 4\n",
      "6 <= 4\n",
      "6 <= 4\n",
      "6 <= 4\n",
      "126 <= 5\n",
      "12 <= 5\n",
      "12 <= 5\n",
      "12 <= 5\n",
      "12 <= 5\n",
      "12 <= 5\n",
      "12 <= 5\n",
      "12 <= 5\n",
      "12 <= 5\n",
      "12 <= 5\n",
      "12 <= 5\n",
      "12 <= 5\n",
      "12 <= 5\n",
      "12 <= 5\n",
      "12 <= 5\n",
      "12 <= 5\n",
      "12 <= 5\n",
      "12 <= 5\n",
      "12 <= 5\n",
      "12 <= 5\n",
      "12 <= 5\n",
      "12 <= 5\n",
      "12 <= 5\n",
      "12 <= 5\n",
      "12 <= 5\n",
      "12 <= 5\n",
      "12 <= 5\n",
      "12 <= 5\n",
      "12 <= 5\n",
      "12 <= 5\n",
      "12 <= 5\n",
      "12 <= 5\n",
      "12 <= 5\n",
      "12 <= 5\n",
      "12 <= 5\n",
      "12 <= 5\n",
      "12 <= 5\n",
      "12 <= 5\n",
      "12 <= 5\n",
      "12 <= 5\n",
      "12 <= 5\n",
      "12 <= 5\n",
      "12 <= 5\n",
      "12 <= 5\n",
      "12 <= 5\n",
      "12 <= 5\n",
      "12 <= 5\n",
      "12 <= 5\n",
      "12 <= 5\n",
      "12 <= 5\n",
      "12 <= 5\n",
      "12 <= 5\n",
      "12 <= 5\n",
      "12 <= 5\n",
      "12 <= 5\n",
      "12 <= 5\n",
      "12 <= 5\n",
      "12 <= 5\n",
      "12 <= 5\n",
      "12 <= 5\n",
      "12 <= 5\n",
      "12 <= 5\n",
      "12 <= 5\n",
      "12 <= 5\n",
      "12 <= 5\n",
      "12 <= 5\n",
      "12 <= 5\n",
      "12 <= 5\n",
      "12 <= 5\n",
      "12 <= 5\n",
      "12 <= 5\n",
      "12 <= 5\n",
      "12 <= 5\n",
      "12 <= 5\n",
      "12 <= 5\n",
      "12 <= 5\n",
      "12 <= 5\n",
      "12 <= 5\n",
      "12 <= 5\n",
      "12 <= 5\n",
      "12 <= 5\n",
      "12 <= 5\n",
      "12 <= 5\n",
      "12 <= 5\n",
      "12 <= 5\n",
      "12 <= 5\n",
      "12 <= 5\n",
      "12 <= 5\n",
      "12 <= 5\n",
      "12 <= 5\n",
      "12 <= 5\n",
      "12 <= 5\n",
      "12 <= 5\n",
      "12 <= 5\n",
      "12 <= 5\n",
      "12 <= 5\n",
      "12 <= 5\n",
      "12 <= 5\n",
      "12 <= 5\n",
      "12 <= 5\n",
      "54 <= 3\n",
      "6 <= 3\n",
      "6 <= 3\n",
      "6 <= 3\n",
      "6 <= 3\n",
      "6 <= 3\n",
      "6 <= 3\n",
      "6 <= 3\n",
      "6 <= 3\n",
      "6 <= 3\n",
      "6 <= 3\n",
      "6 <= 3\n",
      "6 <= 3\n",
      "6 <= 3\n",
      "6 <= 3\n",
      "6 <= 3\n",
      "6 <= 3\n",
      "6 <= 3\n",
      "6 <= 3\n",
      "6 <= 3\n",
      "6 <= 3\n",
      "6 <= 3\n",
      "6 <= 3\n",
      "6 <= 3\n",
      "6 <= 3\n",
      "6 <= 3\n",
      "6 <= 3\n",
      "6 <= 3\n",
      "6 <= 3\n",
      "6 <= 3\n",
      "6 <= 3\n",
      "6 <= 3\n",
      "6 <= 3\n",
      "6 <= 3\n",
      "6 <= 3\n",
      "6 <= 3\n",
      "6 <= 3\n",
      "6 <= 3\n",
      "6 <= 3\n",
      "6 <= 3\n",
      "6 <= 3\n",
      "6 <= 3\n",
      "6 <= 3\n",
      "6 <= 3\n",
      "6 <= 3\n",
      "6 <= 3\n",
      "6 <= 3\n",
      "6 <= 3\n",
      "6 <= 3\n",
      "6 <= 3\n",
      "6 <= 3\n",
      "6 <= 3\n",
      "6 <= 3\n",
      "6 <= 3\n",
      "6 <= 3\n",
      "6 <= 3\n",
      "6 <= 3\n",
      "6 <= 3\n",
      "6 <= 3\n",
      "6 <= 3\n",
      "6 <= 3\n",
      "6 <= 3\n",
      "6 <= 3\n",
      "6 <= 3\n",
      "6 <= 3\n",
      "6 <= 3\n",
      "6 <= 3\n",
      "6 <= 3\n",
      "6 <= 3\n",
      "6 <= 3\n",
      "6 <= 3\n",
      "6 <= 3\n",
      "6 <= 3\n",
      "6 <= 3\n",
      "6 <= 3\n",
      "6 <= 3\n",
      "6 <= 3\n",
      "6 <= 3\n",
      "6 <= 3\n",
      "6 <= 3\n",
      "6 <= 3\n",
      "6 <= 3\n",
      "6 <= 3\n",
      "6 <= 3\n",
      "6 <= 3\n",
      "6 <= 3\n",
      "6 <= 3\n",
      "6 <= 3\n",
      "6 <= 3\n",
      "6 <= 3\n",
      "6 <= 3\n",
      "6 <= 3\n",
      "6 <= 3\n",
      "6 <= 3\n",
      "6 <= 3\n",
      "6 <= 3\n",
      "6 <= 3\n",
      "6 <= 3\n",
      "6 <= 3\n",
      "6 <= 3\n"
     ]
    }
   ],
   "source": [
    "for c in (\n",
    "            (mdl.sum( (X_cuhd[(c,u,h,d)] if d < f_d else s_cuhd[(c,u,h,d)])* q_ic[i,c]\n",
    "                for d in range(0,D)\n",
    "                for c in range(0,C)\n",
    "                for h in range(0,H)) <= m_i[i])\n",
    "            for i in range(0,I)\n",
    "            for u in range(0,U)):\n",
    "    print(c)"
   ]
  }
 ],
 "metadata": {
  "kernelspec": {
   "name": "python379jvsc74a57bd09e271a40c1414dfdece4d0f65154f1258f48f4492912f00e866b3003ee4e6964",
   "display_name": "Python 3.7.9 64-bit ('copt')"
  },
  "language_info": {
   "codemirror_mode": {
    "name": "ipython",
    "version": 3
   },
   "file_extension": ".py",
   "mimetype": "text/x-python",
   "name": "python",
   "nbconvert_exporter": "python",
   "pygments_lexer": "ipython3",
   "version": "3.7.9-final"
  }
 },
 "nbformat": 4,
 "nbformat_minor": 4
}