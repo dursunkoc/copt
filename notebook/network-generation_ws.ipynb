{
 "cells": [
  {
   "cell_type": "code",
   "execution_count": null,
   "metadata": {},
   "outputs": [],
   "source": [
    "import sys\n",
    "import os\n",
    "sys.path.insert(0, os.path.abspath('../src'))\n",
    "import model_parameters as MP\n",
    "import numpy as np\n",
    "import networkx as nx\n",
    "from networkx.algorithms.centrality import betweenness_centrality as BC\n",
    "from networkx.algorithms.centrality import degree_centrality as DC\n",
    "import matplotlib.pyplot as plt\n",
    "from experiment.network_generator import gen_network\n",
    "import pandas as pd\n",
    "import networkx.algorithms.centrality as nxac"
   ]
  },
  {
   "cell_type": "code",
   "execution_count": null,
   "metadata": {},
   "outputs": [],
   "source": [
    "from docplex.mp.model import Model\n",
    "from time import time\n",
    "from experiment.network_generator import gen_network\n",
    "import numpy as np\n",
    "\n",
    "\n",
    "def solve_network_model(a_uv, U, e_u):\n",
    "    start_time = time()\n",
    "    print(\"Starting Model: \")\n",
    "    mdl = Model(name='Network Optimization')\n",
    "    X = {u: mdl.binary_var(f\"X_u:{u}\")\n",
    "                for u in range(0,U)}\n",
    "\n",
    "    mdl.minimize(mdl.sum([ X[u] for u in range(0,U) ]))\n",
    "\n",
    "    mdl.add_constraints(\n",
    "            1 <= mdl.sum((X[u]) + (mdl.sum(X[v] * a_uv[u,v] for v in range(0,U) if a_uv[u,v]==1)))\n",
    "            for u in range(0,U) if e_u[u]!=0\n",
    "    )\n",
    "    mdl.add_constraints(\n",
    "            (X[u] <= 0 for u in range(0,U) if e_u[u]==0)\n",
    "    )\n",
    "\n",
    "    end_time = time()\n",
    "    print(\"Started Model: \"+str(end_time - start_time))\n",
    "\n",
    "    start_time = time()\n",
    "    print(\"Solving Model: \"+str(start_time - end_time))\n",
    "    result = mdl.solve(log_output=False)\n",
    "    end_time = time()\n",
    "\n",
    "    X_u = np.zeros(U, dtype='int')\n",
    "    if result is not None and result.as_name_dict() is not None:\n",
    "        for ky,_ in result.as_name_dict().items():\n",
    "            exec(f'X_u{[int(i.split(\":\")[1]) for i in ky.split(\"_\")[1:]]} = 1', {}, {'X_u':X_u})\n",
    "    return X_u"
   ]
  },
  {
   "cell_type": "code",
   "execution_count": null,
   "metadata": {},
   "outputs": [],
   "source": [
    "def max_degree(grph):\n",
    "    nn = max(grph.degree, key=lambda x: x[1])\n",
    "    grph.remove_node(nn[0])\n",
    "    return nn[0]\n",
    "\n",
    "def max_degree_b(grph, seen, X_u):\n",
    "    dd = {gd[0]:gd[1]*X_u[gd[0]] for gd in grph.degree}\n",
    "    max_val = max(dd.items(), key=lambda x: x[1])[1]\n",
    "    nns = [n for n in dd.items() if n[1] == max_val]\n",
    "    nns_ = [n for n in nns if n[0] not in seen]\n",
    "    if len(nns_)>0:\n",
    "        nn = nns_[0]\n",
    "    else:\n",
    "        nn = nns[0]\n",
    "    neighbors = grph.neighbors(nn[0])\n",
    "    grph.remove_node(nn[0])\n",
    "    seen |= set(list(neighbors))\n",
    "    return (nn[0], seen)\n",
    "\n",
    "def sort_nodes_to_inc_span(grph, X_u):\n",
    "    result=list()\n",
    "    seen = set()\n",
    "    for _ in range(len(grph.degree)):\n",
    "        elem, seen = max_degree_b(grph, seen, X_u)\n",
    "        result.append(elem)\n",
    "    return result\n"
   ]
  },
  {
   "cell_type": "code",
   "execution_count": null,
   "metadata": {},
   "outputs": [],
   "source": [
    "X_cuhd = np.zeros((1,50,1,1), dtype='int')\n",
    "a_uv, g = gen_network(n=50, seed=1, net_type='barabasi', m=4, p=None, drop_prob=.9)\n",
    "X_u = solve_network_model(a_uv=a_uv, U=50, e_u=np.ones(50))\n",
    "N_i_j, g = gen_network(n=50, seed=1, net_type='barabasi', m=4, p=None, drop_prob=.9)\n",
    "plt.style.use('classic')\n",
    "sp = sort_nodes_to_inc_span(g, X_u)"
   ]
  },
  {
   "cell_type": "code",
   "execution_count": null,
   "metadata": {
    "scrolled": false
   },
   "outputs": [],
   "source": [
    "N_i_j, g = gen_network(n=50, seed=1, net_type='barabasi', m=4, p=None, drop_prob=.9)\n",
    "plt.style.use('classic')\n",
    "for i,p in enumerate(sp):\n",
    "    colors = ['tab:red' if nd == p  else 'tab:blue' for nd in g.nodes]\n",
    "    nx.draw(g, node_color=colors, pos=nx.fruchterman_reingold_layout(g, k=1/4), with_labels=True)\n",
    "    \n",
    "    g.remove_node(p)\n",
    "    plt.show()"
   ]
  },
  {
   "cell_type": "code",
   "execution_count": 139,
   "metadata": {},
   "outputs": [
    {
     "data": {
      "text/plain": [
       "Text(0.85, 0.7, 'Social Network with \\nCDR and Tariff-Change Data')"
      ]
     },
     "execution_count": 139,
     "metadata": {},
     "output_type": "execute_result"
    },
    {
     "data": {
      "image/png": "[encoded data removed]",
      "text/plain": [
       "<Figure size 576x288 with 1 Axes>"
      ]
     },
     "metadata": {},
     "output_type": "display_data"
    }
   ],
   "source": [
    "fig,ax = plt.subplots(figsize=(8, 4))\n",
    "\n",
    "d = nx.Graph()\n",
    "d.add_node(100, pos=(1,5))\n",
    "dpos=nx.get_node_attributes(d,'pos')\n",
    "nx.draw(d, pos=dpos, with_labels=False, node_size=0)\n",
    "\n",
    "sna = nx.Graph()\n",
    "sna.add_node(1, pos=(1,3))\n",
    "sna.add_node(2, pos=(1,1))\n",
    "sna.add_node(3, pos=(2,2))\n",
    "sna.add_node(4, pos=(3,3))\n",
    "sna.add_node(5, pos=(3,1))\n",
    "sna.add_edge(1,4)\n",
    "sna.add_edge(1,3)\n",
    "sna.add_edge(2,3)\n",
    "sna.add_edge(2,5)\n",
    "\n",
    "pos=nx.get_node_attributes(sna,'pos')\n",
    "\n",
    "nx.draw(sna, pos=pos, with_labels=True)\n",
    "\n",
    "tsna = nx.Graph()\n",
    "tsna.add_node(1, pos=(9,3))\n",
    "tsna.add_node(2, pos=(9,1))\n",
    "tsna.add_node(3, pos=(10,2))\n",
    "tsna.add_node(4, pos=(11,3))\n",
    "tsna.add_node(5, pos=(11,1))\n",
    "tsna.add_edge(1,4)\n",
    "#tsna.add_edge(1,3)\n",
    "tsna.add_edge(2,3)\n",
    "tsna.add_edge(2,5)\n",
    "\n",
    "tpos=nx.get_node_attributes(tsna,'pos')\n",
    "\n",
    "nx.draw(tsna, pos=tpos, with_labels=True)\n",
    "\n",
    "ax.text(\n",
    "    .13,\n",
    "    .7,\n",
    "    \"\"\"Social Network with \n",
    "CDR only\"\"\",\n",
    "    transform=ax.transAxes,\n",
    "    fontsize=10,\n",
    "    verticalalignment=\"top\",\n",
    "    bbox=dict(boxstyle=\"round\", facecolor=\"w\", alpha=0.5),\n",
    "    ha=\"center\"\n",
    ")\n",
    "\n",
    "ax.text(\n",
    "    .85,\n",
    "    .7,\n",
    "    \"\"\"Social Network with \n",
    "CDR and Tariff-Change Data\"\"\",\n",
    "    transform=ax.transAxes,\n",
    "    fontsize=10,\n",
    "    verticalalignment=\"top\",\n",
    "    bbox=dict(boxstyle=\"round\", facecolor=\"w\", alpha=0.5),\n",
    "    wrap=True,ha='center'\n",
    ")\n"
   ]
  },
  {
   "cell_type": "code",
   "execution_count": null,
   "metadata": {},
   "outputs": [],
   "source": [
    "nx.get_node_attributes(sna, 'pos')"
   ]
  }
 ],
 "metadata": {
  "interpreter": {
   "hash": "7a5ca5b131fe98d021234607e863ece707cf565acc47be7c8fdd683f503f23c5"
  },
  "kernelspec": {
   "display_name": "Python 3",
   "language": "python",
   "name": "python3"
  },
  "language_info": {
   "codemirror_mode": {
    "name": "ipython",
    "version": 3
   },
   "file_extension": ".py",
   "mimetype": "text/x-python",
   "name": "python",
   "nbconvert_exporter": "python",
   "pygments_lexer": "ipython3",
   "version": "3.7.9"
  }
 },
 "nbformat": 4,
 "nbformat_minor": 2
}
