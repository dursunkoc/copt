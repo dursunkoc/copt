{
 "cells": [
  {
   "cell_type": "code",
   "execution_count": 1,
   "metadata": {},
   "outputs": [],
   "source": [
    "import pandas as pd\n",
    "import numpy as np\n",
    "from docplex.mp.model import Model\n",
    "\n",
    "np.random.seed(13)"
   ]
  },
  {
   "cell_type": "markdown",
   "metadata": {},
   "source": [
    "## Mathematical Model"
   ]
  },
  {
   "cell_type": "markdown",
   "metadata": {},
   "source": [
    "#### Sets\n",
    "- C\tSet of campaigns.\n",
    "- U\tSet of customers.\n",
    "- H\tSet of channels\n",
    "- D\tSet of planning days.\n",
    "- I\tSet of quota categories.\n",
    "- P\tSet of priority categories.\n"
   ]
  },
  {
   "cell_type": "code",
   "execution_count": 2,
   "metadata": {},
   "outputs": [],
   "source": [
    "C = 5 # number of campaigns\n",
    "U = 100 # number of customers.\n",
    "H = 2 # number of channels.\n",
    "D = 7 # number of planning days.\n",
    "I = 3 # number of quota categories.\n",
    "P = 10 # number of priority categories."
   ]
  },
  {
   "cell_type": "code",
   "execution_count": 3,
   "metadata": {},
   "outputs": [],
   "source": [
    "#C = 10 # number of campaigns\n",
    "#U = 10000 # number of customers.\n",
    "#H = 3 # number of channels.\n",
    "#D = 7 # number of planning days.\n",
    "#I = 3 # number of quota categories.\n",
    "#P = 10 # number of priority categories."
   ]
  },
  {
   "cell_type": "markdown",
   "metadata": {},
   "source": [
    "#### Parameters"
   ]
  },
  {
   "cell_type": "markdown",
   "metadata": {},
   "source": [
    "##### - eligibility\n",
    "$$\n",
    "e_{cu}\\left\\{\\begin{array}\\\\\n",
    "        1 & \\mbox{if }  customer\\ u\\ is\\ eligible\\ for\\ campaign\\ c\\\\\n",
    "        0 & \\mbox{otherwise } \\\\\n",
    "    \\end{array}\n",
    "\\right.\n",
    "$$"
   ]
  },
  {
   "cell_type": "code",
   "execution_count": 4,
   "metadata": {},
   "outputs": [
    {
     "data": {
      "text/plain": [
       "array([[0, 0, 0, 0, 0, 0, 0, 1, 0, 0, 1, 0, 0, 0, 0, 0, 0, 1, 1, 0, 1, 1,\n",
       "        0, 0, 0, 1, 1, 1, 1, 0, 1, 1, 1, 0, 0, 0, 1, 0, 0, 0, 0, 0, 0, 1,\n",
       "        1, 1, 1, 0, 1, 0, 0, 1, 1, 0, 1, 1, 1, 1, 1, 1, 0, 1, 0, 0, 1, 1,\n",
       "        1, 1, 0, 0, 1, 0, 1, 0, 0, 0, 1, 0, 1, 0, 0, 0, 1, 1, 0, 1, 1, 1,\n",
       "        1, 1, 0, 1, 0, 1, 0, 1, 0, 1, 1, 1],\n",
       "       [1, 1, 1, 1, 1, 0, 0, 1, 1, 0, 0, 1, 1, 1, 0, 1, 0, 1, 1, 1, 0, 1,\n",
       "        1, 1, 0, 0, 0, 0, 1, 0, 0, 1, 0, 1, 1, 0, 1, 1, 1, 1, 0, 0, 1, 1,\n",
       "        1, 0, 0, 0, 0, 0, 1, 0, 0, 1, 0, 0, 1, 0, 1, 0, 1, 1, 0, 0, 1, 1,\n",
       "        1, 0, 1, 0, 1, 0, 1, 0, 1, 1, 1, 1, 0, 0, 0, 1, 0, 1, 1, 1, 0, 0,\n",
       "        1, 0, 1, 1, 0, 0, 1, 0, 1, 0, 1, 1],\n",
       "       [0, 0, 0, 0, 1, 0, 1, 0, 0, 1, 0, 1, 1, 0, 1, 0, 0, 1, 0, 0, 0, 0,\n",
       "        1, 0, 1, 1, 1, 0, 0, 0, 1, 0, 1, 0, 1, 0, 1, 0, 1, 0, 0, 0, 1, 0,\n",
       "        1, 0, 0, 0, 1, 0, 1, 0, 0, 1, 0, 1, 0, 1, 1, 1, 0, 1, 1, 1, 0, 1,\n",
       "        1, 1, 1, 1, 1, 1, 0, 1, 1, 0, 0, 0, 1, 0, 0, 0, 0, 0, 0, 1, 0, 1,\n",
       "        1, 0, 0, 0, 0, 0, 1, 1, 0, 0, 1, 0],\n",
       "       [1, 1, 1, 1, 0, 1, 0, 1, 0, 0, 0, 1, 0, 0, 0, 0, 1, 0, 0, 0, 0, 0,\n",
       "        1, 1, 1, 1, 1, 1, 0, 1, 1, 0, 0, 1, 0, 1, 0, 1, 1, 0, 0, 0, 1, 1,\n",
       "        0, 1, 0, 0, 0, 1, 0, 1, 1, 0, 0, 1, 1, 1, 0, 1, 0, 0, 1, 0, 1, 0,\n",
       "        1, 0, 0, 0, 0, 0, 0, 0, 1, 0, 1, 0, 1, 0, 0, 0, 1, 0, 0, 0, 0, 1,\n",
       "        1, 1, 1, 0, 0, 1, 1, 0, 0, 1, 1, 0],\n",
       "       [1, 1, 1, 1, 0, 0, 1, 1, 0, 0, 0, 1, 1, 0, 1, 0, 1, 0, 1, 1, 0, 1,\n",
       "        1, 1, 1, 0, 0, 0, 1, 1, 0, 1, 1, 0, 0, 0, 0, 1, 0, 1, 0, 1, 0, 0,\n",
       "        1, 0, 0, 1, 1, 1, 0, 0, 1, 0, 1, 0, 1, 0, 1, 1, 0, 0, 1, 1, 1, 0,\n",
       "        1, 0, 0, 0, 1, 0, 1, 0, 0, 0, 0, 1, 0, 1, 0, 1, 0, 0, 1, 1, 0, 1,\n",
       "        0, 0, 0, 0, 0, 1, 1, 1, 1, 0, 1, 0]])"
      ]
     },
     "execution_count": 4,
     "metadata": {},
     "output_type": "execute_result"
    }
   ],
   "source": [
    "e_cu = np.random.choice(2,(C, U))\n",
    "#e_cu = np.ones((C, U), dtype='int8')\n",
    "e_cu"
   ]
  },
  {
   "cell_type": "markdown",
   "metadata": {},
   "source": [
    "##### - quota categories\n",
    "$$\n",
    "q_{ic}\\left\\{\\begin{array}\\\\\n",
    "        1 & \\mbox{if }  campaign\\ c\\ is\\ a\\ i^{th} type\\ quota\\ category\\ campaign\\ \\\\\n",
    "        0 & \\mbox{otherwise } \\\\\n",
    "    \\end{array}\n",
    "\\right.\n",
    "$$"
   ]
  },
  {
   "cell_type": "code",
   "execution_count": 5,
   "metadata": {},
   "outputs": [
    {
     "data": {
      "text/plain": [
       "array([[1, 1, 1, 0, 0],\n",
       "       [1, 1, 0, 1, 0],\n",
       "       [0, 1, 1, 1, 1]])"
      ]
     },
     "execution_count": 5,
     "metadata": {},
     "output_type": "execute_result"
    }
   ],
   "source": [
    "q_ic = np.random.choice(2, (I,C))\n",
    "#q_ic = np.zeros((I,C), dtype='int8')\n",
    "q_ic"
   ]
  },
  {
   "cell_type": "markdown",
   "metadata": {},
   "source": [
    "##### - priority categories\n",
    "$$r_{cp}: Priority\\ value\\ of\\ campaign\\ c\\ regarding\\ priority\\ type\\ p\\$$"
   ]
  },
  {
   "cell_type": "code",
   "execution_count": 6,
   "metadata": {},
   "outputs": [
    {
     "data": {
      "text/plain": [
       "[41, 37, 45, 47, 52]"
      ]
     },
     "execution_count": 6,
     "metadata": {},
     "output_type": "execute_result"
    }
   ],
   "source": [
    "r_p = np.random.choice(100, P)\n",
    "#r_p = np.ones(P, dtype='int8')\n",
    "rp_c = [r_p[r] for r in np.random.choice(P, C)]\n",
    "rp_c"
   ]
  },
  {
   "cell_type": "markdown",
   "metadata": {},
   "source": [
    "##### - blokage\n",
    "$$b: Communication\\ limit\\ per\\ person\\ for\\ the\\ whole\\ period\\$$"
   ]
  },
  {
   "cell_type": "code",
   "execution_count": 7,
   "metadata": {},
   "outputs": [],
   "source": [
    "b = 7"
   ]
  },
  {
   "cell_type": "markdown",
   "metadata": {},
   "source": [
    "##### - daily blokage\n",
    "$$k: Communication\\ limit\\ per\\ person\\ at\\ each\\ day\\$$"
   ]
  },
  {
   "cell_type": "code",
   "execution_count": 8,
   "metadata": {},
   "outputs": [],
   "source": [
    "k = 2"
   ]
  },
  {
   "cell_type": "markdown",
   "metadata": {},
   "source": [
    "##### - campaign blockage\n",
    "$$l_c: Communication\\ limit\\ per\\ person\\ for\\ campaign\\ c\\$$"
   ]
  },
  {
   "cell_type": "code",
   "execution_count": 9,
   "metadata": {},
   "outputs": [
    {
     "data": {
      "text/plain": [
       "array([2, 4, 4, 3, 3])"
      ]
     },
     "execution_count": 9,
     "metadata": {},
     "output_type": "execute_result"
    }
   ],
   "source": [
    "l_c = np.random.choice([2,3,4],C)\n",
    "l_c"
   ]
  },
  {
   "cell_type": "markdown",
   "metadata": {},
   "source": [
    "##### - quota limitations daily/weekly\n",
    "$$\n",
    "m_i: Communication\\ limit\\ per\\ person\\ for\\ i^{th}\\ category\\\n",
    "$$\n",
    "$$\n",
    "n_i: Communication\\ limit\\ per\\ person\\ for\\ i^{th}\\ category\\ each\\ day\\\n",
    "$$"
   ]
  },
  {
   "cell_type": "code",
   "execution_count": 10,
   "metadata": {},
   "outputs": [
    {
     "data": {
      "text/plain": [
       "(array([15, 15, 10]), array([3, 3, 3]))"
      ]
     },
     "execution_count": 10,
     "metadata": {},
     "output_type": "execute_result"
    }
   ],
   "source": [
    "m_i = np.random.choice([10,15,18],I)\n",
    "n_i = np.random.choice([2,3,4],I)\n",
    "#m_i = np.ones((I), dtype='int8')*10\n",
    "#n_i = np.ones((I), dtype='int8')*10\n",
    "(m_i, n_i)"
   ]
  },
  {
   "cell_type": "markdown",
   "metadata": {},
   "source": [
    "#### - capacity for channel\n",
    "$$\n",
    "t_{h,d}: Capacity\\ for\\ channel\\ h\\ at\\ day\\ d.\\\n",
    "$$"
   ]
  },
  {
   "cell_type": "code",
   "execution_count": 11,
   "metadata": {},
   "outputs": [],
   "source": [
    "t_hd = np.random.choice([70], (H, D))"
   ]
  },
  {
   "cell_type": "markdown",
   "metadata": {},
   "source": [
    "### Model"
   ]
  },
  {
   "cell_type": "code",
   "execution_count": 12,
   "metadata": {},
   "outputs": [],
   "source": [
    "mdl = Model(name='Campaign Optimization')"
   ]
  },
  {
   "cell_type": "markdown",
   "metadata": {},
   "source": [
    "#### Variables\n",
    "$$\n",
    "X_{cuhd}\\left\\{\\begin{array}\\\\\n",
    "        1 & \\mbox{if } Campaign\\ c\\ will\\ be\\ sent\\ to\\ customer\\ u\\ through\\ Channel\\ h\\ at\\ Day\\ d \\\\\n",
    "        0 & \\mbox{otherwise } \\\\\n",
    "    \\end{array}\n",
    "\\right.\n",
    "$$"
   ]
  },
  {
   "cell_type": "code",
   "execution_count": 13,
   "metadata": {},
   "outputs": [
    {
     "data": {
      "text/plain": [
       "'Done'"
      ]
     },
     "execution_count": 13,
     "metadata": {},
     "output_type": "execute_result"
    }
   ],
   "source": [
    "X_cuhd = {(c,u,h,d): mdl.binary_var(f\"X_c:{c}_u:{u}_h:{h}_d:{d}\")\n",
    "            for c in range(0,C)\n",
    "            for u in range(0,U) \n",
    "            for h in range(0,H)\n",
    "            for d in range(0,D)}\n",
    "\"Done\""
   ]
  },
  {
   "cell_type": "markdown",
   "metadata": {},
   "source": [
    "## Maximize\n",
    "$$\\sum_{p \\in P}\\sum_{c \\in C}\\sum_{u \\in U}\\sum_{h \\in H}\\sum_{d \\in D}\\,X_{cuhd}\\ r_{cp}$$"
   ]
  },
  {
   "cell_type": "code",
   "execution_count": 14,
   "metadata": {},
   "outputs": [],
   "source": [
    "mdl.maximize(mdl.sum([X_cuhd[(c,u,h,d)] * rp_c[c]\n",
    "                  for p in range(0,P)\n",
    "                  for c in range(0,C)\n",
    "                  for u in range(0,U) \n",
    "                  for h in range(0,H) \n",
    "                  for d in range(0,D)]))"
   ]
  },
  {
   "cell_type": "markdown",
   "metadata": {},
   "source": [
    "## subject to"
   ]
  },
  {
   "cell_type": "markdown",
   "metadata": {},
   "source": [
    "##### - eligibility (2)\n",
    "\n",
    "$$\n",
    "X_{cuhd}  \\leq e_{cu},\\hspace{35pt} \\forall c \\in C,\\forall u \\in U,\\forall h \\in H,\\forall d \\in D\n",
    "$$"
   ]
  },
  {
   "cell_type": "code",
   "execution_count": 15,
   "metadata": {
    "scrolled": true
   },
   "outputs": [
    {
     "data": {
      "text/plain": [
       "'Done'"
      ]
     },
     "execution_count": 15,
     "metadata": {},
     "output_type": "execute_result"
    }
   ],
   "source": [
    "mdl.add_constraints(\n",
    "    (X_cuhd[(c,u,h,d)] <= e_cu[c,u]\n",
    "    for c in range(0,C)\n",
    "    for u in range(0,U) \n",
    "    for h in range(0,H) \n",
    "    for d in range(0,D))\n",
    ")\n",
    "\"Done\""
   ]
  },
  {
   "cell_type": "markdown",
   "metadata": {},
   "source": [
    "##### - use one channel (3)\n",
    "$$\n",
    "\\sum_{h}X_{cuhd} \\le 1,\\hspace{35pt} \\forall c \\in C \\, \\forall u \\in U,\\forall d \\in D\n",
    "$$"
   ]
  },
  {
   "cell_type": "code",
   "execution_count": 16,
   "metadata": {
    "scrolled": true
   },
   "outputs": [
    {
     "data": {
      "text/plain": [
       "'Done'"
      ]
     },
     "execution_count": 16,
     "metadata": {},
     "output_type": "execute_result"
    }
   ],
   "source": [
    "mdl.add_constraints(\n",
    "    ((mdl.sum(X_cuhd[(c,u,h,d)] for h in range(0,H)) <= 1)\n",
    "    for c in range(0,C)\n",
    "    for u in range(0,U) \n",
    "    for d in range(0,D))\n",
    ")\n",
    "\"Done\""
   ]
  },
  {
   "cell_type": "markdown",
   "metadata": {},
   "source": [
    "##### - weekly communication limitation (4)\n",
    "$$\n",
    "\\sum_{h \\in H}\\sum_{c \\in C}\\sum_{d \\in D} X_{cuhd}\\le b,\\hspace{35pt} \\forall u \\in U\n",
    "$$"
   ]
  },
  {
   "cell_type": "code",
   "execution_count": 17,
   "metadata": {},
   "outputs": [
    {
     "data": {
      "text/plain": [
       "'Done'"
      ]
     },
     "execution_count": 17,
     "metadata": {},
     "output_type": "execute_result"
    }
   ],
   "source": [
    "mdl.add_constraints(\n",
    "    (\n",
    "        (mdl.sum(X_cuhd[(c,u,h,d)] \n",
    "               for d in range(0,D) \n",
    "               for c in range(0,C) \n",
    "               for h in range(0,H)) <= b)\n",
    "        for u in range(0,U)))\n",
    "\"Done\""
   ]
  },
  {
   "cell_type": "markdown",
   "metadata": {},
   "source": [
    "##### - daily communication limitation (5)\n",
    "$$\n",
    "\\sum_{h \\in H}\\sum_{c \\in C} X_{cuhd}\\le k,\\hspace{35pt} \\forall u \\in U, \\forall d \\in D\n",
    "$$"
   ]
  },
  {
   "cell_type": "code",
   "execution_count": 18,
   "metadata": {},
   "outputs": [
    {
     "data": {
      "text/plain": [
       "'Done'"
      ]
     },
     "execution_count": 18,
     "metadata": {},
     "output_type": "execute_result"
    }
   ],
   "source": [
    "mdl.add_constraints(\n",
    "    (\n",
    "        (mdl.sum(X_cuhd[(c,u,h,d)]  \n",
    "               for c in range(0,C) \n",
    "               for h in range(0,H)) <= k)\n",
    "        for d in range(0,D)\n",
    "        for u in range(0,U)))\n",
    "\"Done\""
   ]
  },
  {
   "cell_type": "markdown",
   "metadata": {},
   "source": [
    "##### - campaign communication limit(6)\n",
    "$$\n",
    "\\sum_{d \\in D}\\sum_{h \\in H} X_{cuhd}\\le l_c,\\hspace{35pt} \\forall c \\in C,\\forall u \\in U;\n",
    "$$"
   ]
  },
  {
   "cell_type": "code",
   "execution_count": 19,
   "metadata": {
    "scrolled": true
   },
   "outputs": [
    {
     "data": {
      "text/plain": [
       "'Done'"
      ]
     },
     "execution_count": 19,
     "metadata": {},
     "output_type": "execute_result"
    }
   ],
   "source": [
    "mdl.add_constraints(\n",
    "    (\n",
    "        (mdl.sum(X_cuhd[(c,u,h,d)]  \n",
    "               for h in range(0,H) \n",
    "               for d in range(0,D)) <= l_c[c] )\n",
    "        for c in range(0,C)\n",
    "        for u in range(0,U)))\n",
    "\"Done\""
   ]
  },
  {
   "cell_type": "markdown",
   "metadata": {},
   "source": [
    "##### - weekly quota(7)\n",
    "$$\n",
    "\\sum_{d \\in D}\\sum_{h \\in H}\\sum_{c \\in C}{X_{cuhd} q_{ic}}\\le m_i,\\hspace{35pt} \\forall u \\in U, \\forall i \\in I\n",
    "$$"
   ]
  },
  {
   "cell_type": "code",
   "execution_count": 20,
   "metadata": {},
   "outputs": [
    {
     "data": {
      "text/plain": [
       "'Done'"
      ]
     },
     "execution_count": 20,
     "metadata": {},
     "output_type": "execute_result"
    }
   ],
   "source": [
    "mdl.add_constraints(\n",
    "    (\n",
    "        (mdl.sum(X_cuhd[(c,u,h,d)]*q_ic[i,c]\n",
    "               for c in range(0,C)\n",
    "               for h in range(0,H) \n",
    "               for d in range(0,D)) <= m_i[i])\n",
    "        for u in range(0,U)\n",
    "        for i in range(0,I)))\n",
    "\"Done\""
   ]
  },
  {
   "cell_type": "markdown",
   "metadata": {},
   "source": [
    "##### - daily quota(8)\n",
    "$$\n",
    "\\sum_{h \\in H}\\sum_{c \\in C}{X_{cuhd} q_{ic}}\\le n_i,\\hspace{35pt} \\forall u \\in U,\\, \\forall d \\in D, \\forall i \\in I\n",
    "$$"
   ]
  },
  {
   "cell_type": "code",
   "execution_count": 21,
   "metadata": {},
   "outputs": [
    {
     "data": {
      "text/plain": [
       "'Done'"
      ]
     },
     "execution_count": 21,
     "metadata": {},
     "output_type": "execute_result"
    }
   ],
   "source": [
    "mdl.add_constraints(\n",
    "    (\n",
    "        (mdl.sum(X_cuhd[(c,u,h,d)]*q_ic[i,c]\n",
    "               for c in range(0,C) \n",
    "               for h in range(0,H)) <= n_i[i])\n",
    "        for u in range(0,U)\n",
    "        for d in range(0,D)\n",
    "        for i in range(0,I)))\n",
    "\"Done\""
   ]
  },
  {
   "cell_type": "markdown",
   "metadata": {},
   "source": [
    "##### Channel capacity (9)\n",
    "$$\n",
    "\\sum_{c \\in C}\\sum_{u \\in U}{X_{cuhd}}\\le t_{hd},\\hspace{35pt} \\forall d \\in D,\\, \\forall h \\in H\n",
    "$$"
   ]
  },
  {
   "cell_type": "markdown",
   "metadata": {},
   "source": [
    "##### Binary variable (10)\n",
    "$$\n",
    "X_{cuhd} \\in \\{ 1,0 \\},\\hspace{35pt} \\forall c \\in C ,\\forall u \\in U,\\forall d \\in D, \\forall h \\in H\n",
    "$$"
   ]
  },
  {
   "cell_type": "code",
   "execution_count": 22,
   "metadata": {},
   "outputs": [
    {
     "data": {
      "text/plain": [
       "'Done'"
      ]
     },
     "execution_count": 22,
     "metadata": {},
     "output_type": "execute_result"
    }
   ],
   "source": [
    "mdl.add_constraints(\n",
    "    (\n",
    "        (mdl.sum(X_cuhd[(c,u,h,d)]\n",
    "               for u in range(0,U) \n",
    "               for c in range(0,C)) <= t_hd[h,d])\n",
    "        for h in range(0,H)\n",
    "        for d in range(0,D)))\n",
    "\"Done\""
   ]
  },
  {
   "cell_type": "markdown",
   "metadata": {},
   "source": [
    "### Solution"
   ]
  },
  {
   "cell_type": "code",
   "execution_count": 23,
   "metadata": {
    "scrolled": false
   },
   "outputs": [
    {
     "name": "stdout",
     "output_type": "stream",
     "text": [
      "Version identifier: 20.1.0.0 | 2020-11-10 | 9bedb6d68\n",
      "CPXPARAM_Read_DataCheck                          1\n",
      "CPXPARAM_RandomSeed                              202001241\n",
      "Found incumbent of value 0.000000 after 0.00 sec. (0.26 ticks)\n",
      "Tried aggregator 1 time.\n",
      "MIP Presolve eliminated 11842 rows and 3612 columns.\n",
      "Reduced MIP has 2372 rows, 3388 columns, and 15596 nonzeros.\n",
      "Reduced MIP has 3388 binaries, 0 generals, 0 SOSs, and 0 indicators.\n",
      "Presolve time = 0.05 sec. (17.39 ticks)\n",
      "Probing time = 0.04 sec. (0.50 ticks)\n",
      "Tried aggregator 1 time.\n",
      "Detecting symmetries...\n",
      "Reduced MIP has 2372 rows, 3388 columns, and 15596 nonzeros.\n",
      "Reduced MIP has 3388 binaries, 0 generals, 0 SOSs, and 0 indicators.\n",
      "Presolve time = 0.03 sec. (16.23 ticks)\n",
      "Probing time = 0.02 sec. (0.62 ticks)\n",
      "Clique table members: 1694.\n",
      "MIP emphasis: balance optimality and feasibility.\n",
      "MIP search method: dynamic search.\n",
      "Parallel mode: deterministic, using up to 4 threads.\n",
      "Root relaxation solution time = 0.03 sec. (10.16 ticks)\n",
      "\n",
      "        Nodes                                         Cuts/\n",
      "   Node  Left     Objective  IInf  Best Integer    Best Bound    ItCnt     Gap\n",
      "\n",
      "*     0+    0                            0.0000  1496180.0000              --- \n",
      "*     0+    0                       268420.0000  1496180.0000           457.40%\n",
      "      0     0        cutoff         268420.0000   268420.0000      474    0.00%\n",
      "      0     0        cutoff         268420.0000   268420.0000      474    0.00%\n",
      "Elapsed time = 0.27 sec. (54.88 ticks, tree = 0.01 MB, solutions = 2)\n",
      "\n",
      "Root node processing (before b&c):\n",
      "  Real time             =    0.27 sec. (55.14 ticks)\n",
      "Parallel b&c, 4 threads:\n",
      "  Real time             =    0.00 sec. (0.00 ticks)\n",
      "  Sync time (average)   =    0.00 sec.\n",
      "  Wait time (average)   =    0.00 sec.\n",
      "                          ------------\n",
      "Total (root+branch&cut) =    0.27 sec. (55.14 ticks)\n"
     ]
    }
   ],
   "source": [
    "solution = mdl.solve(log_output=True)"
   ]
  },
  {
   "cell_type": "code",
   "execution_count": 24,
   "metadata": {},
   "outputs": [
    {
     "data": {
      "text/plain": [
       "docplex.mp.solution.SolveSolution(obj=268420,values={X_c:0_u:7_h:0_d:3:1.."
      ]
     },
     "execution_count": 24,
     "metadata": {},
     "output_type": "execute_result"
    }
   ],
   "source": [
    "solution"
   ]
  },
  {
   "cell_type": "code",
   "execution_count": 25,
   "metadata": {
    "scrolled": true
   },
   "outputs": [
    {
     "name": "stdout",
     "output_type": "stream",
     "text": [
      "solution for: Campaign Optimization\n",
      "objective: 268420\n",
      "X_c:0_u:7_h:0_d:3=1\n",
      "X_c:0_u:10_h:0_d:0=1\n",
      "X_c:0_u:10_h:0_d:1=1\n",
      "X_c:0_u:17_h:0_d:0=1\n",
      "X_c:0_u:17_h:0_d:1=1\n",
      "X_c:0_u:18_h:0_d:0=1\n",
      "X_c:0_u:18_h:0_d:1=1\n",
      "X_c:0_u:20_h:0_d:0=1\n",
      "X_c:0_u:20_h:0_d:1=1\n",
      "X_c:0_u:21_h:0_d:0=1\n",
      "X_c:0_u:21_h:0_d:1=1\n",
      "X_c:0_u:27_h:0_d:0=1\n",
      "X_c:0_u:27_h:0_d:1=1\n",
      "X_c:0_u:28_h:0_d:0=1\n",
      "X_c:0_u:28_h:0_d:1=1\n",
      "X_c:0_u:31_h:0_d:0=1\n",
      "X_c:0_u:31_h:0_d:1=1\n",
      "X_c:0_u:36_h:0_d:2=1\n",
      "X_c:0_u:36_h:0_d:4=1\n",
      "X_c:0_u:43_h:0_d:2=1\n",
      "X_c:0_u:43_h:0_d:3=1\n",
      "X_c:0_u:45_h:0_d:0=1\n",
      "X_c:0_u:45_h:0_d:1=1\n",
      "X_c:0_u:46_h:0_d:0=1\n",
      "X_c:0_u:46_h:0_d:1=1\n",
      "X_c:0_u:51_h:0_d:0=1\n",
      "X_c:0_u:51_h:0_d:1=1\n",
      "X_c:0_u:52_h:0_d:1=1\n",
      "X_c:0_u:54_h:0_d:0=1\n",
      "X_c:0_u:54_h:0_d:1=1\n",
      "X_c:0_u:56_h:0_d:5=1\n",
      "X_c:0_u:61_h:0_d:3=1\n",
      "X_c:0_u:61_h:0_d:4=1\n",
      "X_c:0_u:64_h:0_d:5=1\n",
      "X_c:0_u:65_h:0_d:3=1\n",
      "X_c:0_u:65_h:0_d:4=1\n",
      "X_c:0_u:67_h:0_d:0=1\n",
      "X_c:0_u:67_h:0_d:1=1\n",
      "X_c:0_u:72_h:0_d:0=1\n",
      "X_c:0_u:72_h:0_d:3=1\n",
      "X_c:0_u:76_h:0_d:2=1\n",
      "X_c:0_u:76_h:0_d:3=1\n",
      "X_c:0_u:82_h:0_d:0=1\n",
      "X_c:0_u:82_h:0_d:1=1\n",
      "X_c:0_u:83_h:0_d:0=1\n",
      "X_c:0_u:83_h:0_d:1=1\n",
      "X_c:0_u:86_h:0_d:0=1\n",
      "X_c:0_u:86_h:0_d:1=1\n",
      "X_c:0_u:89_h:0_d:0=1\n",
      "X_c:0_u:89_h:0_d:1=1\n",
      "X_c:0_u:91_h:0_d:0=1\n",
      "X_c:0_u:91_h:0_d:1=1\n",
      "X_c:0_u:93_h:0_d:1=1\n",
      "X_c:0_u:97_h:0_d:0=1\n",
      "X_c:0_u:97_h:0_d:1=1\n",
      "X_c:0_u:99_h:0_d:0=1\n",
      "X_c:0_u:99_h:0_d:1=1\n",
      "X_c:1_u:0_h:0_d:3=1\n",
      "X_c:1_u:1_h:0_d:3=1\n",
      "X_c:1_u:2_h:0_d:3=1\n",
      "X_c:1_u:3_h:0_d:3=1\n",
      "X_c:1_u:4_h:0_d:1=1\n",
      "X_c:1_u:4_h:0_d:2=1\n",
      "X_c:1_u:4_h:0_d:3=1\n",
      "X_c:1_u:8_h:0_d:0=1\n",
      "X_c:1_u:8_h:0_d:1=1\n",
      "X_c:1_u:8_h:0_d:2=1\n",
      "X_c:1_u:8_h:0_d:3=1\n",
      "X_c:1_u:13_h:0_d:0=1\n",
      "X_c:1_u:13_h:0_d:1=1\n",
      "X_c:1_u:13_h:0_d:2=1\n",
      "X_c:1_u:13_h:0_d:3=1\n",
      "X_c:1_u:15_h:0_d:0=1\n",
      "X_c:1_u:15_h:0_d:1=1\n",
      "X_c:1_u:15_h:0_d:2=1\n",
      "X_c:1_u:15_h:0_d:3=1\n",
      "X_c:1_u:17_h:0_d:2=1\n",
      "X_c:1_u:18_h:0_d:2=1\n",
      "X_c:1_u:18_h:0_d:3=1\n",
      "X_c:1_u:19_h:0_d:0=1\n",
      "X_c:1_u:19_h:0_d:1=1\n",
      "X_c:1_u:19_h:0_d:2=1\n",
      "X_c:1_u:19_h:0_d:3=1\n",
      "X_c:1_u:21_h:0_d:2=1\n",
      "X_c:1_u:21_h:0_d:3=1\n",
      "X_c:1_u:23_h:0_d:3=1\n",
      "X_c:1_u:28_h:0_d:2=1\n",
      "X_c:1_u:28_h:0_d:3=1\n",
      "X_c:1_u:31_h:0_d:2=1\n",
      "X_c:1_u:31_h:0_d:3=1\n",
      "X_c:1_u:33_h:0_d:0=1\n",
      "X_c:1_u:33_h:0_d:1=1\n",
      "X_c:1_u:33_h:0_d:2=1\n",
      "X_c:1_u:33_h:0_d:3=1\n",
      "X_c:1_u:34_h:0_d:1=1\n",
      "X_c:1_u:34_h:0_d:2=1\n",
      "X_c:1_u:34_h:0_d:3=1\n",
      "X_c:1_u:36_h:0_d:5=1\n",
      "X_c:1_u:37_h:0_d:5=1\n",
      "X_c:1_u:39_h:0_d:2=1\n",
      "X_c:1_u:39_h:0_d:3=1\n",
      "X_c:1_u:39_h:0_d:4=1\n",
      "X_c:1_u:39_h:0_d:5=1\n",
      "X_c:1_u:43_h:0_d:4=1\n",
      "X_c:1_u:43_h:0_d:5=1\n",
      "X_c:1_u:50_h:0_d:3=1\n",
      "X_c:1_u:50_h:0_d:4=1\n",
      "X_c:1_u:50_h:0_d:5=1\n",
      "X_c:1_u:53_h:0_d:3=1\n",
      "X_c:1_u:53_h:0_d:4=1\n",
      "X_c:1_u:53_h:0_d:5=1\n",
      "X_c:1_u:60_h:0_d:2=1\n",
      "X_c:1_u:60_h:0_d:3=1\n",
      "X_c:1_u:60_h:0_d:4=1\n",
      "X_c:1_u:60_h:0_d:5=1\n",
      "X_c:1_u:61_h:0_d:5=1\n",
      "X_c:1_u:65_h:0_d:5=1\n",
      "X_c:1_u:68_h:0_d:3=1\n",
      "X_c:1_u:68_h:0_d:4=1\n",
      "X_c:1_u:68_h:0_d:5=1\n",
      "X_c:1_u:72_h:0_d:4=1\n",
      "X_c:1_u:72_h:0_d:5=1\n",
      "X_c:1_u:75_h:0_d:2=1\n",
      "X_c:1_u:75_h:0_d:3=1\n",
      "X_c:1_u:75_h:0_d:4=1\n",
      "X_c:1_u:75_h:0_d:5=1\n",
      "X_c:1_u:76_h:0_d:4=1\n",
      "X_c:1_u:76_h:0_d:5=1\n",
      "X_c:1_u:77_h:0_d:2=1\n",
      "X_c:1_u:77_h:0_d:3=1\n",
      "X_c:1_u:77_h:0_d:4=1\n",
      "X_c:1_u:77_h:0_d:5=1\n",
      "X_c:1_u:81_h:0_d:2=1\n",
      "X_c:1_u:81_h:0_d:3=1\n",
      "X_c:1_u:81_h:0_d:4=1\n",
      "X_c:1_u:81_h:0_d:5=1\n",
      "X_c:1_u:83_h:0_d:2=1\n",
      "X_c:1_u:83_h:0_d:3=1\n",
      "X_c:1_u:83_h:0_d:4=1\n",
      "X_c:1_u:83_h:0_d:5=1\n",
      "X_c:1_u:84_h:0_d:2=1\n",
      "X_c:1_u:84_h:0_d:3=1\n",
      "X_c:1_u:84_h:0_d:4=1\n",
      "X_c:1_u:84_h:0_d:5=1\n",
      "X_c:1_u:90_h:0_d:2=1\n",
      "X_c:1_u:90_h:0_d:3=1\n",
      "X_c:1_u:90_h:0_d:4=1\n",
      "X_c:1_u:90_h:0_d:5=1\n",
      "X_c:1_u:91_h:0_d:2=1\n",
      "X_c:1_u:91_h:0_d:3=1\n",
      "X_c:1_u:91_h:0_d:4=1\n",
      "X_c:1_u:91_h:0_d:5=1\n",
      "X_c:1_u:96_h:0_d:2=1\n",
      "X_c:1_u:96_h:0_d:3=1\n",
      "X_c:1_u:96_h:0_d:4=1\n",
      "X_c:1_u:96_h:0_d:5=1\n",
      "X_c:1_u:99_h:0_d:2=1\n",
      "X_c:1_u:99_h:0_d:3=1\n",
      "X_c:1_u:99_h:0_d:4=1\n",
      "X_c:1_u:99_h:0_d:5=1\n",
      "X_c:2_u:4_h:0_d:0=1\n",
      "X_c:2_u:4_h:0_d:2=1\n",
      "X_c:2_u:4_h:0_d:3=1\n",
      "X_c:2_u:4_h:0_d:4=1\n",
      "X_c:2_u:6_h:0_d:2=1\n",
      "X_c:2_u:6_h:0_d:3=1\n",
      "X_c:2_u:6_h:0_d:4=1\n",
      "X_c:2_u:6_h:0_d:5=1\n",
      "X_c:2_u:9_h:0_d:2=1\n",
      "X_c:2_u:9_h:0_d:3=1\n",
      "X_c:2_u:9_h:0_d:4=1\n",
      "X_c:2_u:9_h:0_d:5=1\n",
      "X_c:2_u:11_h:1_d:0=1\n",
      "X_c:2_u:12_h:0_d:2=1\n",
      "X_c:2_u:12_h:0_d:3=1\n",
      "X_c:2_u:12_h:0_d:4=1\n",
      "X_c:2_u:12_h:1_d:0=1\n",
      "X_c:2_u:14_h:0_d:2=1\n",
      "X_c:2_u:14_h:0_d:3=1\n",
      "X_c:2_u:14_h:0_d:4=1\n",
      "X_c:2_u:14_h:0_d:5=1\n",
      "X_c:2_u:17_h:0_d:0=1\n",
      "X_c:2_u:17_h:0_d:1=1\n",
      "X_c:2_u:17_h:0_d:2=1\n",
      "X_c:2_u:17_h:0_d:3=1\n",
      "X_c:2_u:22_h:1_d:0=1\n",
      "X_c:2_u:24_h:0_d:5=1\n",
      "X_c:2_u:25_h:0_d:2=1\n",
      "X_c:2_u:25_h:0_d:3=1\n",
      "X_c:2_u:25_h:0_d:4=1\n",
      "X_c:2_u:25_h:0_d:5=1\n",
      "X_c:2_u:26_h:0_d:2=1\n",
      "X_c:2_u:26_h:0_d:3=1\n",
      "X_c:2_u:26_h:0_d:4=1\n",
      "X_c:2_u:26_h:0_d:5=1\n",
      "X_c:2_u:30_h:0_d:2=1\n",
      "X_c:2_u:30_h:0_d:3=1\n",
      "X_c:2_u:30_h:0_d:4=1\n",
      "X_c:2_u:30_h:0_d:5=1\n",
      "X_c:2_u:32_h:0_d:2=1\n",
      "X_c:2_u:32_h:0_d:3=1\n",
      "X_c:2_u:32_h:0_d:4=1\n",
      "X_c:2_u:32_h:0_d:5=1\n",
      "X_c:2_u:34_h:0_d:0=1\n",
      "X_c:2_u:34_h:0_d:2=1\n",
      "X_c:2_u:34_h:0_d:3=1\n",
      "X_c:2_u:34_h:0_d:4=1\n",
      "X_c:2_u:36_h:0_d:0=1\n",
      "X_c:2_u:36_h:0_d:1=1\n",
      "X_c:2_u:36_h:0_d:2=1\n",
      "X_c:2_u:36_h:0_d:3=1\n",
      "X_c:2_u:38_h:0_d:3=1\n",
      "X_c:2_u:38_h:0_d:4=1\n",
      "X_c:2_u:38_h:0_d:5=1\n",
      "X_c:2_u:38_h:1_d:0=1\n",
      "X_c:2_u:42_h:0_d:3=1\n",
      "X_c:2_u:42_h:0_d:4=1\n",
      "X_c:2_u:42_h:0_d:5=1\n",
      "X_c:2_u:42_h:1_d:0=1\n",
      "X_c:2_u:44_h:0_d:3=1\n",
      "X_c:2_u:44_h:0_d:4=1\n",
      "X_c:2_u:44_h:0_d:5=1\n",
      "X_c:2_u:44_h:1_d:0=1\n",
      "X_c:2_u:48_h:0_d:4=1\n",
      "X_c:2_u:48_h:0_d:5=1\n",
      "X_c:2_u:48_h:0_d:6=1\n",
      "X_c:2_u:48_h:1_d:0=1\n",
      "X_c:2_u:50_h:0_d:2=1\n",
      "X_c:2_u:50_h:0_d:4=1\n",
      "X_c:2_u:50_h:0_d:5=1\n",
      "X_c:2_u:50_h:0_d:6=1\n",
      "X_c:2_u:53_h:0_d:2=1\n",
      "X_c:2_u:53_h:0_d:4=1\n",
      "X_c:2_u:53_h:0_d:5=1\n",
      "X_c:2_u:53_h:0_d:6=1\n",
      "X_c:2_u:55_h:0_d:4=1\n",
      "X_c:2_u:55_h:0_d:5=1\n",
      "X_c:2_u:55_h:0_d:6=1\n",
      "X_c:2_u:55_h:1_d:0=1\n",
      "X_c:2_u:57_h:0_d:4=1\n",
      "X_c:2_u:57_h:0_d:5=1\n",
      "X_c:2_u:57_h:0_d:6=1\n",
      "X_c:2_u:57_h:1_d:0=1\n",
      "X_c:2_u:58_h:0_d:3=1\n",
      "X_c:2_u:58_h:0_d:4=1\n",
      "X_c:2_u:58_h:0_d:5=1\n",
      "X_c:2_u:58_h:1_d:0=1\n",
      "X_c:2_u:59_h:1_d:0=1\n",
      "X_c:2_u:61_h:0_d:0=1\n",
      "X_c:2_u:61_h:0_d:1=1\n",
      "X_c:2_u:61_h:0_d:2=1\n",
      "X_c:2_u:61_h:0_d:4=1\n",
      "X_c:2_u:62_h:1_d:0=1\n",
      "X_c:2_u:63_h:0_d:4=1\n",
      "X_c:2_u:63_h:0_d:5=1\n",
      "X_c:2_u:63_h:0_d:6=1\n",
      "X_c:2_u:63_h:1_d:0=1\n",
      "X_c:2_u:65_h:0_d:0=1\n",
      "X_c:2_u:65_h:0_d:1=1\n",
      "X_c:2_u:65_h:0_d:2=1\n",
      "X_c:2_u:65_h:0_d:4=1\n",
      "X_c:2_u:66_h:1_d:0=1\n",
      "X_c:2_u:67_h:0_d:4=1\n",
      "X_c:2_u:67_h:0_d:5=1\n",
      "X_c:2_u:67_h:0_d:6=1\n",
      "X_c:2_u:67_h:1_d:0=1\n",
      "X_c:2_u:68_h:0_d:2=1\n",
      "X_c:2_u:68_h:0_d:4=1\n",
      "X_c:2_u:68_h:0_d:5=1\n",
      "X_c:2_u:68_h:0_d:6=1\n",
      "X_c:2_u:69_h:0_d:4=1\n",
      "X_c:2_u:69_h:0_d:5=1\n",
      "X_c:2_u:69_h:0_d:6=1\n",
      "X_c:2_u:69_h:1_d:0=1\n",
      "X_c:2_u:70_h:0_d:3=1\n",
      "X_c:2_u:70_h:0_d:4=1\n",
      "X_c:2_u:70_h:0_d:5=1\n",
      "X_c:2_u:70_h:1_d:0=1\n",
      "X_c:2_u:71_h:0_d:4=1\n",
      "X_c:2_u:71_h:0_d:5=1\n",
      "X_c:2_u:71_h:0_d:6=1\n",
      "X_c:2_u:71_h:1_d:0=1\n",
      "X_c:2_u:73_h:0_d:4=1\n",
      "X_c:2_u:73_h:0_d:5=1\n",
      "X_c:2_u:73_h:0_d:6=1\n",
      "X_c:2_u:73_h:1_d:0=1\n",
      "X_c:2_u:74_h:0_d:3=1\n",
      "X_c:2_u:74_h:0_d:4=1\n",
      "X_c:2_u:74_h:0_d:5=1\n",
      "X_c:2_u:74_h:0_d:6=1\n",
      "X_c:2_u:78_h:0_d:4=1\n",
      "X_c:2_u:78_h:0_d:5=1\n",
      "X_c:2_u:78_h:0_d:6=1\n",
      "X_c:2_u:78_h:1_d:0=1\n",
      "X_c:2_u:85_h:0_d:3=1\n",
      "X_c:2_u:85_h:0_d:4=1\n",
      "X_c:2_u:85_h:0_d:5=1\n",
      "X_c:2_u:85_h:1_d:0=1\n",
      "X_c:2_u:87_h:1_d:1=1\n",
      "X_c:2_u:88_h:0_d:3=1\n",
      "X_c:2_u:88_h:0_d:4=1\n",
      "X_c:2_u:88_h:0_d:5=1\n",
      "X_c:2_u:88_h:1_d:0=1\n",
      "X_c:2_u:94_h:1_d:0=1\n",
      "X_c:2_u:95_h:0_d:5=1\n",
      "X_c:2_u:95_h:0_d:6=1\n",
      "X_c:2_u:95_h:1_d:0=1\n",
      "X_c:2_u:95_h:1_d:1=1\n",
      "X_c:2_u:98_h:1_d:0=1\n",
      "X_c:3_u:0_h:0_d:5=1\n",
      "X_c:3_u:0_h:0_d:6=1\n",
      "X_c:3_u:0_h:1_d:0=1\n",
      "X_c:3_u:1_h:0_d:5=1\n",
      "X_c:3_u:1_h:0_d:6=1\n",
      "X_c:3_u:1_h:1_d:0=1\n",
      "X_c:3_u:2_h:0_d:5=1\n",
      "X_c:3_u:2_h:0_d:6=1\n",
      "X_c:3_u:2_h:1_d:0=1\n",
      "X_c:3_u:3_h:0_d:5=1\n",
      "X_c:3_u:3_h:0_d:6=1\n",
      "X_c:3_u:3_h:1_d:0=1\n",
      "X_c:3_u:5_h:0_d:5=1\n",
      "X_c:3_u:5_h:0_d:6=1\n",
      "X_c:3_u:5_h:1_d:0=1\n",
      "X_c:3_u:7_h:0_d:0=1\n",
      "X_c:3_u:7_h:0_d:1=1\n",
      "X_c:3_u:7_h:0_d:6=1\n",
      "X_c:3_u:11_h:0_d:2=1\n",
      "X_c:3_u:11_h:0_d:3=1\n",
      "X_c:3_u:11_h:0_d:4=1\n",
      "X_c:3_u:16_h:0_d:6=1\n",
      "X_c:3_u:16_h:1_d:0=1\n",
      "X_c:3_u:16_h:1_d:1=1\n",
      "X_c:3_u:22_h:0_d:2=1\n",
      "X_c:3_u:22_h:0_d:3=1\n",
      "X_c:3_u:22_h:0_d:4=1\n",
      "X_c:3_u:23_h:0_d:6=1\n",
      "X_c:3_u:23_h:1_d:0=1\n",
      "X_c:3_u:23_h:1_d:1=1\n",
      "X_c:3_u:24_h:0_d:6=1\n",
      "X_c:3_u:24_h:1_d:0=1\n",
      "X_c:3_u:24_h:1_d:1=1\n",
      "X_c:3_u:25_h:0_d:0=1\n",
      "X_c:3_u:25_h:0_d:1=1\n",
      "X_c:3_u:25_h:0_d:6=1\n",
      "X_c:3_u:26_h:0_d:0=1\n",
      "X_c:3_u:26_h:0_d:1=1\n",
      "X_c:3_u:26_h:0_d:6=1\n",
      "X_c:3_u:27_h:0_d:6=1\n",
      "X_c:3_u:27_h:1_d:0=1\n",
      "X_c:3_u:27_h:1_d:1=1\n",
      "X_c:3_u:29_h:0_d:6=1\n",
      "X_c:3_u:29_h:1_d:0=1\n",
      "X_c:3_u:29_h:1_d:1=1\n",
      "X_c:3_u:30_h:0_d:0=1\n",
      "X_c:3_u:30_h:0_d:1=1\n",
      "X_c:3_u:30_h:0_d:6=1\n",
      "X_c:3_u:33_h:0_d:6=1\n",
      "X_c:3_u:33_h:1_d:0=1\n",
      "X_c:3_u:33_h:1_d:1=1\n",
      "X_c:3_u:35_h:0_d:6=1\n",
      "X_c:3_u:35_h:1_d:0=1\n",
      "X_c:3_u:35_h:1_d:1=1\n",
      "X_c:3_u:37_h:0_d:6=1\n",
      "X_c:3_u:37_h:1_d:0=1\n",
      "X_c:3_u:37_h:1_d:1=1\n",
      "X_c:3_u:38_h:0_d:2=1\n",
      "X_c:3_u:38_h:0_d:3=1\n",
      "X_c:3_u:38_h:0_d:4=1\n",
      "X_c:3_u:42_h:0_d:2=1\n",
      "X_c:3_u:42_h:0_d:3=1\n",
      "X_c:3_u:42_h:0_d:4=1\n",
      "X_c:3_u:43_h:0_d:0=1\n",
      "X_c:3_u:43_h:0_d:1=1\n",
      "X_c:3_u:43_h:0_d:6=1\n",
      "X_c:3_u:45_h:0_d:6=1\n",
      "X_c:3_u:45_h:1_d:0=1\n",
      "X_c:3_u:45_h:1_d:1=1\n",
      "X_c:3_u:49_h:0_d:6=1\n",
      "X_c:3_u:49_h:1_d:0=1\n",
      "X_c:3_u:49_h:1_d:1=1\n",
      "X_c:3_u:51_h:0_d:6=1\n",
      "X_c:3_u:51_h:1_d:0=1\n",
      "X_c:3_u:51_h:1_d:1=1\n",
      "X_c:3_u:52_h:0_d:6=1\n",
      "X_c:3_u:52_h:1_d:0=1\n",
      "X_c:3_u:52_h:1_d:1=1\n",
      "X_c:3_u:55_h:0_d:0=1\n",
      "X_c:3_u:55_h:0_d:1=1\n",
      "X_c:3_u:55_h:0_d:6=1\n",
      "X_c:3_u:56_h:0_d:3=1\n",
      "X_c:3_u:56_h:0_d:4=1\n",
      "X_c:3_u:56_h:0_d:6=1\n",
      "X_c:3_u:57_h:0_d:0=1\n",
      "X_c:3_u:57_h:0_d:1=1\n",
      "X_c:3_u:57_h:0_d:6=1\n",
      "X_c:3_u:59_h:0_d:3=1\n",
      "X_c:3_u:59_h:0_d:4=1\n",
      "X_c:3_u:59_h:0_d:6=1\n",
      "X_c:3_u:62_h:0_d:4=1\n",
      "X_c:3_u:62_h:1_d:0=1\n",
      "X_c:3_u:62_h:1_d:1=1\n",
      "X_c:3_u:64_h:0_d:3=1\n",
      "X_c:3_u:64_h:0_d:4=1\n",
      "X_c:3_u:64_h:0_d:6=1\n",
      "X_c:3_u:66_h:0_d:3=1\n",
      "X_c:3_u:66_h:0_d:4=1\n",
      "X_c:3_u:66_h:0_d:5=1\n",
      "X_c:3_u:74_h:0_d:2=1\n",
      "X_c:3_u:74_h:0_d:3=1\n",
      "X_c:3_u:74_h:0_d:4=1\n",
      "X_c:3_u:76_h:0_d:0=1\n",
      "X_c:3_u:76_h:0_d:1=1\n",
      "X_c:3_u:76_h:0_d:6=1\n",
      "X_c:3_u:78_h:0_d:0=1\n",
      "X_c:3_u:78_h:0_d:1=1\n",
      "X_c:3_u:78_h:0_d:6=1\n",
      "X_c:3_u:82_h:0_d:6=1\n",
      "X_c:3_u:82_h:1_d:0=1\n",
      "X_c:3_u:82_h:1_d:1=1\n",
      "X_c:3_u:87_h:0_d:4=1\n",
      "X_c:3_u:87_h:0_d:5=1\n",
      "X_c:3_u:87_h:0_d:6=1\n",
      "X_c:3_u:88_h:0_d:0=1\n",
      "X_c:3_u:88_h:0_d:1=1\n",
      "X_c:3_u:88_h:0_d:2=1\n",
      "X_c:3_u:89_h:0_d:6=1\n",
      "X_c:3_u:89_h:1_d:0=1\n",
      "X_c:3_u:89_h:1_d:1=1\n",
      "X_c:3_u:90_h:0_d:6=1\n",
      "X_c:3_u:90_h:1_d:0=1\n",
      "X_c:3_u:90_h:1_d:1=1\n",
      "X_c:3_u:93_h:0_d:6=1\n",
      "X_c:3_u:93_h:1_d:0=1\n",
      "X_c:3_u:93_h:1_d:1=1\n",
      "X_c:3_u:94_h:0_d:3=1\n",
      "X_c:3_u:94_h:0_d:4=1\n",
      "X_c:3_u:94_h:0_d:5=1\n",
      "X_c:3_u:97_h:0_d:6=1\n",
      "X_c:3_u:97_h:1_d:0=1\n",
      "X_c:3_u:97_h:1_d:1=1\n",
      "X_c:3_u:98_h:0_d:3=1\n",
      "X_c:3_u:98_h:0_d:4=1\n",
      "X_c:3_u:98_h:0_d:5=1\n",
      "X_c:4_u:0_h:0_d:0=1\n",
      "X_c:4_u:0_h:0_d:1=1\n",
      "X_c:4_u:0_h:0_d:2=1\n",
      "X_c:4_u:1_h:0_d:0=1\n",
      "X_c:4_u:1_h:0_d:1=1\n",
      "X_c:4_u:1_h:0_d:2=1\n",
      "X_c:4_u:2_h:0_d:0=1\n",
      "X_c:4_u:2_h:0_d:1=1\n",
      "X_c:4_u:2_h:0_d:2=1\n",
      "X_c:4_u:3_h:0_d:0=1\n",
      "X_c:4_u:3_h:0_d:1=1\n",
      "X_c:4_u:3_h:0_d:2=1\n",
      "X_c:4_u:6_h:0_d:6=1\n",
      "X_c:4_u:6_h:1_d:0=1\n",
      "X_c:4_u:6_h:1_d:1=1\n",
      "X_c:4_u:7_h:0_d:0=1\n",
      "X_c:4_u:7_h:0_d:1=1\n",
      "X_c:4_u:7_h:0_d:2=1\n",
      "X_c:4_u:11_h:0_d:0=1\n",
      "X_c:4_u:11_h:0_d:1=1\n",
      "X_c:4_u:11_h:0_d:2=1\n",
      "X_c:4_u:12_h:0_d:0=1\n",
      "X_c:4_u:12_h:0_d:1=1\n",
      "X_c:4_u:12_h:0_d:2=1\n",
      "X_c:4_u:14_h:0_d:6=1\n",
      "X_c:4_u:14_h:1_d:0=1\n",
      "X_c:4_u:14_h:1_d:1=1\n",
      "X_c:4_u:16_h:0_d:6=1\n",
      "X_c:4_u:16_h:1_d:0=1\n",
      "X_c:4_u:16_h:1_d:1=1\n",
      "X_c:4_u:18_h:0_d:0=1\n",
      "X_c:4_u:18_h:0_d:1=1\n",
      "X_c:4_u:18_h:0_d:6=1\n",
      "X_c:4_u:19_h:0_d:6=1\n",
      "X_c:4_u:19_h:1_d:0=1\n",
      "X_c:4_u:19_h:1_d:1=1\n",
      "X_c:4_u:21_h:0_d:0=1\n",
      "X_c:4_u:21_h:0_d:1=1\n",
      "X_c:4_u:21_h:0_d:6=1\n",
      "X_c:4_u:22_h:0_d:0=1\n",
      "X_c:4_u:22_h:0_d:1=1\n",
      "X_c:4_u:22_h:0_d:2=1\n",
      "X_c:4_u:23_h:0_d:0=1\n",
      "X_c:4_u:23_h:0_d:1=1\n",
      "X_c:4_u:23_h:0_d:2=1\n",
      "X_c:4_u:24_h:0_d:2=1\n",
      "X_c:4_u:24_h:0_d:3=1\n",
      "X_c:4_u:24_h:0_d:4=1\n",
      "X_c:4_u:28_h:0_d:0=1\n",
      "X_c:4_u:28_h:0_d:1=1\n",
      "X_c:4_u:28_h:0_d:6=1\n",
      "X_c:4_u:29_h:0_d:6=1\n",
      "X_c:4_u:29_h:1_d:0=1\n",
      "X_c:4_u:29_h:1_d:1=1\n",
      "X_c:4_u:31_h:0_d:0=1\n",
      "X_c:4_u:31_h:0_d:1=1\n",
      "X_c:4_u:31_h:0_d:6=1\n",
      "X_c:4_u:32_h:0_d:0=1\n",
      "X_c:4_u:32_h:0_d:1=1\n",
      "X_c:4_u:32_h:0_d:6=1\n",
      "X_c:4_u:37_h:0_d:2=1\n",
      "X_c:4_u:37_h:0_d:3=1\n",
      "X_c:4_u:37_h:0_d:4=1\n",
      "X_c:4_u:39_h:0_d:6=1\n",
      "X_c:4_u:39_h:1_d:0=1\n",
      "X_c:4_u:39_h:1_d:1=1\n",
      "X_c:4_u:41_h:0_d:6=1\n",
      "X_c:4_u:41_h:1_d:0=1\n",
      "X_c:4_u:41_h:1_d:1=1\n",
      "X_c:4_u:44_h:0_d:0=1\n",
      "X_c:4_u:44_h:0_d:1=1\n",
      "X_c:4_u:44_h:0_d:2=1\n",
      "X_c:4_u:47_h:0_d:6=1\n",
      "X_c:4_u:47_h:1_d:0=1\n",
      "X_c:4_u:47_h:1_d:1=1\n",
      "X_c:4_u:48_h:0_d:0=1\n",
      "X_c:4_u:48_h:0_d:1=1\n",
      "X_c:4_u:48_h:0_d:6=1\n",
      "X_c:4_u:49_h:0_d:6=1\n",
      "X_c:4_u:49_h:1_d:0=1\n",
      "X_c:4_u:49_h:1_d:1=1\n",
      "X_c:4_u:52_h:0_d:0=1\n",
      "X_c:4_u:52_h:0_d:6=1\n",
      "X_c:4_u:52_h:1_d:2=1\n",
      "X_c:4_u:54_h:1_d:0=1\n",
      "X_c:4_u:54_h:1_d:1=1\n",
      "X_c:4_u:54_h:1_d:2=1\n",
      "X_c:4_u:56_h:0_d:0=1\n",
      "X_c:4_u:56_h:0_d:1=1\n",
      "X_c:4_u:56_h:0_d:2=1\n",
      "X_c:4_u:58_h:0_d:0=1\n",
      "X_c:4_u:58_h:0_d:1=1\n",
      "X_c:4_u:58_h:0_d:2=1\n",
      "X_c:4_u:59_h:0_d:0=1\n",
      "X_c:4_u:59_h:0_d:1=1\n",
      "X_c:4_u:59_h:0_d:4=1\n",
      "X_c:4_u:62_h:0_d:4=1\n",
      "X_c:4_u:62_h:0_d:5=1\n",
      "X_c:4_u:62_h:0_d:6=1\n",
      "X_c:4_u:63_h:1_d:0=1\n",
      "X_c:4_u:63_h:1_d:1=1\n",
      "X_c:4_u:63_h:1_d:2=1\n",
      "X_c:4_u:64_h:0_d:0=1\n",
      "X_c:4_u:64_h:0_d:1=1\n",
      "X_c:4_u:64_h:0_d:2=1\n",
      "X_c:4_u:66_h:0_d:0=1\n",
      "X_c:4_u:66_h:0_d:1=1\n",
      "X_c:4_u:66_h:0_d:2=1\n",
      "X_c:4_u:70_h:0_d:0=1\n",
      "X_c:4_u:70_h:0_d:1=1\n",
      "X_c:4_u:70_h:0_d:2=1\n",
      "X_c:4_u:72_h:0_d:1=1\n",
      "X_c:4_u:72_h:0_d:2=1\n",
      "X_c:4_u:72_h:1_d:0=1\n",
      "X_c:4_u:77_h:1_d:0=1\n",
      "X_c:4_u:77_h:1_d:1=1\n",
      "X_c:4_u:77_h:1_d:2=1\n",
      "X_c:4_u:79_h:1_d:0=1\n",
      "X_c:4_u:79_h:1_d:1=1\n",
      "X_c:4_u:79_h:1_d:2=1\n",
      "X_c:4_u:81_h:1_d:0=1\n",
      "X_c:4_u:81_h:1_d:1=1\n",
      "X_c:4_u:81_h:1_d:2=1\n",
      "X_c:4_u:84_h:1_d:0=1\n",
      "X_c:4_u:84_h:1_d:1=1\n",
      "X_c:4_u:84_h:1_d:2=1\n",
      "X_c:4_u:85_h:0_d:0=1\n",
      "X_c:4_u:85_h:0_d:1=1\n",
      "X_c:4_u:85_h:0_d:2=1\n",
      "X_c:4_u:87_h:0_d:0=1\n",
      "X_c:4_u:87_h:0_d:1=1\n",
      "X_c:4_u:87_h:0_d:5=1\n",
      "X_c:4_u:93_h:0_d:0=1\n",
      "X_c:4_u:93_h:1_d:2=1\n",
      "X_c:4_u:93_h:1_d:3=1\n",
      "X_c:4_u:94_h:0_d:2=1\n",
      "X_c:4_u:94_h:0_d:3=1\n",
      "X_c:4_u:94_h:0_d:4=1\n",
      "X_c:4_u:95_h:0_d:0=1\n",
      "X_c:4_u:95_h:0_d:1=1\n",
      "X_c:4_u:95_h:1_d:2=1\n",
      "X_c:4_u:96_h:1_d:0=1\n",
      "X_c:4_u:96_h:1_d:1=1\n",
      "X_c:4_u:96_h:1_d:2=1\n",
      "X_c:4_u:98_h:0_d:0=1\n",
      "X_c:4_u:98_h:0_d:1=1\n",
      "X_c:4_u:98_h:0_d:2=1\n",
      "\n"
     ]
    }
   ],
   "source": [
    "print(solution)"
   ]
  }
 ],
 "metadata": {
  "kernelspec": {
   "display_name": "Python 3",
   "language": "python",
   "name": "python3"
  },
  "language_info": {
   "codemirror_mode": {
    "name": "ipython",
    "version": 3
   },
   "file_extension": ".py",
   "mimetype": "text/x-python",
   "name": "python",
   "nbconvert_exporter": "python",
   "pygments_lexer": "ipython3",
   "version": "3.7.9"
  }
 },
 "nbformat": 4,
 "nbformat_minor": 4
}
