{
 "cells": [
  {
   "cell_type": "code",
   "execution_count": 427,
   "metadata": {},
   "outputs": [],
   "source": [
    "import numpy as np\n",
    "\n",
    "np.random.seed(42)"
   ]
  },
  {
   "cell_type": "markdown",
   "metadata": {},
   "source": [
    "## Mathematical Model"
   ]
  },
  {
   "cell_type": "markdown",
   "metadata": {},
   "source": [
    "#### Sets\n",
    "- C\tSet of campaigns.\n",
    "- U\tSet of customers.\n",
    "- H\tSet of channels\n",
    "- D\tSet of planning days.\n",
    "- I\tSet of quota categories.\n",
    "- P\tSet of priority categories.\n"
   ]
  },
  {
   "cell_type": "code",
   "execution_count": 428,
   "metadata": {},
   "outputs": [],
   "source": [
    "C = 3 # number of campaigns\n",
    "U = 100 # number of customers.\n",
    "H = 3 # number of channels.\n",
    "D = 7 # number of planning days.\n",
    "I = 3 # number of quota categories.\n",
    "P = 10 # number of priority categories."
   ]
  },
  {
   "cell_type": "markdown",
   "metadata": {},
   "source": [
    "#### Parameters"
   ]
  },
  {
   "cell_type": "markdown",
   "metadata": {},
   "source": [
    "##### - eligibility\n",
    "$$\n",
    "e_{cu}\\left\\{\\begin{array}\\\\\n",
    "        1 & \\mbox{if }  customer\\ u\\ is\\ eligible\\ for\\ campaign\\ c\\\\\n",
    "        0 & \\mbox{otherwise } \\\\\n",
    "    \\end{array}\n",
    "\\right.\n",
    "$$"
   ]
  },
  {
   "cell_type": "code",
   "execution_count": 429,
   "metadata": {},
   "outputs": [
    {
     "data": {
      "text/plain": [
       "array([[0, 1, 0, 0, 0, 1, 0, 0, 0, 1, 0, 0, 0, 0, 1, 0, 1, 1, 1, 0, 1, 0,\n",
       "        1, 1, 1, 1, 1, 1, 1, 1, 0, 0, 1, 1, 1, 0, 1, 0, 0, 0, 0, 0, 1, 1,\n",
       "        1, 1, 1, 0, 1, 1, 0, 1, 0, 1, 0, 1, 1, 0, 0, 0, 0, 0, 0, 0, 0, 1,\n",
       "        1, 0, 1, 1, 1, 1, 0, 1, 0, 1, 1, 1, 0, 1, 0, 1, 0, 1, 0, 0, 1, 0,\n",
       "        1, 1, 1, 1, 1, 1, 1, 1, 1, 1, 1, 0],\n",
       "       [0, 1, 1, 1, 1, 1, 1, 1, 1, 0, 1, 0, 1, 1, 0, 1, 0, 1, 1, 0, 1, 0,\n",
       "        1, 0, 0, 1, 1, 0, 1, 1, 1, 0, 0, 0, 0, 0, 0, 0, 0, 0, 1, 0, 1, 1,\n",
       "        1, 0, 0, 0, 0, 1, 0, 0, 0, 0, 0, 1, 0, 1, 0, 1, 0, 0, 1, 1, 1, 0,\n",
       "        1, 0, 0, 1, 1, 0, 0, 1, 1, 1, 0, 0, 0, 0, 0, 0, 1, 0, 0, 0, 1, 0,\n",
       "        0, 1, 0, 0, 0, 0, 0, 1, 1, 1, 0, 0],\n",
       "       [0, 1, 0, 0, 1, 0, 1, 1, 1, 0, 0, 0, 0, 0, 0, 0, 1, 0, 1, 0, 0, 0,\n",
       "        1, 1, 1, 1, 0, 1, 0, 0, 1, 1, 1, 1, 1, 1, 1, 1, 0, 1, 1, 0, 1, 0,\n",
       "        0, 1, 0, 0, 0, 0, 1, 0, 1, 0, 0, 0, 0, 1, 1, 0, 0, 1, 0, 0, 0, 1,\n",
       "        1, 1, 0, 0, 1, 1, 1, 1, 0, 1, 0, 1, 0, 1, 1, 1, 1, 0, 1, 0, 0, 0,\n",
       "        0, 1, 0, 0, 0, 1, 1, 1, 1, 0, 0, 1]])"
      ]
     },
     "execution_count": 429,
     "metadata": {},
     "output_type": "execute_result"
    }
   ],
   "source": [
    "e_cu = np.random.choice(2,(C, U))\n",
    "#e_cu = np.ones((C, U), dtype='int8')\n",
    "e_cu"
   ]
  },
  {
   "cell_type": "markdown",
   "metadata": {},
   "source": [
    "##### - quota categories\n",
    "$$\n",
    "q_{ic}\\left\\{\\begin{array}\\\\\n",
    "        1 & \\mbox{if }  campaign\\ c\\ is\\ a\\ i^{th} type\\ quota\\ category\\ campaign\\ \\\\\n",
    "        0 & \\mbox{otherwise } \\\\\n",
    "    \\end{array}\n",
    "\\right.\n",
    "$$"
   ]
  },
  {
   "cell_type": "code",
   "execution_count": 430,
   "metadata": {},
   "outputs": [
    {
     "data": {
      "text/plain": [
       "array([[0, 0, 0],\n",
       "       [1, 1, 0],\n",
       "       [1, 1, 1]])"
      ]
     },
     "execution_count": 430,
     "metadata": {},
     "output_type": "execute_result"
    }
   ],
   "source": [
    "q_ic = np.random.choice(2, (I,C))\n",
    "#q_ic = np.zeros((I,C), dtype='int8')\n",
    "q_ic"
   ]
  },
  {
   "cell_type": "markdown",
   "metadata": {},
   "source": [
    "##### - priority categories\n",
    "$$r_{cp}: Priority\\ value\\ of\\ campaign\\ c\\ regarding\\ priority\\ type\\ p\\$$"
   ]
  },
  {
   "cell_type": "code",
   "execution_count": 431,
   "metadata": {},
   "outputs": [
    {
     "data": {
      "text/plain": [
       "array([54, 31, 55])"
      ]
     },
     "execution_count": 431,
     "metadata": {},
     "output_type": "execute_result"
    }
   ],
   "source": [
    "r_p = np.random.choice(100, P)\n",
    "#r_p = np.ones(P, dtype='int8')\n",
    "rp_c = np.array([r_p[r] for r in np.random.choice(P, C)])\n",
    "rp_c"
   ]
  },
  {
   "cell_type": "markdown",
   "metadata": {},
   "source": [
    "##### - blokage\n",
    "$$b: Communication\\ limit\\ per\\ person\\ for\\ the\\ whole\\ period\\$$"
   ]
  },
  {
   "cell_type": "code",
   "execution_count": 432,
   "metadata": {},
   "outputs": [],
   "source": [
    "b = 7"
   ]
  },
  {
   "cell_type": "markdown",
   "metadata": {},
   "source": [
    "##### - daily blokage\n",
    "$$k: Communication\\ limit\\ per\\ person\\ at\\ each\\ day\\$$"
   ]
  },
  {
   "cell_type": "code",
   "execution_count": 433,
   "metadata": {},
   "outputs": [],
   "source": [
    "k = 2"
   ]
  },
  {
   "cell_type": "markdown",
   "metadata": {},
   "source": [
    "##### - campaign blockage\n",
    "$$l_c: Communication\\ limit\\ per\\ person\\ for\\ campaign\\ c\\$$"
   ]
  },
  {
   "cell_type": "code",
   "execution_count": 434,
   "metadata": {},
   "outputs": [
    {
     "data": {
      "text/plain": [
       "array([3, 4, 4])"
      ]
     },
     "execution_count": 434,
     "metadata": {},
     "output_type": "execute_result"
    }
   ],
   "source": [
    "l_c = np.random.choice([2,3,4],C)\n",
    "l_c"
   ]
  },
  {
   "cell_type": "markdown",
   "metadata": {},
   "source": [
    "##### - quota limitations daily/weekly\n",
    "$$\n",
    "m_i: Communication\\ limit\\ per\\ person\\ for\\ i^{th}\\ category\\\n",
    "$$\n",
    "$$\n",
    "n_i: Communication\\ limit\\ per\\ person\\ for\\ i^{th}\\ category\\ each\\ day\\\n",
    "$$"
   ]
  },
  {
   "cell_type": "code",
   "execution_count": 435,
   "metadata": {},
   "outputs": [
    {
     "data": {
      "text/plain": [
       "(array([10, 10, 18]), array([3, 2, 4]))"
      ]
     },
     "execution_count": 435,
     "metadata": {},
     "output_type": "execute_result"
    }
   ],
   "source": [
    "m_i = np.random.choice([10,15,18],I)\n",
    "n_i = np.random.choice([2,3,4],I)\n",
    "#m_i = np.ones((I), dtype='int8')*10\n",
    "#n_i = np.ones((I), dtype='int8')*10\n",
    "(m_i, n_i)"
   ]
  },
  {
   "cell_type": "markdown",
   "metadata": {},
   "source": [
    "#### - capacity for channel\n",
    "$$\n",
    "t_{h,d}: Capacity\\ for\\ channel\\ h\\ at\\ day\\ d.\\\n",
    "$$"
   ]
  },
  {
   "cell_type": "code",
   "execution_count": 436,
   "metadata": {},
   "outputs": [],
   "source": [
    "t_hd = np.random.choice([700], (H, D))"
   ]
  },
  {
   "cell_type": "markdown",
   "metadata": {},
   "source": [
    "### Model"
   ]
  },
  {
   "cell_type": "markdown",
   "metadata": {},
   "source": [
    "#### Variables\n",
    "$$\n",
    "X_{cuhd}\\left\\{\\begin{array}\\\\\n",
    "        1 & \\mbox{if } Campaign\\ c\\ will\\ be\\ sent\\ to\\ customer\\ u\\ through\\ Channel\\ h\\ at\\ Day\\ d \\\\\n",
    "        0 & \\mbox{otherwise } \\\\\n",
    "    \\end{array}\n",
    "\\right.\n",
    "$$"
   ]
  },
  {
   "cell_type": "code",
   "execution_count": 437,
   "metadata": {},
   "outputs": [],
   "source": [
    "X_cuhd = np.zeros((C,U,H,D), dtype='int8')"
   ]
  },
  {
   "cell_type": "markdown",
   "metadata": {},
   "source": [
    "##### - eligibility (2)\n",
    "\n",
    "$$\n",
    "X_{cuhd}  \\leq e_{cu},\\hspace{35pt} \\forall h \\in H,\\forall d \\in D\n",
    "$$"
   ]
  },
  {
   "cell_type": "code",
   "execution_count": 438,
   "metadata": {},
   "outputs": [],
   "source": [
    "def eligibility(X):\n",
    "    return np.all(np.all(X, axis=(2,3))<=e_cu)"
   ]
  },
  {
   "cell_type": "markdown",
   "metadata": {},
   "source": [
    "##### - use one channel (3)\n",
    "$$\n",
    "\\sum_{h}X_{cuhd} \\le 1,\\hspace{35pt} \\forall c \\in C \\, \\forall u \\in U,\\forall d \\in D\n",
    "$$"
   ]
  },
  {
   "cell_type": "code",
   "execution_count": 439,
   "metadata": {},
   "outputs": [],
   "source": [
    "def one_channel(X):\n",
    "    return np.all(X.sum(axis=2)<=1)"
   ]
  },
  {
   "cell_type": "markdown",
   "metadata": {},
   "source": [
    "##### - weekly communication limitation (4)\n",
    "$$\n",
    "\\sum_{h \\in H}\\sum_{c \\in C}\\sum_{d \\in D} X_{cuhd}\\le b,\\hspace{35pt} \\forall u \\in U\n",
    "$$"
   ]
  },
  {
   "cell_type": "code",
   "execution_count": 440,
   "metadata": {},
   "outputs": [],
   "source": [
    "def weekly_limitation(X):\n",
    "    return np.all(X.sum(axis=(0,2,3))<=b)"
   ]
  },
  {
   "cell_type": "markdown",
   "metadata": {},
   "source": [
    "##### - daily communication limitation (5)\n",
    "$$\n",
    "\\sum_{h \\in H}\\sum_{c \\in C} X_{cuhd}\\le k,\\hspace{35pt} \\forall u \\in U, \\forall d \\in D\n",
    "$$"
   ]
  },
  {
   "cell_type": "code",
   "execution_count": 441,
   "metadata": {},
   "outputs": [],
   "source": [
    "def daily_limitation(X):\n",
    "    return np.all(X.sum(axis=(0,2))<=k)"
   ]
  },
  {
   "cell_type": "markdown",
   "metadata": {},
   "source": [
    "##### - campaign communication limit(6)\n",
    "$$\n",
    "\\sum_{d \\in D}\\sum_{h \\in H} X_{cuhd}\\le l_c,\\hspace{35pt} \\forall c \\in C,\\forall u \\in U;\n",
    "$$"
   ]
  },
  {
   "cell_type": "code",
   "execution_count": 442,
   "metadata": {},
   "outputs": [],
   "source": [
    "def campaign_limitation(X):\n",
    "    return np.all(X.sum(axis=(2,3))<=l_c.reshape((C,1)))"
   ]
  },
  {
   "cell_type": "markdown",
   "metadata": {},
   "source": [
    "##### - weekly quota(7)\n",
    "$$\n",
    "\\sum_{d \\in D}\\sum_{h \\in H}\\sum_{c \\in C}{X_{cuhd} q_{ic}}\\le m_i,\\hspace{35pt} \\forall u \\in U, \\forall i \\in I\n",
    "$$"
   ]
  },
  {
   "cell_type": "code",
   "execution_count": 476,
   "metadata": {},
   "outputs": [
    {
     "data": {
      "text/plain": [
       "array([10, 10, 18])"
      ]
     },
     "execution_count": 476,
     "metadata": {},
     "output_type": "execute_result"
    }
   ],
   "source": [
    "m_i"
   ]
  },
  {
   "cell_type": "code",
   "execution_count": 479,
   "metadata": {},
   "outputs": [
    {
     "data": {
      "text/plain": [
       "array([[0, 0, 0],\n",
       "       [1, 1, 0],\n",
       "       [1, 1, 1]])"
      ]
     },
     "execution_count": 479,
     "metadata": {},
     "output_type": "execute_result"
    }
   ],
   "source": [
    "q_ic"
   ]
  },
  {
   "cell_type": "code",
   "execution_count": 482,
   "metadata": {},
   "outputs": [
    {
     "data": {
      "text/plain": [
       "(100, 3, 7)"
      ]
     },
     "execution_count": 482,
     "metadata": {},
     "output_type": "execute_result"
    }
   ],
   "source": [
    "X_cuhd"
   ]
  },
  {
   "cell_type": "code",
   "execution_count": 475,
   "metadata": {},
   "outputs": [
    {
     "data": {
      "text/plain": [
       "array([14, 14, 14, 14, 14, 14, 14, 14, 14, 14, 14, 14, 14, 14, 14, 14, 14,\n",
       "       14, 14, 14, 14, 14, 14, 14, 14, 14, 14, 14, 14, 14, 14, 14, 14, 14,\n",
       "       14, 14, 14, 14, 14, 14, 14, 14, 14, 14, 14, 14, 14, 14, 14, 14, 14,\n",
       "       14, 14, 14, 14, 14, 14, 14, 14, 14, 14, 14, 14, 14, 14, 14, 14, 14,\n",
       "       14, 14, 14, 14, 14, 14, 14, 14, 14, 14, 14, 14, 14, 14, 14, 14, 14,\n",
       "       14, 14, 14, 14, 14, 14, 14, 14, 14, 14, 14, 14, 14, 14, 14])"
      ]
     },
     "execution_count": 475,
     "metadata": {},
     "output_type": "execute_result"
    }
   ],
   "source": [
    "np.sum(np.matmul(q_ic, X_cuhd), axis=(0,2,3))"
   ]
  },
  {
   "cell_type": "code",
   "execution_count": null,
   "metadata": {},
   "outputs": [],
   "source": [
    "def weekly_quota(X):\n",
    "    return np.all(X.sum(axis=(0,2,3))<=b)"
   ]
  },
  {
   "cell_type": "markdown",
   "metadata": {},
   "source": [
    "##### - check criterion"
   ]
  },
  {
   "cell_type": "code",
   "execution_count": 443,
   "metadata": {},
   "outputs": [],
   "source": [
    "def check(X):\n",
    "    #TODO check limitations if all passes assign 1 else 0\n",
    "    if not eligibility(X):\n",
    "        return False\n",
    "    if not one_channel(X):\n",
    "        return False\n",
    "    if not weekly_limitation(X):\n",
    "        return False\n",
    "    if not daily_limitation(X):\n",
    "        return False\n",
    "    if not campaign_limitation(X):\n",
    "        return False\n",
    "    return True\n",
    "    "
   ]
  },
  {
   "cell_type": "code",
   "execution_count": 444,
   "metadata": {},
   "outputs": [
    {
     "name": "stdout",
     "output_type": "stream",
     "text": [
      "c:2\n",
      "\td:0. d:1. d:2. d:3. d:4. d:5. d:6. \n",
      "c:0\n",
      "\td:0. d:1. d:2. d:3. d:4. d:5. d:6. \n",
      "c:1\n",
      "\td:0. d:1. d:2. d:3. d:4. d:5. d:6. \n"
     ]
    }
   ],
   "source": [
    "for c in np.argsort(-rp_c):\n",
    "    print(f\"c:{c}\")\n",
    "    print(\"\\t\", end=\"\")\n",
    "    for d in range(D):\n",
    "        print(f\"d:{d}\", end=\". \")\n",
    "        for h in range(H):\n",
    "            for u in range(U):\n",
    "                X_cuhd[c,u,h,d]=1\n",
    "                if not check(X_cuhd):\n",
    "                    X_cuhd[c,u,h,d]=0\n",
    "    print(\"\")"
   ]
  },
  {
   "cell_type": "code",
   "execution_count": 451,
   "metadata": {
    "scrolled": true
   },
   "outputs": [
    {
     "data": {
      "text/plain": [
       "700"
      ]
     },
     "execution_count": 451,
     "metadata": {},
     "output_type": "execute_result"
    }
   ],
   "source": [
    "X_cuhd.sum()"
   ]
  },
  {
   "cell_type": "markdown",
   "metadata": {},
   "source": [
    "- Sort Campaigns by rp_c\n",
    "- Map every criteria to function"
   ]
  },
  {
   "cell_type": "markdown",
   "metadata": {},
   "source": [
    "## Maximize\n",
    "$$\\sum_{p \\in P}\\sum_{c \\in C}\\sum_{u \\in U}\\sum_{h \\in H}\\sum_{d \\in D}\\,X_{cuhd}\\ r_{cp}$$"
   ]
  },
  {
   "cell_type": "markdown",
   "metadata": {},
   "source": [
    "## subject to"
   ]
  },
  {
   "cell_type": "markdown",
   "metadata": {},
   "source": [
    "##### - daily quota(8)\n",
    "$$\n",
    "\\sum_{h \\in H}\\sum_{c \\in C}{X_{cuhd} q_{ic}}\\le n_i,\\hspace{35pt} \\forall u \\in U,\\, \\forall d \\in D, \\forall i \\in I\n",
    "$$"
   ]
  },
  {
   "cell_type": "markdown",
   "metadata": {},
   "source": [
    "##### Channel capacity (9)\n",
    "$$\n",
    "\\sum_{c \\in C}\\sum_{u \\in U}{X_{cuhd}}\\le t_{hd},\\hspace{35pt} \\forall d \\in D,\\, \\forall h \\in H\n",
    "$$"
   ]
  },
  {
   "cell_type": "markdown",
   "metadata": {},
   "source": [
    "##### Binary variable (10)\n",
    "$$\n",
    "X_{cuhd} \\in \\{ 1,0 \\},\\hspace{35pt} \\forall c \\in C ,\\forall u \\in U,\\forall d \\in D, \\forall h \\in H\n",
    "$$"
   ]
  },
  {
   "cell_type": "markdown",
   "metadata": {},
   "source": [
    "### Solution"
   ]
  }
 ],
 "metadata": {
  "kernelspec": {
   "display_name": "Python 3",
   "language": "python",
   "name": "python3"
  },
  "language_info": {
   "codemirror_mode": {
    "name": "ipython",
    "version": 3
   },
   "file_extension": ".py",
   "mimetype": "text/x-python",
   "name": "python",
   "nbconvert_exporter": "python",
   "pygments_lexer": "ipython3",
   "version": "3.7.9"
  }
 },
 "nbformat": 4,
 "nbformat_minor": 4
}
