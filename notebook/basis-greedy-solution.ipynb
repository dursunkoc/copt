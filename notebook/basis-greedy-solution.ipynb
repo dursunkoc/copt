{
 "cells": [
  {
   "cell_type": "code",
   "execution_count": 16,
   "metadata": {},
   "outputs": [],
   "source": [
    "import sys\n",
    "import os\n",
    "sys.path.insert(0, os.path.abspath('../src'))"
   ]
  },
  {
   "cell_type": "code",
   "execution_count": 17,
   "metadata": {},
   "outputs": [],
   "source": [
    "import numpy as np\n",
    "from tqdm.notebook import trange\n",
    "from tqdm.notebook import tqdm\n",
    "import inspect\n",
    "\n",
    "import model\n",
    "import model_parameters as MP"
   ]
  },
  {
   "cell_type": "markdown",
   "metadata": {},
   "source": [
    "## Mathematical Model"
   ]
  },
  {
   "cell_type": "markdown",
   "metadata": {},
   "source": [
    "#### Sets\n",
    "- C\tSet of campaigns.\n",
    "- U\tSet of customers.\n",
    "- H\tSet of channels\n",
    "- D\tSet of planning days.\n",
    "- I\tSet of quota categories.\n",
    "- P\tSet of priority categories.\n"
   ]
  },
  {
   "cell_type": "code",
   "execution_count": 18,
   "metadata": {},
   "outputs": [
    {
     "name": "stdout",
     "output_type": "stream",
     "text": [
      "number of campaigns 20\n",
      "number of customers 1000\n",
      "number of channels 3\n",
      "number of planning days 7\n",
      "number of quota categories 3\n",
      "number of priority categories 3\n"
     ]
    }
   ],
   "source": [
    "print(f\"number of campaigns {MP.C}\") #70 -camp.\n",
    "print(f\"number of customers {MP.U}\") #20.000.000 non-distinct\n",
    "print(f\"number of channels {MP.H}\") #6-7 h. --Drop\n",
    "print(f\"number of planning days {MP.D}\")\n",
    "print(f\"number of quota categories {MP.I}\")\n",
    "print(f\"number of priority categories {MP.P}\")"
   ]
  },
  {
   "cell_type": "markdown",
   "metadata": {},
   "source": [
    "#### Parameters"
   ]
  },
  {
   "cell_type": "markdown",
   "metadata": {},
   "source": [
    "##### - eligibility\n",
    "$$\n",
    "e_{cu}\\left\\{\\begin{array}\\\\\n",
    "        1 & \\mbox{if }  customer\\ u\\ is\\ eligible\\ for\\ campaign\\ c\\\\\n",
    "        0 & \\mbox{otherwise } \\\\\n",
    "    \\end{array}\n",
    "\\right.\n",
    "$$"
   ]
  },
  {
   "cell_type": "code",
   "execution_count": 19,
   "metadata": {},
   "outputs": [
    {
     "data": {
      "text/plain": [
       "array([[1, 0, 0, ..., 0, 1, 0],\n",
       "       [0, 0, 0, ..., 1, 1, 0],\n",
       "       [1, 1, 1, ..., 0, 1, 1],\n",
       "       ...,\n",
       "       [0, 1, 0, ..., 0, 0, 1],\n",
       "       [0, 1, 0, ..., 1, 0, 1],\n",
       "       [1, 1, 0, ..., 0, 1, 1]])"
      ]
     },
     "execution_count": 19,
     "metadata": {},
     "output_type": "execute_result"
    }
   ],
   "source": [
    "MP.e_cu"
   ]
  },
  {
   "cell_type": "markdown",
   "metadata": {},
   "source": [
    "##### - previous planning"
   ]
  },
  {
   "cell_type": "code",
   "execution_count": 20,
   "metadata": {
    "scrolled": true
   },
   "outputs": [
    {
     "data": {
      "text/plain": [
       "array([[[[1, 0, 0, ..., 1, 1, 1],\n",
       "         [1, 0, 1, ..., 1, 1, 0],\n",
       "         [0, 0, 0, ..., 1, 0, 1]],\n",
       "\n",
       "        [[0, 1, 0, ..., 0, 0, 1],\n",
       "         [1, 1, 0, ..., 1, 1, 1],\n",
       "         [1, 1, 1, ..., 1, 1, 1]],\n",
       "\n",
       "        [[0, 0, 0, ..., 0, 0, 1],\n",
       "         [0, 0, 1, ..., 1, 1, 1],\n",
       "         [1, 1, 1, ..., 0, 0, 0]],\n",
       "\n",
       "        ...,\n",
       "\n",
       "        [[1, 0, 0, ..., 0, 0, 0],\n",
       "         [0, 1, 0, ..., 0, 1, 1],\n",
       "         [0, 1, 1, ..., 0, 0, 0]],\n",
       "\n",
       "        [[1, 1, 1, ..., 1, 0, 1],\n",
       "         [0, 1, 1, ..., 1, 1, 1],\n",
       "         [1, 0, 0, ..., 0, 0, 1]],\n",
       "\n",
       "        [[0, 1, 1, ..., 0, 1, 0],\n",
       "         [0, 1, 1, ..., 0, 0, 0],\n",
       "         [1, 1, 1, ..., 0, 0, 1]]],\n",
       "\n",
       "\n",
       "       [[[0, 1, 0, ..., 0, 1, 0],\n",
       "         [1, 1, 0, ..., 0, 0, 0],\n",
       "         [1, 1, 0, ..., 0, 0, 0]],\n",
       "\n",
       "        [[0, 0, 0, ..., 1, 0, 0],\n",
       "         [1, 1, 1, ..., 0, 0, 1],\n",
       "         [1, 1, 0, ..., 0, 1, 0]],\n",
       "\n",
       "        [[1, 0, 1, ..., 1, 0, 0],\n",
       "         [0, 0, 1, ..., 0, 0, 0],\n",
       "         [0, 1, 0, ..., 0, 0, 0]],\n",
       "\n",
       "        ...,\n",
       "\n",
       "        [[0, 1, 0, ..., 1, 0, 1],\n",
       "         [1, 0, 1, ..., 1, 0, 1],\n",
       "         [0, 0, 1, ..., 1, 1, 0]],\n",
       "\n",
       "        [[0, 1, 1, ..., 0, 1, 1],\n",
       "         [0, 1, 0, ..., 1, 0, 1],\n",
       "         [1, 0, 0, ..., 0, 1, 1]],\n",
       "\n",
       "        [[0, 1, 0, ..., 1, 1, 0],\n",
       "         [0, 0, 0, ..., 1, 0, 0],\n",
       "         [0, 0, 0, ..., 1, 0, 0]]],\n",
       "\n",
       "\n",
       "       [[[0, 1, 1, ..., 1, 0, 0],\n",
       "         [0, 1, 0, ..., 0, 1, 0],\n",
       "         [1, 0, 0, ..., 0, 0, 0]],\n",
       "\n",
       "        [[0, 0, 1, ..., 1, 1, 0],\n",
       "         [1, 0, 1, ..., 1, 0, 1],\n",
       "         [0, 0, 0, ..., 0, 0, 0]],\n",
       "\n",
       "        [[1, 0, 1, ..., 0, 0, 1],\n",
       "         [1, 0, 0, ..., 0, 1, 1],\n",
       "         [1, 0, 0, ..., 0, 0, 1]],\n",
       "\n",
       "        ...,\n",
       "\n",
       "        [[1, 1, 1, ..., 0, 0, 0],\n",
       "         [1, 1, 0, ..., 1, 1, 0],\n",
       "         [0, 0, 0, ..., 0, 1, 0]],\n",
       "\n",
       "        [[0, 1, 0, ..., 1, 1, 0],\n",
       "         [1, 0, 1, ..., 1, 1, 1],\n",
       "         [0, 0, 0, ..., 1, 0, 0]],\n",
       "\n",
       "        [[0, 0, 1, ..., 0, 0, 1],\n",
       "         [0, 1, 1, ..., 0, 0, 1],\n",
       "         [1, 1, 1, ..., 0, 1, 0]]],\n",
       "\n",
       "\n",
       "       ...,\n",
       "\n",
       "\n",
       "       [[[0, 0, 0, ..., 0, 0, 0],\n",
       "         [0, 1, 0, ..., 1, 0, 1],\n",
       "         [0, 0, 1, ..., 1, 0, 0]],\n",
       "\n",
       "        [[0, 0, 0, ..., 0, 1, 0],\n",
       "         [1, 1, 1, ..., 0, 1, 1],\n",
       "         [0, 0, 1, ..., 0, 1, 0]],\n",
       "\n",
       "        [[0, 0, 1, ..., 1, 0, 1],\n",
       "         [1, 0, 1, ..., 0, 1, 1],\n",
       "         [0, 1, 1, ..., 1, 1, 1]],\n",
       "\n",
       "        ...,\n",
       "\n",
       "        [[1, 1, 1, ..., 0, 0, 1],\n",
       "         [1, 0, 1, ..., 0, 1, 1],\n",
       "         [0, 1, 0, ..., 1, 0, 1]],\n",
       "\n",
       "        [[0, 1, 0, ..., 0, 0, 0],\n",
       "         [1, 1, 1, ..., 0, 1, 0],\n",
       "         [1, 1, 1, ..., 1, 1, 1]],\n",
       "\n",
       "        [[1, 1, 1, ..., 1, 0, 0],\n",
       "         [1, 1, 0, ..., 1, 1, 1],\n",
       "         [0, 0, 1, ..., 1, 0, 1]]],\n",
       "\n",
       "\n",
       "       [[[0, 1, 0, ..., 0, 1, 1],\n",
       "         [0, 0, 0, ..., 1, 0, 1],\n",
       "         [0, 0, 0, ..., 1, 0, 1]],\n",
       "\n",
       "        [[0, 1, 0, ..., 1, 1, 0],\n",
       "         [0, 0, 1, ..., 1, 0, 0],\n",
       "         [1, 1, 1, ..., 0, 0, 0]],\n",
       "\n",
       "        [[1, 1, 0, ..., 1, 1, 0],\n",
       "         [1, 0, 1, ..., 0, 1, 1],\n",
       "         [1, 0, 0, ..., 0, 0, 0]],\n",
       "\n",
       "        ...,\n",
       "\n",
       "        [[0, 1, 1, ..., 1, 1, 0],\n",
       "         [1, 1, 1, ..., 1, 0, 1],\n",
       "         [1, 0, 0, ..., 1, 0, 0]],\n",
       "\n",
       "        [[1, 0, 1, ..., 1, 1, 1],\n",
       "         [1, 1, 1, ..., 0, 0, 1],\n",
       "         [0, 1, 1, ..., 1, 1, 0]],\n",
       "\n",
       "        [[0, 0, 1, ..., 1, 0, 1],\n",
       "         [0, 1, 1, ..., 0, 0, 0],\n",
       "         [0, 0, 0, ..., 0, 0, 1]]],\n",
       "\n",
       "\n",
       "       [[[1, 1, 0, ..., 1, 1, 0],\n",
       "         [0, 0, 0, ..., 0, 0, 1],\n",
       "         [0, 1, 1, ..., 1, 1, 1]],\n",
       "\n",
       "        [[0, 1, 0, ..., 0, 0, 0],\n",
       "         [1, 0, 0, ..., 0, 0, 0],\n",
       "         [1, 1, 1, ..., 0, 0, 1]],\n",
       "\n",
       "        [[0, 0, 1, ..., 0, 0, 0],\n",
       "         [1, 0, 0, ..., 0, 0, 1],\n",
       "         [1, 0, 0, ..., 0, 1, 0]],\n",
       "\n",
       "        ...,\n",
       "\n",
       "        [[0, 0, 0, ..., 1, 0, 0],\n",
       "         [0, 0, 0, ..., 0, 0, 0],\n",
       "         [1, 0, 1, ..., 1, 1, 0]],\n",
       "\n",
       "        [[0, 1, 0, ..., 0, 0, 1],\n",
       "         [1, 1, 1, ..., 1, 1, 0],\n",
       "         [1, 0, 1, ..., 1, 0, 0]],\n",
       "\n",
       "        [[0, 1, 1, ..., 1, 0, 0],\n",
       "         [0, 1, 1, ..., 0, 1, 1],\n",
       "         [0, 1, 0, ..., 0, 1, 1]]]])"
      ]
     },
     "execution_count": 20,
     "metadata": {},
     "output_type": "execute_result"
    }
   ],
   "source": [
    "MP.s_cuhd"
   ]
  },
  {
   "cell_type": "markdown",
   "metadata": {},
   "source": [
    "##### - quota categories\n",
    "$$\n",
    "q_{ic}\\left\\{\\begin{array}\\\\\n",
    "        1 & \\mbox{if }  campaign\\ c\\ is\\ a\\ i^{th} type\\ quota\\ category\\ campaign\\ \\\\\n",
    "        0 & \\mbox{otherwise } \\\\\n",
    "    \\end{array}\n",
    "\\right.\n",
    "$$"
   ]
  },
  {
   "cell_type": "code",
   "execution_count": 21,
   "metadata": {},
   "outputs": [
    {
     "data": {
      "text/plain": [
       "array([[0, 1, 0, 0, 0, 1, 0, 1, 1, 1, 1, 1, 1, 1, 1, 0, 0, 1, 0, 0],\n",
       "       [0, 1, 0, 1, 1, 1, 1, 1, 0, 1, 1, 1, 0, 0, 0, 0, 1, 0, 0, 0],\n",
       "       [1, 0, 1, 1, 0, 0, 0, 0, 0, 0, 1, 1, 1, 1, 0, 0, 1, 0, 1, 0]])"
      ]
     },
     "execution_count": 21,
     "metadata": {},
     "output_type": "execute_result"
    }
   ],
   "source": [
    "MP.q_ic"
   ]
  },
  {
   "cell_type": "markdown",
   "metadata": {},
   "source": [
    "##### - priority categories\n",
    "$$r_{cp}: Priority\\ value\\ of\\ campaign\\ c\\ regarding\\ priority\\ type\\ p\\$$"
   ]
  },
  {
   "cell_type": "code",
   "execution_count": 22,
   "metadata": {},
   "outputs": [
    {
     "data": {
      "text/plain": [
       "array([ 4, 98,  4,  4,  4, 22, 22,  4,  4, 98, 22,  4,  4,  4, 98, 98, 22,\n",
       "       98, 22, 22])"
      ]
     },
     "execution_count": 22,
     "metadata": {},
     "output_type": "execute_result"
    }
   ],
   "source": [
    "MP.rp_c"
   ]
  },
  {
   "cell_type": "markdown",
   "metadata": {},
   "source": [
    "##### - blokage\n",
    "$$b: Communication\\ limit\\ per\\ person\\ for\\ the\\ whole\\ period\\$$"
   ]
  },
  {
   "cell_type": "code",
   "execution_count": 23,
   "metadata": {},
   "outputs": [
    {
     "data": {
      "text/plain": [
       "7"
      ]
     },
     "execution_count": 23,
     "metadata": {},
     "output_type": "execute_result"
    }
   ],
   "source": [
    "MP.b"
   ]
  },
  {
   "cell_type": "markdown",
   "metadata": {},
   "source": [
    "##### - daily blokage\n",
    "$$k: Communication\\ limit\\ per\\ person\\ at\\ each\\ day\\$$"
   ]
  },
  {
   "cell_type": "code",
   "execution_count": 24,
   "metadata": {
    "scrolled": true
   },
   "outputs": [
    {
     "data": {
      "text/plain": [
       "3"
      ]
     },
     "execution_count": 24,
     "metadata": {},
     "output_type": "execute_result"
    }
   ],
   "source": [
    "MP.k"
   ]
  },
  {
   "cell_type": "markdown",
   "metadata": {},
   "source": [
    "##### - campaign blockage\n",
    "$$l_c: Communication\\ limit\\ per\\ person\\ for\\ campaign\\ c\\$$"
   ]
  },
  {
   "cell_type": "code",
   "execution_count": 25,
   "metadata": {
    "scrolled": true
   },
   "outputs": [
    {
     "data": {
      "text/plain": [
       "array([4, 3, 3, 4, 2, 3, 4, 3, 3, 4, 3, 4, 4, 4, 2, 4, 4, 3, 3, 4])"
      ]
     },
     "execution_count": 25,
     "metadata": {},
     "output_type": "execute_result"
    }
   ],
   "source": [
    "MP.l_c"
   ]
  },
  {
   "cell_type": "markdown",
   "metadata": {},
   "source": [
    "##### - quota limitations daily/weekly\n",
    "$$\n",
    "m_i: Communication\\ limit\\ per\\ person\\ for\\ i^{th}\\ category\\\n",
    "$$\n",
    "$$\n",
    "n_i: Communication\\ limit\\ per\\ person\\ for\\ i^{th}\\ category\\ each\\ day\\\n",
    "$$"
   ]
  },
  {
   "cell_type": "code",
   "execution_count": 26,
   "metadata": {},
   "outputs": [
    {
     "data": {
      "text/plain": [
       "(array([4, 5, 3]), array([1, 1, 2]))"
      ]
     },
     "execution_count": 26,
     "metadata": {},
     "output_type": "execute_result"
    }
   ],
   "source": [
    "(MP.m_i, MP.n_i)"
   ]
  },
  {
   "cell_type": "markdown",
   "metadata": {},
   "source": [
    "#### - capacity for channel\n",
    "$$\n",
    "t_{h,d}: Capacity\\ for\\ channel\\ h\\ at\\ day\\ d.\\\n",
    "$$"
   ]
  },
  {
   "cell_type": "code",
   "execution_count": 27,
   "metadata": {
    "scrolled": true
   },
   "outputs": [
    {
     "data": {
      "text/plain": [
       "array([[700., 600., 500., 500., 700., 600., 600.],\n",
       "       [500., 500., 700., 700., 600., 500., 600.],\n",
       "       [500., 600., 700., 500., 600., 600., 600.]])"
      ]
     },
     "execution_count": 27,
     "metadata": {},
     "output_type": "execute_result"
    }
   ],
   "source": [
    "MP.t_hd"
   ]
  },
  {
   "cell_type": "markdown",
   "metadata": {},
   "source": [
    "# Model"
   ]
  },
  {
   "cell_type": "markdown",
   "metadata": {},
   "source": [
    "#### Variables\n",
    "$$\n",
    "X_{cuhd}\\left\\{\\begin{array}\\\\\n",
    "        1 & \\mbox{if } Campaign\\ c\\ will\\ be\\ sent\\ to\\ customer\\ u\\ through\\ Channel\\ h\\ at\\ Day\\ d \\\\\n",
    "        0 & \\mbox{otherwise } \\\\\n",
    "    \\end{array}\n",
    "\\right.\n",
    "$$"
   ]
  },
  {
   "cell_type": "markdown",
   "metadata": {},
   "source": [
    "## Maximize\n",
    "$$\\sum_{p \\in P}\\sum_{c \\in C}\\sum_{u \\in U}\\sum_{h \\in H}\\sum_{d \\in D}\\,X_{cuhd}\\ r_{cp}$$"
   ]
  },
  {
   "cell_type": "markdown",
   "metadata": {},
   "source": [
    "##### Binary variable (10)\n",
    "$$\n",
    "X_{cuhd} \\in \\{ 1,0 \\},\\hspace{35pt} \\forall c \\in C ,\\forall u \\in U,\\forall d \\in D, \\forall h \\in H\n",
    "$$"
   ]
  },
  {
   "cell_type": "code",
   "execution_count": 28,
   "metadata": {},
   "outputs": [],
   "source": [
    "X_cuhd = np.zeros((MP.C,MP.U,MP.H,MP.D), dtype='int')"
   ]
  },
  {
   "cell_type": "markdown",
   "metadata": {},
   "source": [
    "## subject to"
   ]
  },
  {
   "cell_type": "markdown",
   "metadata": {},
   "source": [
    "##### - eligibility (2)\n",
    "\n",
    "$$\n",
    "X_{cuhd}  \\leq e_{cu},\\hspace{35pt} \\forall h \\in H,\\forall d \\in D\n",
    "$$\n",
    "$$\n",
    "X_{cuhd}\\le e_{cu},\\quad\\quad\\quad\\quad\\forall h\\in H,\\forall d\\in D\n",
    "$$"
   ]
  },
  {
   "cell_type": "code",
   "execution_count": 29,
   "metadata": {},
   "outputs": [
    {
     "name": "stdout",
     "output_type": "stream",
     "text": [
      "eligibility = lambda X, c, u, h, d: X[c,u,h,d]<=e_cu[c,u]\n",
      "\n"
     ]
    }
   ],
   "source": [
    "print(inspect.getsource(MP.eligibility))"
   ]
  },
  {
   "cell_type": "markdown",
   "metadata": {},
   "source": [
    "##### - use one channel (3)\n",
    "$$\n",
    "\\sum_{h}X_{cuhd} \\le 1,\\hspace{35pt} \\forall c \\in C \\, \\forall u \\in U,\\forall d \\in D\n",
    "$$"
   ]
  },
  {
   "cell_type": "code",
   "execution_count": 30,
   "metadata": {},
   "outputs": [
    {
     "name": "stdout",
     "output_type": "stream",
     "text": [
      "one_channel = lambda X, c, u, d: X[c,u,:,d].sum() <= 1\n",
      "\n"
     ]
    }
   ],
   "source": [
    "print(inspect.getsource(MP.one_channel))"
   ]
  },
  {
   "cell_type": "markdown",
   "metadata": {},
   "source": [
    "##### - weekly communication limitation (4)\n",
    "$$\n",
    "\\sum_{h \\in H}\\sum_{c \\in C}\\sum_{d \\in D} X_{cuhd}\\le b,\\hspace{35pt} \\forall u \\in U\n",
    "$$\n",
    "$$\n",
    "\\sum_{h \\in H}\\sum_{c \\in C}\\sum_{d \\in [1]} X_{cuhd} + \\sum_{h \\in H}\\sum_{c \\in C}\\sum_{d \\in [2,7]}s_{cuhd}\\le b,\\hspace{35pt} \\forall u \\in U\n",
    "$$\n",
    "$$\n",
    "\\sum_{h \\in H}\\sum_{c \\in C}\\sum_{d \\in [1,2]} X_{cuhd} + \\sum_{h \\in H}\\sum_{c \\in C}\\sum_{d \\in [3,7]}s_{cuhd}\\le b,\\hspace{35pt} \\forall u \\in U\n",
    "$$\n",
    "$$\n",
    "\\sum_{h \\in H}\\sum_{c \\in C}\\sum_{d \\in [1,3]} X_{cuhd} + \\sum_{h \\in H}\\sum_{c \\in C}\\sum_{d \\in [4,7]}s_{cuhd}\\le b,\\hspace{35pt} \\forall u \\in U\n",
    "$$\n",
    "$$\n",
    "\\sum_{h \\in H}\\sum_{c \\in C}\\sum_{d \\in [1,4]} X_{cuhd} + \\sum_{h \\in H}\\sum_{c \\in C}\\sum_{d \\in [5,7]}s_{cuhd}\\le b,\\hspace{35pt} \\forall u \\in U\n",
    "$$\n",
    "$$\n",
    "\\sum_{h \\in H}\\sum_{c \\in C}\\sum_{d \\in [1,5]} X_{cuhd} + \\sum_{h \\in H}\\sum_{c \\in C}\\sum_{d \\in [6,7]}s_{cuhd}\\le b,\\hspace{35pt} \\forall u \\in U\n",
    "$$\n",
    "$$\n",
    "\\sum_{h \\in H}\\sum_{c \\in C}\\sum_{d \\in [1,6]} X_{cuhd} + \\sum_{h \\in H}\\sum_{c \\in C}\\sum_{d \\in [7]}s_{cuhd}\\le b,\\hspace{35pt} \\forall u \\in U\n",
    "$$\n"
   ]
  },
  {
   "cell_type": "code",
   "execution_count": 31,
   "metadata": {},
   "outputs": [
    {
     "name": "stdout",
     "output_type": "stream",
     "text": [
      "weekly_limitation = lambda X, u: (X[:,u,:,:]).sum() <= b\n",
      " weekly_limitation_rh = lambda f_d: lambda X, s, u : X[:,u,:,:f_d].sum() + s[:,u,:,f_d:].sum() <= b\n",
      " weekly_limitation_rh = lambda f_d: lambda X, s, u : X[:,u,:,:f_d].sum() + s[:,u,:,f_d:].sum() <= b\n",
      " weekly_limitation_rh = lambda f_d: lambda X, s, u : X[:,u,:,:f_d].sum() + s[:,u,:,f_d:].sum() <= b\n",
      " weekly_limitation_rh = lambda f_d: lambda X, s, u : X[:,u,:,:f_d].sum() + s[:,u,:,f_d:].sum() <= b\n",
      " weekly_limitation_rh = lambda f_d: lambda X, s, u : X[:,u,:,:f_d].sum() + s[:,u,:,f_d:].sum() <= b\n",
      " weekly_limitation_rh = lambda f_d: lambda X, s, u : X[:,u,:,:f_d].sum() + s[:,u,:,f_d:].sum() <= b\n",
      "\n"
     ]
    }
   ],
   "source": [
    "print(\n",
    "    inspect.getsource(MP.weekly_limitation),\n",
    "    inspect.getsource(MP.weekly_limitation_rh1),\n",
    "    inspect.getsource(MP.weekly_limitation_rh2),\n",
    "    inspect.getsource(MP.weekly_limitation_rh3),\n",
    "    inspect.getsource(MP.weekly_limitation_rh4),\n",
    "    inspect.getsource(MP.weekly_limitation_rh5),\n",
    "    inspect.getsource(MP.weekly_limitation_rh6)\n",
    ")"
   ]
  },
  {
   "cell_type": "markdown",
   "metadata": {},
   "source": [
    "##### - daily communication limitation (5)\n",
    "$$\n",
    "\\sum_{h \\in H}\\sum_{c \\in C} X_{cuhd}\\le k,\\hspace{35pt} \\forall u \\in U, \\forall d \\in D\n",
    "$$"
   ]
  },
  {
   "cell_type": "code",
   "execution_count": 32,
   "metadata": {},
   "outputs": [
    {
     "name": "stdout",
     "output_type": "stream",
     "text": [
      "daily_limitation = lambda X, u, d: X[:,u,:,d].sum() <= k\n",
      "\n"
     ]
    }
   ],
   "source": [
    "print(inspect.getsource(MP.daily_limitation))"
   ]
  },
  {
   "cell_type": "markdown",
   "metadata": {},
   "source": [
    "##### - campaign communication limit(6)\n",
    "$$\n",
    "\\sum_{d \\in D}\\sum_{h \\in H} X_{cuhd}\\le l_c,\\hspace{35pt} \\forall c \\in C,\\forall u \\in U;\n",
    "$$\n",
    "$$\n",
    "\\sum_{d \\in [1]}\\sum_{h \\in H}{X_{cuhd}}+ \\sum_{d \\in [2,7]}\\sum_{h \\in H}{s_{cuhd}}\\le l_c,\\hspace{35pt} \\forall c \\in C,\\forall u \\in U;\n",
    "$$\n",
    "$$\n",
    "\\sum_{d \\in [1,2]}\\sum_{h \\in H}{X_{cuhd}}+ \\sum_{d \\in [3,7]}\\sum_{h \\in H}{s_{cuhd}}\\le l_c,\\hspace{35pt} \\forall c \\in C,\\forall u \\in U;\n",
    "$$\n",
    "$$\n",
    "\\sum_{d \\in [1,3]}\\sum_{h \\in H}{X_{cuhd}}+ \\sum_{d \\in [4,7]}\\sum_{h \\in H}{s_{cuhd}}\\le l_c,\\hspace{35pt} \\forall c \\in C,\\forall u \\in U;\n",
    "$$\n",
    "$$\n",
    "\\sum_{d \\in [1,4]}\\sum_{h \\in H}{X_{cuhd}}+ \\sum_{d \\in [5,7]}\\sum_{h \\in H}{s_{cuhd}}\\le l_c,\\hspace{35pt} \\forall c \\in C,\\forall u \\in U;\n",
    "$$\n",
    "$$\n",
    "\\sum_{d \\in [1,5]}\\sum_{h \\in H}{X_{cuhd}}+ \\sum_{d \\in [6,7]}\\sum_{h \\in H}{s_{cuhd}}\\le l_c,\\hspace{35pt} \\forall c \\in C,\\forall u \\in U;\n",
    "$$\n",
    "$$\n",
    "\\sum_{d \\in [1,6]}\\sum_{h \\in H}{X_{cuhd}}+ \\sum_{d \\in [7]}\\sum_{h \\in H}{s_{cuhd}}\\le l_c,\\hspace{35pt} \\forall c \\in C,\\forall u \\in U;\n",
    "$$"
   ]
  },
  {
   "cell_type": "code",
   "execution_count": 33,
   "metadata": {},
   "outputs": [
    {
     "name": "stdout",
     "output_type": "stream",
     "text": [
      "campaign_limitation = lambda X, c, u: X[c,u,:,:].sum() <= l_c[c]\n",
      " campaign_limitation_rh =  lambda f_d: lambda X, s, c, u: X[c,u,:,:f_d].sum() + s[c,u,:,f_d:].sum() <=l_c[c]\n",
      " campaign_limitation_rh =  lambda f_d: lambda X, s, c, u: X[c,u,:,:f_d].sum() + s[c,u,:,f_d:].sum() <=l_c[c]\n",
      " campaign_limitation_rh =  lambda f_d: lambda X, s, c, u: X[c,u,:,:f_d].sum() + s[c,u,:,f_d:].sum() <=l_c[c]\n",
      " campaign_limitation_rh =  lambda f_d: lambda X, s, c, u: X[c,u,:,:f_d].sum() + s[c,u,:,f_d:].sum() <=l_c[c]\n",
      " campaign_limitation_rh =  lambda f_d: lambda X, s, c, u: X[c,u,:,:f_d].sum() + s[c,u,:,f_d:].sum() <=l_c[c]\n",
      " campaign_limitation_rh =  lambda f_d: lambda X, s, c, u: X[c,u,:,:f_d].sum() + s[c,u,:,f_d:].sum() <=l_c[c]\n",
      "\n"
     ]
    }
   ],
   "source": [
    "print(\n",
    "    inspect.getsource(MP.campaign_limitation),\n",
    "    inspect.getsource(MP.campaign_limitation_rh1),\n",
    "    inspect.getsource(MP.campaign_limitation_rh2),\n",
    "    inspect.getsource(MP.campaign_limitation_rh3),\n",
    "    inspect.getsource(MP.campaign_limitation_rh4),\n",
    "    inspect.getsource(MP.campaign_limitation_rh5),\n",
    "    inspect.getsource(MP.campaign_limitation_rh6),\n",
    "     )"
   ]
  },
  {
   "cell_type": "markdown",
   "metadata": {},
   "source": [
    "##### - weekly quota(7)\n",
    "$$\n",
    "\\sum_{d \\in D}\\sum_{h \\in H}\\sum_{c \\in C}{X_{cuhd} q_{ic}}\\le m_i,\\hspace{35pt} \\forall u \\in U, \\forall i \\in I\n",
    "$$\n",
    "$$\n",
    "\\sum_{d \\in [1]}\\sum_{h \\in H}\\sum_{c \\in C} {X_{cuhd} q_{ic}} + \\sum_{d \\in [2,7]}\\sum_{h \\in H}\\sum_{c \\in C}{s_{cuhd} q_{ic}}\\le m_i,\\hspace{35pt} \\forall u \\in U, \\forall i \\in I\n",
    "$$\n",
    "$$\n",
    "\\sum_{d \\in [1,2]}\\sum_{h \\in H}\\sum_{c \\in C} {X_{cuhd} q_{ic}} + \\sum_{d \\in [3,7]}\\sum_{h \\in H}\\sum_{c \\in C}{s_{cuhd} q_{ic}}\\le m_i,\\hspace{35pt} \\forall u \\in U, \\forall i \\in I\n",
    "$$\n",
    "$$\n",
    "\\sum_{d \\in [1,3]}\\sum_{h \\in H}\\sum_{c \\in C} {X_{cuhd} q_{ic}} + \\sum_{d \\in [4,7]}\\sum_{h \\in H}\\sum_{c \\in C}{s_{cuhd} q_{ic}}\\le m_i,\\hspace{35pt} \\forall u \\in U, \\forall i \\in I\n",
    "$$\n",
    "$$\n",
    "\\sum_{d \\in [1,4]}\\sum_{h \\in H}\\sum_{c \\in C} {X_{cuhd} q_{ic}} + \\sum_{d \\in [5,7]}\\sum_{h \\in H}\\sum_{c \\in C}{s_{cuhd} q_{ic}}\\le m_i,\\hspace{35pt} \\forall u \\in U, \\forall i \\in I\n",
    "$$\n",
    "$$\n",
    "\\sum_{d \\in [1,5]}\\sum_{h \\in H}\\sum_{c \\in C} {X_{cuhd} q_{ic}} + \\sum_{d \\in [6,7]}\\sum_{h \\in H}\\sum_{c \\in C}{s_{cuhd} q_{ic}}\\le m_i,\\hspace{35pt} \\forall u \\in U, \\forall i \\in I\n",
    "$$\n",
    "$$\n",
    "\\sum_{d \\in [1,6]}\\sum_{h \\in H}\\sum_{c \\in C} {X_{cuhd} q_{ic}} + \\sum_{d \\in [7]}\\sum_{h \\in H}\\sum_{c \\in C}{s_{cuhd} q_{ic}}\\le m_i,\\hspace{35pt} \\forall u \\in U, \\forall i \\in I\n",
    "$$"
   ]
  },
  {
   "cell_type": "code",
   "execution_count": 34,
   "metadata": {},
   "outputs": [
    {
     "name": "stdout",
     "output_type": "stream",
     "text": [
      "weekly_quota = lambda X, u: all((q_ic * X[:,u,:,:].sum(axis=(1,2))).sum(axis=1)<=m_i)\n",
      " weekly_quota_rh = lambda f_d :lambda X, s, u: all((q_ic * X[:,u,:,:f_d].sum(axis=(1,2))).sum(axis=1) + (q_ic * s[:,u,:,f_d:].sum(axis=(1,2))).sum(axis=1) <= m_i)\n",
      " weekly_quota_rh = lambda f_d :lambda X, s, u: all((q_ic * X[:,u,:,:f_d].sum(axis=(1,2))).sum(axis=1) + (q_ic * s[:,u,:,f_d:].sum(axis=(1,2))).sum(axis=1) <= m_i)\n",
      " weekly_quota_rh = lambda f_d :lambda X, s, u: all((q_ic * X[:,u,:,:f_d].sum(axis=(1,2))).sum(axis=1) + (q_ic * s[:,u,:,f_d:].sum(axis=(1,2))).sum(axis=1) <= m_i)\n",
      " weekly_quota_rh = lambda f_d :lambda X, s, u: all((q_ic * X[:,u,:,:f_d].sum(axis=(1,2))).sum(axis=1) + (q_ic * s[:,u,:,f_d:].sum(axis=(1,2))).sum(axis=1) <= m_i)\n",
      " weekly_quota_rh = lambda f_d :lambda X, s, u: all((q_ic * X[:,u,:,:f_d].sum(axis=(1,2))).sum(axis=1) + (q_ic * s[:,u,:,f_d:].sum(axis=(1,2))).sum(axis=1) <= m_i)\n",
      " weekly_quota_rh = lambda f_d :lambda X, s, u: all((q_ic * X[:,u,:,:f_d].sum(axis=(1,2))).sum(axis=1) + (q_ic * s[:,u,:,f_d:].sum(axis=(1,2))).sum(axis=1) <= m_i)\n",
      "\n"
     ]
    }
   ],
   "source": [
    "print(\n",
    "    inspect.getsource(MP.weekly_quota),\n",
    "    inspect.getsource(MP.weekly_quota_rh1),\n",
    "    inspect.getsource(MP.weekly_quota_rh2),\n",
    "    inspect.getsource(MP.weekly_quota_rh3),\n",
    "    inspect.getsource(MP.weekly_quota_rh4),\n",
    "    inspect.getsource(MP.weekly_quota_rh5),\n",
    "    inspect.getsource(MP.weekly_quota_rh6),\n",
    ")"
   ]
  },
  {
   "cell_type": "markdown",
   "metadata": {},
   "source": [
    "##### - daily quota(8)\n",
    "$$\n",
    "\\sum_{h \\in H}\\sum_{c \\in C}{X_{cuhd} q_{ic}}\\le n_i,\\hspace{35pt} \\forall u \\in U,\\, \\forall d \\in D, \\forall i \\in I\n",
    "$$"
   ]
  },
  {
   "cell_type": "code",
   "execution_count": 35,
   "metadata": {},
   "outputs": [
    {
     "name": "stdout",
     "output_type": "stream",
     "text": [
      "daily_quota = lambda X, u, d: all((q_ic * X[:,u,:,d].sum(axis=(1))).sum(axis=1)<=n_i)\n",
      "\n"
     ]
    }
   ],
   "source": [
    "print(inspect.getsource(MP.daily_quota))"
   ]
  },
  {
   "cell_type": "markdown",
   "metadata": {},
   "source": [
    "##### Channel capacity (9)\n",
    "$$\n",
    "\\sum_{c \\in C}\\sum_{u \\in U}{X_{cuhd}}\\le t_{hd},\\hspace{35pt} \\forall d \\in D,\\, \\forall h \\in H\n",
    "$$"
   ]
  },
  {
   "cell_type": "code",
   "execution_count": 36,
   "metadata": {},
   "outputs": [
    {
     "name": "stdout",
     "output_type": "stream",
     "text": [
      "channel_capacity = lambda X, h, d: X[:,:,h,d].sum() <= t_hd[h,d]\n",
      "\n"
     ]
    }
   ],
   "source": [
    "print(inspect.getsource(MP.channel_capacity))"
   ]
  },
  {
   "cell_type": "code",
   "execution_count": 37,
   "metadata": {},
   "outputs": [],
   "source": [
    "#eligibility = lambda X, c, u, h, d: X[c,u,h,d]<=e_cu[c,u]\n",
    "#channel_capacity = lambda X, h, d: X[:,:,h,d].sum() <= t_hd[h,d]\n",
    "#weekly_limitation = lambda X, u: X[:,u,:,:].sum() <= b\n",
    "#daily_limitation = lambda X, u, d: X[:,u,:,d].sum() <= k\n",
    "#campaign_limitation = lambda X, c, u: X[c,u,:,:].sum() <= l_c[c]\n",
    "#one_channel = lambda X, c, u, d: X[c,u,:,d].sum() <= 1\n",
    "#weekly_quota = lambda X, u: np.all(q_ic[:,c] * X[c,u,:,:].sum()<=m_i)\n",
    "#daily_quota = lambda X, u, d: np.all(q_ic[:,c] * X[c,u,:,d].sum()<=n_i)\n",
    "\n",
    "c_i = 0\n",
    "u_i = 1\n",
    "h_i = 2\n",
    "d_i = 3\n",
    "\n",
    "mdl = model.Model([\n",
    "    model.Constraint('eligibility',MP.eligibility, (c_i, u_i, h_i, d_i,)),\n",
    "    model.Constraint('channel_capacity',MP.channel_capacity, (h_i, d_i,)),\n",
    "    model.Constraint('daily_limitation',MP.daily_limitation, (u_i, d_i,)),\n",
    "    model.Constraint('weekly_limitation',MP.weekly_limitation, (u_i,)),\n",
    "    model.Constraint('campaign_limitation',MP.campaign_limitation, (c_i, u_i,)),\n",
    "    model.Constraint('daily_quota',MP.daily_quota, (u_i, d_i,)),\n",
    "    model.Constraint('weekly_quota',MP.weekly_quota, (u_i,))\n",
    "], MP.objective_fn)"
   ]
  },
  {
   "cell_type": "markdown",
   "metadata": {},
   "source": [
    "$$\n",
    "\\sum_{c \\in C}\\sum_{u \\in U}{X_{cuhd}}\\le t_{hd},\\hspace{35pt} \\forall d \\in D,\\, \\forall h \\in H\n",
    "$$\n",
    "$$\n",
    "\\if{understand}\n",
    "$$\n",
    "$$\n",
    "\\begin{algorithm}[H]\n",
    " \\KwData{this text}\n",
    " \\KwResult{how to write algorithm with \\LaTeX2e }\n",
    " initialization\\;\n",
    " \\While{not at end of this document}{\n",
    "  read current\\;\n",
    "  \\eIf{understand}{\n",
    "   go to next section\\;\n",
    "   current section becomes this one\\;\n",
    "   }{\n",
    "   go back to the beginning of current section\\;\n",
    "  }\n",
    " }\n",
    " \\caption{How to write algorithms}\n",
    "\\end{algorithm}\n",
    "$$"
   ]
  },
  {
   "cell_type": "code",
   "execution_count": 38,
   "metadata": {},
   "outputs": [
    {
     "data": {
      "application/vnd.jupyter.widget-view+json": {
       "model_id": "ae1e9c247101418a8048ca5658a4ff18",
       "version_major": 2,
       "version_minor": 0
      },
      "text/plain": [
       "Campaigns Loop:   0%|          | 0/20 [00:00<?, ?it/s]"
      ]
     },
     "metadata": {},
     "output_type": "display_data"
    },
    {
     "data": {
      "application/vnd.jupyter.widget-view+json": {
       "model_id": "bef7e0d73269408d81f4c396e5426ace",
       "version_major": 2,
       "version_minor": 0
      },
      "text/plain": [
       "Days Loop for campaign-9:   0%|          | 0/7 [00:00<?, ?it/s]"
      ]
     },
     "metadata": {},
     "output_type": "display_data"
    },
    {
     "data": {
      "application/vnd.jupyter.widget-view+json": {
       "model_id": "e9760dffa1f2420aa579b02096d18cbe",
       "version_major": 2,
       "version_minor": 0
      },
      "text/plain": [
       "Days Loop for campaign-1:   0%|          | 0/7 [00:00<?, ?it/s]"
      ]
     },
     "metadata": {},
     "output_type": "display_data"
    },
    {
     "data": {
      "application/vnd.jupyter.widget-view+json": {
       "model_id": "980ac978a3b84c738c88d1c24b18c44e",
       "version_major": 2,
       "version_minor": 0
      },
      "text/plain": [
       "Days Loop for campaign-17:   0%|          | 0/7 [00:00<?, ?it/s]"
      ]
     },
     "metadata": {},
     "output_type": "display_data"
    },
    {
     "data": {
      "application/vnd.jupyter.widget-view+json": {
       "model_id": "902b8a311c5c4082ad5e5fd80a6220b5",
       "version_major": 2,
       "version_minor": 0
      },
      "text/plain": [
       "Days Loop for campaign-15:   0%|          | 0/7 [00:00<?, ?it/s]"
      ]
     },
     "metadata": {},
     "output_type": "display_data"
    },
    {
     "data": {
      "application/vnd.jupyter.widget-view+json": {
       "model_id": "dfa704ca19e34457a3b02d0ac83817cf",
       "version_major": 2,
       "version_minor": 0
      },
      "text/plain": [
       "Days Loop for campaign-14:   0%|          | 0/7 [00:00<?, ?it/s]"
      ]
     },
     "metadata": {},
     "output_type": "display_data"
    },
    {
     "data": {
      "application/vnd.jupyter.widget-view+json": {
       "model_id": "6f953cd394494c5baf7e923236849d1d",
       "version_major": 2,
       "version_minor": 0
      },
      "text/plain": [
       "Days Loop for campaign-16:   0%|          | 0/7 [00:00<?, ?it/s]"
      ]
     },
     "metadata": {},
     "output_type": "display_data"
    },
    {
     "data": {
      "application/vnd.jupyter.widget-view+json": {
       "model_id": "432305dea1d54f1c8b78e1172aca7af8",
       "version_major": 2,
       "version_minor": 0
      },
      "text/plain": [
       "Days Loop for campaign-10:   0%|          | 0/7 [00:00<?, ?it/s]"
      ]
     },
     "metadata": {},
     "output_type": "display_data"
    },
    {
     "data": {
      "application/vnd.jupyter.widget-view+json": {
       "model_id": "d2006ced432649aaa438ebc8c2d7c18a",
       "version_major": 2,
       "version_minor": 0
      },
      "text/plain": [
       "Days Loop for campaign-18:   0%|          | 0/7 [00:00<?, ?it/s]"
      ]
     },
     "metadata": {},
     "output_type": "display_data"
    },
    {
     "data": {
      "application/vnd.jupyter.widget-view+json": {
       "model_id": "f6147ed4707f464bb689fb2b76ff5993",
       "version_major": 2,
       "version_minor": 0
      },
      "text/plain": [
       "Days Loop for campaign-19:   0%|          | 0/7 [00:00<?, ?it/s]"
      ]
     },
     "metadata": {},
     "output_type": "display_data"
    },
    {
     "data": {
      "application/vnd.jupyter.widget-view+json": {
       "model_id": "d2a571610e8e4c7db028f5d78c94cb48",
       "version_major": 2,
       "version_minor": 0
      },
      "text/plain": [
       "Days Loop for campaign-6:   0%|          | 0/7 [00:00<?, ?it/s]"
      ]
     },
     "metadata": {},
     "output_type": "display_data"
    },
    {
     "data": {
      "application/vnd.jupyter.widget-view+json": {
       "model_id": "b1daf2ab512b444099e44e354cf848f8",
       "version_major": 2,
       "version_minor": 0
      },
      "text/plain": [
       "Days Loop for campaign-5:   0%|          | 0/7 [00:00<?, ?it/s]"
      ]
     },
     "metadata": {},
     "output_type": "display_data"
    },
    {
     "data": {
      "application/vnd.jupyter.widget-view+json": {
       "model_id": "e2945962fc7944579f93fdba682f7d2d",
       "version_major": 2,
       "version_minor": 0
      },
      "text/plain": [
       "Days Loop for campaign-7:   0%|          | 0/7 [00:00<?, ?it/s]"
      ]
     },
     "metadata": {},
     "output_type": "display_data"
    },
    {
     "data": {
      "application/vnd.jupyter.widget-view+json": {
       "model_id": "2ae6c143b39f4c568f8210dbb85b1742",
       "version_major": 2,
       "version_minor": 0
      },
      "text/plain": [
       "Days Loop for campaign-11:   0%|          | 0/7 [00:00<?, ?it/s]"
      ]
     },
     "metadata": {},
     "output_type": "display_data"
    },
    {
     "data": {
      "application/vnd.jupyter.widget-view+json": {
       "model_id": "4b5c215bb4344794afa64a13ab72c9ee",
       "version_major": 2,
       "version_minor": 0
      },
      "text/plain": [
       "Days Loop for campaign-12:   0%|          | 0/7 [00:00<?, ?it/s]"
      ]
     },
     "metadata": {},
     "output_type": "display_data"
    },
    {
     "data": {
      "application/vnd.jupyter.widget-view+json": {
       "model_id": "7c3cf12ad2d2418e8f635d75018142bb",
       "version_major": 2,
       "version_minor": 0
      },
      "text/plain": [
       "Days Loop for campaign-13:   0%|          | 0/7 [00:00<?, ?it/s]"
      ]
     },
     "metadata": {},
     "output_type": "display_data"
    },
    {
     "data": {
      "application/vnd.jupyter.widget-view+json": {
       "model_id": "079a7b7dbaaa494fbb9d5a1541d7f8b1",
       "version_major": 2,
       "version_minor": 0
      },
      "text/plain": [
       "Days Loop for campaign-4:   0%|          | 0/7 [00:00<?, ?it/s]"
      ]
     },
     "metadata": {},
     "output_type": "display_data"
    },
    {
     "data": {
      "application/vnd.jupyter.widget-view+json": {
       "model_id": "c44debb91f574e058ba99f4ecf09f575",
       "version_major": 2,
       "version_minor": 0
      },
      "text/plain": [
       "Days Loop for campaign-3:   0%|          | 0/7 [00:00<?, ?it/s]"
      ]
     },
     "metadata": {},
     "output_type": "display_data"
    },
    {
     "data": {
      "application/vnd.jupyter.widget-view+json": {
       "model_id": "87dd57d3483e43659daa380f6084f4ed",
       "version_major": 2,
       "version_minor": 0
      },
      "text/plain": [
       "Days Loop for campaign-2:   0%|          | 0/7 [00:00<?, ?it/s]"
      ]
     },
     "metadata": {},
     "output_type": "display_data"
    },
    {
     "data": {
      "application/vnd.jupyter.widget-view+json": {
       "model_id": "c21e6e86d74e4ff48d9be7dc0d894ebc",
       "version_major": 2,
       "version_minor": 0
      },
      "text/plain": [
       "Days Loop for campaign-8:   0%|          | 0/7 [00:00<?, ?it/s]"
      ]
     },
     "metadata": {},
     "output_type": "display_data"
    },
    {
     "data": {
      "application/vnd.jupyter.widget-view+json": {
       "model_id": "d5f8345b5b7946dd962c4bbacb0f3d68",
       "version_major": 2,
       "version_minor": 0
      },
      "text/plain": [
       "Days Loop for campaign-0:   0%|          | 0/7 [00:00<?, ?it/s]"
      ]
     },
     "metadata": {},
     "output_type": "display_data"
    },
    {
     "name": "stdout",
     "output_type": "stream",
     "text": [
      "CPU times: user 23.1 s, sys: 327 ms, total: 23.4 s\n",
      "Wall time: 24.5 s\n"
     ]
    }
   ],
   "source": [
    "%%time\n",
    "X_cuhd = np.zeros((MP.C,MP.U,MP.H,MP.D), dtype='int')\n",
    "for c in tqdm(np.argsort(-MP.rp_c), desc=\"Campaigns Loop\"):\n",
    "    for d in trange(MP.D, desc=f\"Days Loop for campaign-{c}\"):\n",
    "        for h in range(MP.H):#trange(H, desc=f\"Channels Loop at Day-{d}, Campapaign-{c}\"):\n",
    "            for u in range(MP.U):#trange(U, desc=f\"Users Loop On Campaign-{c}\"):\n",
    "                X_cuhd[c,u,h,d]=1\n",
    "                if not mdl.execute(X_cuhd, (c, u, h, d)):\n",
    "                    X_cuhd[c,u,h,d]=0\n"
   ]
  },
  {
   "cell_type": "code",
   "execution_count": 39,
   "metadata": {},
   "outputs": [
    {
     "name": "stdout",
     "output_type": "stream",
     "text": [
      "('eligibility', 420000)\n",
      "('channel_capacity', 211659)\n",
      "('daily_limitation', 132095)\n",
      "('weekly_limitation', 129960)\n",
      "('weekly_limitation', 48472)\n",
      "('campaign_limitation', 48472)\n",
      "('daily_quota', 36650)\n",
      "('weekly_quota', 21862)\n"
     ]
    }
   ],
   "source": [
    "for s in mdl.stats():\n",
    "    print(s)"
   ]
  },
  {
   "cell_type": "code",
   "execution_count": 40,
   "metadata": {},
   "outputs": [
    {
     "data": {
      "text/plain": [
       "6936"
      ]
     },
     "metadata": {},
     "output_type": "display_data"
    },
    {
     "data": {
      "text/plain": [
       "544910"
      ]
     },
     "metadata": {},
     "output_type": "display_data"
    }
   ],
   "source": [
    "display(X_cuhd.sum())\n",
    "display(mdl.calc_value(X_cuhd))"
   ]
  },
  {
   "cell_type": "markdown",
   "metadata": {},
   "source": [
    "##### - check criterion"
   ]
  },
  {
   "cell_type": "markdown",
   "metadata": {},
   "source": [
    "- Sort Campaigns by rp_c\n",
    "- Map every criteria to function"
   ]
  }
 ],
 "metadata": {
  "kernelspec": {
   "display_name": "Python 3",
   "language": "python",
   "name": "python3"
  },
  "language_info": {
   "codemirror_mode": {
    "name": "ipython",
    "version": 3
   },
   "file_extension": ".py",
   "mimetype": "text/x-python",
   "name": "python",
   "nbconvert_exporter": "python",
   "pygments_lexer": "ipython3",
   "version": "3.7.9"
  }
 },
 "nbformat": 4,
 "nbformat_minor": 4
}
