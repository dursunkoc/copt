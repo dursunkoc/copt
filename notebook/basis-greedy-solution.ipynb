{
 "cells": [
  {
   "cell_type": "code",
   "execution_count": 1,
   "metadata": {},
   "outputs": [],
   "source": [
    "import sys\n",
    "import os\n",
    "sys.path.insert(0, os.path.abspath('../src'))"
   ]
  },
  {
   "cell_type": "code",
   "execution_count": 2,
   "metadata": {},
   "outputs": [],
   "source": [
    "import numpy as np\n",
    "from tqdm.notebook import trange\n",
    "from tqdm.notebook import tqdm\n",
    "import inspect\n",
    "\n",
    "import model\n",
    "import model_parameters as MP"
   ]
  },
  {
   "cell_type": "markdown",
   "metadata": {},
   "source": [
    "## Mathematical Model"
   ]
  },
  {
   "cell_type": "markdown",
   "metadata": {},
   "source": [
    "#### Sets\n",
    "- C\tSet of campaigns.\n",
    "- U\tSet of customers.\n",
    "- H\tSet of channels\n",
    "- D\tSet of planning days.\n",
    "- I\tSet of quota categories.\n",
    "- P\tSet of priority categories.\n"
   ]
  },
  {
   "cell_type": "code",
   "execution_count": 3,
   "metadata": {},
   "outputs": [
    {
     "output_type": "stream",
     "name": "stdout",
     "text": [
      "number of campaigns 10\nnumber of customers 2000\nnumber of channels 3\nnumber of planning days 7\nnumber of quota categories 3\nnumber of priority categories 3\n"
     ]
    }
   ],
   "source": [
    "print(f\"number of campaigns {MP.C}\") #70 -camp.\n",
    "print(f\"number of customers {MP.U}\") #20.000.000 non-distinct\n",
    "print(f\"number of channels {MP.H}\") #6-7 h. --Drop\n",
    "print(f\"number of planning days {MP.D}\")\n",
    "print(f\"number of quota categories {MP.I}\")\n",
    "print(f\"number of priority categories {MP.P}\")"
   ]
  },
  {
   "cell_type": "markdown",
   "metadata": {},
   "source": [
    "#### Parameters"
   ]
  },
  {
   "cell_type": "markdown",
   "metadata": {},
   "source": [
    "##### - eligibility\n",
    "$$\n",
    "e_{cu}\\left\\{\\begin{array}\\\\\n",
    "        1 & \\mbox{if }  customer\\ u\\ is\\ eligible\\ for\\ campaign\\ c\\\\\n",
    "        0 & \\mbox{otherwise } \\\\\n",
    "    \\end{array}\n",
    "\\right.\n",
    "$$"
   ]
  },
  {
   "cell_type": "code",
   "execution_count": 4,
   "metadata": {},
   "outputs": [
    {
     "output_type": "execute_result",
     "data": {
      "text/plain": [
       "array([[1, 0, 0, ..., 1, 1, 0],\n",
       "       [1, 1, 1, ..., 0, 0, 0],\n",
       "       [0, 1, 0, ..., 0, 0, 0],\n",
       "       ...,\n",
       "       [0, 0, 1, ..., 0, 1, 0],\n",
       "       [1, 1, 1, ..., 0, 0, 1],\n",
       "       [0, 1, 0, ..., 0, 1, 1]])"
      ]
     },
     "metadata": {},
     "execution_count": 4
    }
   ],
   "source": [
    "MP.e_cu"
   ]
  },
  {
   "cell_type": "markdown",
   "metadata": {},
   "source": [
    "##### - previous planning"
   ]
  },
  {
   "cell_type": "code",
   "execution_count": 5,
   "metadata": {
    "scrolled": true
   },
   "outputs": [
    {
     "output_type": "execute_result",
     "data": {
      "text/plain": [
       "array([[[[0., 0., 0., ..., 0., 0., 0.],\n",
       "         [0., 0., 0., ..., 0., 0., 0.],\n",
       "         [0., 0., 0., ..., 0., 0., 0.]],\n",
       "\n",
       "        [[0., 0., 0., ..., 0., 0., 0.],\n",
       "         [0., 0., 0., ..., 0., 0., 0.],\n",
       "         [0., 0., 0., ..., 0., 0., 0.]],\n",
       "\n",
       "        [[0., 0., 0., ..., 0., 0., 0.],\n",
       "         [0., 0., 0., ..., 0., 0., 0.],\n",
       "         [0., 0., 0., ..., 0., 0., 0.]],\n",
       "\n",
       "        ...,\n",
       "\n",
       "        [[0., 0., 0., ..., 0., 0., 0.],\n",
       "         [0., 0., 0., ..., 0., 0., 0.],\n",
       "         [0., 0., 0., ..., 0., 0., 0.]],\n",
       "\n",
       "        [[0., 0., 0., ..., 0., 0., 0.],\n",
       "         [0., 0., 0., ..., 0., 0., 0.],\n",
       "         [0., 0., 0., ..., 0., 0., 0.]],\n",
       "\n",
       "        [[0., 0., 0., ..., 0., 0., 0.],\n",
       "         [0., 0., 0., ..., 0., 0., 0.],\n",
       "         [0., 0., 0., ..., 0., 0., 0.]]],\n",
       "\n",
       "\n",
       "       [[[0., 0., 0., ..., 0., 0., 0.],\n",
       "         [0., 0., 0., ..., 0., 0., 0.],\n",
       "         [0., 0., 0., ..., 0., 0., 0.]],\n",
       "\n",
       "        [[0., 0., 0., ..., 0., 0., 0.],\n",
       "         [0., 0., 0., ..., 0., 0., 0.],\n",
       "         [0., 0., 0., ..., 0., 0., 0.]],\n",
       "\n",
       "        [[0., 0., 0., ..., 0., 0., 0.],\n",
       "         [0., 0., 0., ..., 0., 0., 0.],\n",
       "         [0., 0., 0., ..., 0., 0., 0.]],\n",
       "\n",
       "        ...,\n",
       "\n",
       "        [[0., 0., 0., ..., 0., 0., 0.],\n",
       "         [0., 0., 0., ..., 0., 0., 0.],\n",
       "         [0., 0., 0., ..., 0., 0., 0.]],\n",
       "\n",
       "        [[0., 0., 0., ..., 0., 0., 0.],\n",
       "         [0., 0., 0., ..., 0., 0., 0.],\n",
       "         [0., 0., 0., ..., 0., 0., 0.]],\n",
       "\n",
       "        [[0., 0., 0., ..., 0., 0., 0.],\n",
       "         [0., 0., 0., ..., 0., 0., 0.],\n",
       "         [0., 0., 0., ..., 0., 0., 0.]]],\n",
       "\n",
       "\n",
       "       [[[0., 0., 0., ..., 0., 0., 0.],\n",
       "         [0., 0., 0., ..., 0., 0., 0.],\n",
       "         [0., 0., 0., ..., 0., 0., 0.]],\n",
       "\n",
       "        [[0., 0., 0., ..., 0., 0., 0.],\n",
       "         [0., 0., 0., ..., 0., 0., 0.],\n",
       "         [0., 0., 0., ..., 0., 0., 0.]],\n",
       "\n",
       "        [[0., 0., 0., ..., 0., 0., 0.],\n",
       "         [0., 0., 0., ..., 0., 0., 0.],\n",
       "         [0., 0., 0., ..., 0., 0., 0.]],\n",
       "\n",
       "        ...,\n",
       "\n",
       "        [[0., 0., 0., ..., 0., 0., 0.],\n",
       "         [0., 0., 0., ..., 0., 0., 0.],\n",
       "         [0., 0., 0., ..., 0., 0., 0.]],\n",
       "\n",
       "        [[0., 0., 0., ..., 0., 0., 0.],\n",
       "         [0., 0., 0., ..., 0., 0., 0.],\n",
       "         [0., 0., 0., ..., 0., 0., 0.]],\n",
       "\n",
       "        [[0., 0., 0., ..., 0., 0., 0.],\n",
       "         [0., 0., 0., ..., 0., 0., 0.],\n",
       "         [0., 0., 0., ..., 0., 0., 0.]]],\n",
       "\n",
       "\n",
       "       ...,\n",
       "\n",
       "\n",
       "       [[[0., 0., 0., ..., 0., 0., 0.],\n",
       "         [0., 0., 0., ..., 0., 0., 0.],\n",
       "         [0., 0., 0., ..., 0., 0., 0.]],\n",
       "\n",
       "        [[0., 0., 0., ..., 0., 0., 0.],\n",
       "         [0., 0., 0., ..., 0., 0., 0.],\n",
       "         [0., 0., 0., ..., 0., 0., 0.]],\n",
       "\n",
       "        [[0., 0., 0., ..., 0., 0., 0.],\n",
       "         [0., 0., 0., ..., 0., 0., 0.],\n",
       "         [0., 0., 0., ..., 0., 0., 0.]],\n",
       "\n",
       "        ...,\n",
       "\n",
       "        [[0., 0., 0., ..., 0., 0., 0.],\n",
       "         [0., 0., 0., ..., 0., 0., 0.],\n",
       "         [0., 0., 0., ..., 0., 0., 0.]],\n",
       "\n",
       "        [[0., 0., 0., ..., 0., 0., 0.],\n",
       "         [0., 0., 0., ..., 0., 0., 0.],\n",
       "         [0., 0., 0., ..., 0., 0., 0.]],\n",
       "\n",
       "        [[0., 0., 0., ..., 0., 0., 0.],\n",
       "         [0., 0., 0., ..., 0., 0., 0.],\n",
       "         [0., 0., 0., ..., 0., 0., 0.]]],\n",
       "\n",
       "\n",
       "       [[[0., 0., 0., ..., 0., 0., 0.],\n",
       "         [0., 0., 0., ..., 0., 0., 0.],\n",
       "         [0., 0., 0., ..., 0., 0., 0.]],\n",
       "\n",
       "        [[0., 0., 0., ..., 0., 0., 0.],\n",
       "         [0., 0., 0., ..., 0., 0., 0.],\n",
       "         [0., 0., 0., ..., 0., 0., 0.]],\n",
       "\n",
       "        [[0., 0., 0., ..., 0., 0., 0.],\n",
       "         [0., 0., 0., ..., 0., 0., 0.],\n",
       "         [0., 0., 0., ..., 0., 0., 0.]],\n",
       "\n",
       "        ...,\n",
       "\n",
       "        [[0., 0., 0., ..., 0., 0., 0.],\n",
       "         [0., 0., 0., ..., 0., 0., 0.],\n",
       "         [0., 0., 0., ..., 0., 0., 0.]],\n",
       "\n",
       "        [[0., 0., 0., ..., 0., 0., 0.],\n",
       "         [0., 0., 0., ..., 0., 0., 0.],\n",
       "         [0., 0., 0., ..., 0., 0., 0.]],\n",
       "\n",
       "        [[0., 0., 0., ..., 0., 0., 0.],\n",
       "         [0., 0., 0., ..., 0., 0., 0.],\n",
       "         [0., 0., 0., ..., 0., 0., 0.]]],\n",
       "\n",
       "\n",
       "       [[[0., 0., 0., ..., 0., 0., 0.],\n",
       "         [0., 0., 0., ..., 0., 0., 0.],\n",
       "         [0., 0., 0., ..., 0., 0., 0.]],\n",
       "\n",
       "        [[0., 0., 0., ..., 0., 0., 0.],\n",
       "         [0., 0., 0., ..., 0., 0., 0.],\n",
       "         [0., 0., 0., ..., 0., 0., 0.]],\n",
       "\n",
       "        [[0., 0., 0., ..., 0., 0., 0.],\n",
       "         [0., 0., 0., ..., 0., 0., 0.],\n",
       "         [0., 0., 0., ..., 0., 0., 0.]],\n",
       "\n",
       "        ...,\n",
       "\n",
       "        [[0., 0., 0., ..., 0., 0., 0.],\n",
       "         [0., 0., 0., ..., 0., 0., 0.],\n",
       "         [0., 0., 0., ..., 0., 0., 0.]],\n",
       "\n",
       "        [[0., 0., 0., ..., 0., 0., 0.],\n",
       "         [0., 0., 0., ..., 0., 0., 0.],\n",
       "         [0., 0., 0., ..., 0., 0., 0.]],\n",
       "\n",
       "        [[0., 0., 0., ..., 0., 0., 0.],\n",
       "         [0., 0., 0., ..., 0., 0., 0.],\n",
       "         [0., 0., 0., ..., 0., 0., 0.]]]])"
      ]
     },
     "metadata": {},
     "execution_count": 5
    }
   ],
   "source": [
    "MP.s_cuhd"
   ]
  },
  {
   "cell_type": "markdown",
   "metadata": {},
   "source": [
    "##### - quota categories\n",
    "$$\n",
    "q_{ic}\\left\\{\\begin{array}\\\\\n",
    "        1 & \\mbox{if }  campaign\\ c\\ is\\ a\\ i^{th} type\\ quota\\ category\\ campaign\\ \\\\\n",
    "        0 & \\mbox{otherwise } \\\\\n",
    "    \\end{array}\n",
    "\\right.\n",
    "$$"
   ]
  },
  {
   "cell_type": "code",
   "execution_count": 6,
   "metadata": {},
   "outputs": [
    {
     "output_type": "execute_result",
     "data": {
      "text/plain": [
       "array([[1, 0, 1, 1, 0, 0, 1, 1, 1, 1],\n",
       "       [0, 1, 1, 1, 1, 1, 1, 0, 1, 1],\n",
       "       [1, 1, 0, 1, 0, 0, 0, 1, 0, 0]])"
      ]
     },
     "metadata": {},
     "execution_count": 6
    }
   ],
   "source": [
    "MP.q_ic"
   ]
  },
  {
   "cell_type": "markdown",
   "metadata": {},
   "source": [
    "##### - priority categories\n",
    "$$r_{cp}: Priority\\ value\\ of\\ campaign\\ c\\ regarding\\ priority\\ type\\ p\\$$"
   ]
  },
  {
   "cell_type": "code",
   "execution_count": 7,
   "metadata": {},
   "outputs": [
    {
     "output_type": "execute_result",
     "data": {
      "text/plain": [
       "array([66, 66, 66, 66, 66, 66, 66, 66, 66, 21])"
      ]
     },
     "metadata": {},
     "execution_count": 7
    }
   ],
   "source": [
    "MP.rp_c"
   ]
  },
  {
   "cell_type": "markdown",
   "metadata": {},
   "source": [
    "##### - blokage\n",
    "$$b: Communication\\ limit\\ per\\ person\\ for\\ the\\ whole\\ period\\$$"
   ]
  },
  {
   "cell_type": "code",
   "execution_count": 8,
   "metadata": {},
   "outputs": [
    {
     "output_type": "execute_result",
     "data": {
      "text/plain": [
       "7"
      ]
     },
     "metadata": {},
     "execution_count": 8
    }
   ],
   "source": [
    "MP.b"
   ]
  },
  {
   "cell_type": "markdown",
   "metadata": {},
   "source": [
    "##### - daily blokage\n",
    "$$k: Communication\\ limit\\ per\\ person\\ at\\ each\\ day\\$$"
   ]
  },
  {
   "cell_type": "code",
   "execution_count": 9,
   "metadata": {
    "scrolled": true
   },
   "outputs": [
    {
     "output_type": "execute_result",
     "data": {
      "text/plain": [
       "3"
      ]
     },
     "metadata": {},
     "execution_count": 9
    }
   ],
   "source": [
    "MP.k"
   ]
  },
  {
   "cell_type": "markdown",
   "metadata": {},
   "source": [
    "##### - campaign blockage\n",
    "$$l_c: Communication\\ limit\\ per\\ person\\ for\\ campaign\\ c\\$$"
   ]
  },
  {
   "cell_type": "code",
   "execution_count": 10,
   "metadata": {
    "scrolled": true
   },
   "outputs": [
    {
     "output_type": "execute_result",
     "data": {
      "text/plain": [
       "array([4, 2, 2, 4, 2, 4, 4, 4, 4, 4])"
      ]
     },
     "metadata": {},
     "execution_count": 10
    }
   ],
   "source": [
    "MP.l_c"
   ]
  },
  {
   "cell_type": "markdown",
   "metadata": {},
   "source": [
    "##### - quota limitations daily/weekly\n",
    "$$\n",
    "m_i: Communication\\ limit\\ per\\ person\\ for\\ i^{th}\\ category\\\n",
    "$$\n",
    "$$\n",
    "n_i: Communication\\ limit\\ per\\ person\\ for\\ i^{th}\\ category\\ each\\ day\\\n",
    "$$"
   ]
  },
  {
   "cell_type": "code",
   "execution_count": 11,
   "metadata": {},
   "outputs": [
    {
     "output_type": "execute_result",
     "data": {
      "text/plain": [
       "(array([3, 4, 4]), array([1, 1, 2]))"
      ]
     },
     "metadata": {},
     "execution_count": 11
    }
   ],
   "source": [
    "(MP.m_i, MP.n_i)"
   ]
  },
  {
   "cell_type": "markdown",
   "metadata": {},
   "source": [
    "#### - capacity for channel\n",
    "$$\n",
    "t_{h,d}: Capacity\\ for\\ channel\\ h\\ at\\ day\\ d.\\\n",
    "$$"
   ]
  },
  {
   "cell_type": "code",
   "execution_count": 12,
   "metadata": {
    "scrolled": true
   },
   "outputs": [
    {
     "output_type": "execute_result",
     "data": {
      "text/plain": [
       "array([[1000., 1400., 1400., 1200., 1000., 1400., 1000.],\n",
       "       [1000., 1200., 1000., 1200., 1400., 1200., 1200.],\n",
       "       [1400., 1400., 1200., 1000., 1200., 1200., 1400.]])"
      ]
     },
     "metadata": {},
     "execution_count": 12
    }
   ],
   "source": [
    "MP.t_hd"
   ]
  },
  {
   "cell_type": "markdown",
   "metadata": {},
   "source": [
    "# Model"
   ]
  },
  {
   "cell_type": "markdown",
   "metadata": {},
   "source": [
    "#### Variables\n",
    "$$\n",
    "X_{cuhd}\\left\\{\\begin{array}\\\\\n",
    "        1 & \\mbox{if } Campaign\\ c\\ will\\ be\\ sent\\ to\\ customer\\ u\\ through\\ Channel\\ h\\ at\\ Day\\ d \\\\\n",
    "        0 & \\mbox{otherwise } \\\\\n",
    "    \\end{array}\n",
    "\\right.\n",
    "$$"
   ]
  },
  {
   "cell_type": "markdown",
   "metadata": {},
   "source": [
    "## Maximize\n",
    "$$\\sum_{p \\in P}\\sum_{c \\in C}\\sum_{u \\in U}\\sum_{h \\in H}\\sum_{d \\in D}\\,X_{cuhd}\\ r_{cp}$$"
   ]
  },
  {
   "cell_type": "markdown",
   "metadata": {},
   "source": [
    "##### Binary variable (10)\n",
    "$$\n",
    "X_{cuhd} \\in \\{ 1,0 \\},\\hspace{35pt} \\forall c \\in C ,\\forall u \\in U,\\forall d \\in D, \\forall h \\in H\n",
    "$$"
   ]
  },
  {
   "cell_type": "code",
   "execution_count": 13,
   "metadata": {},
   "outputs": [],
   "source": [
    "X_cuhd = np.zeros((MP.C,MP.U,MP.H,MP.D), dtype='int')"
   ]
  },
  {
   "cell_type": "markdown",
   "metadata": {},
   "source": [
    "## subject to"
   ]
  },
  {
   "cell_type": "markdown",
   "metadata": {},
   "source": [
    "##### - eligibility (2)\n",
    "\n",
    "$$\n",
    "X_{cuhd}  \\leq e_{cu},\\hspace{35pt} \\forall h \\in H,\\forall d \\in D\n",
    "$$\n",
    "$$\n",
    "X_{cuhd}\\le e_{cu},\\quad\\quad\\quad\\quad\\forall h\\in H,\\forall d\\in D\n",
    "$$"
   ]
  },
  {
   "cell_type": "code",
   "execution_count": 14,
   "metadata": {},
   "outputs": [
    {
     "output_type": "stream",
     "name": "stdout",
     "text": [
      "eligibility = lambda X, c, u, h, d: X[c,u,h,d]<=e_cu[c,u]\n\n"
     ]
    }
   ],
   "source": [
    "print(inspect.getsource(MP.eligibility))"
   ]
  },
  {
   "cell_type": "markdown",
   "metadata": {},
   "source": [
    "##### - use one channel (3)\n",
    "$$\n",
    "\\sum_{h}X_{cuhd} \\le 1,\\hspace{35pt} \\forall c \\in C \\, \\forall u \\in U,\\forall d \\in D\n",
    "$$"
   ]
  },
  {
   "cell_type": "code",
   "execution_count": 15,
   "metadata": {},
   "outputs": [
    {
     "output_type": "stream",
     "name": "stdout",
     "text": [
      "one_channel = lambda X, c, u, d: X[c,u,:,d].sum() <= 1\n\n"
     ]
    }
   ],
   "source": [
    "print(inspect.getsource(MP.one_channel))"
   ]
  },
  {
   "cell_type": "markdown",
   "metadata": {},
   "source": [
    "##### - weekly communication limitation (4)\n",
    "$$\n",
    "\\sum_{h \\in H}\\sum_{c \\in C}\\sum_{d \\in D} X_{cuhd}\\le b,\\hspace{35pt} \\forall u \\in U\n",
    "$$\n",
    "$$\n",
    "\\sum_{h \\in H}\\sum_{c \\in C}\\sum_{d \\in [1]} X_{cuhd} + \\sum_{h \\in H}\\sum_{c \\in C}\\sum_{d \\in [2,7]}s_{cuhd}\\le b,\\hspace{35pt} \\forall u \\in U\n",
    "$$\n",
    "$$\n",
    "\\sum_{h \\in H}\\sum_{c \\in C}\\sum_{d \\in [1,2]} X_{cuhd} + \\sum_{h \\in H}\\sum_{c \\in C}\\sum_{d \\in [3,7]}s_{cuhd}\\le b,\\hspace{35pt} \\forall u \\in U\n",
    "$$\n",
    "$$\n",
    "\\sum_{h \\in H}\\sum_{c \\in C}\\sum_{d \\in [1,3]} X_{cuhd} + \\sum_{h \\in H}\\sum_{c \\in C}\\sum_{d \\in [4,7]}s_{cuhd}\\le b,\\hspace{35pt} \\forall u \\in U\n",
    "$$\n",
    "$$\n",
    "\\sum_{h \\in H}\\sum_{c \\in C}\\sum_{d \\in [1,4]} X_{cuhd} + \\sum_{h \\in H}\\sum_{c \\in C}\\sum_{d \\in [5,7]}s_{cuhd}\\le b,\\hspace{35pt} \\forall u \\in U\n",
    "$$\n",
    "$$\n",
    "\\sum_{h \\in H}\\sum_{c \\in C}\\sum_{d \\in [1,5]} X_{cuhd} + \\sum_{h \\in H}\\sum_{c \\in C}\\sum_{d \\in [6,7]}s_{cuhd}\\le b,\\hspace{35pt} \\forall u \\in U\n",
    "$$\n",
    "$$\n",
    "\\sum_{h \\in H}\\sum_{c \\in C}\\sum_{d \\in [1,6]} X_{cuhd} + \\sum_{h \\in H}\\sum_{c \\in C}\\sum_{d \\in [7]}s_{cuhd}\\le b,\\hspace{35pt} \\forall u \\in U\n",
    "$$\n"
   ]
  },
  {
   "cell_type": "code",
   "execution_count": 16,
   "metadata": {},
   "outputs": [
    {
     "output_type": "stream",
     "name": "stdout",
     "text": [
      "weekly_limitation = lambda X, u: (X[:,u,:,:]).sum() <= b\n weekly_limitation_rh = lambda f_d: lambda X, s, u : X[:,u,:,:f_d].sum() + s[:,u,:,f_d:].sum() <= b\n weekly_limitation_rh = lambda f_d: lambda X, s, u : X[:,u,:,:f_d].sum() + s[:,u,:,f_d:].sum() <= b\n weekly_limitation_rh = lambda f_d: lambda X, s, u : X[:,u,:,:f_d].sum() + s[:,u,:,f_d:].sum() <= b\n weekly_limitation_rh = lambda f_d: lambda X, s, u : X[:,u,:,:f_d].sum() + s[:,u,:,f_d:].sum() <= b\n weekly_limitation_rh = lambda f_d: lambda X, s, u : X[:,u,:,:f_d].sum() + s[:,u,:,f_d:].sum() <= b\n weekly_limitation_rh = lambda f_d: lambda X, s, u : X[:,u,:,:f_d].sum() + s[:,u,:,f_d:].sum() <= b\n\n"
     ]
    }
   ],
   "source": [
    "print(\n",
    "    inspect.getsource(MP.weekly_limitation),\n",
    "    inspect.getsource(MP.weekly_limitation_rh1),\n",
    "    inspect.getsource(MP.weekly_limitation_rh2),\n",
    "    inspect.getsource(MP.weekly_limitation_rh3),\n",
    "    inspect.getsource(MP.weekly_limitation_rh4),\n",
    "    inspect.getsource(MP.weekly_limitation_rh5),\n",
    "    inspect.getsource(MP.weekly_limitation_rh6)\n",
    ")"
   ]
  },
  {
   "cell_type": "markdown",
   "metadata": {},
   "source": [
    "##### - daily communication limitation (5)\n",
    "$$\n",
    "\\sum_{h \\in H}\\sum_{c \\in C} X_{cuhd}\\le k,\\hspace{35pt} \\forall u \\in U, \\forall d \\in D\n",
    "$$"
   ]
  },
  {
   "cell_type": "code",
   "execution_count": 17,
   "metadata": {},
   "outputs": [
    {
     "output_type": "stream",
     "name": "stdout",
     "text": [
      "daily_limitation = lambda X, u, d: X[:,u,:,d].sum() <= k\n\n"
     ]
    }
   ],
   "source": [
    "print(inspect.getsource(MP.daily_limitation))"
   ]
  },
  {
   "cell_type": "code",
   "execution_count": 18,
   "metadata": {},
   "outputs": [
    {
     "output_type": "stream",
     "name": "stdout",
     "text": [
      "campaign_limitation = lambda X, c, u: X[c,u,:,:].sum() <= l_c[c]\n campaign_limitation_rh =  lambda f_d: lambda X, s, c, u: X[c,u,:,:f_d].sum() + s[c,u,:,f_d:].sum() <=l_c[c]\n campaign_limitation_rh =  lambda f_d: lambda X, s, c, u: X[c,u,:,:f_d].sum() + s[c,u,:,f_d:].sum() <=l_c[c]\n campaign_limitation_rh =  lambda f_d: lambda X, s, c, u: X[c,u,:,:f_d].sum() + s[c,u,:,f_d:].sum() <=l_c[c]\n campaign_limitation_rh =  lambda f_d: lambda X, s, c, u: X[c,u,:,:f_d].sum() + s[c,u,:,f_d:].sum() <=l_c[c]\n campaign_limitation_rh =  lambda f_d: lambda X, s, c, u: X[c,u,:,:f_d].sum() + s[c,u,:,f_d:].sum() <=l_c[c]\n campaign_limitation_rh =  lambda f_d: lambda X, s, c, u: X[c,u,:,:f_d].sum() + s[c,u,:,f_d:].sum() <=l_c[c]\n\n"
     ]
    }
   ],
   "source": [
    "print(\n",
    "    inspect.getsource(MP.campaign_limitation),\n",
    "    inspect.getsource(MP.campaign_limitation_rh1),\n",
    "    inspect.getsource(MP.campaign_limitation_rh2),\n",
    "    inspect.getsource(MP.campaign_limitation_rh3),\n",
    "    inspect.getsource(MP.campaign_limitation_rh4),\n",
    "    inspect.getsource(MP.campaign_limitation_rh5),\n",
    "    inspect.getsource(MP.campaign_limitation_rh6),\n",
    "     )"
   ]
  },
  {
   "cell_type": "markdown",
   "metadata": {},
   "source": [
    "##### - weekly quota(7)\n",
    "$$\n",
    "\\sum_{d \\in D}\\sum_{h \\in H}\\sum_{c \\in C}{X_{cuhd} q_{ic}}\\le m_i,\\hspace{35pt} \\forall u \\in U, \\forall i \\in I\n",
    "$$\n",
    "$$\n",
    "\\sum_{d \\in [1]}\\sum_{h \\in H}\\sum_{c \\in C} {X_{cuhd} q_{ic}} + \\sum_{d \\in [2,7]}\\sum_{h \\in H}\\sum_{c \\in C}{s_{cuhd} q_{ic}}\\le m_i,\\hspace{35pt} \\forall u \\in U, \\forall i \\in I\n",
    "$$\n",
    "$$\n",
    "\\sum_{d \\in [1,2]}\\sum_{h \\in H}\\sum_{c \\in C} {X_{cuhd} q_{ic}} + \\sum_{d \\in [3,7]}\\sum_{h \\in H}\\sum_{c \\in C}{s_{cuhd} q_{ic}}\\le m_i,\\hspace{35pt} \\forall u \\in U, \\forall i \\in I\n",
    "$$\n",
    "$$\n",
    "\\sum_{d \\in [1,3]}\\sum_{h \\in H}\\sum_{c \\in C} {X_{cuhd} q_{ic}} + \\sum_{d \\in [4,7]}\\sum_{h \\in H}\\sum_{c \\in C}{s_{cuhd} q_{ic}}\\le m_i,\\hspace{35pt} \\forall u \\in U, \\forall i \\in I\n",
    "$$\n",
    "$$\n",
    "\\sum_{d \\in [1,4]}\\sum_{h \\in H}\\sum_{c \\in C} {X_{cuhd} q_{ic}} + \\sum_{d \\in [5,7]}\\sum_{h \\in H}\\sum_{c \\in C}{s_{cuhd} q_{ic}}\\le m_i,\\hspace{35pt} \\forall u \\in U, \\forall i \\in I\n",
    "$$\n",
    "$$\n",
    "\\sum_{d \\in [1,5]}\\sum_{h \\in H}\\sum_{c \\in C} {X_{cuhd} q_{ic}} + \\sum_{d \\in [6,7]}\\sum_{h \\in H}\\sum_{c \\in C}{s_{cuhd} q_{ic}}\\le m_i,\\hspace{35pt} \\forall u \\in U, \\forall i \\in I\n",
    "$$\n",
    "$$\n",
    "\\sum_{d \\in [1,6]}\\sum_{h \\in H}\\sum_{c \\in C} {X_{cuhd} q_{ic}} + \\sum_{d \\in [7]}\\sum_{h \\in H}\\sum_{c \\in C}{s_{cuhd} q_{ic}}\\le m_i,\\hspace{35pt} \\forall u \\in U, \\forall i \\in I\n",
    "$$"
   ]
  },
  {
   "cell_type": "code",
   "execution_count": 19,
   "metadata": {},
   "outputs": [
    {
     "output_type": "stream",
     "name": "stdout",
     "text": [
      "weekly_quota = lambda X, u: all((q_ic * X[:,u,:,:].sum(axis=(1,2))).sum(axis=1)<=m_i)\n weekly_quota_rh = lambda f_d :lambda X, s, u: all((q_ic * X[:,u,:,:f_d].sum(axis=(1,2))).sum(axis=1) + (q_ic * s[:,u,:,f_d:].sum(axis=(1,2))).sum(axis=1) <= m_i)\n weekly_quota_rh = lambda f_d :lambda X, s, u: all((q_ic * X[:,u,:,:f_d].sum(axis=(1,2))).sum(axis=1) + (q_ic * s[:,u,:,f_d:].sum(axis=(1,2))).sum(axis=1) <= m_i)\n weekly_quota_rh = lambda f_d :lambda X, s, u: all((q_ic * X[:,u,:,:f_d].sum(axis=(1,2))).sum(axis=1) + (q_ic * s[:,u,:,f_d:].sum(axis=(1,2))).sum(axis=1) <= m_i)\n weekly_quota_rh = lambda f_d :lambda X, s, u: all((q_ic * X[:,u,:,:f_d].sum(axis=(1,2))).sum(axis=1) + (q_ic * s[:,u,:,f_d:].sum(axis=(1,2))).sum(axis=1) <= m_i)\n weekly_quota_rh = lambda f_d :lambda X, s, u: all((q_ic * X[:,u,:,:f_d].sum(axis=(1,2))).sum(axis=1) + (q_ic * s[:,u,:,f_d:].sum(axis=(1,2))).sum(axis=1) <= m_i)\n weekly_quota_rh = lambda f_d :lambda X, s, u: all((q_ic * X[:,u,:,:f_d].sum(axis=(1,2))).sum(axis=1) + (q_ic * s[:,u,:,f_d:].sum(axis=(1,2))).sum(axis=1) <= m_i)\n\n"
     ]
    }
   ],
   "source": [
    "print(\n",
    "    inspect.getsource(MP.weekly_quota),\n",
    "    inspect.getsource(MP.weekly_quota_rh1),\n",
    "    inspect.getsource(MP.weekly_quota_rh2),\n",
    "    inspect.getsource(MP.weekly_quota_rh3),\n",
    "    inspect.getsource(MP.weekly_quota_rh4),\n",
    "    inspect.getsource(MP.weekly_quota_rh5),\n",
    "    inspect.getsource(MP.weekly_quota_rh6),\n",
    ")"
   ]
  },
  {
   "cell_type": "markdown",
   "metadata": {},
   "source": [
    "##### - daily quota(8)\n",
    "$$\n",
    "\\sum_{h \\in H}\\sum_{c \\in C}{X_{cuhd} q_{ic}}\\le n_i,\\hspace{35pt} \\forall u \\in U,\\, \\forall d \\in D, \\forall i \\in I\n",
    "$$"
   ]
  },
  {
   "cell_type": "code",
   "execution_count": 20,
   "metadata": {},
   "outputs": [
    {
     "output_type": "stream",
     "name": "stdout",
     "text": [
      "daily_quota = lambda X, u, d: all((q_ic * X[:,u,:,d].sum(axis=(1))).sum(axis=1)<=n_i)\n\n"
     ]
    }
   ],
   "source": [
    "print(inspect.getsource(MP.daily_quota))"
   ]
  },
  {
   "cell_type": "markdown",
   "metadata": {},
   "source": [
    "##### Channel capacity (9)\n",
    "$$\n",
    "\\sum_{c \\in C}\\sum_{u \\in U}{X_{cuhd}}\\le t_{hd},\\hspace{35pt} \\forall d \\in D,\\, \\forall h \\in H\n",
    "$$"
   ]
  },
  {
   "cell_type": "code",
   "execution_count": 21,
   "metadata": {},
   "outputs": [
    {
     "output_type": "stream",
     "name": "stdout",
     "text": [
      "channel_capacity = lambda X, h, d: X[:,:,h,d].sum() <= t_hd[h,d]\n\n"
     ]
    }
   ],
   "source": [
    "print(inspect.getsource(MP.channel_capacity))"
   ]
  },
  {
   "cell_type": "code",
   "execution_count": 22,
   "metadata": {},
   "outputs": [],
   "source": [
    "#eligibility = lambda X, c, u, h, d: X[c,u,h,d]<=e_cu[c,u]\n",
    "#channel_capacity = lambda X, h, d: X[:,:,h,d].sum() <= t_hd[h,d]\n",
    "#weekly_limitation = lambda X, u: X[:,u,:,:].sum() <= b\n",
    "#daily_limitation = lambda X, u, d: X[:,u,:,d].sum() <= k\n",
    "#campaign_limitation = lambda X, c, u: X[c,u,:,:].sum() <= l_c[c]\n",
    "#one_channel = lambda X, c, u, d: X[c,u,:,d].sum() <= 1\n",
    "#weekly_quota = lambda X, u: np.all(q_ic[:,c] * X[c,u,:,:].sum()<=m_i)\n",
    "#daily_quota = lambda X, u, d: np.all(q_ic[:,c] * X[c,u,:,d].sum()<=n_i)\n",
    "\n",
    "c_i = 0\n",
    "u_i = 1\n",
    "h_i = 2\n",
    "d_i = 3\n",
    "\n",
    "mdl = model.Model([\n",
    "    model.Constraint('eligibility',MP.eligibility, (c_i, u_i, h_i, d_i,)),\n",
    "    model.Constraint('channel_capacity',MP.channel_capacity, (h_i, d_i,)),\n",
    "    model.Constraint('daily_limitation',MP.daily_limitation, (u_i, d_i,)),\n",
    "    model.Constraint('weekly_limitation',MP.weekly_limitation, (u_i,)),\n",
    "    model.Constraint('campaign_limitation',MP.campaign_limitation, (c_i, u_i,)),\n",
    "    model.Constraint('daily_quota',MP.daily_quota, (u_i, d_i,)),\n",
    "    model.Constraint('weekly_quota',MP.weekly_quota, (u_i,))\n",
    "], MP.objective_fn)"
   ]
  },
  {
   "cell_type": "markdown",
   "metadata": {},
   "source": [
    "$$\n",
    "\\sum_{c \\in C}\\sum_{u \\in U}{X_{cuhd}}\\le t_{hd},\\hspace{35pt} \\forall d \\in D,\\, \\forall h \\in H\n",
    "$$\n",
    "$$\n",
    "\\if{understand}\n",
    "$$\n",
    "$$\n",
    "\\begin{algorithm}[H]\n",
    " \\KwData{this text}\n",
    " \\KwResult{how to write algorithm with \\LaTeX2e }\n",
    " initialization\\;\n",
    " \\While{not at end of this document}{\n",
    "  read current\\;\n",
    "  \\eIf{understand}{\n",
    "   go to next section\\;\n",
    "   current section becomes this one\\;\n",
    "   }{\n",
    "   go back to the beginning of current section\\;\n",
    "  }\n",
    " }\n",
    " \\caption{How to write algorithms}\n",
    "\\end{algorithm}\n",
    "$$"
   ]
  },
  {
   "cell_type": "code",
   "execution_count": 25,
   "metadata": {},
   "outputs": [
    {
     "output_type": "execute_result",
     "data": {
      "text/plain": [
       "array([264, 132, 132, 264, 132, 264, 264, 264, 264,  84])"
      ]
     },
     "metadata": {},
     "execution_count": 25
    }
   ],
   "source": [
    "MP.rp_c*MP.l_c"
   ]
  },
  {
   "cell_type": "code",
   "execution_count": 23,
   "metadata": {},
   "outputs": [
    {
     "output_type": "execute_result",
     "data": {
      "text/plain": [
       "array([4, 2, 2, 4, 2, 4, 4, 4, 4, 4])"
      ]
     },
     "metadata": {},
     "execution_count": 23
    }
   ],
   "source": [
    "MP.l_c"
   ]
  },
  {
   "cell_type": "code",
   "execution_count": 39,
   "metadata": {},
   "outputs": [
    {
     "output_type": "execute_result",
     "data": {
      "text/plain": [
       "array([[1, 0, 1, 1, 0, 0, 1, 1, 1, 1],\n",
       "       [0, 1, 1, 1, 1, 1, 1, 0, 1, 1],\n",
       "       [1, 1, 0, 1, 0, 0, 0, 1, 0, 0]])"
      ]
     },
     "metadata": {},
     "execution_count": 39
    }
   ],
   "source": [
    "MP.q_ic"
   ]
  },
  {
   "cell_type": "code",
   "execution_count": 40,
   "metadata": {},
   "outputs": [
    {
     "output_type": "execute_result",
     "data": {
      "text/plain": [
       "array([3, 4, 4])"
      ]
     },
     "metadata": {},
     "execution_count": 40
    }
   ],
   "source": [
    "MP.m_i"
   ]
  },
  {
   "cell_type": "code",
   "execution_count": 38,
   "metadata": {},
   "outputs": [
    {
     "output_type": "execute_result",
     "data": {
      "text/plain": [
       "array([ 7,  8,  7, 11,  4,  4,  7,  7,  7,  7])"
      ]
     },
     "metadata": {},
     "execution_count": 38
    }
   ],
   "source": [
    "MP.m_i @ MP.q_ic"
   ]
  },
  {
   "cell_type": "code",
   "execution_count": null,
   "metadata": {},
   "outputs": [],
   "source": [
    "X_cuhd = np.zeros((C,U,H,D), dtype='int')\n",
    "for c in tqdm(np.argsort(-MP.rp_c*MP.l_c), desc=\"Campaigns Loop\"):\n",
    "    #try to sort customer with e_cu - X_cuhd # of avaliable campaigns for customer, we should assign first customer who do not have much option.\n",
    "    Ur = X_cuhd.sum(axis=(0,2,3)).argsort()\n",
    "    for u in Ur[::-1]:#range(U):\n",
    "        for d in range(D):#[::-1]:#trange(D, desc=f\"Days Loop for campaign-{c}\"):\n",
    "            for h in range(H):\n",
    "                X_cuhd[c,u,h,d]=1\n",
    "                if not self.check_no_rh(X_cuhd, PMS, (c, u, h, d)):\n",
    "                    X_cuhd[c,u,h,d]=0\n",
    "value=self.objective_fn(PMS.rp_c, X_cuhd)"
   ]
  },
  {
   "cell_type": "code",
   "execution_count": 38,
   "metadata": {},
   "outputs": [
    {
     "data": {
      "application/vnd.jupyter.widget-view+json": {
       "model_id": "ae1e9c247101418a8048ca5658a4ff18",
       "version_major": 2,
       "version_minor": 0
      },
      "text/plain": [
       "Campaigns Loop:   0%|          | 0/20 [00:00<?, ?it/s]"
      ]
     },
     "metadata": {},
     "output_type": "display_data"
    },
    {
     "data": {
      "application/vnd.jupyter.widget-view+json": {
       "model_id": "bef7e0d73269408d81f4c396e5426ace",
       "version_major": 2,
       "version_minor": 0
      },
      "text/plain": [
       "Days Loop for campaign-9:   0%|          | 0/7 [00:00<?, ?it/s]"
      ]
     },
     "metadata": {},
     "output_type": "display_data"
    },
    {
     "data": {
      "application/vnd.jupyter.widget-view+json": {
       "model_id": "e9760dffa1f2420aa579b02096d18cbe",
       "version_major": 2,
       "version_minor": 0
      },
      "text/plain": [
       "Days Loop for campaign-1:   0%|          | 0/7 [00:00<?, ?it/s]"
      ]
     },
     "metadata": {},
     "output_type": "display_data"
    },
    {
     "data": {
      "application/vnd.jupyter.widget-view+json": {
       "model_id": "980ac978a3b84c738c88d1c24b18c44e",
       "version_major": 2,
       "version_minor": 0
      },
      "text/plain": [
       "Days Loop for campaign-17:   0%|          | 0/7 [00:00<?, ?it/s]"
      ]
     },
     "metadata": {},
     "output_type": "display_data"
    },
    {
     "data": {
      "application/vnd.jupyter.widget-view+json": {
       "model_id": "902b8a311c5c4082ad5e5fd80a6220b5",
       "version_major": 2,
       "version_minor": 0
      },
      "text/plain": [
       "Days Loop for campaign-15:   0%|          | 0/7 [00:00<?, ?it/s]"
      ]
     },
     "metadata": {},
     "output_type": "display_data"
    },
    {
     "data": {
      "application/vnd.jupyter.widget-view+json": {
       "model_id": "dfa704ca19e34457a3b02d0ac83817cf",
       "version_major": 2,
       "version_minor": 0
      },
      "text/plain": [
       "Days Loop for campaign-14:   0%|          | 0/7 [00:00<?, ?it/s]"
      ]
     },
     "metadata": {},
     "output_type": "display_data"
    },
    {
     "data": {
      "application/vnd.jupyter.widget-view+json": {
       "model_id": "6f953cd394494c5baf7e923236849d1d",
       "version_major": 2,
       "version_minor": 0
      },
      "text/plain": [
       "Days Loop for campaign-16:   0%|          | 0/7 [00:00<?, ?it/s]"
      ]
     },
     "metadata": {},
     "output_type": "display_data"
    },
    {
     "data": {
      "application/vnd.jupyter.widget-view+json": {
       "model_id": "432305dea1d54f1c8b78e1172aca7af8",
       "version_major": 2,
       "version_minor": 0
      },
      "text/plain": [
       "Days Loop for campaign-10:   0%|          | 0/7 [00:00<?, ?it/s]"
      ]
     },
     "metadata": {},
     "output_type": "display_data"
    },
    {
     "data": {
      "application/vnd.jupyter.widget-view+json": {
       "model_id": "d2006ced432649aaa438ebc8c2d7c18a",
       "version_major": 2,
       "version_minor": 0
      },
      "text/plain": [
       "Days Loop for campaign-18:   0%|          | 0/7 [00:00<?, ?it/s]"
      ]
     },
     "metadata": {},
     "output_type": "display_data"
    },
    {
     "data": {
      "application/vnd.jupyter.widget-view+json": {
       "model_id": "f6147ed4707f464bb689fb2b76ff5993",
       "version_major": 2,
       "version_minor": 0
      },
      "text/plain": [
       "Days Loop for campaign-19:   0%|          | 0/7 [00:00<?, ?it/s]"
      ]
     },
     "metadata": {},
     "output_type": "display_data"
    },
    {
     "data": {
      "application/vnd.jupyter.widget-view+json": {
       "model_id": "d2a571610e8e4c7db028f5d78c94cb48",
       "version_major": 2,
       "version_minor": 0
      },
      "text/plain": [
       "Days Loop for campaign-6:   0%|          | 0/7 [00:00<?, ?it/s]"
      ]
     },
     "metadata": {},
     "output_type": "display_data"
    },
    {
     "data": {
      "application/vnd.jupyter.widget-view+json": {
       "model_id": "b1daf2ab512b444099e44e354cf848f8",
       "version_major": 2,
       "version_minor": 0
      },
      "text/plain": [
       "Days Loop for campaign-5:   0%|          | 0/7 [00:00<?, ?it/s]"
      ]
     },
     "metadata": {},
     "output_type": "display_data"
    },
    {
     "data": {
      "application/vnd.jupyter.widget-view+json": {
       "model_id": "e2945962fc7944579f93fdba682f7d2d",
       "version_major": 2,
       "version_minor": 0
      },
      "text/plain": [
       "Days Loop for campaign-7:   0%|          | 0/7 [00:00<?, ?it/s]"
      ]
     },
     "metadata": {},
     "output_type": "display_data"
    },
    {
     "data": {
      "application/vnd.jupyter.widget-view+json": {
       "model_id": "2ae6c143b39f4c568f8210dbb85b1742",
       "version_major": 2,
       "version_minor": 0
      },
      "text/plain": [
       "Days Loop for campaign-11:   0%|          | 0/7 [00:00<?, ?it/s]"
      ]
     },
     "metadata": {},
     "output_type": "display_data"
    },
    {
     "data": {
      "application/vnd.jupyter.widget-view+json": {
       "model_id": "4b5c215bb4344794afa64a13ab72c9ee",
       "version_major": 2,
       "version_minor": 0
      },
      "text/plain": [
       "Days Loop for campaign-12:   0%|          | 0/7 [00:00<?, ?it/s]"
      ]
     },
     "metadata": {},
     "output_type": "display_data"
    },
    {
     "data": {
      "application/vnd.jupyter.widget-view+json": {
       "model_id": "7c3cf12ad2d2418e8f635d75018142bb",
       "version_major": 2,
       "version_minor": 0
      },
      "text/plain": [
       "Days Loop for campaign-13:   0%|          | 0/7 [00:00<?, ?it/s]"
      ]
     },
     "metadata": {},
     "output_type": "display_data"
    },
    {
     "data": {
      "application/vnd.jupyter.widget-view+json": {
       "model_id": "079a7b7dbaaa494fbb9d5a1541d7f8b1",
       "version_major": 2,
       "version_minor": 0
      },
      "text/plain": [
       "Days Loop for campaign-4:   0%|          | 0/7 [00:00<?, ?it/s]"
      ]
     },
     "metadata": {},
     "output_type": "display_data"
    },
    {
     "data": {
      "application/vnd.jupyter.widget-view+json": {
       "model_id": "c44debb91f574e058ba99f4ecf09f575",
       "version_major": 2,
       "version_minor": 0
      },
      "text/plain": [
       "Days Loop for campaign-3:   0%|          | 0/7 [00:00<?, ?it/s]"
      ]
     },
     "metadata": {},
     "output_type": "display_data"
    },
    {
     "data": {
      "application/vnd.jupyter.widget-view+json": {
       "model_id": "87dd57d3483e43659daa380f6084f4ed",
       "version_major": 2,
       "version_minor": 0
      },
      "text/plain": [
       "Days Loop for campaign-2:   0%|          | 0/7 [00:00<?, ?it/s]"
      ]
     },
     "metadata": {},
     "output_type": "display_data"
    },
    {
     "data": {
      "application/vnd.jupyter.widget-view+json": {
       "model_id": "c21e6e86d74e4ff48d9be7dc0d894ebc",
       "version_major": 2,
       "version_minor": 0
      },
      "text/plain": [
       "Days Loop for campaign-8:   0%|          | 0/7 [00:00<?, ?it/s]"
      ]
     },
     "metadata": {},
     "output_type": "display_data"
    },
    {
     "data": {
      "application/vnd.jupyter.widget-view+json": {
       "model_id": "d5f8345b5b7946dd962c4bbacb0f3d68",
       "version_major": 2,
       "version_minor": 0
      },
      "text/plain": [
       "Days Loop for campaign-0:   0%|          | 0/7 [00:00<?, ?it/s]"
      ]
     },
     "metadata": {},
     "output_type": "display_data"
    },
    {
     "name": "stdout",
     "output_type": "stream",
     "text": [
      "CPU times: user 23.1 s, sys: 327 ms, total: 23.4 s\n",
      "Wall time: 24.5 s\n"
     ]
    }
   ],
   "source": [
    "%%time\n",
    "X_cuhd = np.zeros((MP.C,MP.U,MP.H,MP.D), dtype='int')\n",
    "for c in tqdm(np.argsort(-(MP.rp_c*MP.l_c)), desc=\"Campaigns Loop\"):\n",
    "    for d in trange(MP.D, desc=f\"Days Loop for campaign-{c}\"):\n",
    "        for h in range(MP.H):#trange(H, desc=f\"Channels Loop at Day-{d}, Campapaign-{c}\"):\n",
    "            for u in range(MP.U):#trange(U, desc=f\"Users Loop On Campaign-{c}\"):\n",
    "                X_cuhd[c,u,h,d]=1\n",
    "                if not mdl.execute(X_cuhd, (c, u, h, d)):\n",
    "                    X_cuhd[c,u,h,d]=0\n"
   ]
  },
  {
   "cell_type": "code",
   "execution_count": 23,
   "metadata": {},
   "outputs": [
    {
     "output_type": "execute_result",
     "data": {
      "text/plain": [
       "array([0, 1], dtype=int64)"
      ]
     },
     "metadata": {},
     "execution_count": 23
    }
   ],
   "source": [
    "np.argsort(-MP.rp_c)"
   ]
  },
  {
   "cell_type": "code",
   "execution_count": 35,
   "metadata": {},
   "outputs": [
    {
     "output_type": "execute_result",
     "data": {
      "text/plain": [
       "1000"
      ]
     },
     "metadata": {},
     "execution_count": 35
    }
   ],
   "source": [
    "MP.e_cu.sum(axis=0)"
   ]
  },
  {
   "cell_type": "code",
   "execution_count": 74,
   "metadata": {},
   "outputs": [
    {
     "output_type": "execute_result",
     "data": {
      "text/plain": [
       "(2, 1000)"
      ]
     },
     "metadata": {},
     "execution_count": 74
    }
   ],
   "source": [
    "X_cuhd.sum(axis=(2,3)).shape"
   ]
  },
  {
   "cell_type": "code",
   "execution_count": 72,
   "metadata": {},
   "outputs": [
    {
     "output_type": "execute_result",
     "data": {
      "text/plain": [
       "(2, 1000)"
      ]
     },
     "metadata": {},
     "execution_count": 72
    }
   ],
   "source": [
    "MP.e_cu.shape"
   ]
  },
  {
   "cell_type": "code",
   "execution_count": 89,
   "metadata": {},
   "outputs": [
    {
     "output_type": "execute_result",
     "data": {
      "text/plain": [
       "array([[1, 0, 0, 1, 0, 0, 1, 1, 0, 1, 1, 0, 1, 1, 0, 1, 1, 0, 1, 0, 1, 1,\n",
       "        1, 0, 0, 1, 0, 1, 1, 0, 0, 1, 1, 1, 1, 1, 1, 0, 1, 1, 0, 1, 1, 0,\n",
       "        1, 1, 0, 0, 0, 1, 0, 0, 0, 1, 1, 0, 0, 1, 0, 0, 0, 1, 0, 0, 0, 1,\n",
       "        0, 0, 0, 0, 0, 0, 1, 0, 1, 0, 0, 0, 0, 1, 1, 1, 0, 1, 0, 1, 0, 1,\n",
       "        1, 0, 1, 1, 1, 0, 0, 0, 1, 0, 1, 0, 0, 0, 0, 1, 1, 1, 0, 0, 1, 1,\n",
       "        1, 0, 1, 1, 0, 0, 1, 1, 1, 0, 1, 0, 0, 0, 1, 0, 0, 1, 1, 1, 0, 1,\n",
       "        1, 0, 0, 0, 1, 1, 0, 1, 0, 0, 0, 0, 0, 0, 1, 1, 0, 1, 1, 0, 1, 1,\n",
       "        1, 1, 0, 0, 0, 1, 0, 0, 1, 1, 0, 1, 0, 1, 0, 0, 1, 0, 0, 1, 1, 0,\n",
       "        0, 0, 0, 0, 0, 1, 1, 0, 1, 0, 1, 0, 0, 1, 1, 0, 0, 1, 1, 1, 0, 1,\n",
       "        0, 1, 0, 1, 1, 1, 0, 0, 0, 1, 1, 0, 1, 0, 1, 1, 1, 0, 1, 1, 1, 0,\n",
       "        1, 0, 1, 0, 0, 1, 1, 1, 1, 0, 0, 0, 1, 1, 0, 0, 1, 1, 0, 1, 0, 1,\n",
       "        0, 0, 1, 1, 1, 0, 0, 1, 0, 0, 0, 1, 0, 1, 1, 0, 0, 1, 0, 1, 0, 0,\n",
       "        1, 1, 1, 1, 0, 0, 0, 1, 0, 0, 0, 1, 0, 1, 1, 1, 0, 0, 0, 1, 1, 0,\n",
       "        1, 0, 0, 0, 0, 0, 1, 0, 0, 0, 1, 1, 0, 0, 1, 1, 0, 1, 0, 0, 1, 1,\n",
       "        0, 1, 1, 0, 1, 0, 1, 1, 1, 1, 0, 0, 0, 0, 0, 0, 0, 1, 1, 0, 1, 1,\n",
       "        0, 1, 1, 1, 0, 0, 1, 0, 0, 1, 0, 1, 0, 1, 1, 1, 1, 0, 1, 0, 0, 1,\n",
       "        1, 1, 0, 1, 1, 0, 1, 1, 1, 1, 0, 0, 1, 0, 1, 0, 0, 1, 0, 0, 0, 0,\n",
       "        1, 1, 1, 1, 0, 0, 1, 1, 1, 1, 1, 0, 0, 1, 1, 0, 0, 0, 1, 0, 0, 0,\n",
       "        1, 1, 1, 0, 1, 1, 1, 1, 0, 0, 1, 1, 1, 0, 0, 1, 0, 1, 0, 0, 1, 0,\n",
       "        0, 0, 0, 1, 1, 1, 1, 1, 1, 1, 0, 0, 1, 1, 0, 0, 0, 0, 1, 1, 1, 0,\n",
       "        0, 1, 0, 0, 0, 1, 1, 0, 0, 1, 0, 1, 0, 1, 1, 0, 1, 1, 0, 1, 1, 1,\n",
       "        1, 1, 1, 1, 1, 0, 0, 1, 1, 1, 1, 0, 0, 1, 0, 0, 0, 1, 0, 1, 0, 1,\n",
       "        1, 0, 0, 1, 1, 1, 1, 0, 1, 0, 0, 1, 1, 1, 0, 0, 0, 1, 0, 1, 1, 1,\n",
       "        0, 1, 1, 0, 1, 1, 1, 1, 1, 0, 0, 0, 0, 0, 1, 0, 0, 0, 1, 1, 0, 0,\n",
       "        1, 1, 0, 0, 1, 0, 1, 1, 0, 0, 1, 1, 1, 0, 0, 1, 1, 1, 0, 1, 0, 0,\n",
       "        0, 1, 1, 1, 0, 0, 0, 1, 1, 1, 1, 1, 0, 0, 1, 0, 0, 1, 0, 0, 0, 1,\n",
       "        0, 1, 1, 1, 0, 1, 0, 0, 1, 0, 1, 0, 0, 1, 1, 1, 0, 1, 0, 1, 1, 0,\n",
       "        1, 1, 1, 0, 0, 1, 1, 0, 1, 1, 1, 1, 1, 0, 1, 1, 0, 0, 0, 0, 1, 1,\n",
       "        1, 1, 1, 1, 0, 1, 1, 0, 1, 0, 1, 0, 1, 0, 0, 0, 0, 0, 1, 1, 0, 0,\n",
       "        1, 0, 0, 0, 0, 0, 1, 1, 0, 0, 0, 1, 0, 1, 0, 0, 1, 1, 0, 1, 0, 0,\n",
       "        0, 0, 1, 0, 0, 1, 1, 0, 1, 1, 1, 0, 0, 0, 0, 1, 1, 1, 0, 1, 0, 0,\n",
       "        1, 0, 0, 1, 1, 1, 0, 0, 1, 0, 1, 0, 0, 1, 0, 0, 0, 1, 0, 1, 1, 0,\n",
       "        1, 0, 1, 0, 1, 0, 0, 1, 1, 0, 1, 1, 0, 1, 1, 0, 0, 1, 1, 0, 1, 1,\n",
       "        0, 0, 0, 0, 0, 0, 1, 1, 1, 0, 0, 1, 1, 1, 0, 1, 1, 0, 0, 1, 1, 0,\n",
       "        0, 0, 0, 1, 1, 0, 1, 0, 1, 1, 1, 0, 1, 0, 1, 1, 1, 1, 1, 1, 1, 1,\n",
       "        0, 1, 1, 1, 0, 0, 1, 0, 1, 0, 0, 0, 0, 0, 0, 1, 1, 1, 1, 0, 0, 1,\n",
       "        0, 0, 0, 0, 0, 0, 0, 1, 0, 0, 0, 1, 0, 0, 0, 0, 1, 1, 0, 1, 0, 1,\n",
       "        0, 0, 1, 0, 0, 1, 0, 1, 1, 0, 0, 0, 0, 1, 0, 1, 1, 1, 1, 0, 1, 0,\n",
       "        1, 1, 1, 1, 1, 1, 1, 0, 1, 0, 1, 0, 1, 0, 1, 1, 1, 0, 0, 0, 1, 1,\n",
       "        0, 1, 0, 1, 0, 1, 0, 0, 0, 1, 1, 0, 0, 1, 0, 1, 0, 0, 1, 1, 0, 1,\n",
       "        0, 0, 1, 1, 1, 0, 0, 1, 0, 0, 1, 1, 0, 0, 0, 1, 1, 1, 0, 0, 0, 0,\n",
       "        0, 1, 1, 1, 0, 1, 1, 0, 1, 0, 0, 0, 1, 0, 0, 0, 0, 0, 0, 1, 0, 1,\n",
       "        1, 0, 1, 0, 0, 0, 1, 0, 1, 1, 1, 0, 1, 1, 1, 0, 0, 0, 0, 1, 0, 1,\n",
       "        1, 1, 0, 1, 0, 1, 1, 1, 0, 0, 1, 1, 1, 1, 1, 1, 1, 0, 1, 0, 1, 1,\n",
       "        0, 1, 1, 1, 0, 1, 0, 1, 0, 0, 0, 1, 1, 1, 1, 0, 1, 0, 0, 1, 0, 0,\n",
       "        1, 0, 1, 1, 0, 0, 0, 0, 1, 0]])"
      ]
     },
     "metadata": {},
     "execution_count": 89
    }
   ],
   "source": [
    "np.delete((MP.e_cu - X_cuhd.sum(axis=(2,3))),1,axis=0)"
   ]
  },
  {
   "cell_type": "code",
   "execution_count": 51,
   "metadata": {},
   "outputs": [],
   "source": [
    "A=(MP.e_cu - X_cuhd[:, :, :, :].sum(axis=(0,2,3))).sum(axis=0)"
   ]
  },
  {
   "cell_type": "code",
   "execution_count": 67,
   "metadata": {},
   "outputs": [
    {
     "output_type": "execute_result",
     "data": {
      "text/plain": [
       "dict"
      ]
     },
     "metadata": {},
     "execution_count": 67
    }
   ],
   "source": [
    "{d:1 for d in range(MP.D)}"
   ]
  },
  {
   "cell_type": "code",
   "execution_count": 58,
   "metadata": {},
   "outputs": [
    {
     "output_type": "execute_result",
     "data": {
      "text/plain": [
       "array([0, 0, 0, 0, 0, 0, 0, 0, 0, 0, 0, 0, 0, 0, 0, 0, 0, 0, 0, 0, 0, 0,\n",
       "       0, 0, 0, 0, 0, 0, 0, 0, 0, 0, 0, 0, 0, 0, 0, 0, 0, 0, 0, 0, 0, 0,\n",
       "       0, 0, 0, 0, 0, 0, 0, 0, 0, 0, 0, 0, 0, 0, 0, 0, 0, 0, 0, 0, 0, 0,\n",
       "       0, 0, 0, 0, 0, 0, 0, 0, 0, 0, 0, 0, 0, 0, 0, 0, 0, 0, 0, 0, 0, 0,\n",
       "       0, 0, 0, 0, 0, 0, 0, 0, 0, 0, 0, 0, 0, 0, 0, 0, 0, 0, 0, 0, 0, 0,\n",
       "       0, 0, 0, 0, 0, 0, 0, 0, 0, 0, 0, 0, 0, 0, 0, 0, 0, 0, 0, 0, 0, 0,\n",
       "       0, 0, 0, 0, 0, 0, 0, 0, 0, 0, 0, 0, 0, 0, 0, 0, 0, 0, 0, 0, 0, 0,\n",
       "       0, 0, 0, 0, 0, 0, 0, 0, 0, 0, 0, 0, 0, 0, 0, 0, 0, 0, 0, 0, 0, 0,\n",
       "       0, 0, 0, 0, 0, 0, 0, 0, 0, 0, 0, 0, 0, 0, 0, 0, 0, 0, 0, 0, 0, 0,\n",
       "       0, 0, 0, 0, 0, 0, 0, 0, 0, 0, 0, 0, 0, 0, 0, 0, 0, 0, 0, 0, 0, 0,\n",
       "       0, 0, 0, 0, 0, 0, 0, 0, 0, 0, 0, 0, 0, 0, 0, 0, 0, 0, 0, 0, 0, 0,\n",
       "       0, 0, 0, 0, 0, 1, 1, 1, 1, 1, 1, 1, 1, 1, 1, 1, 1, 1, 1, 1, 1, 1,\n",
       "       1, 1, 1, 1, 1, 1, 1, 1, 1, 1, 1, 1, 1, 1, 1, 1, 1, 1, 1, 1, 1, 1,\n",
       "       1, 1, 1, 1, 1, 1, 1, 1, 1, 1, 1, 1, 1, 1, 1, 1, 1, 1, 1, 1, 1, 1,\n",
       "       1, 1, 1, 1, 1, 1, 1, 1, 1, 1, 1, 1, 1, 1, 1, 1, 1, 1, 1, 1, 1, 1,\n",
       "       1, 1, 1, 1, 1, 1, 1, 1, 1, 1, 1, 1, 1, 1, 1, 1, 1, 1, 1, 1, 1, 1,\n",
       "       1, 1, 1, 1, 1, 1, 1, 1, 1, 1, 1, 1, 1, 1, 1, 1, 1, 1, 1, 1, 1, 1,\n",
       "       1, 1, 1, 1, 1, 1, 1, 1, 1, 1, 1, 1, 1, 1, 1, 1, 1, 1, 1, 1, 1, 1,\n",
       "       1, 1, 1, 1, 1, 1, 1, 1, 1, 1, 1, 1, 1, 1, 1, 1, 1, 1, 1, 1, 1, 1,\n",
       "       1, 1, 1, 1, 1, 1, 1, 1, 1, 1, 1, 1, 1, 1, 1, 1, 1, 1, 1, 1, 1, 1,\n",
       "       1, 1, 1, 1, 1, 1, 1, 1, 1, 1, 1, 1, 1, 1, 1, 1, 1, 1, 1, 1, 1, 1,\n",
       "       1, 1, 1, 1, 1, 1, 1, 1, 1, 1, 1, 1, 1, 1, 1, 1, 1, 1, 1, 1, 1, 1,\n",
       "       1, 1, 1, 1, 1, 1, 1, 1, 1, 1, 1, 1, 1, 1, 1, 1, 1, 1, 1, 1, 1, 1,\n",
       "       1, 1, 1, 1, 1, 1, 1, 1, 1, 1, 1, 1, 1, 1, 1, 1, 1, 1, 1, 1, 1, 1,\n",
       "       1, 1, 1, 1, 1, 1, 1, 1, 1, 1, 1, 1, 1, 1, 1, 1, 1, 1, 1, 1, 1, 1,\n",
       "       1, 1, 1, 1, 1, 1, 1, 1, 1, 1, 1, 1, 1, 1, 1, 1, 1, 1, 1, 1, 1, 1,\n",
       "       1, 1, 1, 1, 1, 1, 1, 1, 1, 1, 1, 1, 1, 1, 1, 1, 1, 1, 1, 1, 1, 1,\n",
       "       1, 1, 1, 1, 1, 1, 1, 1, 1, 1, 1, 1, 1, 1, 1, 1, 1, 1, 1, 1, 1, 1,\n",
       "       1, 1, 1, 1, 1, 1, 1, 1, 1, 1, 1, 1, 1, 1, 1, 1, 1, 1, 1, 1, 1, 1,\n",
       "       1, 1, 1, 1, 1, 1, 1, 1, 1, 1, 1, 1, 1, 1, 1, 1, 1, 1, 1, 1, 1, 1,\n",
       "       1, 1, 1, 1, 1, 1, 1, 1, 1, 1, 1, 1, 1, 1, 1, 1, 1, 1, 1, 1, 1, 1,\n",
       "       1, 1, 1, 1, 1, 1, 1, 1, 1, 1, 1, 1, 1, 1, 1, 1, 1, 1, 1, 1, 1, 1,\n",
       "       1, 1, 1, 1, 1, 1, 1, 1, 1, 1, 1, 1, 1, 1, 1, 1, 1, 1, 1, 1, 1, 1,\n",
       "       1, 1, 1, 1, 1, 1, 1, 1, 1, 1, 1, 1, 1, 1, 1, 1, 1, 1, 1, 1, 1, 1,\n",
       "       1, 1, 1, 1, 1, 2, 2, 2, 2, 2, 2, 2, 2, 2, 2, 2, 2, 2, 2, 2, 2, 2,\n",
       "       2, 2, 2, 2, 2, 2, 2, 2, 2, 2, 2, 2, 2, 2, 2, 2, 2, 2, 2, 2, 2, 2,\n",
       "       2, 2, 2, 2, 2, 2, 2, 2, 2, 2, 2, 2, 2, 2, 2, 2, 2, 2, 2, 2, 2, 2,\n",
       "       2, 2, 2, 2, 2, 2, 2, 2, 2, 2, 2, 2, 2, 2, 2, 2, 2, 2, 2, 2, 2, 2,\n",
       "       2, 2, 2, 2, 2, 2, 2, 2, 2, 2, 2, 2, 2, 2, 2, 2, 2, 2, 2, 2, 2, 2,\n",
       "       2, 2, 2, 2, 2, 2, 2, 2, 2, 2, 2, 2, 2, 2, 2, 2, 2, 2, 2, 2, 2, 2,\n",
       "       2, 2, 2, 2, 2, 2, 2, 2, 2, 2, 2, 2, 2, 2, 2, 2, 2, 2, 2, 2, 2, 2,\n",
       "       2, 2, 2, 2, 2, 2, 2, 2, 2, 2, 2, 2, 2, 2, 2, 2, 2, 2, 2, 2, 2, 2,\n",
       "       2, 2, 2, 2, 2, 2, 2, 2, 2, 2, 2, 2, 2, 2, 2, 2, 2, 2, 2, 2, 2, 2,\n",
       "       2, 2, 2, 2, 2, 2, 2, 2, 2, 2, 2, 2, 2, 2, 2, 2, 2, 2, 2, 2, 2, 2,\n",
       "       2, 2, 2, 2, 2, 2, 2, 2, 2, 2, 2, 2, 2, 2, 2, 2, 2, 2, 2, 2, 2, 2,\n",
       "       2, 2, 2, 2, 2, 2, 2, 2, 2, 2])"
      ]
     },
     "metadata": {},
     "execution_count": 58
    }
   ],
   "source": [
    "A"
   ]
  },
  {
   "cell_type": "code",
   "execution_count": 56,
   "metadata": {},
   "outputs": [
    {
     "output_type": "stream",
     "name": "stdout",
     "text": [
      "499: 0\n486: 0\n485: 0\n477: 0\n467: 0\n455: 0\n450: 0\n447: 0\n443: 0\n442: 0\n440: 0\n434: 0\n433: 0\n432: 0\n417: 0\n415: 0\n414: 0\n412: 0\n410: 0\n405: 0\n394: 0\n393: 0\n494: 0\n391: 0\n502: 0\n517: 0\n584: 0\n583: 0\n579: 0\n578: 0\n572: 0\n569: 0\n566: 0\n562: 0\n556: 0\n555: 0\n554: 0\n550: 0\n549: 0\n548: 0\n542: 0\n537: 0\n536: 0\n533: 0\n527: 0\n521: 0\n519: 0\n515: 0\n598: 0\n390: 0\n386: 0\n285: 0\n282: 0\n281: 0\n276: 0\n272: 0\n270: 0\n268: 0\n263: 0\n262: 0\n258: 0\n257: 0\n252: 0\n251: 0\n248: 0\n242: 0\n240: 0\n238: 0\n230: 0\n229: 0\n224: 0\n223: 0\n287: 0\n389: 0\n288: 0\n290: 0\n385: 0\n379: 0\n378: 0\n373: 0\n368: 0\n367: 0\n363: 0\n354: 0\n350: 0\n347: 0\n340: 0\n337: 0\n335: 0\n323: 0\n322: 0\n318: 0\n313: 0\n305: 0\n295: 0\n293: 0\n291: 0\n289: 0\n219: 0\n607: 0\n612: 0\n909: 0\n906: 0\n902: 0\n900: 0\n899: 0\n893: 0\n892: 0\n886: 0\n881: 0\n880: 0\n875: 0\n874: 0\n872: 0\n870: 0\n865: 0\n864: 0\n862: 0\n855: 0\n853: 0\n835: 0\n833: 0\n911: 0\n828: 0\n913: 0\n917: 0\n996: 0\n995: 0\n994: 0\n991: 0\n989: 0\n988: 0\n985: 0\n983: 0\n978: 0\n977: 0\n974: 0\n968: 0\n965: 0\n963: 0\n955: 0\n954: 0\n948: 0\n935: 0\n929: 0\n925: 0\n922: 0\n916: 0\n611: 0\n826: 0\n818: 0\n689: 0\n688: 0\n683: 0\n681: 0\n680: 0\n674: 0\n672: 0\n671: 0\n667: 0\n661: 0\n660: 0\n658: 0\n652: 0\n650: 0\n647: 0\n643: 0\n641: 0\n639: 0\n636: 0\n627: 0\n613: 0\n691: 0\n824: 0\n694: 0\n698: 0\n817: 0\n810: 0\n807: 0\n806: 0\n802: 0\n801: 0\n792: 0\n790: 0\n783: 0\n782: 0\n775: 0\n774: 0\n755: 0\n750: 0\n744: 0\n740: 0\n735: 0\n723: 0\n710: 0\n705: 0\n700: 0\n696: 0\n215: 0\n999: 0\n94: 0\n192: 0\n143: 0\n100: 0\n140: 0\n187: 0\n73: 0\n23: 0\n161: 0\n24: 0\n185: 0\n55: 0\n126: 0\n99: 0\n183: 0\n30: 0\n78: 0\n180: 0\n51: 0\n50: 0\n138: 0\n178: 0\n166: 0\n47: 0\n172: 0\n134: 0\n169: 0\n133: 0\n59: 0\n60: 0\n71: 0\n11: 0\n196: 0\n114: 0\n63: 0\n122: 0\n66: 0\n5: 0\n4: 0\n64: 0\n121: 0\n1: 0\n111: 0\n62: 0\n157: 0\n8: 0\n2: 0\n736: 0\n739: 0\n677: 0\n676: 0\n678: 0\n679: 0\n682: 0\n718: 0\n669: 0\n82: 0\n83: 0\n84: 0\n666: 0\n665: 0\n664: 0\n663: 0\n741: 0\n85: 0\n86: 0\n659: 0\n87: 0\n673: 0\n684: 0\n690: 0\n77: 0\n717: 0\n716: 0\n715: 0\n713: 0\n720: 0\n711: 0\n69: 0\n709: 0\n707: 0\n706: 0\n68: 0\n70: 0\n704: 0\n703: 0\n702: 0\n726: 0\n656: 0\n697: 0\n727: 0\n728: 0\n729: 0\n730: 0\n693: 0\n731: 0\n734: 0\n692: 0\n75: 0\n719: 0\n76: 0\n67: 0\n655: 0\n200: 0\n89: 0\n573: 0\n576: 0\n581: 0\n582: 0\n102: 0\n101: 0\n585: 0\n105: 0\n586: 0\n590: 0\n591: 0\n592: 0\n593: 0\n594: 0\n596: 0\n597: 0\n588: 0\n199: 0\n570: 0\n568: 0\n543: 0\n545: 0\n546: 0\n113: 0\n112: 0\n552: 0\n553: 0\n106: 0\n110: 0\n558: 0\n560: 0\n108: 0\n563: 0\n564: 0\n565: 0\n107: 0\n557: 0\n653: 0\n600: 0\n603: 0\n630: 0\n631: 0\n632: 0\n633: 0\n634: 0\n635: 0\n743: 0\n629: 0\n637: 0\n640: 0\n92: 0\n642: 0\n644: 0\n646: 0\n648: 0\n649: 0\n93: 0\n601: 0\n95: 0\n624: 0\n604: 0\n605: 0\n606: 0\n608: 0\n609: 0\n610: 0\n97: 0\n625: 0\n96: 0\n616: 0\n618: 0\n619: 0\n620: 0\n621: 0\n622: 0\n623: 0\n614: 0\n745: 0\n767: 0\n747: 0\n901: 0\n28: 0\n903: 0\n905: 0\n27: 0\n26: 0\n910: 0\n912: 0\n915: 0\n918: 0\n919: 0\n920: 0\n21: 0\n924: 0\n20: 0\n29: 0\n927: 0\n898: 0\n895: 0\n869: 0\n39: 0\n38: 0\n873: 0\n37: 0\n36: 0\n878: 0\n885: 0\n887: 0\n888: 0\n889: 0\n890: 0\n891: 0\n32: 0\n894: 0\n896: 0\n928: 0\n19: 0\n930: 0\n967: 0\n969: 0\n970: 0\n972: 0\n973: 0\n975: 0\n976: 0\n10: 0\n981: 0\n984: 0\n7: 0\n986: 0\n987: 0\n6: 0\n997: 0\n13: 0\n964: 0\n14: 0\n959: 0\n931: 0\n934: 0\n936: 0\n938: 0\n939: 0\n940: 0\n941: 0\n867: 0\n942: 0\n945: 0\n947: 0\n17: 0\n949: 0\n950: 0\n956: 0\n957: 0\n944: 0\n746: 0\n866: 0\n41: 0\n781: 0\n784: 0\n785: 0\n788: 0\n789: 0\n58: 0\n791: 0\n793: 0\n794: 0\n795: 0\n796: 0\n797: 0\n798: 0\n799: 0\n800: 0\n780: 0\n56: 0\n779: 0\n777: 0\n748: 0\n749: 0\n751: 0\n753: 0\n757: 0\n759: 0\n761: 0\n762: 0\n764: 0\n766: 0\n115: 0\n768: 0\n770: 0\n773: 0\n776: 0\n778: 0\n804: 0\n805: 0\n54: 0\n839: 0\n840: 0\n843: 0\n845: 0\n847: 0\n849: 0\n851: 0\n852: 0\n854: 0\n43: 0\n856: 0\n858: 0\n859: 0\n860: 0\n42: 0\n838: 0\n836: 0\n46: 0\n831: 0\n53: 0\n809: 0\n52: 0\n812: 0\n814: 0\n815: 0\n816: 0\n40: 0\n819: 0\n821: 0\n822: 0\n823: 0\n825: 0\n48: 0\n827: 0\n829: 0\n820: 0\n541: 0\n0: 0\n156: 0\n260: 0\n404: 0\n403: 0\n402: 0\n400: 0\n399: 0\n398: 0\n184: 0\n397: 0\n264: 0\n265: 0\n395: 0\n145: 0\n147: 0\n269: 0\n148: 0\n149: 0\n387: 0\n273: 0\n151: 0\n274: 0\n384: 0\n275: 0\n382: 0\n179: 0\n380: 0\n277: 0\n144: 0\n406: 0\n407: 0\n409: 0\n437: 0\n243: 0\n435: 0\n136: 0\n244: 0\n246: 0\n247: 0\n429: 0\n428: 0\n249: 0\n427: 0\n426: 0\n250: 0\n153: 0\n188: 0\n423: 0\n421: 0\n420: 0\n419: 0\n255: 0\n418: 0\n139: 0\n256: 0\n416: 0\n141: 0\n413: 0\n142: 0\n411: 0\n253: 0\n278: 0\n280: 0\n375: 0\n339: 0\n338: 0\n336: 0\n163: 0\n334: 0\n333: 0\n297: 0\n298: 0\n331: 0\n299: 0\n330: 0\n329: 0\n328: 0\n341: 0\n327: 0\n324: 0\n164: 0\n165: 0\n321: 0\n320: 0\n319: 0\n302: 0\n304: 0\n167: 0\n168: 0\n311: 0\n307: 0\n309: 0\n325: 0\n438: 0\n342: 0\n344: 0\n177: 0\n374: 0\n372: 0\n371: 0\n370: 0\n116: 0\n284: 0\n176: 0\n365: 0\n175: 0\n362: 0\n174: 0\n359: 0\n294: 0\n357: 0\n355: 0\n158: 0\n353: 0\n171: 0\n352: 0\n351: 0\n159: 0\n349: 0\n292: 0\n348: 0\n160: 0\n170: 0\n345: 0\n356: 0\n439: 0\n254: 0\n441: 0\n503: 0\n124: 0\n197: 0\n501: 0\n500: 0\n220: 0\n498: 0\n497: 0\n496: 0\n495: 0\n125: 0\n493: 0\n505: 0\n135: 0\n222: 0\n489: 0\n488: 0\n127: 0\n484: 0\n483: 0\n482: 0\n225: 0\n481: 0\n480: 0\n478: 0\n128: 0\n491: 0\n476: 0\n506: 0\n198: 0\n201: 0\n535: 0\n534: 0\n118: 0\n531: 0\n530: 0\n529: 0\n204: 0\n119: 0\n526: 0\n525: 0\n205: 0\n216: 0\n524: 0\n206: 0\n522: 0\n209: 0\n518: 0\n516: 0\n123: 0\n514: 0\n211: 0\n512: 0\n511: 0\n509: 0\n213: 0\n523: 0\n475: 0\n221: 0\n308: 0\n448: 0\n234: 0\n191: 0\n131: 0\n462: 0\n194: 0\n460: 0\n236: 0\n193: 0\n231: 0\n458: 0\n452: 0\n453: 0\n235: 0\n474: 0\n233: 0\n130: 0\n132: 0\n468: 0\n449: 0\n227: 0\n444: 0\n472: 0\n469: 0\n228: 0\n473: 0\n190: 0\n943: 0\n296: 0\n980: 0\n863: 0\n923: 0\n848: 0\n306: 0\n210: 0\n933: 0\n212: 0\n846: 0\n203: 0\n982: 0\n202: 0\n921: 0\n992: 0\n850: 0\n208: 0\n993: 0\n300: 0\n18: 0\n241: 0\n301: 0\n937: 0\n990: 0\n857: 0\n237: 0\n245: 0\n932: 0\n44: 0\n303: 0\n189: 0\n239: 0\n3: 0\n207: 0\n861: 0\n926: 0\n979: 0\n904: 0\n9: 0\n25: 0\n279: 0\n953: 0\n966: 0\n16: 0\n15: 0\n195: 0\n31: 0\n261: 0\n908: 0\n33: 0\n958: 0\n897: 0\n181: 0\n226: 0\n962: 0\n961: 0\n182: 0\n267: 0\n266: 0\n960: 0\n907: 0\n271: 0\n844: 0\n259: 0\n951: 0\n214: 0\n868: 0\n217: 0\n946: 0\n218: 0\n173: 0\n232: 0\n971: 0\n871: 0\n286: 0\n952: 0\n914: 0\n876: 0\n877: 0\n283: 0\n879: 0\n35: 0\n34: 0\n12: 0\n882: 0\n883: 0\n884: 0\n186: 0\n22: 0\n538: 0\n841: 0\n645: 0\n91: 0\n456: 0\n457: 0\n459: 0\n638: 0\n461: 0\n463: 0\n464: 0\n465: 0\n466: 0\n129: 0\n628: 0\n626: 0\n470: 0\n454: 0\n90: 0\n451: 0\n651: 0\n79: 0\n80: 0\n430: 0\n431: 0\n675: 0\n81: 0\n137: 0\n471: 0\n670: 0\n668: 0\n662: 0\n445: 0\n446: 0\n657: 0\n654: 0\n88: 0\n436: 0\n425: 0\n617: 0\n479: 0\n513: 0\n567: 0\n520: 0\n120: 0\n561: 0\n559: 0\n109: 0\n528: 0\n551: 0\n547: 0\n532: 0\n544: 0\n117: 0\n540: 0\n539: 0\n571: 0\n510: 0\n574: 0\n575: 0\n98: 0\n487: 0\n490: 0\n602: 0\n492: 0\n595: 0\n998: 0\n615: 0\n589: 0\n504: 0\n507: 0\n508: 0\n580: 0\n103: 0\n104: 0\n577: 0\n587: 0\n685: 0\n686: 0\n687: 0\n346: 0\n57: 0\n787: 0\n786: 0\n358: 0\n360: 0\n361: 0\n61: 0\n364: 0\n772: 0\n771: 0\n366: 0\n769: 0\n155: 0\n369: 0\n343: 0\n803: 0\n162: 0\n808: 0\n310: 0\n837: 0\n312: 0\n45: 0\n834: 0\n832: 0\n314: 0\n765: 0\n830: 0\n316: 0\n317: 0\n49: 0\n326: 0\n813: 0\n811: 0\n332: 0\n315: 0\n763: 0\n760: 0\n154: 0\n725: 0\n724: 0\n722: 0\n721: 0\n401: 0\n714: 0\n712: 0\n396: 0\n708: 0\n701: 0\n699: 0\n72: 0\n695: 0\n74: 0\n422: 0\n424: 0\n408: 0\n842: 0\n146: 0\n732: 0\n758: 0\n756: 0\n754: 0\n376: 0\n752: 0\n377: 0\n152: 0\n392: 0\n381: 0\n65: 0\n742: 0\n150: 0\n738: 0\n737: 0\n388: 0\n733: 0\n383: 0\n599: 0\n"
     ]
    }
   ],
   "source": [
    "for i in (MP.e_cu - X_cuhd[:, :, :, :].sum(axis=(0,2,3))).sum(axis=0).argsort():\n",
    "    print(f\"{i}: {X_cuhd[1,i,1,1]}\")"
   ]
  },
  {
   "cell_type": "code",
   "execution_count": 39,
   "metadata": {},
   "outputs": [
    {
     "name": "stdout",
     "output_type": "stream",
     "text": [
      "('eligibility', 420000)\n",
      "('channel_capacity', 211659)\n",
      "('daily_limitation', 132095)\n",
      "('weekly_limitation', 129960)\n",
      "('weekly_limitation', 48472)\n",
      "('campaign_limitation', 48472)\n",
      "('daily_quota', 36650)\n",
      "('weekly_quota', 21862)\n"
     ]
    }
   ],
   "source": [
    "for s in mdl.stats():\n",
    "    print(s)"
   ]
  },
  {
   "cell_type": "code",
   "execution_count": 40,
   "metadata": {},
   "outputs": [
    {
     "data": {
      "text/plain": [
       "6936"
      ]
     },
     "metadata": {},
     "output_type": "display_data"
    },
    {
     "data": {
      "text/plain": [
       "544910"
      ]
     },
     "metadata": {},
     "output_type": "display_data"
    }
   ],
   "source": [
    "display(X_cuhd.sum())\n",
    "display(mdl.calc_value(X_cuhd))"
   ]
  },
  {
   "cell_type": "markdown",
   "metadata": {},
   "source": [
    "##### - check criterion"
   ]
  },
  {
   "cell_type": "markdown",
   "metadata": {},
   "source": [
    "- Sort Campaigns by rp_c\n",
    "- Map every criteria to function"
   ]
  }
 ],
 "metadata": {
  "kernelspec": {
   "name": "python379jvsc74a57bd04ebab1427ef780bf608b22c759c8b84581cf8d6cf412ec35f087a34b65f09c86",
   "display_name": "Python 3.7.9 64-bit ('copt': virtualenvwrapper)"
  },
  "language_info": {
   "codemirror_mode": {
    "name": "ipython",
    "version": 3
   },
   "file_extension": ".py",
   "mimetype": "text/x-python",
   "name": "python",
   "nbconvert_exporter": "python",
   "pygments_lexer": "ipython3",
   "version": "3.7.9"
  }
 },
 "nbformat": 4,
 "nbformat_minor": 4
}