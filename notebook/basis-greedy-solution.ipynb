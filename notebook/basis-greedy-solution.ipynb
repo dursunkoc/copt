{
 "cells": [
  {
   "cell_type": "code",
   "execution_count": 1,
   "metadata": {},
   "outputs": [],
   "source": [
    "import sys\n",
    "import os\n",
    "sys.path.insert(0, os.path.abspath('../src'))"
   ]
  },
  {
   "cell_type": "code",
   "execution_count": 2,
   "metadata": {},
   "outputs": [],
   "source": [
    "import numpy as np\n",
    "from tqdm import trange\n",
    "from tqdm import tqdm\n",
    "\n",
    "import model\n",
    "import model_parameters as MP"
   ]
  },
  {
   "cell_type": "markdown",
   "metadata": {},
   "source": [
    "## Mathematical Model"
   ]
  },
  {
   "cell_type": "markdown",
   "metadata": {},
   "source": [
    "#### Sets\n",
    "- C\tSet of campaigns.\n",
    "- U\tSet of customers.\n",
    "- H\tSet of channels\n",
    "- D\tSet of planning days.\n",
    "- I\tSet of quota categories.\n",
    "- P\tSet of priority categories.\n"
   ]
  },
  {
   "cell_type": "code",
   "execution_count": 3,
   "metadata": {},
   "outputs": [
    {
     "name": "stdout",
     "output_type": "stream",
     "text": [
      "number of campaigns 10\n",
      "number of customers 1000\n",
      "number of channels 3\n",
      "number of planning days 7\n",
      "number of quota categories 3\n",
      "number of priority categories 10\n"
     ]
    }
   ],
   "source": [
    "print(f\"number of campaigns {MP.C}\") #70 -camp.\n",
    "print(f\"number of customers {MP.U}\") #20.000.000 non-distinct\n",
    "print(f\"number of channels {MP.H}\") #6-7 h. --Drop\n",
    "print(f\"number of planning days {MP.D}\")\n",
    "print(f\"number of quota categories {MP.I}\")\n",
    "print(f\"number of priority categories {MP.P}\")"
   ]
  },
  {
   "cell_type": "markdown",
   "metadata": {},
   "source": [
    "#### Parameters"
   ]
  },
  {
   "cell_type": "markdown",
   "metadata": {},
   "source": [
    "##### - eligibility\n",
    "$$\n",
    "e_{cu}\\left\\{\\begin{array}\\\\\n",
    "        1 & \\mbox{if }  customer\\ u\\ is\\ eligible\\ for\\ campaign\\ c\\\\\n",
    "        0 & \\mbox{otherwise } \\\\\n",
    "    \\end{array}\n",
    "\\right.\n",
    "$$"
   ]
  },
  {
   "cell_type": "code",
   "execution_count": 4,
   "metadata": {},
   "outputs": [
    {
     "data": {
      "text/plain": [
       "array([[0, 0, 0, ..., 0, 1, 1],\n",
       "       [1, 1, 0, ..., 1, 1, 0],\n",
       "       [0, 1, 0, ..., 0, 1, 1],\n",
       "       ...,\n",
       "       [0, 0, 0, ..., 0, 0, 0],\n",
       "       [0, 0, 0, ..., 1, 1, 0],\n",
       "       [0, 0, 1, ..., 0, 1, 1]])"
      ]
     },
     "execution_count": 4,
     "metadata": {},
     "output_type": "execute_result"
    }
   ],
   "source": [
    "MP.e_cu"
   ]
  },
  {
   "cell_type": "markdown",
   "metadata": {},
   "source": [
    "##### - quota categories\n",
    "$$\n",
    "q_{ic}\\left\\{\\begin{array}\\\\\n",
    "        1 & \\mbox{if }  campaign\\ c\\ is\\ a\\ i^{th} type\\ quota\\ category\\ campaign\\ \\\\\n",
    "        0 & \\mbox{otherwise } \\\\\n",
    "    \\end{array}\n",
    "\\right.\n",
    "$$"
   ]
  },
  {
   "cell_type": "code",
   "execution_count": 5,
   "metadata": {},
   "outputs": [
    {
     "data": {
      "text/plain": [
       "array([[1, 0, 0, 1, 1, 1, 0, 0, 1, 1],\n",
       "       [1, 0, 0, 1, 0, 0, 0, 1, 1, 0],\n",
       "       [0, 0, 0, 0, 1, 1, 0, 1, 1, 0]])"
      ]
     },
     "execution_count": 5,
     "metadata": {},
     "output_type": "execute_result"
    }
   ],
   "source": [
    "MP.q_ic"
   ]
  },
  {
   "cell_type": "markdown",
   "metadata": {},
   "source": [
    "##### - priority categories\n",
    "$$r_{cp}: Priority\\ value\\ of\\ campaign\\ c\\ regarding\\ priority\\ type\\ p\\$$"
   ]
  },
  {
   "cell_type": "code",
   "execution_count": 6,
   "metadata": {},
   "outputs": [
    {
     "data": {
      "text/plain": [
       "array([41, 17, 22, 17, 33, 67, 33, 41, 17, 41])"
      ]
     },
     "execution_count": 6,
     "metadata": {},
     "output_type": "execute_result"
    }
   ],
   "source": [
    "MP.rp_c"
   ]
  },
  {
   "cell_type": "markdown",
   "metadata": {},
   "source": [
    "##### - blokage\n",
    "$$b: Communication\\ limit\\ per\\ person\\ for\\ the\\ whole\\ period\\$$"
   ]
  },
  {
   "cell_type": "code",
   "execution_count": 7,
   "metadata": {},
   "outputs": [
    {
     "data": {
      "text/plain": [
       "7"
      ]
     },
     "execution_count": 7,
     "metadata": {},
     "output_type": "execute_result"
    }
   ],
   "source": [
    "MP.b"
   ]
  },
  {
   "cell_type": "markdown",
   "metadata": {},
   "source": [
    "##### - daily blokage\n",
    "$$k: Communication\\ limit\\ per\\ person\\ at\\ each\\ day\\$$"
   ]
  },
  {
   "cell_type": "code",
   "execution_count": 8,
   "metadata": {
    "scrolled": true
   },
   "outputs": [
    {
     "data": {
      "text/plain": [
       "3"
      ]
     },
     "execution_count": 8,
     "metadata": {},
     "output_type": "execute_result"
    }
   ],
   "source": [
    "MP.k"
   ]
  },
  {
   "cell_type": "markdown",
   "metadata": {},
   "source": [
    "##### - campaign blockage\n",
    "$$l_c: Communication\\ limit\\ per\\ person\\ for\\ campaign\\ c\\$$"
   ]
  },
  {
   "cell_type": "code",
   "execution_count": 9,
   "metadata": {
    "scrolled": true
   },
   "outputs": [
    {
     "data": {
      "text/plain": [
       "array([2, 3, 4, 3, 2, 2, 4, 3, 3, 3])"
      ]
     },
     "execution_count": 9,
     "metadata": {},
     "output_type": "execute_result"
    }
   ],
   "source": [
    "MP.l_c"
   ]
  },
  {
   "cell_type": "markdown",
   "metadata": {},
   "source": [
    "##### - quota limitations daily/weekly\n",
    "$$\n",
    "m_i: Communication\\ limit\\ per\\ person\\ for\\ i^{th}\\ category\\\n",
    "$$\n",
    "$$\n",
    "n_i: Communication\\ limit\\ per\\ person\\ for\\ i^{th}\\ category\\ each\\ day\\\n",
    "$$"
   ]
  },
  {
   "cell_type": "code",
   "execution_count": 10,
   "metadata": {},
   "outputs": [
    {
     "data": {
      "text/plain": [
       "(array([4, 3, 4]), array([1, 1, 2]))"
      ]
     },
     "execution_count": 10,
     "metadata": {},
     "output_type": "execute_result"
    }
   ],
   "source": [
    "(MP.m_i, MP.n_i)"
   ]
  },
  {
   "cell_type": "markdown",
   "metadata": {},
   "source": [
    "#### - capacity for channel\n",
    "$$\n",
    "t_{h,d}: Capacity\\ for\\ channel\\ h\\ at\\ day\\ d.\\\n",
    "$$"
   ]
  },
  {
   "cell_type": "code",
   "execution_count": 11,
   "metadata": {
    "scrolled": true
   },
   "outputs": [
    {
     "data": {
      "text/plain": [
       "array([[700., 700., 600., 500., 500., 700., 700.],\n",
       "       [600., 500., 500., 600., 700., 700., 500.],\n",
       "       [700., 500., 500., 500., 700., 500., 600.]])"
      ]
     },
     "execution_count": 11,
     "metadata": {},
     "output_type": "execute_result"
    }
   ],
   "source": [
    "MP.t_hd"
   ]
  },
  {
   "cell_type": "markdown",
   "metadata": {},
   "source": [
    "# Model"
   ]
  },
  {
   "cell_type": "markdown",
   "metadata": {},
   "source": [
    "#### Variables\n",
    "$$\n",
    "X_{cuhd}\\left\\{\\begin{array}\\\\\n",
    "        1 & \\mbox{if } Campaign\\ c\\ will\\ be\\ sent\\ to\\ customer\\ u\\ through\\ Channel\\ h\\ at\\ Day\\ d \\\\\n",
    "        0 & \\mbox{otherwise } \\\\\n",
    "    \\end{array}\n",
    "\\right.\n",
    "$$"
   ]
  },
  {
   "cell_type": "markdown",
   "metadata": {},
   "source": [
    "## Maximize\n",
    "$$\\sum_{p \\in P}\\sum_{c \\in C}\\sum_{u \\in U}\\sum_{h \\in H}\\sum_{d \\in D}\\,X_{cuhd}\\ r_{cp}$$"
   ]
  },
  {
   "cell_type": "markdown",
   "metadata": {},
   "source": [
    "##### Binary variable (10)\n",
    "$$\n",
    "X_{cuhd} \\in \\{ 1,0 \\},\\hspace{35pt} \\forall c \\in C ,\\forall u \\in U,\\forall d \\in D, \\forall h \\in H\n",
    "$$"
   ]
  },
  {
   "cell_type": "code",
   "execution_count": 12,
   "metadata": {},
   "outputs": [],
   "source": [
    "X_cuhd = np.zeros((MP.C,MP.U,MP.H,MP.D), dtype='int')"
   ]
  },
  {
   "cell_type": "markdown",
   "metadata": {},
   "source": [
    "## subject to"
   ]
  },
  {
   "cell_type": "markdown",
   "metadata": {},
   "source": [
    "##### - eligibility (2)\n",
    "\n",
    "$$\n",
    "X_{cuhd}  \\leq e_{cu},\\hspace{35pt} \\forall h \\in H,\\forall d \\in D\n",
    "$$"
   ]
  },
  {
   "cell_type": "code",
   "execution_count": 13,
   "metadata": {},
   "outputs": [
    {
     "data": {
      "text/plain": [
       "<function model_parameters.<lambda>(X, c, u, h, d)>"
      ]
     },
     "execution_count": 13,
     "metadata": {},
     "output_type": "execute_result"
    }
   ],
   "source": [
    "MP.eligibility"
   ]
  },
  {
   "cell_type": "markdown",
   "metadata": {},
   "source": [
    "##### - use one channel (3)\n",
    "$$\n",
    "\\sum_{h}X_{cuhd} \\le 1,\\hspace{35pt} \\forall c \\in C \\, \\forall u \\in U,\\forall d \\in D\n",
    "$$"
   ]
  },
  {
   "cell_type": "code",
   "execution_count": 14,
   "metadata": {},
   "outputs": [
    {
     "data": {
      "text/plain": [
       "<function model_parameters.<lambda>(X, c, u, d)>"
      ]
     },
     "execution_count": 14,
     "metadata": {},
     "output_type": "execute_result"
    }
   ],
   "source": [
    "MP.one_channel"
   ]
  },
  {
   "cell_type": "markdown",
   "metadata": {},
   "source": [
    "##### - weekly communication limitation (4)\n",
    "$$\n",
    "\\sum_{h \\in H}\\sum_{c \\in C}\\sum_{d \\in D} X_{cuhd}\\le b,\\hspace{35pt} \\forall u \\in U\n",
    "$$"
   ]
  },
  {
   "cell_type": "code",
   "execution_count": 15,
   "metadata": {},
   "outputs": [
    {
     "data": {
      "text/plain": [
       "<function model_parameters.<lambda>(X, u)>"
      ]
     },
     "execution_count": 15,
     "metadata": {},
     "output_type": "execute_result"
    }
   ],
   "source": [
    "MP.weekly_limitation"
   ]
  },
  {
   "cell_type": "markdown",
   "metadata": {},
   "source": [
    "##### - daily communication limitation (5)\n",
    "$$\n",
    "\\sum_{h \\in H}\\sum_{c \\in C} X_{cuhd}\\le k,\\hspace{35pt} \\forall u \\in U, \\forall d \\in D\n",
    "$$"
   ]
  },
  {
   "cell_type": "code",
   "execution_count": 16,
   "metadata": {},
   "outputs": [
    {
     "data": {
      "text/plain": [
       "<function model_parameters.<lambda>(X, u, d)>"
      ]
     },
     "execution_count": 16,
     "metadata": {},
     "output_type": "execute_result"
    }
   ],
   "source": [
    "MP.daily_limitation"
   ]
  },
  {
   "cell_type": "markdown",
   "metadata": {},
   "source": [
    "##### - campaign communication limit(6)\n",
    "$$\n",
    "\\sum_{d \\in D}\\sum_{h \\in H} X_{cuhd}\\le l_c,\\hspace{35pt} \\forall c \\in C,\\forall u \\in U;\n",
    "$$"
   ]
  },
  {
   "cell_type": "code",
   "execution_count": 17,
   "metadata": {},
   "outputs": [
    {
     "data": {
      "text/plain": [
       "<function model_parameters.<lambda>(X, c, u)>"
      ]
     },
     "execution_count": 17,
     "metadata": {},
     "output_type": "execute_result"
    }
   ],
   "source": [
    "MP.campaign_limitation"
   ]
  },
  {
   "cell_type": "markdown",
   "metadata": {},
   "source": [
    "##### - weekly quota(7)\n",
    "$$\n",
    "\\sum_{d \\in D}\\sum_{h \\in H}\\sum_{c \\in C}{X_{cuhd} q_{ic}}\\le m_i,\\hspace{35pt} \\forall u \\in U, \\forall i \\in I\n",
    "$$"
   ]
  },
  {
   "cell_type": "code",
   "execution_count": 18,
   "metadata": {},
   "outputs": [
    {
     "data": {
      "text/plain": [
       "<function model_parameters.<lambda>(X, u)>"
      ]
     },
     "execution_count": 18,
     "metadata": {},
     "output_type": "execute_result"
    }
   ],
   "source": [
    "MP.weekly_quota"
   ]
  },
  {
   "cell_type": "markdown",
   "metadata": {},
   "source": [
    "##### - daily quota(8)\n",
    "$$\n",
    "\\sum_{h \\in H}\\sum_{c \\in C}{X_{cuhd} q_{ic}}\\le n_i,\\hspace{35pt} \\forall u \\in U,\\, \\forall d \\in D, \\forall i \\in I\n",
    "$$"
   ]
  },
  {
   "cell_type": "code",
   "execution_count": 19,
   "metadata": {},
   "outputs": [
    {
     "data": {
      "text/plain": [
       "<function model_parameters.<lambda>(X, u, d)>"
      ]
     },
     "execution_count": 19,
     "metadata": {},
     "output_type": "execute_result"
    }
   ],
   "source": [
    "MP.daily_quota"
   ]
  },
  {
   "cell_type": "markdown",
   "metadata": {},
   "source": [
    "##### Channel capacity (9)\n",
    "$$\n",
    "\\sum_{c \\in C}\\sum_{u \\in U}{X_{cuhd}}\\le t_{hd},\\hspace{35pt} \\forall d \\in D,\\, \\forall h \\in H\n",
    "$$"
   ]
  },
  {
   "cell_type": "code",
   "execution_count": 20,
   "metadata": {},
   "outputs": [
    {
     "data": {
      "text/plain": [
       "<function model_parameters.<lambda>(X, h, d)>"
      ]
     },
     "execution_count": 20,
     "metadata": {},
     "output_type": "execute_result"
    }
   ],
   "source": [
    "MP.channel_capacity"
   ]
  },
  {
   "cell_type": "code",
   "execution_count": 21,
   "metadata": {},
   "outputs": [],
   "source": [
    "#eligibility = lambda X, c, u, h, d: X[c,u,h,d]<=e_cu[c,u]\n",
    "#channel_capacity = lambda X, h, d: X[:,:,h,d].sum() <= t_hd[h,d]\n",
    "#weekly_limitation = lambda X, u: X[:,u,:,:].sum() <= b\n",
    "#daily_limitation = lambda X, u, d: X[:,u,:,d].sum() <= k\n",
    "#campaign_limitation = lambda X, c, u: X[c,u,:,:].sum() <= l_c[c]\n",
    "#one_channel = lambda X, c, u, d: X[c,u,:,d].sum() <= 1\n",
    "#weekly_quota = lambda X, u: np.all(q_ic[:,c] * X[c,u,:,:].sum()<=m_i)\n",
    "#daily_quota = lambda X, u, d: np.all(q_ic[:,c] * X[c,u,:,d].sum()<=n_i)\n",
    "\n",
    "c_i = 0\n",
    "u_i = 1\n",
    "h_i = 2\n",
    "d_i = 3\n",
    "\n",
    "mdl = model.Model([\n",
    "    model.Constraint('eligibility',MP.eligibility, (c_i, u_i, h_i, d_i,)),\n",
    "    model.Constraint('channel_capacity',MP.channel_capacity, (h_i, d_i,)),\n",
    "    model.Constraint('daily_limitation',MP.daily_limitation, (u_i, d_i,)),\n",
    "    model.Constraint('weekly_limitation',MP.weekly_limitation, (u_i,)),\n",
    "    model.Constraint('campaign_limitation',MP.campaign_limitation, (c_i, u_i,)),\n",
    "    model.Constraint('daily_quota',MP.daily_quota, (u_i, d_i,)),\n",
    "    model.Constraint('one_channel',MP.one_channel, (c_i, u_i, d_i,)),\n",
    "    model.Constraint('weekly_quota',MP.weekly_quota, (u_i,))\n",
    "], MP.objective_fn)"
   ]
  },
  {
   "cell_type": "code",
   "execution_count": 22,
   "metadata": {},
   "outputs": [
    {
     "name": "stderr",
     "output_type": "stream",
     "text": [
      "Campaigns Loop:   0%|          | 0/10 [00:00<?, ?it/s]\n",
      "Days Loop for campaign-5:   0%|          | 0/7 [00:00<?, ?it/s]\u001b[A\n",
      "Days Loop for campaign-5:  14%|█▍        | 1/7 [00:00<00:02,  2.04it/s]\u001b[A\n",
      "Days Loop for campaign-5:  29%|██▊       | 2/7 [00:00<00:01,  3.26it/s]\u001b[A\n",
      "Days Loop for campaign-5:  43%|████▎     | 3/7 [00:00<00:00,  4.32it/s]\u001b[A\n",
      "Days Loop for campaign-5:  57%|█████▋    | 4/7 [00:00<00:00,  5.13it/s]\u001b[A\n",
      "Days Loop for campaign-5:  71%|███████▏  | 5/7 [00:01<00:00,  5.64it/s]\u001b[A\n",
      "Days Loop for campaign-5:  86%|████████▌ | 6/7 [00:01<00:00,  5.58it/s]\u001b[A\n",
      "Days Loop for campaign-5: 100%|██████████| 7/7 [00:01<00:00,  4.88it/s]\u001b[A\n",
      "Campaigns Loop:  10%|█         | 1/10 [00:01<00:12,  1.44s/it]\n",
      "Days Loop for campaign-0:   0%|          | 0/7 [00:00<?, ?it/s]\u001b[A\n",
      "Days Loop for campaign-0:  14%|█▍        | 1/7 [00:00<00:01,  4.82it/s]\u001b[A\n",
      "Days Loop for campaign-0:  29%|██▊       | 2/7 [00:00<00:00,  5.17it/s]\u001b[A\n",
      "Days Loop for campaign-0:  43%|████▎     | 3/7 [00:00<00:00,  5.29it/s]\u001b[A\n",
      "Days Loop for campaign-0:  57%|█████▋    | 4/7 [00:00<00:00,  5.61it/s]\u001b[A\n",
      "Days Loop for campaign-0:  71%|███████▏  | 5/7 [00:00<00:00,  6.10it/s]\u001b[A\n",
      "Days Loop for campaign-0:  86%|████████▌ | 6/7 [00:01<00:00,  6.24it/s]\u001b[A\n",
      "Days Loop for campaign-0: 100%|██████████| 7/7 [00:01<00:00,  5.97it/s]\u001b[A\n",
      "Campaigns Loop:  20%|██        | 2/10 [00:02<00:10,  1.29s/it]\n",
      "Days Loop for campaign-7:   0%|          | 0/7 [00:00<?, ?it/s]\u001b[A\n",
      "Days Loop for campaign-7:  14%|█▍        | 1/7 [00:00<00:01,  5.12it/s]\u001b[A\n",
      "Days Loop for campaign-7:  29%|██▊       | 2/7 [00:00<00:00,  5.60it/s]\u001b[A\n",
      "Days Loop for campaign-7:  43%|████▎     | 3/7 [00:00<00:00,  5.22it/s]\u001b[A\n",
      "Days Loop for campaign-7:  57%|█████▋    | 4/7 [00:00<00:00,  4.51it/s]\u001b[A\n",
      "Days Loop for campaign-7:  71%|███████▏  | 5/7 [00:01<00:00,  4.06it/s]\u001b[A\n",
      "Days Loop for campaign-7:  86%|████████▌ | 6/7 [00:01<00:00,  4.12it/s]\u001b[A\n",
      "Days Loop for campaign-7: 100%|██████████| 7/7 [00:01<00:00,  4.39it/s]\u001b[A\n",
      "Campaigns Loop:  30%|███       | 3/10 [00:04<00:10,  1.43s/it]\n",
      "Days Loop for campaign-9:   0%|          | 0/7 [00:00<?, ?it/s]\u001b[A\n",
      "Days Loop for campaign-9:  14%|█▍        | 1/7 [00:00<00:01,  5.48it/s]\u001b[A\n",
      "Days Loop for campaign-9:  29%|██▊       | 2/7 [00:00<00:00,  5.91it/s]\u001b[A\n",
      "Days Loop for campaign-9:  43%|████▎     | 3/7 [00:00<00:00,  5.78it/s]\u001b[A\n",
      "Days Loop for campaign-9:  57%|█████▋    | 4/7 [00:00<00:00,  5.52it/s]\u001b[A\n",
      "Days Loop for campaign-9:  71%|███████▏  | 5/7 [00:00<00:00,  5.04it/s]\u001b[A\n",
      "Days Loop for campaign-9:  86%|████████▌ | 6/7 [00:01<00:00,  4.75it/s]\u001b[A\n",
      "Days Loop for campaign-9: 100%|██████████| 7/7 [00:01<00:00,  5.01it/s]\u001b[A\n",
      "Campaigns Loop:  40%|████      | 4/10 [00:05<00:08,  1.42s/it]\n",
      "Days Loop for campaign-4:   0%|          | 0/7 [00:00<?, ?it/s]\u001b[A\n",
      "Days Loop for campaign-4:  14%|█▍        | 1/7 [00:00<00:00,  6.13it/s]\u001b[A\n",
      "Days Loop for campaign-4:  29%|██▊       | 2/7 [00:00<00:00,  6.32it/s]\u001b[A\n",
      "Days Loop for campaign-4:  43%|████▎     | 3/7 [00:00<00:00,  6.20it/s]\u001b[A\n",
      "Days Loop for campaign-4:  57%|█████▋    | 4/7 [00:00<00:00,  6.03it/s]\u001b[A\n",
      "Days Loop for campaign-4:  71%|███████▏  | 5/7 [00:00<00:00,  5.37it/s]\u001b[A\n",
      "Days Loop for campaign-4:  86%|████████▌ | 6/7 [00:01<00:00,  5.03it/s]\u001b[A\n",
      "Days Loop for campaign-4: 100%|██████████| 7/7 [00:01<00:00,  5.32it/s]\u001b[A\n",
      "Campaigns Loop:  50%|█████     | 5/10 [00:06<00:06,  1.38s/it]\n",
      "Days Loop for campaign-6:   0%|          | 0/7 [00:00<?, ?it/s]\u001b[A\n",
      "Days Loop for campaign-6:  14%|█▍        | 1/7 [00:00<00:00,  6.48it/s]\u001b[A\n",
      "Days Loop for campaign-6:  29%|██▊       | 2/7 [00:00<00:00,  6.81it/s]\u001b[A\n",
      "Days Loop for campaign-6:  43%|████▎     | 3/7 [00:00<00:00,  6.99it/s]\u001b[A\n",
      "Days Loop for campaign-6:  57%|█████▋    | 4/7 [00:00<00:00,  5.68it/s]\u001b[A\n",
      "Days Loop for campaign-6:  71%|███████▏  | 5/7 [00:00<00:00,  6.12it/s]\u001b[A\n",
      "Days Loop for campaign-6:  86%|████████▌ | 6/7 [00:00<00:00,  6.38it/s]\u001b[A\n",
      "Days Loop for campaign-6: 100%|██████████| 7/7 [00:01<00:00,  6.16it/s]\u001b[A\n",
      "Campaigns Loop:  60%|██████    | 6/10 [00:08<00:05,  1.30s/it]\n",
      "Days Loop for campaign-2:   0%|          | 0/7 [00:00<?, ?it/s]\u001b[A\n",
      "Days Loop for campaign-2:  14%|█▍        | 1/7 [00:00<00:00,  7.15it/s]\u001b[A\n",
      "Days Loop for campaign-2:  29%|██▊       | 2/7 [00:00<00:00,  7.40it/s]\u001b[A\n",
      "Days Loop for campaign-2:  43%|████▎     | 3/7 [00:00<00:00,  6.98it/s]\u001b[A\n",
      "Days Loop for campaign-2:  57%|█████▋    | 4/7 [00:00<00:00,  6.82it/s]\u001b[A\n",
      "Days Loop for campaign-2:  71%|███████▏  | 5/7 [00:00<00:00,  7.02it/s]\u001b[A\n",
      "Days Loop for campaign-2:  86%|████████▌ | 6/7 [00:00<00:00,  7.30it/s]\u001b[A\n",
      "Days Loop for campaign-2: 100%|██████████| 7/7 [00:00<00:00,  7.22it/s]\u001b[A\n",
      "Campaigns Loop:  70%|███████   | 7/10 [00:09<00:03,  1.20s/it]\n",
      "Days Loop for campaign-1:   0%|          | 0/7 [00:00<?, ?it/s]\u001b[A\n",
      "Days Loop for campaign-1:  14%|█▍        | 1/7 [00:00<00:00,  9.78it/s]\u001b[A\n",
      "Days Loop for campaign-1:  43%|████▎     | 3/7 [00:00<00:00, 11.23it/s]\u001b[A\n",
      "Days Loop for campaign-1:  71%|███████▏  | 5/7 [00:00<00:00,  9.10it/s]\u001b[A\n",
      "Days Loop for campaign-1:  86%|████████▌ | 6/7 [00:00<00:00,  8.55it/s]\u001b[A\n",
      "Days Loop for campaign-1: 100%|██████████| 7/7 [00:00<00:00,  8.76it/s]\u001b[A\n",
      "Campaigns Loop:  80%|████████  | 8/10 [00:09<00:02,  1.07s/it]\n",
      "Days Loop for campaign-3:   0%|          | 0/7 [00:00<?, ?it/s]\u001b[A\n",
      "Days Loop for campaign-3:  29%|██▊       | 2/7 [00:00<00:00, 11.40it/s]\u001b[A\n",
      "Days Loop for campaign-3:  57%|█████▋    | 4/7 [00:00<00:00,  8.24it/s]\u001b[A\n",
      "Days Loop for campaign-3:  71%|███████▏  | 5/7 [00:00<00:00,  6.99it/s]\u001b[A\n",
      "Days Loop for campaign-3:  86%|████████▌ | 6/7 [00:00<00:00,  6.48it/s]\u001b[A\n",
      "Days Loop for campaign-3: 100%|██████████| 7/7 [00:01<00:00,  6.91it/s]\u001b[A\n",
      "Campaigns Loop:  90%|█████████ | 9/10 [00:10<00:01,  1.06s/it]\n",
      "Days Loop for campaign-8:   0%|          | 0/7 [00:00<?, ?it/s]\u001b[A\n",
      "Days Loop for campaign-8:  14%|█▍        | 1/7 [00:00<00:00,  9.58it/s]\u001b[A\n",
      "Days Loop for campaign-8:  43%|████▎     | 3/7 [00:00<00:00, 11.92it/s]\u001b[A\n",
      "Days Loop for campaign-8:  71%|███████▏  | 5/7 [00:00<00:00,  9.68it/s]\u001b[A\n",
      "Days Loop for campaign-8: 100%|██████████| 7/7 [00:00<00:00,  8.90it/s]\u001b[A\n",
      "Campaigns Loop: 100%|██████████| 10/10 [00:11<00:00,  1.17s/it]"
     ]
    },
    {
     "name": "stdout",
     "output_type": "stream",
     "text": [
      "CPU times: user 10.6 s, sys: 208 ms, total: 10.8 s\n",
      "Wall time: 11.7 s\n"
     ]
    },
    {
     "name": "stderr",
     "output_type": "stream",
     "text": [
      "\n"
     ]
    }
   ],
   "source": [
    "%%time\n",
    "X_cuhd = np.zeros((MP.C,MP.U,MP.H,MP.D), dtype='int')\n",
    "for c in tqdm(np.argsort(-MP.rp_c), desc=\"Campaigns Loop\"):\n",
    "    for d in trange(MP.D, desc=f\"Days Loop for campaign-{c}\"):\n",
    "        for h in range(MP.H):#trange(H, desc=f\"Channels Loop at Day-{d}, Campapaign-{c}\"):\n",
    "            for u in range(MP.U):#trange(U, desc=f\"Users Loop On Campaign-{c}\"):\n",
    "                X_cuhd[c,u,h,d]=1\n",
    "                if not mdl.execute(X_cuhd, (c, u, h, d)):\n",
    "                    X_cuhd[c,u,h,d]=0\n"
   ]
  },
  {
   "cell_type": "code",
   "execution_count": 23,
   "metadata": {},
   "outputs": [
    {
     "name": "stdout",
     "output_type": "stream",
     "text": [
      "('eligibility', 210000)\n",
      "('channel_capacity', 103404)\n",
      "('daily_limitation', 77367)\n",
      "('weekly_limitation', 77307)\n",
      "('campaign_limitation', 52456)\n",
      "('daily_quota', 30928)\n",
      "('one_channel', 19247)\n",
      "('weekly_quota', 18934)\n"
     ]
    }
   ],
   "source": [
    "for s in mdl.stats():\n",
    "    print(s)"
   ]
  },
  {
   "cell_type": "code",
   "execution_count": 24,
   "metadata": {},
   "outputs": [
    {
     "data": {
      "text/plain": [
       "6627"
      ]
     },
     "metadata": {},
     "output_type": "display_data"
    },
    {
     "data": {
      "text/plain": [
       "259664"
      ]
     },
     "metadata": {},
     "output_type": "display_data"
    }
   ],
   "source": [
    "display(X_cuhd.sum())\n",
    "display(mdl.calc_value(X_cuhd))"
   ]
  },
  {
   "cell_type": "markdown",
   "metadata": {},
   "source": [
    "##### - check criterion"
   ]
  },
  {
   "cell_type": "markdown",
   "metadata": {},
   "source": [
    "- Sort Campaigns by rp_c\n",
    "- Map every criteria to function"
   ]
  }
 ],
 "metadata": {
  "kernelspec": {
   "display_name": "Python 3",
   "language": "python",
   "name": "python3"
  },
  "language_info": {
   "codemirror_mode": {
    "name": "ipython",
    "version": 3
   },
   "file_extension": ".py",
   "mimetype": "text/x-python",
   "name": "python",
   "nbconvert_exporter": "python",
   "pygments_lexer": "ipython3",
   "version": "3.7.9"
  }
 },
 "nbformat": 4,
 "nbformat_minor": 4
}
