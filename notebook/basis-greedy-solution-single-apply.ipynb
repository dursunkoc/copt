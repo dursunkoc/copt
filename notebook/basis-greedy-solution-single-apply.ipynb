{
 "cells": [
  {
   "cell_type": "code",
   "execution_count": 37,
   "metadata": {},
   "outputs": [],
   "source": [
    "import sys\n",
    "import os\n",
    "sys.path.insert(0, os.path.abspath('../src'))"
   ]
  },
  {
   "cell_type": "code",
   "execution_count": 38,
   "metadata": {},
   "outputs": [],
   "source": [
    "import numpy as np\n",
    "from tqdm.notebook import trange\n",
    "from tqdm.notebook import tqdm\n",
    "\n",
    "import model\n",
    "import model_parameters as MP"
   ]
  },
  {
   "cell_type": "markdown",
   "metadata": {},
   "source": [
    "## Mathematical Model"
   ]
  },
  {
   "cell_type": "markdown",
   "metadata": {},
   "source": [
    "#### Sets\n",
    "- C\tSet of campaigns.\n",
    "- U\tSet of customers.\n",
    "- H\tSet of channels\n",
    "- D\tSet of planning days.\n",
    "- I\tSet of quota categories.\n",
    "- P\tSet of priority categories.\n"
   ]
  },
  {
   "cell_type": "code",
   "execution_count": 39,
   "metadata": {},
   "outputs": [],
   "source": [
    "C = 10 # number of campaigns\n",
    "U = 1000 # number of customers.\n",
    "H = 3 # number of channels.\n",
    "D = 7 # number of planning days.\n",
    "I = 3 # number of quota categories.\n",
    "P = 10 # number of priority categories."
   ]
  },
  {
   "cell_type": "code",
   "execution_count": 40,
   "metadata": {},
   "outputs": [
    {
     "name": "stdout",
     "output_type": "stream",
     "text": [
      "number of campaigns 10\n",
      "number of customers 1000\n",
      "number of channels 3\n",
      "number of planning days 7\n",
      "number of quota categories 3\n",
      "number of priority categories 10\n"
     ]
    }
   ],
   "source": [
    "print(f\"number of campaigns {C}\") #70 -camp.\n",
    "print(f\"number of customers {U}\") #20.000.000 non-distinct\n",
    "print(f\"number of channels {H}\") #6-7 h. --Drop\n",
    "print(f\"number of planning days {D}\")\n",
    "print(f\"number of quota categories {I}\")\n",
    "print(f\"number of priority categories {P}\")"
   ]
  },
  {
   "cell_type": "markdown",
   "metadata": {},
   "source": [
    "#### Parameters"
   ]
  },
  {
   "cell_type": "markdown",
   "metadata": {},
   "source": [
    "##### - eligibility\n",
    "$$\n",
    "e_{cu}\\left\\{\\begin{array}\\\\\n",
    "        1 & \\mbox{if }  customer\\ u\\ is\\ eligible\\ for\\ campaign\\ c\\\\\n",
    "        0 & \\mbox{otherwise } \\\\\n",
    "    \\end{array}\n",
    "\\right.\n",
    "$$"
   ]
  },
  {
   "cell_type": "code",
   "execution_count": 43,
   "metadata": {},
   "outputs": [
    {
     "data": {
      "text/plain": [
       "array([[0, 0, 1, ..., 1, 0, 0],\n",
       "       [1, 1, 0, ..., 0, 1, 1],\n",
       "       [0, 1, 1, ..., 1, 0, 0],\n",
       "       ...,\n",
       "       [1, 1, 0, ..., 0, 1, 1],\n",
       "       [1, 0, 1, ..., 0, 0, 0],\n",
       "       [0, 1, 1, ..., 0, 0, 1]])"
      ]
     },
     "execution_count": 43,
     "metadata": {},
     "output_type": "execute_result"
    }
   ],
   "source": [
    "e_cu = np.random.choice(2,(C, U)) #e_cu = np.ones((C, U), dtype='int8')\n",
    "e_cu"
   ]
  },
  {
   "cell_type": "markdown",
   "metadata": {},
   "source": [
    "##### - quota categories\n",
    "$$\n",
    "q_{ic}\\left\\{\\begin{array}\\\\\n",
    "        1 & \\mbox{if }  campaign\\ c\\ is\\ a\\ i^{th} type\\ quota\\ category\\ campaign\\ \\\\\n",
    "        0 & \\mbox{otherwise } \\\\\n",
    "    \\end{array}\n",
    "\\right.\n",
    "$$"
   ]
  },
  {
   "cell_type": "code",
   "execution_count": 44,
   "metadata": {},
   "outputs": [
    {
     "data": {
      "text/plain": [
       "array([[1, 1, 0, 1, 1, 1, 1, 1, 0, 0],\n",
       "       [1, 0, 0, 0, 1, 0, 1, 1, 0, 0],\n",
       "       [0, 1, 1, 0, 1, 0, 0, 1, 1, 1]])"
      ]
     },
     "execution_count": 44,
     "metadata": {},
     "output_type": "execute_result"
    }
   ],
   "source": [
    "q_ic = np.random.choice(2, (I,C)) #q_ic = np.zeros((I,C), dtype='int8')\n",
    "q_ic"
   ]
  },
  {
   "cell_type": "markdown",
   "metadata": {},
   "source": [
    "##### - priority categories\n",
    "$$r_{cp}: Priority\\ value\\ of\\ campaign\\ c\\ regarding\\ priority\\ type\\ p\\$$"
   ]
  },
  {
   "cell_type": "code",
   "execution_count": 45,
   "metadata": {},
   "outputs": [
    {
     "data": {
      "text/plain": [
       "array([19, 11, 17, 17,  0, 19, 35, 11, 97, 43])"
      ]
     },
     "execution_count": 45,
     "metadata": {},
     "output_type": "execute_result"
    }
   ],
   "source": [
    "r_p = np.random.choice(100, P) #r_p = np.ones(P, dtype='int8')\n",
    "rp_c = np.array([r_p[r] for r in np.random.choice(P, C)])\n",
    "\n",
    "rp_c"
   ]
  },
  {
   "cell_type": "markdown",
   "metadata": {},
   "source": [
    "##### - blokage\n",
    "$$b: Communication\\ limit\\ per\\ person\\ for\\ the\\ whole\\ period\\$$"
   ]
  },
  {
   "cell_type": "code",
   "execution_count": 46,
   "metadata": {},
   "outputs": [
    {
     "data": {
      "text/plain": [
       "7"
      ]
     },
     "execution_count": 46,
     "metadata": {},
     "output_type": "execute_result"
    }
   ],
   "source": [
    "b = 7\n",
    "b"
   ]
  },
  {
   "cell_type": "markdown",
   "metadata": {},
   "source": [
    "##### - daily blokage\n",
    "$$k: Communication\\ limit\\ per\\ person\\ at\\ each\\ day\\$$"
   ]
  },
  {
   "cell_type": "code",
   "execution_count": 47,
   "metadata": {
    "scrolled": true
   },
   "outputs": [
    {
     "data": {
      "text/plain": [
       "3"
      ]
     },
     "execution_count": 47,
     "metadata": {},
     "output_type": "execute_result"
    }
   ],
   "source": [
    "k = 3\n",
    "k"
   ]
  },
  {
   "cell_type": "markdown",
   "metadata": {},
   "source": [
    "##### - campaign blockage\n",
    "$$l_c: Communication\\ limit\\ per\\ person\\ for\\ campaign\\ c\\$$"
   ]
  },
  {
   "cell_type": "code",
   "execution_count": 48,
   "metadata": {
    "scrolled": true
   },
   "outputs": [
    {
     "data": {
      "text/plain": [
       "array([4, 3, 4, 4, 3, 2, 4, 4, 3, 3])"
      ]
     },
     "execution_count": 48,
     "metadata": {},
     "output_type": "execute_result"
    }
   ],
   "source": [
    "l_c = np.random.choice([2,3,4],C)\n",
    "l_c"
   ]
  },
  {
   "cell_type": "markdown",
   "metadata": {},
   "source": [
    "##### - quota limitations daily/weekly\n",
    "$$\n",
    "m_i: Communication\\ limit\\ per\\ person\\ for\\ i^{th}\\ category\\\n",
    "$$\n",
    "$$\n",
    "n_i: Communication\\ limit\\ per\\ person\\ for\\ i^{th}\\ category\\ each\\ day\\\n",
    "$$"
   ]
  },
  {
   "cell_type": "code",
   "execution_count": 49,
   "metadata": {},
   "outputs": [
    {
     "data": {
      "text/plain": [
       "(array([5, 4, 3]), array([3, 3, 1]))"
      ]
     },
     "execution_count": 49,
     "metadata": {},
     "output_type": "execute_result"
    }
   ],
   "source": [
    "m_i = np.random.choice([4,3,5],I)#m_i = np.ones((I), dtype='int8')*10\n",
    "n_i = np.random.choice([1,3,2],I)#n_i = np.ones((I), dtype='int8')*10\n",
    "(m_i, n_i)"
   ]
  },
  {
   "cell_type": "markdown",
   "metadata": {},
   "source": [
    "#### - capacity for channel\n",
    "$$\n",
    "t_{h,d}: Capacity\\ for\\ channel\\ h\\ at\\ day\\ d.\\\n",
    "$$"
   ]
  },
  {
   "cell_type": "code",
   "execution_count": 50,
   "metadata": {
    "scrolled": true
   },
   "outputs": [
    {
     "data": {
      "text/plain": [
       "array([[700., 700., 700., 500., 600., 500., 500.],\n",
       "       [600., 700., 500., 700., 600., 500., 500.],\n",
       "       [700., 500., 700., 600., 500., 700., 700.]])"
      ]
     },
     "execution_count": 50,
     "metadata": {},
     "output_type": "execute_result"
    }
   ],
   "source": [
    "t_hd = np.random.choice([U*.7, U*.6, U*.5], (H, D))\n",
    "t_hd"
   ]
  },
  {
   "cell_type": "markdown",
   "metadata": {},
   "source": [
    "# Model"
   ]
  },
  {
   "cell_type": "markdown",
   "metadata": {},
   "source": [
    "#### Variables\n",
    "$$\n",
    "X_{cuhd}\\left\\{\\begin{array}\\\\\n",
    "        1 & \\mbox{if } Campaign\\ c\\ will\\ be\\ sent\\ to\\ customer\\ u\\ through\\ Channel\\ h\\ at\\ Day\\ d \\\\\n",
    "        0 & \\mbox{otherwise } \\\\\n",
    "    \\end{array}\n",
    "\\right.\n",
    "$$"
   ]
  },
  {
   "cell_type": "markdown",
   "metadata": {},
   "source": [
    "## Maximize\n",
    "$$\\sum_{p \\in P}\\sum_{c \\in C}\\sum_{u \\in U}\\sum_{h \\in H}\\sum_{d \\in D}\\,X_{cuhd}\\ r_{cp}$$"
   ]
  },
  {
   "cell_type": "markdown",
   "metadata": {},
   "source": [
    "##### Binary variable (10)\n",
    "$$\n",
    "X_{cuhd} \\in \\{ 1,0 \\},\\hspace{35pt} \\forall c \\in C ,\\forall u \\in U,\\forall d \\in D, \\forall h \\in H\n",
    "$$"
   ]
  },
  {
   "cell_type": "code",
   "execution_count": 12,
   "metadata": {},
   "outputs": [],
   "source": [
    "X_cuhd = np.zeros((MP.C,MP.U,MP.H,MP.D), dtype='int')"
   ]
  },
  {
   "cell_type": "markdown",
   "metadata": {},
   "source": [
    "## subject to"
   ]
  },
  {
   "cell_type": "markdown",
   "metadata": {},
   "source": [
    "##### - eligibility (2)\n",
    "\n",
    "$$\n",
    "X_{cuhd}  \\leq e_{cu},\\hspace{35pt} \\forall h \\in H,\\forall d \\in D\n",
    "$$"
   ]
  },
  {
   "cell_type": "markdown",
   "metadata": {},
   "source": [
    "##### - use one channel (3)\n",
    "$$\n",
    "\\sum_{h}X_{cuhd} \\le 1,\\hspace{35pt} \\forall c \\in C \\, \\forall u \\in U,\\forall d \\in D\n",
    "$$"
   ]
  },
  {
   "cell_type": "markdown",
   "metadata": {},
   "source": [
    "##### - weekly communication limitation (4)\n",
    "$$\n",
    "\\sum_{h \\in H}\\sum_{c \\in C}\\sum_{d \\in D} X_{cuhd}\\le b,\\hspace{35pt} \\forall u \\in U\n",
    "$$"
   ]
  },
  {
   "cell_type": "markdown",
   "metadata": {},
   "source": [
    "##### - daily communication limitation (5)\n",
    "$$\n",
    "\\sum_{h \\in H}\\sum_{c \\in C} X_{cuhd}\\le k,\\hspace{35pt} \\forall u \\in U, \\forall d \\in D\n",
    "$$"
   ]
  },
  {
   "cell_type": "markdown",
   "metadata": {},
   "source": [
    "##### - campaign communication limit(6)\n",
    "$$\n",
    "\\sum_{d \\in D}\\sum_{h \\in H} X_{cuhd}\\le l_c,\\hspace{35pt} \\forall c \\in C,\\forall u \\in U;\n",
    "$$"
   ]
  },
  {
   "cell_type": "markdown",
   "metadata": {},
   "source": [
    "##### - weekly quota(7)\n",
    "$$\n",
    "\\sum_{d \\in D}\\sum_{h \\in H}\\sum_{c \\in C}{X_{cuhd} q_{ic}}\\le m_i,\\hspace{35pt} \\forall u \\in U, \\forall i \\in I\n",
    "$$"
   ]
  },
  {
   "cell_type": "markdown",
   "metadata": {},
   "source": [
    "##### - daily quota(8)\n",
    "$$\n",
    "\\sum_{h \\in H}\\sum_{c \\in C}{X_{cuhd} q_{ic}}\\le n_i,\\hspace{35pt} \\forall u \\in U,\\, \\forall d \\in D, \\forall i \\in I\n",
    "$$"
   ]
  },
  {
   "cell_type": "markdown",
   "metadata": {},
   "source": [
    "##### Channel capacity (9)\n",
    "$$\n",
    "\\sum_{c \\in C}\\sum_{u \\in U}{X_{cuhd}}\\le t_{hd},\\hspace{35pt} \\forall d \\in D,\\, \\forall h \\in H\n",
    "$$"
   ]
  },
  {
   "cell_type": "code",
   "execution_count": 13,
   "metadata": {},
   "outputs": [
    {
     "data": {
      "text/plain": [
       "<function model_parameters.<lambda>(X, c, u, h, d)>"
      ]
     },
     "execution_count": 13,
     "metadata": {},
     "output_type": "execute_result"
    }
   ],
   "source": [
    "eligibility = lambda X, c, u, h, d: X[c,u,h,d]<=e_cu[c,u]\n",
    "weekly_limitation = lambda X, u: X[:,u,:,:].sum() <= b\n",
    "daily_limitation = lambda X, u, d: X[:,u,:,d].sum() <= k\n",
    "campaign_limitation = lambda X, c, u: X[c,u,:,:].sum() <= l_c[c]\n",
    "weekly_quota = lambda X, u: all((q_ic * X[:,u,:,:].sum(axis=(1,2))).sum(axis=1)<=m_i)\n",
    "daily_quota = lambda X, u, d: all((q_ic * X[:,u,:,d].sum(axis=(1))).sum(axis=1)<=n_i)\n",
    "channel_capacity = lambda X, h, d: X[:,:,h,d].sum() <= t_hd[h,d]"
   ]
  },
  {
   "cell_type": "code",
   "execution_count": 21,
   "metadata": {},
   "outputs": [],
   "source": [
    "#eligibility = lambda X, c, u, h, d: X[c,u,h,d]<=e_cu[c,u]\n",
    "#channel_capacity = lambda X, h, d: X[:,:,h,d].sum() <= t_hd[h,d]\n",
    "#weekly_limitation = lambda X, u: X[:,u,:,:].sum() <= b\n",
    "#daily_limitation = lambda X, u, d: X[:,u,:,d].sum() <= k\n",
    "#campaign_limitation = lambda X, c, u: X[c,u,:,:].sum() <= l_c[c]\n",
    "#one_channel = lambda X, c, u, d: X[c,u,:,d].sum() <= 1\n",
    "#weekly_quota = lambda X, u: np.all(q_ic[:,c] * X[c,u,:,:].sum()<=m_i)\n",
    "#daily_quota = lambda X, u, d: np.all(q_ic[:,c] * X[c,u,:,d].sum()<=n_i)\n",
    "\n",
    "c_i = 0\n",
    "u_i = 1\n",
    "h_i = 2\n",
    "d_i = 3\n",
    "\n",
    "mdl = model.Model([\n",
    "    model.Constraint('eligibility',MP.eligibility, (c_i, u_i, h_i, d_i,)),\n",
    "    model.Constraint('channel_capacity',MP.channel_capacity, (h_i, d_i,)),\n",
    "    model.Constraint('daily_limitation',MP.daily_limitation, (u_i, d_i,)),\n",
    "    model.Constraint('weekly_limitation',MP.weekly_limitation, (u_i,)),\n",
    "    model.Constraint('campaign_limitation',MP.campaign_limitation, (c_i, u_i,)),\n",
    "    model.Constraint('daily_quota',MP.daily_quota, (u_i, d_i,)),\n",
    "    model.Constraint('one_channel',MP.one_channel, (c_i, u_i, d_i,)),\n",
    "    model.Constraint('weekly_quota',MP.weekly_quota, (u_i,))\n",
    "], MP.objective_fn)"
   ]
  },
  {
   "cell_type": "code",
   "execution_count": 56,
   "metadata": {},
   "outputs": [],
   "source": [
    "X_vuhd = np.zeros((2,4,6,8), dtype='int')"
   ]
  },
  {
   "cell_type": "code",
   "execution_count": 66,
   "metadata": {},
   "outputs": [],
   "source": [
    "def mdlExec(*args):\n",
    "    return True"
   ]
  },
  {
   "cell_type": "code",
   "execution_count": 68,
   "metadata": {},
   "outputs": [
    {
     "name": "stdout",
     "output_type": "stream",
     "text": [
      "69.9 µs ± 3.38 µs per loop (mean ± std. dev. of 7 runs, 10000 loops each)\n"
     ]
    }
   ],
   "source": [
    "%%timeit\n",
    "X_v = np.vectorize(mdlExec)(X_vuhd)"
   ]
  },
  {
   "cell_type": "code",
   "execution_count": 71,
   "metadata": {},
   "outputs": [
    {
     "name": "stdout",
     "output_type": "stream",
     "text": [
      "171 µs ± 6.58 µs per loop (mean ± std. dev. of 7 runs, 10000 loops each)\n"
     ]
    }
   ],
   "source": [
    "%%timeit\n",
    "X_v = [mdlExec(X_vuhd[v,u,h,d]) for v in range(2)  for u in range(4)  for h in range(6)  for d in range(8)]\n",
    "                "
   ]
  },
  {
   "cell_type": "code",
   "execution_count": null,
   "metadata": {},
   "outputs": [],
   "source": [
    "X_v = [mdlExec(X_vuhd[v,u,h,d]) for v in range(2)  for u in range(4)  for h in range(6)  for d in range(8)]\n"
   ]
  },
  {
   "cell_type": "code",
   "execution_count": 22,
   "metadata": {},
   "outputs": [
    {
     "data": {
      "application/vnd.jupyter.widget-view+json": {
       "model_id": "660a1358df834d2caf1fa860cdb1f8a0",
       "version_major": 2,
       "version_minor": 0
      },
      "text/plain": [
       "Campaigns Loop:   0%|          | 0/10 [00:00<?, ?it/s]"
      ]
     },
     "metadata": {},
     "output_type": "display_data"
    },
    {
     "data": {
      "application/vnd.jupyter.widget-view+json": {
       "model_id": "789985af6bad44bab7ad4a9e83b8b5ba",
       "version_major": 2,
       "version_minor": 0
      },
      "text/plain": [
       "Days Loop for campaign-2:   0%|          | 0/7 [00:00<?, ?it/s]"
      ]
     },
     "metadata": {},
     "output_type": "display_data"
    },
    {
     "data": {
      "application/vnd.jupyter.widget-view+json": {
       "model_id": "8750b4e4936042e68d0290356986775f",
       "version_major": 2,
       "version_minor": 0
      },
      "text/plain": [
       "Days Loop for campaign-9:   0%|          | 0/7 [00:00<?, ?it/s]"
      ]
     },
     "metadata": {},
     "output_type": "display_data"
    },
    {
     "data": {
      "application/vnd.jupyter.widget-view+json": {
       "model_id": "ac147c434fb4466cb3092480ba052edd",
       "version_major": 2,
       "version_minor": 0
      },
      "text/plain": [
       "Days Loop for campaign-7:   0%|          | 0/7 [00:00<?, ?it/s]"
      ]
     },
     "metadata": {},
     "output_type": "display_data"
    },
    {
     "data": {
      "application/vnd.jupyter.widget-view+json": {
       "model_id": "9df0733f06de454f8d29bf8b25390372",
       "version_major": 2,
       "version_minor": 0
      },
      "text/plain": [
       "Days Loop for campaign-3:   0%|          | 0/7 [00:00<?, ?it/s]"
      ]
     },
     "metadata": {},
     "output_type": "display_data"
    },
    {
     "data": {
      "application/vnd.jupyter.widget-view+json": {
       "model_id": "03399d62e9a8449482f53d74fb88bd23",
       "version_major": 2,
       "version_minor": 0
      },
      "text/plain": [
       "Days Loop for campaign-5:   0%|          | 0/7 [00:00<?, ?it/s]"
      ]
     },
     "metadata": {},
     "output_type": "display_data"
    },
    {
     "data": {
      "application/vnd.jupyter.widget-view+json": {
       "model_id": "eef413721bfc4a6f8c1d91b8a0fd054f",
       "version_major": 2,
       "version_minor": 0
      },
      "text/plain": [
       "Days Loop for campaign-6:   0%|          | 0/7 [00:00<?, ?it/s]"
      ]
     },
     "metadata": {},
     "output_type": "display_data"
    },
    {
     "data": {
      "application/vnd.jupyter.widget-view+json": {
       "model_id": "acd46849f39b44ee8f715fa554fd47c9",
       "version_major": 2,
       "version_minor": 0
      },
      "text/plain": [
       "Days Loop for campaign-8:   0%|          | 0/7 [00:00<?, ?it/s]"
      ]
     },
     "metadata": {},
     "output_type": "display_data"
    },
    {
     "data": {
      "application/vnd.jupyter.widget-view+json": {
       "model_id": "ce5f87fe2e224d35a2229b6f68402ca6",
       "version_major": 2,
       "version_minor": 0
      },
      "text/plain": [
       "Days Loop for campaign-1:   0%|          | 0/7 [00:00<?, ?it/s]"
      ]
     },
     "metadata": {},
     "output_type": "display_data"
    },
    {
     "data": {
      "application/vnd.jupyter.widget-view+json": {
       "model_id": "50e43e96a1994b22991c0a3ab1c5f3c2",
       "version_major": 2,
       "version_minor": 0
      },
      "text/plain": [
       "Days Loop for campaign-0:   0%|          | 0/7 [00:00<?, ?it/s]"
      ]
     },
     "metadata": {},
     "output_type": "display_data"
    },
    {
     "data": {
      "application/vnd.jupyter.widget-view+json": {
       "model_id": "3ef204ab811144d0bd70a145784638ab",
       "version_major": 2,
       "version_minor": 0
      },
      "text/plain": [
       "Days Loop for campaign-4:   0%|          | 0/7 [00:00<?, ?it/s]"
      ]
     },
     "metadata": {},
     "output_type": "display_data"
    },
    {
     "name": "stdout",
     "output_type": "stream",
     "text": [
      "Wall time: 5.7 s\n"
     ]
    }
   ],
   "source": [
    "%%time\n",
    "X_cuhd = np.zeros((MP.C,MP.U,MP.H,MP.D), dtype='int')\n",
    "\n",
    "def \n",
    "for c in tqdm(np.argsort(-MP.rp_c), desc=\"Campaigns Loop\"):\n",
    "    for d in trange(MP.D, desc=f\"Days Loop for campaign-{c}\"):\n",
    "        for h in range(MP.H):#trange(H, desc=f\"Channels Loop at Day-{d}, Campapaign-{c}\"):\n",
    "            for u in range(MP.U):#trange(U, desc=f\"Users Loop On Campaign-{c}\"):\n",
    "                if not mdl.execute(X_cuhd, (c, u, h, d)):\n",
    "                    "
   ]
  },
  {
   "cell_type": "code",
   "execution_count": 23,
   "metadata": {},
   "outputs": [
    {
     "name": "stdout",
     "output_type": "stream",
     "text": [
      "('eligibility', 210000)\n",
      "('channel_capacity', 105777)\n",
      "('daily_limitation', 75945)\n",
      "('weekly_limitation', 75871)\n",
      "('campaign_limitation', 46647)\n",
      "('daily_quota', 26622)\n",
      "('one_channel', 12744)\n",
      "('weekly_quota', 12406)\n"
     ]
    }
   ],
   "source": [
    "for s in mdl.stats():\n",
    "    print(s)"
   ]
  },
  {
   "cell_type": "code",
   "execution_count": 24,
   "metadata": {},
   "outputs": [
    {
     "data": {
      "text/plain": [
       "6776"
      ]
     },
     "metadata": {},
     "output_type": "display_data"
    },
    {
     "data": {
      "text/plain": [
       "483213"
      ]
     },
     "metadata": {},
     "output_type": "display_data"
    }
   ],
   "source": [
    "display(X_cuhd.sum())\n",
    "display(mdl.calc_value(X_cuhd))"
   ]
  },
  {
   "cell_type": "markdown",
   "metadata": {},
   "source": [
    "##### - check criterion"
   ]
  },
  {
   "cell_type": "markdown",
   "metadata": {},
   "source": [
    "- Sort Campaigns by rp_c\n",
    "- Map every criteria to function"
   ]
  }
 ],
 "metadata": {
  "kernelspec": {
   "display_name": "Python 3",
   "language": "python",
   "name": "python3"
  },
  "language_info": {
   "codemirror_mode": {
    "name": "ipython",
    "version": 3
   },
   "file_extension": ".py",
   "mimetype": "text/x-python",
   "name": "python",
   "nbconvert_exporter": "python",
   "pygments_lexer": "ipython3",
   "version": "3.7.3"
  }
 },
 "nbformat": 4,
 "nbformat_minor": 4
}
