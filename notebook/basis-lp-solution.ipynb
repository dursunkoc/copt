{
 "cells": [
  {
   "cell_type": "code",
   "execution_count": 1,
   "metadata": {},
   "outputs": [],
   "source": [
    "import sys\n",
    "import os\n",
    "sys.path.insert(0, os.path.abspath('../src'))\n",
    "\n",
    "\n",
    "import numpy as np\n",
    "from tqdm.notebook import trange\n",
    "from tqdm.notebook import tqdm\n",
    "from docplex.mp.model import Model\n",
    "\n",
    "import model\n",
    "import model_parameters as MP"
   ]
  },
  {
   "cell_type": "markdown",
   "metadata": {},
   "source": [
    "## Mathematical Model"
   ]
  },
  {
   "cell_type": "markdown",
   "metadata": {},
   "source": [
    "#### Sets\n",
    "- C\tSet of campaigns.\n",
    "- U\tSet of customers.\n",
    "- H\tSet of channels\n",
    "- D\tSet of planning days.\n",
    "- I\tSet of quota categories.\n",
    "- P\tSet of priority categories.\n"
   ]
  },
  {
   "cell_type": "code",
   "execution_count": 2,
   "metadata": {},
   "outputs": [
    {
     "name": "stdout",
     "output_type": "stream",
     "text": [
      "number of campaigns 10\n",
      "number of customers 10000\n",
      "number of channels 3\n",
      "number of planning days 7\n",
      "number of quota categories 3\n",
      "number of priority categories 10\n"
     ]
    }
   ],
   "source": [
    "print(f\"number of campaigns {MP.C}\")\n",
    "print(f\"number of customers {MP.U}\")\n",
    "print(f\"number of channels {MP.H}\")\n",
    "print(f\"number of planning days {MP.D}\")\n",
    "print(f\"number of quota categories {MP.I}\")\n",
    "print(f\"number of priority categories {MP.P}\")"
   ]
  },
  {
   "cell_type": "markdown",
   "metadata": {},
   "source": [
    "#### Parameters"
   ]
  },
  {
   "cell_type": "markdown",
   "metadata": {},
   "source": [
    "##### - eligibility\n",
    "$$\n",
    "e_{cu}\\left\\{\\begin{array}\\\\\n",
    "        1 & \\mbox{if }  customer\\ u\\ is\\ eligible\\ for\\ campaign\\ c\\\\\n",
    "        0 & \\mbox{otherwise } \\\\\n",
    "    \\end{array}\n",
    "\\right.\n",
    "$$"
   ]
  },
  {
   "cell_type": "code",
   "execution_count": 3,
   "metadata": {},
   "outputs": [
    {
     "data": {
      "text/plain": [
       "array([[0, 0, 0, ..., 0, 1, 1],\n",
       "       [1, 0, 0, ..., 0, 0, 1],\n",
       "       [0, 1, 0, ..., 1, 1, 1],\n",
       "       ...,\n",
       "       [1, 0, 1, ..., 1, 1, 0],\n",
       "       [1, 1, 0, ..., 1, 1, 0],\n",
       "       [0, 1, 1, ..., 1, 0, 0]])"
      ]
     },
     "execution_count": 3,
     "metadata": {},
     "output_type": "execute_result"
    }
   ],
   "source": [
    "MP.e_cu"
   ]
  },
  {
   "cell_type": "markdown",
   "metadata": {},
   "source": [
    "##### - quota categories\n",
    "$$\n",
    "q_{ic}\\left\\{\\begin{array}\\\\\n",
    "        1 & \\mbox{if }  campaign\\ c\\ is\\ a\\ i^{th} type\\ quota\\ category\\ campaign\\ \\\\\n",
    "        0 & \\mbox{otherwise } \\\\\n",
    "    \\end{array}\n",
    "\\right.\n",
    "$$"
   ]
  },
  {
   "cell_type": "code",
   "execution_count": 4,
   "metadata": {},
   "outputs": [
    {
     "data": {
      "text/plain": [
       "array([[0, 1, 1, 0, 1, 0, 0, 0, 0, 0],\n",
       "       [0, 1, 0, 1, 1, 0, 0, 0, 0, 1],\n",
       "       [0, 1, 0, 1, 1, 1, 0, 1, 0, 0]])"
      ]
     },
     "execution_count": 4,
     "metadata": {},
     "output_type": "execute_result"
    }
   ],
   "source": [
    "MP.q_ic"
   ]
  },
  {
   "cell_type": "markdown",
   "metadata": {},
   "source": [
    "##### - priority categories\n",
    "$$r_{cp}: Priority\\ value\\ of\\ campaign\\ c\\ regarding\\ priority\\ type\\ p\\$$"
   ]
  },
  {
   "cell_type": "code",
   "execution_count": 5,
   "metadata": {},
   "outputs": [
    {
     "data": {
      "text/plain": [
       "array([69, 43, 43, 87, 92, 78, 43, 43, 19, 43])"
      ]
     },
     "execution_count": 5,
     "metadata": {},
     "output_type": "execute_result"
    }
   ],
   "source": [
    "MP.rp_c"
   ]
  },
  {
   "cell_type": "markdown",
   "metadata": {},
   "source": [
    "##### - blokage\n",
    "$$b: Communication\\ limit\\ per\\ person\\ for\\ the\\ whole\\ period\\$$"
   ]
  },
  {
   "cell_type": "code",
   "execution_count": 6,
   "metadata": {},
   "outputs": [
    {
     "data": {
      "text/plain": [
       "7"
      ]
     },
     "execution_count": 6,
     "metadata": {},
     "output_type": "execute_result"
    }
   ],
   "source": [
    "MP.b"
   ]
  },
  {
   "cell_type": "markdown",
   "metadata": {},
   "source": [
    "##### - daily blokage\n",
    "$$k: Communication\\ limit\\ per\\ person\\ at\\ each\\ day\\$$"
   ]
  },
  {
   "cell_type": "code",
   "execution_count": 7,
   "metadata": {},
   "outputs": [
    {
     "data": {
      "text/plain": [
       "3"
      ]
     },
     "execution_count": 7,
     "metadata": {},
     "output_type": "execute_result"
    }
   ],
   "source": [
    "MP.k"
   ]
  },
  {
   "cell_type": "markdown",
   "metadata": {},
   "source": [
    "##### - campaign blockage\n",
    "$$l_c: Communication\\ limit\\ per\\ person\\ for\\ campaign\\ c\\$$"
   ]
  },
  {
   "cell_type": "code",
   "execution_count": 8,
   "metadata": {},
   "outputs": [
    {
     "data": {
      "text/plain": [
       "array([4, 4, 3, 4, 4, 4, 4, 3, 3, 2])"
      ]
     },
     "execution_count": 8,
     "metadata": {},
     "output_type": "execute_result"
    }
   ],
   "source": [
    "MP.l_c"
   ]
  },
  {
   "cell_type": "markdown",
   "metadata": {},
   "source": [
    "##### - quota limitations daily/weekly\n",
    "$$\n",
    "m_i: Communication\\ limit\\ per\\ person\\ for\\ i^{th}\\ category\\\n",
    "$$\n",
    "$$\n",
    "n_i: Communication\\ limit\\ per\\ person\\ for\\ i^{th}\\ category\\ each\\ day\\\n",
    "$$"
   ]
  },
  {
   "cell_type": "code",
   "execution_count": 9,
   "metadata": {},
   "outputs": [
    {
     "data": {
      "text/plain": [
       "(array([4, 5, 4]), array([1, 2, 2]))"
      ]
     },
     "execution_count": 9,
     "metadata": {},
     "output_type": "execute_result"
    }
   ],
   "source": [
    "(MP.m_i, MP.n_i)"
   ]
  },
  {
   "cell_type": "markdown",
   "metadata": {},
   "source": [
    "#### - capacity for channel\n",
    "$$\n",
    "t_{h,d}: Capacity\\ for\\ channel\\ h\\ at\\ day\\ d.\\\n",
    "$$"
   ]
  },
  {
   "cell_type": "code",
   "execution_count": 10,
   "metadata": {},
   "outputs": [
    {
     "data": {
      "text/plain": [
       "array([[5000., 6000., 5000., 6000., 6000., 5000., 5000.],\n",
       "       [5000., 6000., 7000., 6000., 7000., 6000., 6000.],\n",
       "       [6000., 7000., 7000., 7000., 5000., 7000., 6000.]])"
      ]
     },
     "execution_count": 10,
     "metadata": {},
     "output_type": "execute_result"
    }
   ],
   "source": [
    "MP.t_hd"
   ]
  },
  {
   "cell_type": "markdown",
   "metadata": {},
   "source": [
    "### Model"
   ]
  },
  {
   "cell_type": "code",
   "execution_count": 11,
   "metadata": {},
   "outputs": [],
   "source": [
    "mdl = Model(name='Campaign Optimization')"
   ]
  },
  {
   "cell_type": "markdown",
   "metadata": {},
   "source": [
    "#### Variables\n",
    "$$\n",
    "X_{cuhd}\\left\\{\\begin{array}\\\\\n",
    "        1 & \\mbox{if } Campaign\\ c\\ will\\ be\\ sent\\ to\\ customer\\ u\\ through\\ Channel\\ h\\ at\\ Day\\ d \\\\\n",
    "        0 & \\mbox{otherwise } \\\\\n",
    "    \\end{array}\n",
    "\\right.\n",
    "$$"
   ]
  },
  {
   "cell_type": "code",
   "execution_count": 12,
   "metadata": {},
   "outputs": [],
   "source": [
    "X_cuhd = {(c,u,h,d): mdl.continuous_var(lb=0, ub=1, name=f\"X_c:{c}_u:{u}_h:{h}_d:{d}\")\n",
    "            for c in range(0,MP.C)\n",
    "            for u in range(0,MP.U) \n",
    "            for h in range(0,MP.H)\n",
    "            for d in range(0,MP.D)}"
   ]
  },
  {
   "cell_type": "markdown",
   "metadata": {},
   "source": [
    "## Maximize\n",
    "$$\\sum_{p \\in P}\\sum_{c \\in C}\\sum_{u \\in U}\\sum_{h \\in H}\\sum_{d \\in D}\\,X_{cuhd}\\ r_{cp}$$"
   ]
  },
  {
   "cell_type": "markdown",
   "metadata": {},
   "source": [
    "##### Binary variable (10)\n",
    "$$\n",
    "X_{cuhd} \\in \\{ 1,0 \\},\\hspace{35pt} \\forall c \\in C ,\\forall u \\in U,\\forall d \\in D, \\forall h \\in H\n",
    "$$"
   ]
  },
  {
   "cell_type": "code",
   "execution_count": 13,
   "metadata": {},
   "outputs": [],
   "source": [
    "maximize = mdl.maximize(mdl.sum([X_cuhd[(c,u,h,d)] * MP.rp_c[c]\n",
    "                  for c in range(0,MP.C)\n",
    "                  for u in range(0,MP.U) \n",
    "                  for h in range(0,MP.H) \n",
    "                  for d in range(0,MP.D)]))"
   ]
  },
  {
   "cell_type": "markdown",
   "metadata": {},
   "source": [
    "## subject to"
   ]
  },
  {
   "cell_type": "markdown",
   "metadata": {},
   "source": [
    "##### - eligibility (2)\n",
    "\n",
    "$$\n",
    "X_{cuhd}  \\leq e_{cu},\\hspace{35pt} \\forall c \\in C,\\forall u \\in U,\\forall h \\in H,\\forall d \\in D\n",
    "$$"
   ]
  },
  {
   "cell_type": "code",
   "execution_count": 14,
   "metadata": {},
   "outputs": [],
   "source": [
    "eligibilitiy = mdl.add_constraints(\n",
    "    (X_cuhd[(c,u,h,d)] <= MP.e_cu[c,u]\n",
    "    for c in range(0,MP.C)\n",
    "    for u in range(0,MP.U) \n",
    "    for h in range(0,MP.H) \n",
    "    for d in range(0,MP.D))\n",
    ")"
   ]
  },
  {
   "cell_type": "markdown",
   "metadata": {},
   "source": [
    "##### - use one channel (3)\n",
    "$$\n",
    "\\sum_{h}X_{cuhd} \\le 1,\\hspace{35pt} \\forall c \\in C \\, \\forall u \\in U,\\forall d \\in D\n",
    "$$"
   ]
  },
  {
   "cell_type": "code",
   "execution_count": 15,
   "metadata": {},
   "outputs": [],
   "source": [
    "one_channel = mdl.add_constraints(\n",
    "    ((mdl.sum(X_cuhd[(c,u,h,d)] for h in range(0,MP.H)) <= 1)\n",
    "    for c in range(0,MP.C)\n",
    "    for u in range(0,MP.U) \n",
    "    for d in range(0,MP.D))\n",
    ")"
   ]
  },
  {
   "cell_type": "markdown",
   "metadata": {},
   "source": [
    "##### - weekly communication limitation (4)\n",
    "$$\n",
    "\\sum_{h \\in H}\\sum_{c \\in C}\\sum_{d \\in D} X_{cuhd}\\le b,\\hspace{35pt} \\forall u \\in U\n",
    "$$"
   ]
  },
  {
   "cell_type": "code",
   "execution_count": 16,
   "metadata": {},
   "outputs": [],
   "source": [
    "weekly_communication = mdl.add_constraints(\n",
    "    (\n",
    "        (mdl.sum(X_cuhd[(c,u,h,d)] \n",
    "               for d in range(0,MP.D) \n",
    "               for c in range(0,MP.C) \n",
    "               for h in range(0,MP.H)) <= MP.b)\n",
    "        for u in range(0,MP.U)))"
   ]
  },
  {
   "cell_type": "markdown",
   "metadata": {},
   "source": [
    "##### - daily communication limitation (5)\n",
    "$$\n",
    "\\sum_{h \\in H}\\sum_{c \\in C} X_{cuhd}\\le k,\\hspace{35pt} \\forall u \\in U, \\forall d \\in D\n",
    "$$"
   ]
  },
  {
   "cell_type": "code",
   "execution_count": 17,
   "metadata": {},
   "outputs": [],
   "source": [
    "daily_communication = mdl.add_constraints(\n",
    "    (\n",
    "        (mdl.sum(X_cuhd[(c,u,h,d)]  \n",
    "               for c in range(0,MP.C) \n",
    "               for h in range(0,MP.H)) <= MP.k)\n",
    "        for d in range(0,MP.D)\n",
    "        for u in range(0,MP.U)))"
   ]
  },
  {
   "cell_type": "markdown",
   "metadata": {},
   "source": [
    "##### - campaign communication limit(6)\n",
    "$$\n",
    "\\sum_{d \\in D}\\sum_{h \\in H} X_{cuhd}\\le l_c,\\hspace{35pt} \\forall c \\in C,\\forall u \\in U;\n",
    "$$"
   ]
  },
  {
   "cell_type": "code",
   "execution_count": 18,
   "metadata": {},
   "outputs": [],
   "source": [
    "campaign_communication = mdl.add_constraints(\n",
    "    (\n",
    "        (mdl.sum(X_cuhd[(c,u,h,d)]  \n",
    "               for h in range(0,MP.H) \n",
    "               for d in range(0,MP.D)) <= MP.l_c[c] )\n",
    "        for c in range(0,MP.C)\n",
    "        for u in range(0,MP.U)))"
   ]
  },
  {
   "cell_type": "markdown",
   "metadata": {},
   "source": [
    "##### - weekly quota(7)\n",
    "$$\n",
    "\\sum_{d \\in D}\\sum_{h \\in H}\\sum_{c \\in C}{X_{cuhd} q_{ic}}\\le m_i,\\hspace{35pt} \\forall u \\in U, \\forall i \\in I\n",
    "$$"
   ]
  },
  {
   "cell_type": "code",
   "execution_count": 19,
   "metadata": {},
   "outputs": [],
   "source": [
    "weekly_quota = mdl.add_constraints(\n",
    "    (\n",
    "        (mdl.sum(X_cuhd[(c,u,h,d)]*MP.q_ic[i,c]\n",
    "               for c in range(0,MP.C)\n",
    "               for h in range(0,MP.H) \n",
    "               for d in range(0,MP.D)) <= MP.m_i[i])\n",
    "        for u in range(0,MP.U)\n",
    "        for i in range(0,MP.I)))"
   ]
  },
  {
   "cell_type": "markdown",
   "metadata": {},
   "source": [
    "##### - daily quota(8)\n",
    "$$\n",
    "\\sum_{h \\in H}\\sum_{c \\in C}{X_{cuhd} q_{ic}}\\le n_i,\\hspace{35pt} \\forall u \\in U,\\, \\forall d \\in D, \\forall i \\in I\n",
    "$$"
   ]
  },
  {
   "cell_type": "code",
   "execution_count": 20,
   "metadata": {},
   "outputs": [],
   "source": [
    "daily_quota = mdl.add_constraints(\n",
    "    (\n",
    "        (mdl.sum(X_cuhd[(c,u,h,d)]*MP.q_ic[i,c]\n",
    "               for c in range(0,MP.C) \n",
    "               for h in range(0,MP.H)) <= MP.n_i[i])\n",
    "        for u in range(0,MP.U)\n",
    "        for d in range(0,MP.D)\n",
    "        for i in range(0,MP.I)))"
   ]
  },
  {
   "cell_type": "markdown",
   "metadata": {},
   "source": [
    "##### Channel capacity (9)\n",
    "$$\n",
    "\\sum_{c \\in C}\\sum_{u \\in U}{X_{cuhd}}\\le t_{hd},\\hspace{35pt} \\forall d \\in D,\\, \\forall h \\in H\n",
    "$$"
   ]
  },
  {
   "cell_type": "code",
   "execution_count": 21,
   "metadata": {},
   "outputs": [],
   "source": [
    "channel_capacity = mdl.add_constraints(\n",
    "    (\n",
    "        (mdl.sum(X_cuhd[(c,u,h,d)]\n",
    "               for u in range(0,MP.U) \n",
    "               for c in range(0,MP.C)) <= MP.t_hd[h,d])\n",
    "        for h in range(0,MP.H)\n",
    "        for d in range(0,MP.D)))"
   ]
  },
  {
   "cell_type": "markdown",
   "metadata": {},
   "source": [
    "### Solution"
   ]
  },
  {
   "cell_type": "code",
   "execution_count": 22,
   "metadata": {},
   "outputs": [
    {
     "name": "stdout",
     "output_type": "stream",
     "text": [
      "Version identifier: 20.1.0.0 | 2020-11-10 | 9bedb6d68\n",
      "CPXPARAM_Read_DataCheck                          1\n",
      "CPXPARAM_RandomSeed                              202001241\n",
      "CPXPARAM_TimeLimit                               600\n",
      "Parallel mode: deterministic, using up to 4 threads for concurrent optimization:\n",
      " * Starting dual Simplex on 1 thread...\n",
      " * Starting Barrier on 3 threads...\n",
      "Tried aggregator 1 time.\n",
      "LP Presolve eliminated 2593856 rows and 1054242 columns.\n",
      "Reduced LP has 626165 rows, 1045758 columns, and 7283850 nonzeros.\n",
      "Presolve time = 16.46 sec. (3264.91 ticks)\n",
      "Symmetry aggregator did 1568872 additional substitutions.\n",
      "\n",
      "Iteration log . . .\n",
      "Iteration:     1   Dual objective     =      53987532.000000\n",
      "Iteration:   528   Dual objective     =      10983317.000000\n",
      "Iteration:  1117   Dual objective     =       9680725.000000\n",
      "Iteration:  1742   Dual objective     =       7985579.000000\n",
      "Perturbation started.\n",
      "Iteration:  2403   Dual objective     =       7675974.000000\n",
      "Iteration:  3028   Dual objective     =       6506421.998152\n",
      "Iteration:  3711   Dual objective     =       5502631.998938\n",
      "Iteration:  4564   Dual objective     =       5296776.998564\n",
      "Iteration:  5464   Dual objective     =       5144006.998379\n",
      "Iteration:  6363   Dual objective     =       4997115.998229\n",
      "Iteration:  7330   Dual objective     =       4907868.998108\n",
      "Removing perturbation.\n",
      "\n",
      "Dual crossover.\n",
      "  Dual:  Fixing 9453 variables.\n",
      "     9452 DMoves:  Infeasibility  0.00000000e+00  Objective  4.86804800e+06\n",
      "     5786 DMoves:  Infeasibility  0.00000000e+00  Objective  4.86804800e+06\n",
      "     2665 DMoves:  Infeasibility  0.00000000e+00  Objective  4.86804800e+06\n",
      "        0 DMoves:  Infeasibility  0.00000000e+00  Objective  4.86804800e+06\n",
      "  Dual:  Pushed 699, exchanged 8754.\n",
      "  Primal:  Fixing 27256 variables.\n",
      "    27255 PMoves:  Infeasibility  0.00000000e+00  Objective  4.86804800e+06\n",
      "        0 PMoves:  Infeasibility  0.00000000e+00  Objective  4.86804800e+06\n",
      "  Primal:  Pushed 27256, exchanged 0.\n",
      "\n",
      "Dual simplex solved model.\n",
      "\n",
      "CPU times: user 45.4 s, sys: 14.9 s, total: 1min\n",
      "Wall time: 38.1 s\n"
     ]
    }
   ],
   "source": [
    "%%time\n",
    "\n",
    "solution = mdl.solve(log_output=True, time_limit=600)\n",
    "#solution = mdl.solve(log_output=True)"
   ]
  },
  {
   "cell_type": "code",
   "execution_count": 23,
   "metadata": {},
   "outputs": [
    {
     "data": {
      "text/plain": [
       "4868048.0"
      ]
     },
     "execution_count": 23,
     "metadata": {},
     "output_type": "execute_result"
    }
   ],
   "source": [
    "solution.objective_value"
   ]
  },
  {
   "cell_type": "code",
   "execution_count": 24,
   "metadata": {},
   "outputs": [
    {
     "data": {
      "text/plain": [
       "68097.0"
      ]
     },
     "execution_count": 24,
     "metadata": {},
     "output_type": "execute_result"
    }
   ],
   "source": [
    "solution.as_df().sum()[\"value\"]"
   ]
  },
  {
   "cell_type": "code",
   "execution_count": 25,
   "metadata": {},
   "outputs": [
    {
     "data": {
      "text/plain": [
       "0"
      ]
     },
     "metadata": {},
     "output_type": "display_data"
    },
    {
     "data": {
      "text/plain": [
       "68097"
      ]
     },
     "metadata": {},
     "output_type": "display_data"
    },
    {
     "data": {
      "text/plain": [
       "0"
      ]
     },
     "metadata": {},
     "output_type": "display_data"
    },
    {
     "data": {
      "text/plain": [
       "0"
      ]
     },
     "metadata": {},
     "output_type": "display_data"
    }
   ],
   "source": [
    "display(len([val for ky,val in solution.as_name_dict().items() if val<0.5]))\n",
    "display(len([val for ky,val in solution.as_name_dict().items() if val>0.5]))\n",
    "display(len([val for ky,val in solution.as_name_dict().items() if val<1]))\n",
    "display(len([val for ky,val in solution.as_name_dict().items() if val==0.5]))"
   ]
  },
  {
   "cell_type": "code",
   "execution_count": 26,
   "metadata": {},
   "outputs": [
    {
     "data": {
      "application/vnd.jupyter.widget-view+json": {
       "model_id": "fa659d9650424f6eaf054e0db1211572",
       "version_major": 2,
       "version_minor": 0
      },
      "text/plain": [
       "Campaigns Loop:   0%|          | 0/10 [00:00<?, ?it/s]"
      ]
     },
     "metadata": {},
     "output_type": "display_data"
    },
    {
     "data": {
      "application/vnd.jupyter.widget-view+json": {
       "model_id": "1a6828b1fe254d1d9a1ac209aa63a269",
       "version_major": 2,
       "version_minor": 0
      },
      "text/plain": [
       "Days Loop for campaign-0:   0%|          | 0/7 [00:00<?, ?it/s]"
      ]
     },
     "metadata": {},
     "output_type": "display_data"
    },
    {
     "data": {
      "application/vnd.jupyter.widget-view+json": {
       "model_id": "8eeb3513b0ef4533b587e96ad9bdebd9",
       "version_major": 2,
       "version_minor": 0
      },
      "text/plain": [
       "Days Loop for campaign-1:   0%|          | 0/7 [00:00<?, ?it/s]"
      ]
     },
     "metadata": {},
     "output_type": "display_data"
    },
    {
     "data": {
      "application/vnd.jupyter.widget-view+json": {
       "model_id": "4eeccbd57fce4927ae0d5c667d9508eb",
       "version_major": 2,
       "version_minor": 0
      },
      "text/plain": [
       "Days Loop for campaign-2:   0%|          | 0/7 [00:00<?, ?it/s]"
      ]
     },
     "metadata": {},
     "output_type": "display_data"
    },
    {
     "data": {
      "application/vnd.jupyter.widget-view+json": {
       "model_id": "2413347e297e460c8f6bbb32be48ab3e",
       "version_major": 2,
       "version_minor": 0
      },
      "text/plain": [
       "Days Loop for campaign-3:   0%|          | 0/7 [00:00<?, ?it/s]"
      ]
     },
     "metadata": {},
     "output_type": "display_data"
    },
    {
     "data": {
      "application/vnd.jupyter.widget-view+json": {
       "model_id": "daf2a24fe1c9423e81a0f38e70de90dc",
       "version_major": 2,
       "version_minor": 0
      },
      "text/plain": [
       "Days Loop for campaign-4:   0%|          | 0/7 [00:00<?, ?it/s]"
      ]
     },
     "metadata": {},
     "output_type": "display_data"
    },
    {
     "data": {
      "application/vnd.jupyter.widget-view+json": {
       "model_id": "70520306c1a040db90e424814346c51e",
       "version_major": 2,
       "version_minor": 0
      },
      "text/plain": [
       "Days Loop for campaign-5:   0%|          | 0/7 [00:00<?, ?it/s]"
      ]
     },
     "metadata": {},
     "output_type": "display_data"
    },
    {
     "data": {
      "application/vnd.jupyter.widget-view+json": {
       "model_id": "73741cb2508949bf9389e7513e9d55ba",
       "version_major": 2,
       "version_minor": 0
      },
      "text/plain": [
       "Days Loop for campaign-6:   0%|          | 0/7 [00:00<?, ?it/s]"
      ]
     },
     "metadata": {},
     "output_type": "display_data"
    },
    {
     "data": {
      "application/vnd.jupyter.widget-view+json": {
       "model_id": "cb8d9f6b30cc48df902a46fb5ee83583",
       "version_major": 2,
       "version_minor": 0
      },
      "text/plain": [
       "Days Loop for campaign-7:   0%|          | 0/7 [00:00<?, ?it/s]"
      ]
     },
     "metadata": {},
     "output_type": "display_data"
    },
    {
     "data": {
      "application/vnd.jupyter.widget-view+json": {
       "model_id": "82cad9961c5d4d43bab85d3da588786c",
       "version_major": 2,
       "version_minor": 0
      },
      "text/plain": [
       "Days Loop for campaign-8:   0%|          | 0/7 [00:00<?, ?it/s]"
      ]
     },
     "metadata": {},
     "output_type": "display_data"
    },
    {
     "data": {
      "application/vnd.jupyter.widget-view+json": {
       "model_id": "cd65a730f55e414991fbded2f7a7d909",
       "version_major": 2,
       "version_minor": 0
      },
      "text/plain": [
       "Days Loop for campaign-9:   0%|          | 0/7 [00:00<?, ?it/s]"
      ]
     },
     "metadata": {},
     "output_type": "display_data"
    },
    {
     "name": "stdout",
     "output_type": "stream",
     "text": [
      "Solution is consistent with greedy\n",
      "Solution value (4868048) is consistent with greedy\n",
      "Solution communication count (68097) is consistent with greedy\n"
     ]
    }
   ],
   "source": [
    "X_cuhd2 = np.zeros((MP.C,MP.U,MP.H,MP.D), dtype='int')\n",
    "for ky,_ in solution.as_name_dict().items():\n",
    "    exec(f'X_cuhd2{[int(i.split(\":\")[1]) for i in ky.split(\"_\")[1:]]} = 1', {}, {'X_cuhd2':X_cuhd2})\n",
    "\n",
    "c_i = 0\n",
    "u_i = 1\n",
    "h_i = 2\n",
    "d_i = 3\n",
    "\n",
    "mdl = model.Model([\n",
    "    model.Constraint('eligibility',MP.eligibility, (c_i, u_i, h_i, d_i,)),\n",
    "    model.Constraint('channel_capacity',MP.channel_capacity, (h_i, d_i,)),\n",
    "    model.Constraint('daily_limitation',MP.daily_limitation, (u_i, d_i,)),\n",
    "    model.Constraint('weekly_limitation',MP.weekly_limitation, (u_i,)),\n",
    "    model.Constraint('campaign_limitation',MP.campaign_limitation, (c_i, u_i,)),\n",
    "    model.Constraint('daily_quota',MP.daily_quota, (u_i, d_i,)),\n",
    "    model.Constraint('one_channel',MP.one_channel, (c_i, u_i, d_i,)),\n",
    "    model.Constraint('weekly_quota',MP.weekly_quota, (u_i,))\n",
    "], MP.objective_fn)\n",
    "\n",
    "def validate():\n",
    "    for c in trange(MP.C, desc=\"Campaigns Loop\"):\n",
    "        for d in trange(MP.D, desc=f\"Days Loop for campaign-{c}\"):\n",
    "            for h in range(MP.H):\n",
    "                for u in range(MP.U):\n",
    "                    if X_cuhd2[c,u,h,d]==1 and not mdl.execute(X_cuhd2, (c, u, h, d)):\n",
    "                        #raise RuntimeError(f'{(c, u, h, d)} does not consistent with previous values!')\n",
    "                        X_cuhd2[c,u,h,d]==0\n",
    "    print(\"Solution is consistent with greedy\")\n",
    "\n",
    "validate()\n",
    "\n",
    "model_value = mdl.calc_value(X_cuhd2)\n",
    "model_comm_count = X_cuhd2.sum()\n",
    "\n",
    "if (solution.objective_value == model_value):\n",
    "    print(f\"Solution value ({model_value}) is consistent with greedy\")\n",
    "else:\n",
    "    print(f\"Solution value ({model_value}) is not consistent with greedy\")\n",
    "    \n",
    "if (solution.as_df().sum()[\"value\"] == model_comm_count):\n",
    "    print(f\"Solution communication count ({model_comm_count}) is consistent with greedy\")\n",
    "else:\n",
    "    print(f\"Solution communication count ({model_comm_count}) is consistent with greedy\")"
   ]
  },
  {
   "cell_type": "code",
   "execution_count": null,
   "metadata": {},
   "outputs": [],
   "source": []
  }
 ],
 "metadata": {
  "kernelspec": {
   "display_name": "Python 3",
   "language": "python",
   "name": "python3"
  },
  "language_info": {
   "codemirror_mode": {
    "name": "ipython",
    "version": 3
   },
   "file_extension": ".py",
   "mimetype": "text/x-python",
   "name": "python",
   "nbconvert_exporter": "python",
   "pygments_lexer": "ipython3",
   "version": "3.7.9"
  }
 },
 "nbformat": 4,
 "nbformat_minor": 4
}
