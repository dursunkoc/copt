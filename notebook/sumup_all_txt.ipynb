{
 "cells": [
  {
   "cell_type": "code",
   "execution_count": 10,
   "metadata": {},
   "outputs": [
    {
     "name": "stdout",
     "output_type": "stream",
     "text": [
      "[\"{'case': {'C': 10, 'U': 20000, 'H': 3, 'D': 7, 'I': 3, 'P': 3, 'id': 14}, 'value': 1926400.0, 'duration': 1353.5116, 'info': None}\\n\"]\n",
      "[\"{'case': {'C': 10, 'U': 4000, 'H': 3, 'D': 7, 'I': 3, 'P': 3, 'id': 10}, 'value': 170720.0, 'duration': 182.7534, 'info': None}\\n\"]\n",
      "[\"{'case': {'C': 5, 'U': 100, 'H': 3, 'D': 7, 'I': 3, 'P': 3, 'id': 2}, 'value': 2300.0, 'duration': 6.0625, 'info': None}\\n\"]\n",
      "[\"{'case': {'C': 5, 'U': 700, 'H': 3, 'D': 7, 'I': 3, 'P': 3, 'id': 5}, 'value': 33950.0, 'duration': 20.4326, 'info': None}\\n\"]\n",
      "[\"{'case': {'C': 5, 'U': 500, 'H': 3, 'D': 7, 'I': 3, 'P': 3, 'id': 4}, 'value': 8330.0, 'duration': 14.906, 'info': None}\\n\"]\n",
      "[\"{'case': {'C': 10, 'U': 35000, 'H': 3, 'D': 7, 'I': 3, 'P': 3, 'id': 17}, 'value': 14255256.0, 'duration': 269433.36000000057, 'info': None}\\n\"]\n",
      "[\"{'case': {'C': 5, 'U': 1000, 'H': 3, 'D': 7, 'I': 3, 'P': 3, 'id': 6}, 'value': 20090.0, 'duration': 23.8403, 'info': None}\\n\"]\n",
      "[\"{'case': {'C': 10, 'U': 15000, 'H': 3, 'D': 7, 'I': 3, 'P': 3, 'id': 13}, 'value': 1692000.0, 'duration': 977.1912, 'info': None}\\n\"]\n",
      "[\"{'case': {'C': 10, 'U': 2000, 'H': 3, 'D': 7, 'I': 3, 'P': 3, 'id': 8}, 'value': 54120.0, 'duration': 77.9446, 'info': None}\\n\"]\n",
      "[\"{'case': {'C': 10, 'U': 10000, 'H': 3, 'D': 7, 'I': 3, 'P': 3, 'id': 12}, 'value': 639200.0, 'duration': 417.6206, 'info': None}\\n\"]\n",
      "[\"{'case': {'C': 10, 'U': 25000, 'H': 3, 'D': 7, 'I': 3, 'P': 3, 'id': 15}, 'value': 4850000.0, 'duration': 1848.5480000000002, 'info': None}\\n\"]\n",
      "[\"{'case': {'C': 10, 'U': 3000, 'H': 3, 'D': 7, 'I': 3, 'P': 3, 'id': 9}, 'value': 120540.0, 'duration': 116.1381, 'info': None}\\n\"]\n",
      "[\"{'case': {'C': 1, 'U': 10, 'H': 1, 'D': 1, 'I': 1, 'P': 1, 'id': 0}, 'value': 0.0, 'duration': 4.3907, 'info': None}\\n\"]\n",
      "[\"{'case': {'C': 10, 'U': 5000, 'H': 3, 'D': 7, 'I': 3, 'P': 3, 'id': 11}, 'value': 134550.0, 'duration': 196.2687, 'info': None}\\n\"]\n",
      "[\"{'case': {'C': 5, 'U': 200, 'H': 3, 'D': 7, 'I': 3, 'P': 3, 'id': 3}, 'value': 7524.0, 'duration': 6.9844, 'info': None}\\n\"]\n",
      "[\"{'case': {'C': 2, 'U': 100, 'H': 3, 'D': 7, 'I': 3, 'P': 3, 'id': 1}, 'value': 2604.0, 'duration': 4.8437, 'info': None}\\n\"]\n",
      "[\"{'case': {'C': 10, 'U': 1000, 'H': 3, 'D': 7, 'I': 3, 'P': 3, 'id': 7}, 'value': 31200.0, 'duration': 39.2454, 'info': None}\\n\"]\n"
     ]
    }
   ],
   "source": [
    "import os\n",
    "\n",
    "for file in os.listdir('../'):\n",
    "    if file.startswith('result_mip_up_02-06-2023 03_'):\n",
    "        with open('../'+file) as content:\n",
    "            print(content.readlines())"
   ]
  }
 ],
 "metadata": {
  "kernelspec": {
   "display_name": "copt",
   "language": "python",
   "name": "python3"
  },
  "language_info": {
   "codemirror_mode": {
    "name": "ipython",
    "version": 3
   },
   "file_extension": ".py",
   "mimetype": "text/x-python",
   "name": "python",
   "nbconvert_exporter": "python",
   "pygments_lexer": "ipython3",
   "version": "3.11.3"
  },
  "orig_nbformat": 4
 },
 "nbformat": 4,
 "nbformat_minor": 2
}
