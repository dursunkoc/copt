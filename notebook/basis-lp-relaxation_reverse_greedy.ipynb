{
 "cells": [
  {
   "cell_type": "code",
   "execution_count": 1,
   "metadata": {},
   "outputs": [],
   "source": [
    "import sys\n",
    "import os\n",
    "sys.path.insert(0, os.path.abspath('../src'))"
   ]
  },
  {
   "cell_type": "code",
   "execution_count": 2,
   "metadata": {},
   "outputs": [],
   "source": [
    "import numpy as np\n",
    "from tqdm.notebook import trange\n",
    "from tqdm.notebook import tqdm\n",
    "from docplex.mp.model import Model\n",
    "\n",
    "import model\n",
    "import model_parameters as MP"
   ]
  },
  {
   "cell_type": "markdown",
   "metadata": {},
   "source": [
    "## Mathematical Model"
   ]
  },
  {
   "cell_type": "markdown",
   "metadata": {},
   "source": [
    "#### Sets\n",
    "- C\tSet of campaigns.\n",
    "- U\tSet of customers.\n",
    "- H\tSet of channels\n",
    "- D\tSet of planning days.\n",
    "- I\tSet of quota categories.\n",
    "- P\tSet of priority categories.\n"
   ]
  },
  {
   "cell_type": "code",
   "execution_count": 3,
   "metadata": {},
   "outputs": [
    {
     "name": "stdout",
     "output_type": "stream",
     "text": [
      "number of campaigns 10\n",
      "number of customers 2000\n",
      "number of channels 3\n",
      "number of planning days 7\n",
      "number of quota categories 3\n",
      "number of priority categories 10\n"
     ]
    }
   ],
   "source": [
    "print(f\"number of campaigns {MP.C}\")\n",
    "print(f\"number of customers {MP.U}\")\n",
    "print(f\"number of channels {MP.H}\")\n",
    "print(f\"number of planning days {MP.D}\")\n",
    "print(f\"number of quota categories {MP.I}\")\n",
    "print(f\"number of priority categories {MP.P}\")"
   ]
  },
  {
   "cell_type": "markdown",
   "metadata": {},
   "source": [
    "#### Parameters"
   ]
  },
  {
   "cell_type": "markdown",
   "metadata": {},
   "source": [
    "##### - eligibility\n",
    "$$\n",
    "e_{cu}\\left\\{\\begin{array}\\\\\n",
    "        1 & \\mbox{if }  customer\\ u\\ is\\ eligible\\ for\\ campaign\\ c\\\\\n",
    "        0 & \\mbox{otherwise } \\\\\n",
    "    \\end{array}\n",
    "\\right.\n",
    "$$"
   ]
  },
  {
   "cell_type": "code",
   "execution_count": 4,
   "metadata": {},
   "outputs": [
    {
     "data": {
      "text/plain": [
       "array([[1, 0, 0, ..., 1, 1, 0],\n",
       "       [1, 1, 1, ..., 0, 0, 0],\n",
       "       [0, 1, 0, ..., 0, 0, 0],\n",
       "       ...,\n",
       "       [0, 0, 1, ..., 0, 1, 0],\n",
       "       [1, 1, 1, ..., 0, 0, 1],\n",
       "       [0, 1, 0, ..., 0, 1, 1]])"
      ]
     },
     "execution_count": 4,
     "metadata": {},
     "output_type": "execute_result"
    }
   ],
   "source": [
    "MP.e_cu"
   ]
  },
  {
   "cell_type": "markdown",
   "metadata": {},
   "source": [
    "##### - quota categories\n",
    "$$\n",
    "q_{ic}\\left\\{\\begin{array}\\\\\n",
    "        1 & \\mbox{if }  campaign\\ c\\ is\\ a\\ i^{th} type\\ quota\\ category\\ campaign\\ \\\\\n",
    "        0 & \\mbox{otherwise } \\\\\n",
    "    \\end{array}\n",
    "\\right.\n",
    "$$"
   ]
  },
  {
   "cell_type": "code",
   "execution_count": 5,
   "metadata": {},
   "outputs": [
    {
     "data": {
      "text/plain": [
       "array([[1, 0, 1, 1, 0, 0, 1, 1, 1, 1],\n",
       "       [0, 1, 1, 1, 1, 1, 1, 0, 1, 1],\n",
       "       [1, 1, 0, 1, 0, 0, 0, 1, 0, 0]])"
      ]
     },
     "execution_count": 5,
     "metadata": {},
     "output_type": "execute_result"
    }
   ],
   "source": [
    "MP.q_ic"
   ]
  },
  {
   "cell_type": "markdown",
   "metadata": {},
   "source": [
    "##### - priority categories\n",
    "$$r_{cp}: Priority\\ value\\ of\\ campaign\\ c\\ regarding\\ priority\\ type\\ p\\$$"
   ]
  },
  {
   "cell_type": "code",
   "execution_count": 6,
   "metadata": {},
   "outputs": [
    {
     "data": {
      "text/plain": [
       "array([ 8,  8,  7,  8,  7,  8, 44, 66,  7, 74])"
      ]
     },
     "execution_count": 6,
     "metadata": {},
     "output_type": "execute_result"
    }
   ],
   "source": [
    "MP.rp_c"
   ]
  },
  {
   "cell_type": "markdown",
   "metadata": {},
   "source": [
    "##### - blokage\n",
    "$$b: Communication\\ limit\\ per\\ person\\ for\\ the\\ whole\\ period\\$$"
   ]
  },
  {
   "cell_type": "code",
   "execution_count": 7,
   "metadata": {},
   "outputs": [
    {
     "data": {
      "text/plain": [
       "7"
      ]
     },
     "execution_count": 7,
     "metadata": {},
     "output_type": "execute_result"
    }
   ],
   "source": [
    "MP.b"
   ]
  },
  {
   "cell_type": "markdown",
   "metadata": {},
   "source": [
    "##### - daily blokage\n",
    "$$k: Communication\\ limit\\ per\\ person\\ at\\ each\\ day\\$$"
   ]
  },
  {
   "cell_type": "code",
   "execution_count": 8,
   "metadata": {},
   "outputs": [
    {
     "data": {
      "text/plain": [
       "3"
      ]
     },
     "execution_count": 8,
     "metadata": {},
     "output_type": "execute_result"
    }
   ],
   "source": [
    "MP.k"
   ]
  },
  {
   "cell_type": "markdown",
   "metadata": {},
   "source": [
    "##### - campaign blockage\n",
    "$$l_c: Communication\\ limit\\ per\\ person\\ for\\ campaign\\ c\\$$"
   ]
  },
  {
   "cell_type": "code",
   "execution_count": 9,
   "metadata": {},
   "outputs": [
    {
     "data": {
      "text/plain": [
       "array([4, 3, 2, 2, 2, 2, 4, 4, 2, 2])"
      ]
     },
     "execution_count": 9,
     "metadata": {},
     "output_type": "execute_result"
    }
   ],
   "source": [
    "MP.l_c"
   ]
  },
  {
   "cell_type": "markdown",
   "metadata": {},
   "source": [
    "##### - quota limitations daily/weekly\n",
    "$$\n",
    "m_i: Communication\\ limit\\ per\\ person\\ for\\ i^{th}\\ category\\\n",
    "$$\n",
    "$$\n",
    "n_i: Communication\\ limit\\ per\\ person\\ for\\ i^{th}\\ category\\ each\\ day\\\n",
    "$$"
   ]
  },
  {
   "cell_type": "code",
   "execution_count": 10,
   "metadata": {},
   "outputs": [
    {
     "data": {
      "text/plain": [
       "(array([3, 5, 4]), array([2, 2, 3]))"
      ]
     },
     "execution_count": 10,
     "metadata": {},
     "output_type": "execute_result"
    }
   ],
   "source": [
    "(MP.m_i, MP.n_i)"
   ]
  },
  {
   "cell_type": "markdown",
   "metadata": {},
   "source": [
    "#### - capacity for channel\n",
    "$$\n",
    "t_{h,d}: Capacity\\ for\\ channel\\ h\\ at\\ day\\ d.\\\n",
    "$$"
   ]
  },
  {
   "cell_type": "code",
   "execution_count": 11,
   "metadata": {},
   "outputs": [
    {
     "data": {
      "text/plain": [
       "array([[1000., 1200., 1400., 1200., 1200., 1400., 1400.],\n",
       "       [1200., 1000., 1200., 1200., 1400., 1400., 1200.],\n",
       "       [1000., 1000., 1400., 1000., 1200., 1200., 1000.]])"
      ]
     },
     "execution_count": 11,
     "metadata": {},
     "output_type": "execute_result"
    }
   ],
   "source": [
    "MP.t_hd"
   ]
  },
  {
   "cell_type": "markdown",
   "metadata": {},
   "source": [
    "### Model"
   ]
  },
  {
   "cell_type": "code",
   "execution_count": 12,
   "metadata": {},
   "outputs": [],
   "source": [
    "mdl = Model(name='Campaign Optimization')"
   ]
  },
  {
   "cell_type": "markdown",
   "metadata": {},
   "source": [
    "#### Variables\n",
    "$$\n",
    "X_{cuhd}\\left\\{\\begin{array}\\\\\n",
    "        1 & \\mbox{if } Campaign\\ c\\ will\\ be\\ sent\\ to\\ customer\\ u\\ through\\ Channel\\ h\\ at\\ Day\\ d \\\\\n",
    "        0 & \\mbox{otherwise } \\\\\n",
    "    \\end{array}\n",
    "\\right.\n",
    "$$"
   ]
  },
  {
   "cell_type": "code",
   "execution_count": 13,
   "metadata": {},
   "outputs": [],
   "source": [
    "X_cuhd = {(c,u,h,d): mdl.continuous_var(lb=0, ub=1, name=f\"X_c:{c}_u:{u}_h:{h}_d:{d}\")\n",
    "            for c in range(0,MP.C)\n",
    "            for u in range(0,MP.U) \n",
    "            for h in range(0,MP.H)\n",
    "            for d in range(0,MP.D)}"
   ]
  },
  {
   "cell_type": "markdown",
   "metadata": {},
   "source": [
    "## Maximize\n",
    "$$\\sum_{p \\in P}\\sum_{c \\in C}\\sum_{u \\in U}\\sum_{h \\in H}\\sum_{d \\in D}\\,X_{cuhd}\\ r_{cp}$$"
   ]
  },
  {
   "cell_type": "markdown",
   "metadata": {},
   "source": [
    "##### Binary variable (10)\n",
    "$$\n",
    "X_{cuhd} \\in \\{ 1,0 \\},\\hspace{35pt} \\forall c \\in C ,\\forall u \\in U,\\forall d \\in D, \\forall h \\in H\n",
    "$$"
   ]
  },
  {
   "cell_type": "code",
   "execution_count": 14,
   "metadata": {},
   "outputs": [],
   "source": [
    "maximize = mdl.maximize(mdl.sum([X_cuhd[(c,u,h,d)] * MP.rp_c[c]\n",
    "                  for c in range(0,MP.C)\n",
    "                  for u in range(0,MP.U) \n",
    "                  for h in range(0,MP.H) \n",
    "                  for d in range(0,MP.D)]))"
   ]
  },
  {
   "cell_type": "markdown",
   "metadata": {},
   "source": [
    "## subject to"
   ]
  },
  {
   "cell_type": "markdown",
   "metadata": {},
   "source": [
    "##### - eligibility (2)\n",
    "\n",
    "$$\n",
    "X_{cuhd}  \\leq e_{cu},\\hspace{35pt} \\forall c \\in C,\\forall u \\in U,\\forall h \\in H,\\forall d \\in D\n",
    "$$"
   ]
  },
  {
   "cell_type": "code",
   "execution_count": 15,
   "metadata": {},
   "outputs": [],
   "source": [
    "eligibilitiy = mdl.add_constraints(\n",
    "    (X_cuhd[(c,u,h,d)] <= MP.e_cu[c,u]\n",
    "    for c in range(0,MP.C)\n",
    "    for u in range(0,MP.U) \n",
    "    for h in range(0,MP.H) \n",
    "    for d in range(0,MP.D))\n",
    ")"
   ]
  },
  {
   "cell_type": "markdown",
   "metadata": {},
   "source": [
    "##### - use one channel (3)\n",
    "$$\n",
    "\\sum_{h}X_{cuhd} \\le 1,\\hspace{35pt} \\forall c \\in C \\, \\forall u \\in U,\\forall d \\in D\n",
    "$$"
   ]
  },
  {
   "cell_type": "code",
   "execution_count": 16,
   "metadata": {},
   "outputs": [],
   "source": [
    "one_channel = mdl.add_constraints(\n",
    "    ((mdl.sum(X_cuhd[(c,u,h,d)] for h in range(0,MP.H)) <= 1)\n",
    "    for c in range(0,MP.C)\n",
    "    for u in range(0,MP.U) \n",
    "    for d in range(0,MP.D))\n",
    ")"
   ]
  },
  {
   "cell_type": "markdown",
   "metadata": {},
   "source": [
    "##### - weekly communication limitation (4)\n",
    "$$\n",
    "\\sum_{h \\in H}\\sum_{c \\in C}\\sum_{d \\in D} X_{cuhd}\\le b,\\hspace{35pt} \\forall u \\in U\n",
    "$$"
   ]
  },
  {
   "cell_type": "code",
   "execution_count": 17,
   "metadata": {},
   "outputs": [],
   "source": [
    "weekly_communication = mdl.add_constraints(\n",
    "    (\n",
    "        (mdl.sum(X_cuhd[(c,u,h,d)] \n",
    "               for d in range(0,MP.D) \n",
    "               for c in range(0,MP.C) \n",
    "               for h in range(0,MP.H)) <= MP.b)\n",
    "        for u in range(0,MP.U)))"
   ]
  },
  {
   "cell_type": "markdown",
   "metadata": {},
   "source": [
    "##### - daily communication limitation (5)\n",
    "$$\n",
    "\\sum_{h \\in H}\\sum_{c \\in C} X_{cuhd}\\le k,\\hspace{35pt} \\forall u \\in U, \\forall d \\in D\n",
    "$$"
   ]
  },
  {
   "cell_type": "code",
   "execution_count": 18,
   "metadata": {},
   "outputs": [],
   "source": [
    "daily_communication = mdl.add_constraints(\n",
    "    (\n",
    "        (mdl.sum(X_cuhd[(c,u,h,d)]  \n",
    "               for c in range(0,MP.C) \n",
    "               for h in range(0,MP.H)) <= MP.k)\n",
    "        for d in range(0,MP.D)\n",
    "        for u in range(0,MP.U)))"
   ]
  },
  {
   "cell_type": "markdown",
   "metadata": {},
   "source": [
    "##### - campaign communication limit(6)\n",
    "$$\n",
    "\\sum_{d \\in D}\\sum_{h \\in H} X_{cuhd}\\le l_c,\\hspace{35pt} \\forall c \\in C,\\forall u \\in U;\n",
    "$$"
   ]
  },
  {
   "cell_type": "code",
   "execution_count": 19,
   "metadata": {},
   "outputs": [],
   "source": [
    "campaign_communication = mdl.add_constraints(\n",
    "    (\n",
    "        (mdl.sum(X_cuhd[(c,u,h,d)]  \n",
    "               for h in range(0,MP.H) \n",
    "               for d in range(0,MP.D)) <= MP.l_c[c] )\n",
    "        for c in range(0,MP.C)\n",
    "        for u in range(0,MP.U)))"
   ]
  },
  {
   "cell_type": "markdown",
   "metadata": {},
   "source": [
    "##### - weekly quota(7)\n",
    "$$\n",
    "\\sum_{d \\in D}\\sum_{h \\in H}\\sum_{c \\in C}{X_{cuhd} q_{ic}}\\le m_i,\\hspace{35pt} \\forall u \\in U, \\forall i \\in I\n",
    "$$"
   ]
  },
  {
   "cell_type": "code",
   "execution_count": 20,
   "metadata": {},
   "outputs": [],
   "source": [
    "weekly_quota = mdl.add_constraints(\n",
    "    (\n",
    "        (mdl.sum(X_cuhd[(c,u,h,d)]*MP.q_ic[i,c]\n",
    "               for c in range(0,MP.C)\n",
    "               for h in range(0,MP.H) \n",
    "               for d in range(0,MP.D)) <= MP.m_i[i])\n",
    "        for u in range(0,MP.U)\n",
    "        for i in range(0,MP.I)))"
   ]
  },
  {
   "cell_type": "markdown",
   "metadata": {},
   "source": [
    "##### - daily quota(8)\n",
    "$$\n",
    "\\sum_{h \\in H}\\sum_{c \\in C}{X_{cuhd} q_{ic}}\\le n_i,\\hspace{35pt} \\forall u \\in U,\\, \\forall d \\in D, \\forall i \\in I\n",
    "$$"
   ]
  },
  {
   "cell_type": "code",
   "execution_count": 21,
   "metadata": {},
   "outputs": [],
   "source": [
    "daily_quota = mdl.add_constraints(\n",
    "    (\n",
    "        (mdl.sum(X_cuhd[(c,u,h,d)]*MP.q_ic[i,c]\n",
    "               for c in range(0,MP.C) \n",
    "               for h in range(0,MP.H)) <= MP.n_i[i])\n",
    "        for u in range(0,MP.U)\n",
    "        for d in range(0,MP.D)\n",
    "        for i in range(0,MP.I)))"
   ]
  },
  {
   "cell_type": "markdown",
   "metadata": {},
   "source": [
    "##### Channel capacity (9)\n",
    "$$\n",
    "\\sum_{c \\in C}\\sum_{u \\in U}{X_{cuhd}}\\le t_{hd},\\hspace{35pt} \\forall d \\in D,\\, \\forall h \\in H\n",
    "$$"
   ]
  },
  {
   "cell_type": "markdown",
   "metadata": {},
   "source": [
    "TODO: kampanya kanal."
   ]
  },
  {
   "cell_type": "code",
   "execution_count": 22,
   "metadata": {},
   "outputs": [],
   "source": [
    "channel_capacity = mdl.add_constraints(\n",
    "    (\n",
    "        (mdl.sum(X_cuhd[(c,u,h,d)]\n",
    "               for u in range(0,MP.U) \n",
    "               for c in range(0,MP.C)) <= MP.t_hd[h,d])\n",
    "        for h in range(0,MP.H)\n",
    "        for d in range(0,MP.D)))"
   ]
  },
  {
   "cell_type": "markdown",
   "metadata": {},
   "source": [
    "### Solution"
   ]
  },
  {
   "cell_type": "code",
   "execution_count": 23,
   "metadata": {},
   "outputs": [
    {
     "name": "stdout",
     "output_type": "stream",
     "text": [
      "Version identifier: 20.1.0.0 | 2020-11-10 | 9bedb6d68\n",
      "CPXPARAM_Read_DataCheck                          1\n",
      "CPXPARAM_RandomSeed                              202001241\n",
      "Parallel mode: deterministic, using up to 4 threads for concurrent optimization:\n",
      " * Starting dual Simplex on 1 thread...\n",
      " * Starting Barrier on 3 threads...\n",
      "Tried aggregator 1 time.\n",
      "LP Presolve eliminated 512120 rows and 208341 columns.\n",
      "Reduced LP has 131901 rows, 211659 columns, and 1709169 nonzeros.\n",
      "Presolve time = 1.89 sec. (731.28 ticks)\n",
      "Symmetry aggregator did 276494 additional substitutions.\n",
      "\n",
      "Iteration log . . .\n",
      "Iteration:     1   Dual objective     =       4341796.000000\n",
      "Iteration:   432   Dual objective     =       1357334.000000\n",
      "Iteration:   916   Dual objective     =        719702.000000\n",
      "Iteration:  1452   Dual objective     =        587540.000000\n",
      "Iteration:  2104   Dual objective     =        551588.000000\n",
      "Perturbation started.\n",
      "Iteration:  2201   Dual objective     =        551588.000000\n",
      "Iteration:  2751   Dual objective     =        461645.999490\n",
      "Iteration:  3395   Dual objective     =        446406.999150\n",
      "Iteration:  4181   Dual objective     =        413954.998927\n",
      "Iteration:  4992   Dual objective     =        387143.998744\n",
      "Iteration:  5808   Dual objective     =        368179.998673\n",
      "Removing perturbation.\n",
      "\n",
      "Dual crossover.\n",
      "  Dual:  Fixing 2576 variables.\n",
      "     2575 DMoves:  Infeasibility  0.00000000e+00  Objective  3.66401000e+05\n",
      "      902 DMoves:  Infeasibility  0.00000000e+00  Objective  3.66401000e+05\n",
      "        0 DMoves:  Infeasibility  0.00000000e+00  Objective  3.66401000e+05\n",
      "  Dual:  Pushed 146, exchanged 2430.\n",
      "  Primal:  Fixing 5509 variables.\n",
      "     5508 PMoves:  Infeasibility  0.00000000e+00  Objective  3.66401000e+05\n",
      "        0 PMoves:  Infeasibility  7.77156117e-16  Objective  3.66401000e+05\n",
      "  Primal:  Pushed 5500, exchanged 9.\n",
      "\n",
      "Dual simplex solved model.\n",
      "\n",
      "CPU times: user 8.45 s, sys: 1.33 s, total: 9.78 s\n",
      "Wall time: 5.28 s\n"
     ]
    }
   ],
   "source": [
    "%%time\n",
    "\n",
    "solution = mdl.solve(log_output=True)\n",
    "#solution = mdl.solve(log_output=True)"
   ]
  },
  {
   "cell_type": "code",
   "execution_count": 24,
   "metadata": {},
   "outputs": [
    {
     "data": {
      "text/plain": [
       "366401.0"
      ]
     },
     "execution_count": 24,
     "metadata": {},
     "output_type": "execute_result"
    }
   ],
   "source": [
    "solution.objective_value"
   ]
  },
  {
   "cell_type": "code",
   "execution_count": 25,
   "metadata": {},
   "outputs": [
    {
     "data": {
      "text/plain": [
       "10367.0"
      ]
     },
     "execution_count": 25,
     "metadata": {},
     "output_type": "execute_result"
    }
   ],
   "source": [
    "solution.as_df().sum()[\"value\"]"
   ]
  },
  {
   "cell_type": "code",
   "execution_count": 26,
   "metadata": {},
   "outputs": [
    {
     "data": {
      "text/plain": [
       "0"
      ]
     },
     "metadata": {},
     "output_type": "display_data"
    },
    {
     "data": {
      "text/plain": [
       "10357"
      ]
     },
     "metadata": {},
     "output_type": "display_data"
    },
    {
     "data": {
      "text/plain": [
       "20"
      ]
     },
     "metadata": {},
     "output_type": "display_data"
    },
    {
     "data": {
      "text/plain": [
       "20"
      ]
     },
     "metadata": {},
     "output_type": "display_data"
    },
    {
     "data": {
      "text/plain": [
       "10357"
      ]
     },
     "metadata": {},
     "output_type": "display_data"
    }
   ],
   "source": [
    "display(len([val for ky,val in solution.as_name_dict().items() if val<0.5]))\n",
    "display(len([val for ky,val in solution.as_name_dict().items() if val>0.5]))\n",
    "display(len([val for ky,val in solution.as_name_dict().items() if val<1]))\n",
    "display(len([val for ky,val in solution.as_name_dict().items() if val==0.5]))\n",
    "display(len([val for ky,val in solution.as_name_dict().items() if val==1]))"
   ]
  },
  {
   "cell_type": "code",
   "execution_count": 27,
   "metadata": {},
   "outputs": [
    {
     "name": "stdout",
     "output_type": "stream",
     "text": [
      "Rounding\n"
     ]
    },
    {
     "data": {
      "application/vnd.jupyter.widget-view+json": {
       "model_id": "afaeab6fd0b34b149ace2d9e4e1cba39",
       "version_major": 2,
       "version_minor": 0
      },
      "text/plain": [
       "Campaigns Loop:   0%|          | 0/10 [00:00<?, ?it/s]"
      ]
     },
     "metadata": {},
     "output_type": "display_data"
    },
    {
     "data": {
      "application/vnd.jupyter.widget-view+json": {
       "model_id": "a7b70e6deb064ceca17d60be575ab098",
       "version_major": 2,
       "version_minor": 0
      },
      "text/plain": [
       "Days Loop for campaign-2:   0%|          | 0/7 [00:00<?, ?it/s]"
      ]
     },
     "metadata": {},
     "output_type": "display_data"
    },
    {
     "data": {
      "application/vnd.jupyter.widget-view+json": {
       "model_id": "fbfa27681c184533bf4ae8172bcff29d",
       "version_major": 2,
       "version_minor": 0
      },
      "text/plain": [
       "Days Loop for campaign-4:   0%|          | 0/7 [00:00<?, ?it/s]"
      ]
     },
     "metadata": {},
     "output_type": "display_data"
    },
    {
     "data": {
      "application/vnd.jupyter.widget-view+json": {
       "model_id": "ac29e807675249f1b9bceee315de731b",
       "version_major": 2,
       "version_minor": 0
      },
      "text/plain": [
       "Days Loop for campaign-8:   0%|          | 0/7 [00:00<?, ?it/s]"
      ]
     },
     "metadata": {},
     "output_type": "display_data"
    },
    {
     "data": {
      "application/vnd.jupyter.widget-view+json": {
       "model_id": "95bb1adfaf034a9d816e1e3e6a6987e2",
       "version_major": 2,
       "version_minor": 0
      },
      "text/plain": [
       "Days Loop for campaign-0:   0%|          | 0/7 [00:00<?, ?it/s]"
      ]
     },
     "metadata": {},
     "output_type": "display_data"
    },
    {
     "data": {
      "application/vnd.jupyter.widget-view+json": {
       "model_id": "588c73754ba14e2ea01aeececdaf8b57",
       "version_major": 2,
       "version_minor": 0
      },
      "text/plain": [
       "Days Loop for campaign-1:   0%|          | 0/7 [00:00<?, ?it/s]"
      ]
     },
     "metadata": {},
     "output_type": "display_data"
    },
    {
     "data": {
      "application/vnd.jupyter.widget-view+json": {
       "model_id": "eb415ec5e3274237a6c7b36b7fbf9c97",
       "version_major": 2,
       "version_minor": 0
      },
      "text/plain": [
       "Days Loop for campaign-3:   0%|          | 0/7 [00:00<?, ?it/s]"
      ]
     },
     "metadata": {},
     "output_type": "display_data"
    },
    {
     "data": {
      "application/vnd.jupyter.widget-view+json": {
       "model_id": "0e5b2c378da042deb6c1c27a46a88b31",
       "version_major": 2,
       "version_minor": 0
      },
      "text/plain": [
       "Days Loop for campaign-5:   0%|          | 0/7 [00:00<?, ?it/s]"
      ]
     },
     "metadata": {},
     "output_type": "display_data"
    },
    {
     "data": {
      "application/vnd.jupyter.widget-view+json": {
       "model_id": "76b2a7f25fa141c29cd5d549f34a0aea",
       "version_major": 2,
       "version_minor": 0
      },
      "text/plain": [
       "Days Loop for campaign-6:   0%|          | 0/7 [00:00<?, ?it/s]"
      ]
     },
     "metadata": {},
     "output_type": "display_data"
    },
    {
     "data": {
      "application/vnd.jupyter.widget-view+json": {
       "model_id": "f47f8b5a697246d5b0808550326f3416",
       "version_major": 2,
       "version_minor": 0
      },
      "text/plain": [
       "Days Loop for campaign-7:   0%|          | 0/7 [00:00<?, ?it/s]"
      ]
     },
     "metadata": {},
     "output_type": "display_data"
    },
    {
     "data": {
      "application/vnd.jupyter.widget-view+json": {
       "model_id": "274dbdc7cf9a4d41baf39190ec71e4b5",
       "version_major": 2,
       "version_minor": 0
      },
      "text/plain": [
       "Days Loop for campaign-9:   0%|          | 0/7 [00:00<?, ?it/s]"
      ]
     },
     "metadata": {},
     "output_type": "display_data"
    },
    {
     "name": "stdout",
     "output_type": "stream",
     "text": [
      "Validation\n"
     ]
    },
    {
     "data": {
      "application/vnd.jupyter.widget-view+json": {
       "model_id": "1dbb255032324580be7fbb991a015ea9",
       "version_major": 2,
       "version_minor": 0
      },
      "text/plain": [
       "Campaigns Loop:   0%|          | 0/10 [00:00<?, ?it/s]"
      ]
     },
     "metadata": {},
     "output_type": "display_data"
    },
    {
     "data": {
      "application/vnd.jupyter.widget-view+json": {
       "model_id": "abc329f7095a4c9da50699c762094612",
       "version_major": 2,
       "version_minor": 0
      },
      "text/plain": [
       "Days Loop for campaign-2:   0%|          | 0/7 [00:00<?, ?it/s]"
      ]
     },
     "metadata": {},
     "output_type": "display_data"
    },
    {
     "data": {
      "application/vnd.jupyter.widget-view+json": {
       "model_id": "ba53a7c323b44269ad24beef0e90da32",
       "version_major": 2,
       "version_minor": 0
      },
      "text/plain": [
       "Days Loop for campaign-4:   0%|          | 0/7 [00:00<?, ?it/s]"
      ]
     },
     "metadata": {},
     "output_type": "display_data"
    },
    {
     "data": {
      "application/vnd.jupyter.widget-view+json": {
       "model_id": "ef33a04de85449d787dbd733d7cca10d",
       "version_major": 2,
       "version_minor": 0
      },
      "text/plain": [
       "Days Loop for campaign-8:   0%|          | 0/7 [00:00<?, ?it/s]"
      ]
     },
     "metadata": {},
     "output_type": "display_data"
    },
    {
     "data": {
      "application/vnd.jupyter.widget-view+json": {
       "model_id": "f0d5180967a6486f97a47a3516471040",
       "version_major": 2,
       "version_minor": 0
      },
      "text/plain": [
       "Days Loop for campaign-0:   0%|          | 0/7 [00:00<?, ?it/s]"
      ]
     },
     "metadata": {},
     "output_type": "display_data"
    },
    {
     "data": {
      "application/vnd.jupyter.widget-view+json": {
       "model_id": "603393744c184a01989c4dadb750bd7f",
       "version_major": 2,
       "version_minor": 0
      },
      "text/plain": [
       "Days Loop for campaign-1:   0%|          | 0/7 [00:00<?, ?it/s]"
      ]
     },
     "metadata": {},
     "output_type": "display_data"
    },
    {
     "data": {
      "application/vnd.jupyter.widget-view+json": {
       "model_id": "12205999442b495d954c8009c0bbfdd0",
       "version_major": 2,
       "version_minor": 0
      },
      "text/plain": [
       "Days Loop for campaign-3:   0%|          | 0/7 [00:00<?, ?it/s]"
      ]
     },
     "metadata": {},
     "output_type": "display_data"
    },
    {
     "data": {
      "application/vnd.jupyter.widget-view+json": {
       "model_id": "f7ef346de4a24c47b9659d1e06e953af",
       "version_major": 2,
       "version_minor": 0
      },
      "text/plain": [
       "Days Loop for campaign-5:   0%|          | 0/7 [00:00<?, ?it/s]"
      ]
     },
     "metadata": {},
     "output_type": "display_data"
    },
    {
     "data": {
      "application/vnd.jupyter.widget-view+json": {
       "model_id": "824e4a60cbf249ccab865bc32a2e8c35",
       "version_major": 2,
       "version_minor": 0
      },
      "text/plain": [
       "Days Loop for campaign-6:   0%|          | 0/7 [00:00<?, ?it/s]"
      ]
     },
     "metadata": {},
     "output_type": "display_data"
    },
    {
     "data": {
      "application/vnd.jupyter.widget-view+json": {
       "model_id": "7e27d3601a7a49f28b34a20807a7e5d8",
       "version_major": 2,
       "version_minor": 0
      },
      "text/plain": [
       "Days Loop for campaign-7:   0%|          | 0/7 [00:00<?, ?it/s]"
      ]
     },
     "metadata": {},
     "output_type": "display_data"
    },
    {
     "data": {
      "application/vnd.jupyter.widget-view+json": {
       "model_id": "2b91828e7d4545aeb499d9702442bcd9",
       "version_major": 2,
       "version_minor": 0
      },
      "text/plain": [
       "Days Loop for campaign-9:   0%|          | 0/7 [00:00<?, ?it/s]"
      ]
     },
     "metadata": {},
     "output_type": "display_data"
    },
    {
     "name": "stdout",
     "output_type": "stream",
     "text": [
      "Solution is (366401)\n",
      "Solution communication count is (10364)\n"
     ]
    }
   ],
   "source": [
    "X_non_integral = [tuple(int(i.split(\":\")[1]) for i in ky.split(\"_\")[1:]) for ky,val in solution.as_name_dict().items() if val!=1]\n",
    "X_cuhd2 = np.zeros((MP.C,MP.U,MP.H,MP.D), dtype='int')\n",
    "for ky,_ in solution.as_name_dict().items():\n",
    "    exec(f'X_cuhd2{[int(i.split(\":\")[1]) for i in ky.split(\"_\")[1:]]} = 1', {}, {'X_cuhd2':X_cuhd2})\n",
    "\n",
    "c_i = 0\n",
    "u_i = 1\n",
    "h_i = 2\n",
    "d_i = 3\n",
    "\n",
    "mdl = model.Model([\n",
    "    model.Constraint('eligibility',MP.eligibility, (c_i, u_i, h_i, d_i,)),\n",
    "    model.Constraint('channel_capacity',MP.channel_capacity, (h_i, d_i,)),\n",
    "    model.Constraint('daily_limitation',MP.daily_limitation, (u_i, d_i,)),\n",
    "    model.Constraint('weekly_limitation',MP.weekly_limitation, (u_i,)),\n",
    "    model.Constraint('campaign_limitation',MP.campaign_limitation, (c_i, u_i,)),\n",
    "    model.Constraint('daily_quota',MP.daily_quota, (u_i, d_i,)),\n",
    "    model.Constraint('one_channel',MP.one_channel, (c_i, u_i, d_i,)),\n",
    "    model.Constraint('weekly_quota',MP.weekly_quota, (u_i,))\n",
    "], MP.objective_fn)\n",
    "\n",
    "def round_with_greedy():\n",
    "    for c in tqdm(np.argsort(MP.rp_c), desc=\"Campaigns Loop\"):\n",
    "        for d in trange(MP.D, desc=f\"Days Loop for campaign-{c}\"):\n",
    "            for h in range(MP.H):\n",
    "                for u in range(MP.U):\n",
    "                    if (c,u,h,d) in X_non_integral and X_cuhd2[c,u,h,d]==1 and not mdl.execute(X_cuhd2, (c, u, h, d)):\n",
    "                        X_cuhd2[c,u,h,d]=0\n",
    "\n",
    "def validate():\n",
    "    for c in tqdm(np.argsort(MP.rp_c), desc=\"Campaigns Loop\"):\n",
    "        for d in trange(MP.D, desc=f\"Days Loop for campaign-{c}\"):\n",
    "            for h in range(MP.H):\n",
    "                for u in range(MP.U):\n",
    "                    if not mdl.execute(X_cuhd2, (c, u, h, d)):\n",
    "                        print(f\"X({(c,u,h,d)}) causes invalidation.\")\n",
    "print(\"Rounding\")\n",
    "round_with_greedy()\n",
    "print(\"Validation\")\n",
    "validate()\n",
    "\n",
    "model_value = mdl.calc_value(X_cuhd2)\n",
    "model_comm_count = X_cuhd2.sum()\n",
    "\n",
    "print(f\"Solution is ({model_value})\")\n",
    "print(f\"Solution communication count is ({model_comm_count})\")"
   ]
  }
 ],
 "metadata": {
  "kernelspec": {
   "display_name": "Python 3",
   "language": "python",
   "name": "python3"
  },
  "language_info": {
   "codemirror_mode": {
    "name": "ipython",
    "version": 3
   },
   "file_extension": ".py",
   "mimetype": "text/x-python",
   "name": "python",
   "nbconvert_exporter": "python",
   "pygments_lexer": "ipython3",
   "version": "3.7.3"
  }
 },
 "nbformat": 4,
 "nbformat_minor": 4
}
