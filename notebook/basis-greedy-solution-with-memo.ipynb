{
 "cells": [
  {
   "cell_type": "code",
   "execution_count": 1,
   "metadata": {},
   "outputs": [],
   "source": [
    "import numpy as np\n",
    "from tqdm.notebook import trange\n",
    "from tqdm.notebook import tqdm\n",
    "from dask import delayed\n",
    "#import dask.array as da\n",
    "\n",
    "#np.get_printoptions()#[\"threshold\"]\n",
    "#np.set_printoptions(edgeitems=10, linewidth=150)\n",
    "\n",
    "np.random.seed(13)"
   ]
  },
  {
   "cell_type": "markdown",
   "metadata": {},
   "source": [
    "## Mathematical Model"
   ]
  },
  {
   "cell_type": "markdown",
   "metadata": {},
   "source": [
    "#### Sets\n",
    "- C\tSet of campaigns.\n",
    "- U\tSet of customers.\n",
    "- H\tSet of channels\n",
    "- D\tSet of planning days.\n",
    "- I\tSet of quota categories.\n",
    "- P\tSet of priority categories.\n"
   ]
  },
  {
   "cell_type": "code",
   "execution_count": 2,
   "metadata": {},
   "outputs": [],
   "source": [
    "C = 10 # number of campaigns\n",
    "U = 1000 # number of customers.\n",
    "H = 3 # number of channels.\n",
    "D = 7 # number of planning days.\n",
    "I = 3 # number of quota categories.\n",
    "P = 10 # number of priority categories."
   ]
  },
  {
   "cell_type": "markdown",
   "metadata": {},
   "source": [
    "#### Parameters"
   ]
  },
  {
   "cell_type": "markdown",
   "metadata": {},
   "source": [
    "##### - eligibility\n",
    "$$\n",
    "e_{cu}\\left\\{\\begin{array}\\\\\n",
    "        1 & \\mbox{if }  customer\\ u\\ is\\ eligible\\ for\\ campaign\\ c\\\\\n",
    "        0 & \\mbox{otherwise } \\\\\n",
    "    \\end{array}\n",
    "\\right.\n",
    "$$"
   ]
  },
  {
   "cell_type": "code",
   "execution_count": 3,
   "metadata": {},
   "outputs": [],
   "source": [
    "e_cu = np.random.choice(2,(C, U))\n",
    "#e_cu = np.ones((C, U), dtype='int8')"
   ]
  },
  {
   "cell_type": "markdown",
   "metadata": {},
   "source": [
    "##### - quota categories\n",
    "$$\n",
    "q_{ic}\\left\\{\\begin{array}\\\\\n",
    "        1 & \\mbox{if }  campaign\\ c\\ is\\ a\\ i^{th} type\\ quota\\ category\\ campaign\\ \\\\\n",
    "        0 & \\mbox{otherwise } \\\\\n",
    "    \\end{array}\n",
    "\\right.\n",
    "$$"
   ]
  },
  {
   "cell_type": "code",
   "execution_count": 4,
   "metadata": {},
   "outputs": [],
   "source": [
    "q_ic = np.random.choice(2, (I,C))\n",
    "#q_ic = np.zeros((I,C), dtype='int8')"
   ]
  },
  {
   "cell_type": "markdown",
   "metadata": {},
   "source": [
    "##### - priority categories\n",
    "$$r_{cp}: Priority\\ value\\ of\\ campaign\\ c\\ regarding\\ priority\\ type\\ p\\$$"
   ]
  },
  {
   "cell_type": "code",
   "execution_count": 5,
   "metadata": {},
   "outputs": [],
   "source": [
    "r_p = np.random.choice(100, P)\n",
    "#r_p = np.ones(P, dtype='int8')\n",
    "rp_c = np.array([r_p[r] for r in np.random.choice(P, C)])"
   ]
  },
  {
   "cell_type": "markdown",
   "metadata": {},
   "source": [
    "##### - blokage\n",
    "$$b: Communication\\ limit\\ per\\ person\\ for\\ the\\ whole\\ period\\$$"
   ]
  },
  {
   "cell_type": "code",
   "execution_count": 6,
   "metadata": {},
   "outputs": [],
   "source": [
    "b = 7"
   ]
  },
  {
   "cell_type": "markdown",
   "metadata": {},
   "source": [
    "##### - daily blokage\n",
    "$$k: Communication\\ limit\\ per\\ person\\ at\\ each\\ day\\$$"
   ]
  },
  {
   "cell_type": "code",
   "execution_count": 7,
   "metadata": {},
   "outputs": [],
   "source": [
    "k = 3"
   ]
  },
  {
   "cell_type": "markdown",
   "metadata": {},
   "source": [
    "##### - campaign blockage\n",
    "$$l_c: Communication\\ limit\\ per\\ person\\ for\\ campaign\\ c\\$$"
   ]
  },
  {
   "cell_type": "code",
   "execution_count": 8,
   "metadata": {},
   "outputs": [],
   "source": [
    "l_c = np.random.choice([2,3,4],C)"
   ]
  },
  {
   "cell_type": "markdown",
   "metadata": {},
   "source": [
    "##### - quota limitations daily/weekly\n",
    "$$\n",
    "m_i: Communication\\ limit\\ per\\ person\\ for\\ i^{th}\\ category\\\n",
    "$$\n",
    "$$\n",
    "n_i: Communication\\ limit\\ per\\ person\\ for\\ i^{th}\\ category\\ each\\ day\\\n",
    "$$"
   ]
  },
  {
   "cell_type": "code",
   "execution_count": 9,
   "metadata": {},
   "outputs": [],
   "source": [
    "m_i = np.random.choice([4,3,5],I)\n",
    "n_i = np.random.choice([1,3,2],I)\n",
    "#m_i = np.ones((I), dtype='int8')*10\n",
    "#n_i = np.ones((I), dtype='int8')*10"
   ]
  },
  {
   "cell_type": "markdown",
   "metadata": {},
   "source": [
    "#### - capacity for channel\n",
    "$$\n",
    "t_{h,d}: Capacity\\ for\\ channel\\ h\\ at\\ day\\ d.\\\n",
    "$$"
   ]
  },
  {
   "cell_type": "code",
   "execution_count": 10,
   "metadata": {},
   "outputs": [],
   "source": [
    "t_hd = np.random.choice([U*.7, U*.6, U*.5], (H, D))"
   ]
  },
  {
   "cell_type": "markdown",
   "metadata": {},
   "source": [
    "# Model"
   ]
  },
  {
   "cell_type": "markdown",
   "metadata": {},
   "source": [
    "#### Variables\n",
    "$$\n",
    "X_{cuhd}\\left\\{\\begin{array}\\\\\n",
    "        1 & \\mbox{if } Campaign\\ c\\ will\\ be\\ sent\\ to\\ customer\\ u\\ through\\ Channel\\ h\\ at\\ Day\\ d \\\\\n",
    "        0 & \\mbox{otherwise } \\\\\n",
    "    \\end{array}\n",
    "\\right.\n",
    "$$"
   ]
  },
  {
   "cell_type": "markdown",
   "metadata": {},
   "source": [
    "## Maximize\n",
    "$$\\sum_{p \\in P}\\sum_{c \\in C}\\sum_{u \\in U}\\sum_{h \\in H}\\sum_{d \\in D}\\,X_{cuhd}\\ r_{cp}$$"
   ]
  },
  {
   "cell_type": "markdown",
   "metadata": {},
   "source": [
    "##### Binary variable (10)\n",
    "$$\n",
    "X_{cuhd} \\in \\{ 1,0 \\},\\hspace{35pt} \\forall c \\in C ,\\forall u \\in U,\\forall d \\in D, \\forall h \\in H\n",
    "$$"
   ]
  },
  {
   "cell_type": "code",
   "execution_count": 11,
   "metadata": {},
   "outputs": [],
   "source": [
    "X_cuhd = np.zeros((C,U,H,D), dtype='int')"
   ]
  },
  {
   "cell_type": "markdown",
   "metadata": {},
   "source": [
    "## subject to"
   ]
  },
  {
   "cell_type": "markdown",
   "metadata": {},
   "source": [
    "##### - eligibility (2)\n",
    "\n",
    "$$\n",
    "X_{cuhd}  \\leq e_{cu},\\hspace{35pt} \\forall h \\in H,\\forall d \\in D\n",
    "$$"
   ]
  },
  {
   "cell_type": "code",
   "execution_count": 12,
   "metadata": {},
   "outputs": [],
   "source": [
    "eligibility = lambda X, c, u, h, d: X[c,u,h,d]<=e_cu[c,u]"
   ]
  },
  {
   "cell_type": "markdown",
   "metadata": {},
   "source": [
    "##### - use one channel (3)\n",
    "$$\n",
    "\\sum_{h}X_{cuhd} \\le 1,\\hspace{35pt} \\forall c \\in C \\, \\forall u \\in U,\\forall d \\in D\n",
    "$$"
   ]
  },
  {
   "cell_type": "code",
   "execution_count": 13,
   "metadata": {},
   "outputs": [],
   "source": [
    "one_channel = lambda X, c, u, d: X[c,u,:,d].sum() <= 1"
   ]
  },
  {
   "cell_type": "markdown",
   "metadata": {},
   "source": [
    "##### - weekly communication limitation (4)\n",
    "$$\n",
    "\\sum_{h \\in H}\\sum_{c \\in C}\\sum_{d \\in D} X_{cuhd}\\le b,\\hspace{35pt} \\forall u \\in U\n",
    "$$"
   ]
  },
  {
   "cell_type": "code",
   "execution_count": 14,
   "metadata": {},
   "outputs": [],
   "source": [
    "weekly_limitation = lambda X, u: X[:,u,:,:].sum() <= b"
   ]
  },
  {
   "cell_type": "markdown",
   "metadata": {},
   "source": [
    "##### - daily communication limitation (5)\n",
    "$$\n",
    "\\sum_{h \\in H}\\sum_{c \\in C} X_{cuhd}\\le k,\\hspace{35pt} \\forall u \\in U, \\forall d \\in D\n",
    "$$"
   ]
  },
  {
   "cell_type": "code",
   "execution_count": 15,
   "metadata": {},
   "outputs": [],
   "source": [
    "daily_limitation = lambda X, u, d: X[:,u,:,d].sum() <= k"
   ]
  },
  {
   "cell_type": "markdown",
   "metadata": {},
   "source": [
    "##### - campaign communication limit(6)\n",
    "$$\n",
    "\\sum_{d \\in D}\\sum_{h \\in H} X_{cuhd}\\le l_c,\\hspace{35pt} \\forall c \\in C,\\forall u \\in U;\n",
    "$$"
   ]
  },
  {
   "cell_type": "code",
   "execution_count": 16,
   "metadata": {},
   "outputs": [],
   "source": [
    "campaign_limitation = lambda X, c, u: X[c,u,:,:].sum() <= l_c[c]"
   ]
  },
  {
   "cell_type": "markdown",
   "metadata": {},
   "source": [
    "##### - weekly quota(7)\n",
    "$$\n",
    "\\sum_{d \\in D}\\sum_{h \\in H}\\sum_{c \\in C}{X_{cuhd} q_{ic}}\\le m_i,\\hspace{35pt} \\forall u \\in U, \\forall i \\in I\n",
    "$$"
   ]
  },
  {
   "cell_type": "code",
   "execution_count": 17,
   "metadata": {},
   "outputs": [],
   "source": [
    "weekly_quota = lambda X, u: all((q_ic * X[:,u,:,:].sum(axis=(1,2))).sum(axis=1)<=m_i)"
   ]
  },
  {
   "cell_type": "markdown",
   "metadata": {},
   "source": [
    "##### - daily quota(8)\n",
    "$$\n",
    "\\sum_{h \\in H}\\sum_{c \\in C}{X_{cuhd} q_{ic}}\\le n_i,\\hspace{35pt} \\forall u \\in U,\\, \\forall d \\in D, \\forall i \\in I\n",
    "$$"
   ]
  },
  {
   "cell_type": "code",
   "execution_count": 18,
   "metadata": {},
   "outputs": [],
   "source": [
    "daily_quota = lambda X, u, d: all((q_ic * X[:,u,:,d].sum(axis=(1))).sum(axis=1)<=n_i)"
   ]
  },
  {
   "cell_type": "markdown",
   "metadata": {},
   "source": [
    "##### Channel capacity (9)\n",
    "$$\n",
    "\\sum_{c \\in C}\\sum_{u \\in U}{X_{cuhd}}\\le t_{hd},\\hspace{35pt} \\forall d \\in D,\\, \\forall h \\in H\n",
    "$$"
   ]
  },
  {
   "cell_type": "code",
   "execution_count": 19,
   "metadata": {},
   "outputs": [],
   "source": [
    "channel_capacity = lambda X, h, d: X[:,:,h,d].sum() <= t_hd[h,d]"
   ]
  },
  {
   "cell_type": "code",
   "execution_count": 20,
   "metadata": {},
   "outputs": [],
   "source": [
    "class Constraint:\n",
    "    def __init__(self, name, fnc, fixed_indicies):\n",
    "        self.fnc = fnc\n",
    "        self.name = name\n",
    "        self.fixed_indicies = fixed_indicies\n",
    "        self.exec_count = 0\n",
    "\n",
    "    def execute(self, X, indicies):\n",
    "        self.exec_count = self.exec_count + 1\n",
    "        params = tuple([X]) + tuple([indicies[fi] for fi in self.fixed_indicies])\n",
    "        return self.fnc(*params)\n",
    "    \n",
    "    def get_exec_count(self):\n",
    "        return self.exec_count\n",
    "\n",
    "\n",
    "class Model:\n",
    "    def __init__(self, constraints):\n",
    "        self.constraints = constraints\n",
    "        \n",
    "    def execute(self, X, indicies):\n",
    "        for c in self.constraints:\n",
    "            if not c.execute(X, indicies):\n",
    "                return False\n",
    "        return True\n",
    "    \n",
    "    def stats(self):\n",
    "        return [(c.name, c.get_exec_count()) for c in self.constraints]\n",
    "            "
   ]
  },
  {
   "cell_type": "code",
   "execution_count": 21,
   "metadata": {},
   "outputs": [],
   "source": [
    "#eligibility = lambda X, c, u, h, d: X[c,u,h,d]<=e_cu[c,u]\n",
    "#channel_capacity = lambda X, h, d: X[:,:,h,d].sum() <= t_hd[h,d]\n",
    "#weekly_limitation = lambda X, u: X[:,u,:,:].sum() <= b\n",
    "#daily_limitation = lambda X, u, d: X[:,u,:,d].sum() <= k\n",
    "#campaign_limitation = lambda X, c, u: X[c,u,:,:].sum() <= l_c[c]\n",
    "#one_channel = lambda X, c, u, d: X[c,u,:,d].sum() <= 1\n",
    "#weekly_quota = lambda X, u: np.all(q_ic[:,c] * X[c,u,:,:].sum()<=m_i)\n",
    "#daily_quota = lambda X, u, d: np.all(q_ic[:,c] * X[c,u,:,d].sum()<=n_i)\n",
    "\n",
    "c_i = 0\n",
    "u_i = 1\n",
    "h_i = 2\n",
    "d_i = 3\n",
    "\n",
    "mdl = Model([\n",
    "    Constraint('eligibility',eligibility, (c_i, u_i, h_i, d_i,)),\n",
    "    Constraint('channel_capacity',channel_capacity, (h_i, d_i,)),\n",
    "    Constraint('daily_limitation',daily_limitation, (u_i, d_i,)),\n",
    "    Constraint('weekly_limitation',weekly_limitation, (u_i,)),\n",
    "    Constraint('campaign_limitation',campaign_limitation, (c_i, u_i,)),\n",
    "    Constraint('daily_quota',daily_quota, (u_i, d_i,)),\n",
    "    Constraint('one_channel',one_channel, (c_i, u_i, d_i,)),\n",
    "    Constraint('weekly_quota',weekly_quota, (u_i,))\n",
    "])"
   ]
  },
  {
   "cell_type": "code",
   "execution_count": 22,
   "metadata": {
    "scrolled": false
   },
   "outputs": [
    {
     "data": {
      "application/vnd.jupyter.widget-view+json": {
       "model_id": "913c3f2829cc482aa9817ea0ab13b667",
       "version_major": 2,
       "version_minor": 0
      },
      "text/plain": [
       "Campaigns Loop:   0%|          | 0/10 [00:00<?, ?it/s]"
      ]
     },
     "metadata": {},
     "output_type": "display_data"
    },
    {
     "data": {
      "application/vnd.jupyter.widget-view+json": {
       "model_id": "ac31212cdeb14675ba7bcb0a739e6307",
       "version_major": 2,
       "version_minor": 0
      },
      "text/plain": [
       "Days Loop for campaign-5:   0%|          | 0/7 [00:00<?, ?it/s]"
      ]
     },
     "metadata": {},
     "output_type": "display_data"
    },
    {
     "data": {
      "application/vnd.jupyter.widget-view+json": {
       "model_id": "6add551a07464214b108b35d34d79831",
       "version_major": 2,
       "version_minor": 0
      },
      "text/plain": [
       "Days Loop for campaign-0:   0%|          | 0/7 [00:00<?, ?it/s]"
      ]
     },
     "metadata": {},
     "output_type": "display_data"
    },
    {
     "data": {
      "application/vnd.jupyter.widget-view+json": {
       "model_id": "1c372f5b0d0b4a2e95806e589864c602",
       "version_major": 2,
       "version_minor": 0
      },
      "text/plain": [
       "Days Loop for campaign-7:   0%|          | 0/7 [00:00<?, ?it/s]"
      ]
     },
     "metadata": {},
     "output_type": "display_data"
    },
    {
     "data": {
      "application/vnd.jupyter.widget-view+json": {
       "model_id": "ecac1fe848894a979276c8951d3e349c",
       "version_major": 2,
       "version_minor": 0
      },
      "text/plain": [
       "Days Loop for campaign-9:   0%|          | 0/7 [00:00<?, ?it/s]"
      ]
     },
     "metadata": {},
     "output_type": "display_data"
    },
    {
     "data": {
      "application/vnd.jupyter.widget-view+json": {
       "model_id": "6eb4421897b940d1b3b9766e98c469d6",
       "version_major": 2,
       "version_minor": 0
      },
      "text/plain": [
       "Days Loop for campaign-4:   0%|          | 0/7 [00:00<?, ?it/s]"
      ]
     },
     "metadata": {},
     "output_type": "display_data"
    },
    {
     "data": {
      "application/vnd.jupyter.widget-view+json": {
       "model_id": "b39484342bc64807a5eefe07c85b663e",
       "version_major": 2,
       "version_minor": 0
      },
      "text/plain": [
       "Days Loop for campaign-6:   0%|          | 0/7 [00:00<?, ?it/s]"
      ]
     },
     "metadata": {},
     "output_type": "display_data"
    },
    {
     "data": {
      "application/vnd.jupyter.widget-view+json": {
       "model_id": "6f65b2dbf2d1487d99f45c78a29cf0fb",
       "version_major": 2,
       "version_minor": 0
      },
      "text/plain": [
       "Days Loop for campaign-2:   0%|          | 0/7 [00:00<?, ?it/s]"
      ]
     },
     "metadata": {},
     "output_type": "display_data"
    },
    {
     "data": {
      "application/vnd.jupyter.widget-view+json": {
       "model_id": "cdc64459825c452ca46e2e6118c4bc30",
       "version_major": 2,
       "version_minor": 0
      },
      "text/plain": [
       "Days Loop for campaign-1:   0%|          | 0/7 [00:00<?, ?it/s]"
      ]
     },
     "metadata": {},
     "output_type": "display_data"
    },
    {
     "data": {
      "application/vnd.jupyter.widget-view+json": {
       "model_id": "c79c061667764679a70255622c0cd61b",
       "version_major": 2,
       "version_minor": 0
      },
      "text/plain": [
       "Days Loop for campaign-3:   0%|          | 0/7 [00:00<?, ?it/s]"
      ]
     },
     "metadata": {},
     "output_type": "display_data"
    },
    {
     "data": {
      "application/vnd.jupyter.widget-view+json": {
       "model_id": "0a25d163d8d040338255f137ff27ac73",
       "version_major": 2,
       "version_minor": 0
      },
      "text/plain": [
       "Days Loop for campaign-8:   0%|          | 0/7 [00:00<?, ?it/s]"
      ]
     },
     "metadata": {},
     "output_type": "display_data"
    },
    {
     "name": "stdout",
     "output_type": "stream",
     "text": [
      "CPU times: user 10.7 s, sys: 180 ms, total: 10.8 s\n",
      "Wall time: 11.6 s\n"
     ]
    },
    {
     "data": {
      "text/plain": [
       "259664"
      ]
     },
     "execution_count": 22,
     "metadata": {},
     "output_type": "execute_result"
    }
   ],
   "source": [
    "%%time\n",
    "X_cuhd = np.zeros((C,U,H,D), dtype='int')\n",
    "for c in tqdm(np.argsort(-rp_c), desc=\"Campaigns Loop\"):\n",
    "    for d in trange(D, desc=f\"Days Loop for campaign-{c}\"):\n",
    "        for h in range(H):#trange(H, desc=f\"Channels Loop at Day-{d}, Campapaign-{c}\"):\n",
    "            for u in range(U):#trange(U, desc=f\"Users Loop On Campaign-{c}\"):\n",
    "                X_cuhd[c,u,h,d]=1\n",
    "                if not mdl.execute(X_cuhd, (c, u, h, d)):\n",
    "                    X_cuhd[c,u,h,d]=0\n",
    "\n",
    "np.matmul(rp_c, X_cuhd.sum(axis=(1,2,3)))"
   ]
  },
  {
   "cell_type": "code",
   "execution_count": 23,
   "metadata": {},
   "outputs": [
    {
     "name": "stdout",
     "output_type": "stream",
     "text": [
      "('eligibility', 210000)\n",
      "('channel_capacity', 103404)\n",
      "('daily_limitation', 77367)\n",
      "('weekly_limitation', 77307)\n",
      "('campaign_limitation', 52456)\n",
      "('daily_quota', 30928)\n",
      "('one_channel', 19247)\n",
      "('weekly_quota', 18934)\n"
     ]
    }
   ],
   "source": [
    "for s in mdl.stats():\n",
    "    print(s)"
   ]
  },
  {
   "cell_type": "code",
   "execution_count": 24,
   "metadata": {},
   "outputs": [
    {
     "data": {
      "text/plain": [
       "6627"
      ]
     },
     "metadata": {},
     "output_type": "display_data"
    }
   ],
   "source": [
    "display(X_cuhd.sum())"
   ]
  },
  {
   "cell_type": "markdown",
   "metadata": {},
   "source": [
    "##### - check criterion"
   ]
  },
  {
   "cell_type": "markdown",
   "metadata": {},
   "source": [
    "- Sort Campaigns by rp_c\n",
    "- Map every criteria to function"
   ]
  }
 ],
 "metadata": {
  "kernelspec": {
   "display_name": "Python 3",
   "language": "python",
   "name": "python3"
  },
  "language_info": {
   "codemirror_mode": {
    "name": "ipython",
    "version": 3
   },
   "file_extension": ".py",
   "mimetype": "text/x-python",
   "name": "python",
   "nbconvert_exporter": "python",
   "pygments_lexer": "ipython3",
   "version": "3.7.9"
  }
 },
 "nbformat": 4,
 "nbformat_minor": 4
}
